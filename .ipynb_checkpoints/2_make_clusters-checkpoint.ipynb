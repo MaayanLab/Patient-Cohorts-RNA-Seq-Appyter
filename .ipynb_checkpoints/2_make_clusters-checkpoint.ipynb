{
 "cells": [
  {
   "cell_type": "code",
   "execution_count": 1,
   "metadata": {
    "scrolled": true
   },
   "outputs": [],
   "source": [
    "#%%appyter init\n",
    "from appyter import magic\n",
    "magic.init(lambda _=globals: _())"
   ]
  },
  {
   "cell_type": "code",
   "execution_count": 7,
   "metadata": {
    "scrolled": true
   },
   "outputs": [],
   "source": [
    "import os\n",
    "import numpy as np\n",
    "import pandas as pd\n",
    "from matplotlib import pyplot as plt\n",
    "import seaborn as sns\n",
    "from umap import UMAP\n",
    "from scipy.stats import zscore\n",
    "from sklearn.decomposition import PCA\n",
    "from sklearn.linear_model import LogisticRegression\n",
    "from sklearn.metrics import roc_auc_score\n",
    "from sklearn.cluster import KMeans\n",
    "from sklearn.metrics import silhouette_score\n",
    "from maayanlab_bioinformatics.dge import characteristic_direction\n",
    "from maayanlab_bioinformatics.normalization import log2_normalize, filter_by_var, zscore_normalize\n",
    "from maayanlab_bioinformatics.utils import merge\n",
    "import plotly.express as px\n",
    "import math\n",
    "import config\n",
    "import boto3\n",
    "import logging\n",
    "from botocore.exceptions import ClientError\n"
   ]
  },
  {
   "cell_type": "code",
   "execution_count": 8,
   "metadata": {},
   "outputs": [],
   "source": [
    "def aws_download_file(object_name, location = None):\n",
    "    \"\"\"Download a file from the S3 bucket for this project\n",
    "    :param object_name: Name under which the file is stored in the bucket\n",
    "    :param location: Local path to which the file is downloaded\n",
    "    :return: True if file is downloaded, else False\n",
    "    \"\"\"\n",
    "    if (object_name == None):\n",
    "        object_name = local_file\n",
    "    try:\n",
    "        s3 = boto3.client('s3', aws_access_key_id=config.ACCESS_KEY,\n",
    "                          aws_secret_access_key=config.SECRET_KEY)\n",
    "        if (location == None):\n",
    "            location = \"./\" + object_name\n",
    "        s3.download_file(\n",
    "            config.BUCKET, object_name, location\n",
    "        )\n",
    "    except ClientError as e:\n",
    "        logging.error(e)\n",
    "        return False\n",
    "    return True"
   ]
  },
  {
   "cell_type": "code",
   "execution_count": 9,
   "metadata": {
    "scrolled": true
   },
   "outputs": [],
   "source": [
    "# Initial imports\n",
    "\n",
    "download_dir = \"AWS_downloads\"\n",
    "os.makedirs(download_dir, exist_ok=True)\n",
    "\n",
    "data = aws_download_file(\"data.csv\", f\"./{download_dir}/data.csv\")\n",
    "df_data_all = pd.read_csv(f\"./{download_dir}/data.csv\")\n",
    "df_data_all = df_data_all.set_index(\"symbol\")\n",
    "\n",
    "clinical_data = aws_download_file(\"clinical_data.csv\", f\"./{download_dir}/clinical_data.csv\")\n",
    "df_clinical_all = pd.read_csv(f\"./{download_dir}/clinical_data.csv\")\n",
    "df_clinical_all = df_clinical_all.set_index(\"case_id\")\n",
    "\n",
    "cancer_types = list(set(df_clinical_all.primary_diagnosis))\n",
    "columns = df_clinical_all.columns.values\n",
    "\n",
    "print(cancer_types)"
   ]
  },
  {
   "cell_type": "code",
   "execution_count": 49,
   "metadata": {
    "scrolled": true
   },
   "outputs": [],
   "source": [
    "def get_data_by_cancer(cancer_type):\n",
    "    '''\n",
    "    Given a cancer type, return the RNA-seq and clinical DataFrames with only those entries \n",
    "    corresponding to that cancer type.\n",
    "    '''\n",
    "        \n",
    "    df_clinical = df_clinical_all[df_clinical_all.primary_diagnosis == cancer_type]\n",
    "    ids = df_clinical.index.values\n",
    "    df_data = df_data_all[ids]\n",
    "    return df_data, df_clinical"
   ]
  },
  {
   "cell_type": "code",
   "execution_count": 30,
   "metadata": {
    "scrolled": true
   },
   "outputs": [],
   "source": [
    "def get_library_size_df(df_data):\n",
    "    return pd.DataFrame(\n",
    "    {\n",
    "        'n_reads': df_data[df_data > 0].count(),\n",
    "        'log_n_reads': np.log2(df_data[df_data > 0].count() + 1),\n",
    "        'n_expressed_genes': df_data.sum(),\n",
    "    }).sort_values('n_reads', ascending=False)"
   ]
  },
  {
   "cell_type": "code",
   "execution_count": 31,
   "metadata": {
    "scrolled": true
   },
   "outputs": [],
   "source": [
    "def norm_and_zscore(df_data):\n",
    "    # take 2500 top most variable rows\n",
    "    df_data_norm = filter_by_var(df_data)\n",
    "\n",
    "    # compute log normalization of matrix\n",
    "    df_data_norm = log2_normalize(df_data_norm)\n",
    "\n",
    "    # convert to zscores\n",
    "    df_data_norm = zscore_normalize(df_data_norm)\n",
    "    \n",
    "    return df_data_norm"
   ]
  },
  {
   "cell_type": "code",
   "execution_count": 32,
   "metadata": {
    "scrolled": true
   },
   "outputs": [],
   "source": [
    "def get_pca_df(df_data_norm):\n",
    "    '''\n",
    "    Perform PCA to reduce dimensionality of the dataset before clustering\n",
    "    while still maintaining most of the variability\n",
    "    '''\n",
    "    data_norm_pca = PCA(\n",
    "      random_state=42,\n",
    "    )\n",
    "    data_norm_pca.fit(df_data_norm.values.T)\n",
    "    df_data_norm_pca = pd.DataFrame(\n",
    "        data_norm_pca.transform(df_data_norm.values.T),\n",
    "        index=df_data_norm.T.index\n",
    "    )\n",
    "    df_data_norm_pca.columns = [\n",
    "        f'PCA-{c}' # ({r:.3f})'\n",
    "        for c, r in zip(df_data_norm_pca.columns, data_norm_pca.explained_variance_ratio_)\n",
    "    ]\n",
    "    df_data_norm_pca.index.name = \"case_id\"\n",
    "    return df_data_norm_pca"
   ]
  },
  {
   "cell_type": "code",
   "execution_count": 33,
   "metadata": {
    "scrolled": true
   },
   "outputs": [],
   "source": [
    "def get_umap_df(df_data_norm_pca):\n",
    "    '''\n",
    "    UMAP: Uniform Manifold Approximation and Projection (UMAP) dimensional reduction technique\n",
    "    arguments here are defaults in Seurat, considered the standard\n",
    "    '''\n",
    "    n_neighbors = 30\n",
    "    if (len(df_data_norm_pca.columns) < 30): # in case the dataset is small\n",
    "        n_neighbors = math.floor(len(df_data_norm_pca.columns) / 10.) + 2 # must be > 1\n",
    "    data_norm_umap = UMAP(\n",
    "      random_state=42,\n",
    "      n_components=2,\n",
    "      n_neighbors=n_neighbors,\n",
    "      metric='cosine',\n",
    "      min_dist=0.3,\n",
    "    )\n",
    "\n",
    "    # use top 10 components of PCA\n",
    "    data_norm_umap.fit(df_data_norm_pca.iloc[:, :10].values)\n",
    "\n",
    "    df_data_norm_umap = pd.DataFrame(\n",
    "      data_norm_umap.transform(df_data_norm_pca.iloc[:, :10].values),\n",
    "      columns=['UMAP-1', 'UMAP-2'],\n",
    "      index=df_data_norm_pca.index,\n",
    "    )\n",
    "    return df_data_norm_umap\n",
    "    "
   ]
  },
  {
   "cell_type": "code",
   "execution_count": 34,
   "metadata": {
    "scrolled": true
   },
   "outputs": [],
   "source": [
    "def compute_silhouette_scores(df_data_norm_umap):\n",
    "    '''\n",
    "    Compute silhouette scores, which are a measure of how similar an entry is to its \n",
    "    cluster; from this, we can decide the ideal number of clusters\n",
    "    '''\n",
    "    silhouette_scores = {}\n",
    "    \n",
    "    max_clusters = 25\n",
    "    if (df_data_norm_umap.shape[0] < 25):\n",
    "        max_clusters = df_data_norm_umap.shape[0]\n",
    "        max_clusters = max(3,max_clusters)\n",
    "        \n",
    "    for n in range(2, max_clusters):\n",
    "        y_pred = KMeans(n_clusters=n, random_state=42).fit_predict(df_data_norm_umap.values)\n",
    "        silhouette_scores[n] = silhouette_score(df_data_norm_umap.values, y_pred, metric='cosine')\n",
    "    silhouette_scores = pd.DataFrame([\n",
    "        {'N Clusters': k, 'Silhouette Score': v}\n",
    "        for k, v in silhouette_scores.items()\n",
    "    ])\n",
    "    best = silhouette_scores.sort_values('Silhouette Score').iloc[-1]\n",
    "    return silhouette_scores, best"
   ]
  },
  {
   "cell_type": "code",
   "execution_count": 35,
   "metadata": {
    "scrolled": true
   },
   "outputs": [],
   "source": [
    "def get_data_norm_km_df(df_data_norm_umap, best_silhouette_score):\n",
    "    '''\n",
    "    Compute the Kmeans dataframe\n",
    "    '''\n",
    "    km = KMeans(n_clusters=int(best_silhouette_score['N Clusters']), random_state=42)\n",
    "    df_data_norm_km = pd.DataFrame({\n",
    "    'Cluster': [\n",
    "        str(c)\n",
    "        for c in km.fit_predict(df_data_norm_umap.values)\n",
    "    ]}, index=df_data_norm_umap.index)\n",
    "\n",
    "    return df_data_norm_km"
   ]
  },
  {
   "cell_type": "code",
   "execution_count": 36,
   "metadata": {
    "scrolled": true
   },
   "outputs": [],
   "source": [
    "def get_diff_expr_df(df_data_norm, df_data_norm_km):\n",
    "    '''\n",
    "    Perform differential expression for each cluter\n",
    "    '''\n",
    "    diff_expr = {}\n",
    "    for cluster, samples in df_data_norm_km.groupby('Cluster'):\n",
    "        diff_expr[f\"Cluster {cluster} CD\"] = characteristic_direction(\n",
    "            # expression outside of this cluster\n",
    "            df_data_norm.loc[:, df_data_norm.columns.difference(samples.index)],\n",
    "            # expression in this cluster\n",
    "            df_data_norm.loc[:, samples.index],\n",
    "          )['CD-coefficient']\n",
    "\n",
    "    df_diff_expr = pd.DataFrame(diff_expr)\n",
    "\n",
    "    df_diff_expr.index.name = 'Symbol'\n",
    "    df_diff_expr['Cluster 0 CD'].sort_values(ascending=True)\n",
    "    return df_diff_expr"
   ]
  },
  {
   "cell_type": "code",
   "execution_count": 37,
   "metadata": {
    "scrolled": true
   },
   "outputs": [],
   "source": [
    "def compute_lr_aucs(df_data_norm_km, df_clinical):\n",
    "    '''\n",
    "    Fit a logistic regression on each feature to see which most accurately predict\n",
    "    cluster\n",
    "    '''\n",
    "    aucs = {}\n",
    "    #df_clinical = df_clinical.drop(columns=[\"primary_diagnosis\"])\n",
    "    for cluster, samples in df_data_norm_km.groupby('Cluster'): \n",
    "        aucs[cluster] = {}\n",
    "\n",
    "        for feature in df_clinical.columns: # TODO: drop NAs\n",
    "            lr = LogisticRegression()\n",
    "            X = df_clinical.copy()\n",
    "            X = X[feature]\n",
    "            X = pd.merge(X, df_data_norm_km, left_index = True, right_index = True)\n",
    "            \n",
    "            # drop NAs, and move on if dataset is empty\n",
    "            X.replace(\"not reported\", None)\n",
    "            X = X.dropna()\n",
    "            if (X.shape[0] == 0): continue\n",
    "\n",
    "            cluster_data = X[\"Cluster\"]\n",
    "            X = X.drop(columns= [\"Cluster\"])\n",
    "            \n",
    "            # one-hot encode non numerical data\n",
    "            if (not isinstance(X[feature][0], (int, float, complex))):\n",
    "                X = pd.get_dummies(X[feature], prefix=feature)\n",
    "\n",
    "            y_true = (cluster_data == cluster)\n",
    "\n",
    "            if (len(set(y_true)) < 2): continue # if we only have one class in the dataset\n",
    "            lr.fit(X, y_true)\n",
    "            y_score = lr.predict_proba(X)[:, 1]\n",
    "            aucs[cluster][feature] = roc_auc_score(y_true, y_score)\n",
    "    print(pd.DataFrame(aucs))\n",
    "    return pd.DataFrame(aucs)"
   ]
  },
  {
   "cell_type": "code",
   "execution_count": 38,
   "metadata": {
    "scrolled": true
   },
   "outputs": [],
   "source": [
    "def save_data(cancer_type,\n",
    "              df_data_norm_km,\n",
    "              df_data_norm_pca,\n",
    "              df_data_norm_umap,\n",
    "              df_diff_expr,\n",
    "              df_aucs):\n",
    "    \n",
    "    # create the root dir\n",
    "    root_dir = f'./processed_data/{cancer_type}'\n",
    "    os.makedirs(root_dir, exist_ok=True)\n",
    "\n",
    "    # /clustering/graphclust/clusters.csv\n",
    "    #   Barcode,Cluster\n",
    "    os.makedirs(f'{root_dir}/clustering/graphclust', exist_ok=True)\n",
    "    df_data_norm_km.to_csv(f'{root_dir}/clustering/graphclust/clusters.csv')\n",
    "    \n",
    "    # /pca/10_components/projection.csv\n",
    "    #   Barcode,PC-1,PC-2,PC-3,PC-4,PC-5,PC-6,PC-7,PC-8,PC-9,PC-10\n",
    "    os.makedirs(f'{root_dir}/pca/10_components', exist_ok=True)\n",
    "    df_data_norm_pca.to_csv(f'{root_dir}/pca/10_components/projection.csv')\n",
    "    \n",
    "    # /umap/2_components/projection.csv\n",
    "    #   Barcode,UMAP-1,UMAP-2\n",
    "    os.makedirs(f'{root_dir}/umap/2_components', exist_ok=True)\n",
    "    df_data_norm_umap.to_csv(f'{root_dir}/umap/2_components/projection.csv')\n",
    "    \n",
    "     # /diffexp/graphclust/differential_expression.csv\n",
    "    #   Feature Name,Cluster 2 Log2 fold change,Cluster 0 Log2 fold change,Cluster 1 Log2 fold change,Cluster 3 Log2 fold change,Cluster 2 Adjusted p value,Cluster 0 Adjusted p value,Cluster 1 Adjusted p value,Cluster 3 Adjusted p value,Cluster 2 Mean Counts,Cluster 0 Mean Counts,Cluster 1 Mean Counts,Cluster 3 Mean Counts,Feature Name\n",
    "    os.makedirs(f'{root_dir}/diffexp/graphclust', exist_ok=True)\n",
    "    df_diff_expr.to_csv(f'{root_dir}/diffexp/graphclust/differential_expression.csv')\n",
    "    \n",
    "    # /cluster_aucs.csv\n",
    "    #   ,2,0,1,3\n",
    "    df_aucs.to_csv(f'{root_dir}/cluster_aucs.csv')"
   ]
  },
  {
   "cell_type": "code",
   "execution_count": 93,
   "metadata": {},
   "outputs": [],
   "source": [
    "%%appyter hide_code\n",
    "\n",
    "{% do SectionField(\n",
    "    name=\"DATASET\",\n",
    "    title=\"Dataset selection\"\n",
    ") %}\n",
    "\n",
    "{% do SectionField(\n",
    "    name=\"ENRICHR\",\n",
    "    title=\"Enrichr search parameters\"\n",
    ") %}\n",
    "\n",
    "\n",
    "{% do SectionField(\n",
    "    name='CONFIG',\n",
    "    label='Configuration',\n",
    "    description='Configure various parameters for the analysis',\n",
    ") %}"
   ]
  },
  {
   "cell_type": "code",
   "execution_count": 92,
   "metadata": {},
   "outputs": [
    {
     "data": {
      "text/markdown": [
       "```python\n",
       "cancer = \"\"\n",
       "# The number of 'top' genes to use for differential expression\n",
       "top_n_genes = 250\n",
       "# The number of 'top' results to keep from enrichment analysis\n",
       "top_n_results = 5\n",
       "transcription_libraries = []\n",
       "pathways_libraries = []\n",
       "ontologies_libraries = []\n",
       "diseases_drugs_libraries = []\n",
       "cell_types_libraries = []\n",
       "miscellaneous_libraries = []\n",
       "legacy_libraries = []\n",
       "crowd_libraries = []\n",
       "enrichr_libraries = np.sort(transcription_libraries +\n",
       "                            pathways_libraries +\n",
       "                            ontologies_libraries +\n",
       "                            diseases_drugs_libraries +\n",
       "                            cell_types_libraries +\n",
       "                            miscellaneous_libraries +\n",
       "                            legacy_libraries + crowd_libraries)\n",
       "enrichr_libraries\n",
       "```"
      ],
      "text/plain": [
       "<IPython.core.display.Markdown object>"
      ]
     },
     "metadata": {},
     "output_type": "display_data"
    },
    {
     "data": {
      "text/plain": [
       "array([], dtype=float64)"
      ]
     },
     "metadata": {},
     "output_type": "display_data"
    }
   ],
   "source": [
    "%%appyter code_eval\n",
    "\n",
    "cancer = \"{{ChoiceField(\n",
    "    name = \"cancer\",\n",
    "    label = \"Cancer type\",\n",
    "    description=\"The value provided as the primary diagnosis on cases in TCGA.\",\n",
    "    choices=[\"Serous cystadenocarcinoma, NOS\", \"\"],\n",
    "    section=\"DATASET\",\n",
    "    default=\"\" ) }}\"\n",
    "\n",
    "\n",
    "# The number of 'top' genes to use for differential expression\n",
    "top_n_genes = {{IntField(\n",
    "    name='top_n_genes',\n",
    "    label='Number of Genes',\n",
    "    description='The number of \\'top\\' genes to use for differential expression',\n",
    "    default=250,\n",
    "    min=100,\n",
    "    max=1000,\n",
    "    section='CONFIG',\n",
    ")}}\n",
    "\n",
    "# The number of 'top' results to keep from enrichment analysis\n",
    "top_n_results = {{ IntField(\n",
    "    name='top_n_results',\n",
    "    label='Number of Top Enrichment Results',\n",
    "    description='The number of \\'top\\' results to keep from enrichment analysis',\n",
    "    default=5,\n",
    "    min=1,\n",
    "    max=100,\n",
    "    section='CONFIG',\n",
    ")}}\n",
    "\n",
    "transcription_libraries = {{ MultiChoiceField(name='transcription_libraries', \n",
    "                                              description='Select the Enrichr libraries you would like in your figure.', \n",
    "                                              label='Transcription', \n",
    "                                              default=[], \n",
    "                                              section = 'ENRICHR',\n",
    "                                              choices=[\n",
    "                                                    'ARCHS4_TFs_Coexp',\n",
    "                                                    'ChEA_2016',\n",
    "                                                    'ENCODE_and_ChEA_Consensus_TFs_from_ChIP-X',\n",
    "                                                    'ENCODE_Histone_Modifications_2015',\n",
    "                                                    'ENCODE_TF_ChIP-seq_2015',\n",
    "                                                    'Epigenomics_Roadmap_HM_ChIP-seq',\n",
    "                                                    'Enrichr_Submissions_TF-Gene_Coocurrence',\n",
    "                                                    'Genome_Browser_PWMs',\n",
    "                                                    'lncHUB_lncRNA_Co-Expression',\n",
    "                                                    'miRTarBase_2017',\n",
    "                                                    'TargetScan_microRNA_2017',\n",
    "                                                    'TF-LOF_Expression_from_GEO',\n",
    "                                                    'TF_Perturbations_Followed_by_Expression',\n",
    "                                                    'Transcription_Factor_PPIs',\n",
    "                                                    'TRANSFAC_and_JASPAR_PWMs',\n",
    "                                                    'TRRUST_Transcription_Factors_2019']) }}\n",
    "\n",
    "pathways_libraries = {{ MultiChoiceField(name='pathways_libraries', \n",
    "                                         description='Select the Enrichr libraries you would like in your figure.', \n",
    "                                         label='Pathways', \n",
    "                                         default=[], \n",
    "                                         section = 'ENRICHR',\n",
    "                                         choices=[\n",
    "                                                'ARCHS4_Kinases_Coexp',\n",
    "                                                'BioCarta_2016',\n",
    "                                                'BioPlanet_2019',\n",
    "                                                'BioPlex_2017',\n",
    "                                                'CORUM',\n",
    "                                                'Elsevier_Pathway_Collection',\n",
    "                                                'HMS_LINCS_KinomeScan',\n",
    "                                                'HumanCyc_2016',\n",
    "                                                'huMAP',\n",
    "                                                'KEA_2015',\n",
    "                                                'KEGG_2019_Human',\n",
    "                                                'KEGG_2019_Mouse',\n",
    "                                                'Kinase_Perturbations_from_GEO_down',\n",
    "                                                'Kinase_Perturbations_from_GEO_up',\n",
    "                                                'L1000_Kinase_and_GPCR_Perturbations_down',\n",
    "                                                'L1000_Kinase_and_GPCR_Perturbations_up',\n",
    "                                                'NCI-Nature_2016',\n",
    "                                                'NURSA_Human_Endogenous_Complexome',\n",
    "                                                'Panther_2016',\n",
    "                                                'Phosphatase_Substrates_from_DEPOD',\n",
    "                                                'PPI_Hub_Proteins',\n",
    "                                                'Reactome_2016',\n",
    "                                                'SILAC_Phosphoproteomics',\n",
    "                                                'SubCell_BarCode',\n",
    "                                                'Virus-Host_PPI_P-HIPSTer_2020',\n",
    "                                                'WikiPathways_2019_Human',\n",
    "                                                'WikiPathways_2019_Mouse']) }}    \n",
    "\n",
    "  \n",
    "ontologies_libraries = {{ MultiChoiceField(name='ontologies_libraries', \n",
    "                                           description='Select the Enrichr libraries you would like in your figure.', \n",
    "                                           label='Ontologies', \n",
    "                                           default=[], \n",
    "                                           section = 'ENRICHR',\n",
    "                                           choices=[\n",
    "                                                'GO_Biological_Process_2018',\n",
    "                                                'GO_Cellular_Component_2018',\n",
    "                                                'GO_Molecular_Function_2018',\n",
    "                                                'Human_Phenotype_Ontology',\n",
    "                                                'Jensen_COMPARTMENTS',\n",
    "                                                'Jensen_DISEASES',\n",
    "                                                'Jensen_TISSUES',\n",
    "                                                'MGI_Mammalian_Phenotype_Level_4_2019']) }} \n",
    "\n",
    "    \n",
    "diseases_drugs_libraries = {{ MultiChoiceField(name='diseases_drugs_libraries', \n",
    "                                               description='Select the Enrichr libraries you would like in your figure.', \n",
    "                                               label='Diseases/Drugs', \n",
    "                                               default=[], \n",
    "                                               section = 'ENRICHR',\n",
    "                                               choices=[    \n",
    "                                                    'Achilles_fitness_decrease',\n",
    "                                                    'Achilles_fitness_increase',\n",
    "                                                    'ARCHS4_IDG_Coexp',\n",
    "                                                    'ClinVar_2019',\n",
    "                                                    'dbGaP',\n",
    "                                                    'DepMap_WG_CRISPR_Screens_Broad_CellLines_2019',\n",
    "                                                    'DepMap_WG_CRISPR_Screens_Sanger_CellLines_2019',\n",
    "                                                    'DisGeNET',\n",
    "                                                    'DrugMatrix',\n",
    "                                                    'DSigDB',\n",
    "                                                    'GeneSigDB',\n",
    "                                                    'GWAS_Catalog_2019',\n",
    "                                                    'LINCS_L1000_Chem_Pert_down',\n",
    "                                                    'LINCS_L1000_Chem_Pert_up',\n",
    "                                                    'LINCS_L1000_Ligand_Perturbations_down',\n",
    "                                                    'LINCS_L1000_Ligand_Perturbations_up',\n",
    "                                                    'MSigDB_Computational',\n",
    "                                                    'MSigDB_Oncogenic_Signatures',\n",
    "                                                    'Old_CMAP_down',\n",
    "                                                    'Old_CMAP_up',\n",
    "                                                    'OMIM_Disease',\n",
    "                                                    'OMIM_Expanded',\n",
    "                                                    'PheWeb_2019',\n",
    "                                                    'Rare_Diseases_AutoRIF_ARCHS4_Predictions',\n",
    "                                                    'Rare_Diseases_AutoRIF_Gene_Lists',\n",
    "                                                    'Rare_Diseases_GeneRIF_ARCHS4_Predictions',\n",
    "                                                    'Rare_Diseases_GeneRIF_Gene_Lists',\n",
    "                                                    'UK_Biobank_GWAS_v1',\n",
    "                                                    'Virus_Perturbations_from_GEO_down',\n",
    "                                                    'Virus_Perturbations_from_GEO_up',\n",
    "                                                    'VirusMINT']) }}\n",
    "    \n",
    "cell_types_libraries = {{ MultiChoiceField(name='cell_types_libraries', \n",
    "                                           description='Select the Enrichr libraries you would like in your figure.', \n",
    "                                           label='Cell Types', \n",
    "                                           default=[], \n",
    "                                           section = 'ENRICHR',\n",
    "                                           choices=[        \n",
    "                                                'Allen_Brain_Atlas_down',\n",
    "                                                'Allen_Brain_Atlas_up',\n",
    "                                                'ARCHS4_Cell-lines',\n",
    "                                                'ARCHS4_Tissues',\n",
    "                                                'Cancer_Cell_Line_Encyclopedia',\n",
    "                                                'CCLE_Proteomics_2020',\n",
    "                                                'ESCAPE',\n",
    "                                                'GTEx_Tissue_Sample_Gene_Expression_Profiles_down',\n",
    "                                                'GTEx_Tissue_Sample_Gene_Expression_Profiles_up',\n",
    "                                                'Human_Gene_Atlas',\n",
    "                                                'Mouse_Gene_Atlas',\n",
    "                                                'NCI-60_Cancer_Cell_Lines',\n",
    "                                                'ProteomicsDB_2020',\n",
    "                                                'Tissue_Protein_Expression_from_Human_Proteome_Map']) }}    \n",
    "    \n",
    "    \n",
    "    \n",
    "miscellaneous_libraries = {{ MultiChoiceField(name='miscellaneous_libraries', \n",
    "                                              description='Select the Enrichr libraries you would like in your figure.', \n",
    "                                              label='Miscellaneous', \n",
    "                                              default=[], \n",
    "                                              section = 'ENRICHR',\n",
    "                                              choices=[            \n",
    "                                                    'Chromosome_Location_hg19',\n",
    "                                                    'Data_Acquisition_Method_Most_Popular_Genes',\n",
    "                                                    'Enrichr_Libraries_Most_Popular_Genes',\n",
    "                                                    'Genes_Associated_with_NIH_Grants',\n",
    "                                                    'HMDB_Metabolites',\n",
    "                                                    'HomoloGene',\n",
    "                                                    'InterPro_Domains_2019',\n",
    "                                                    'NIH_Funded_PIs_2017_AutoRIF_ARCHS4_Predictions',\n",
    "                                                    'NIH_Funded_PIs_2017_GeneRIF_ARCHS4_Predictions',\n",
    "                                                    'NIH_Funded_PIs_2017_Human_AutoRIF',\n",
    "                                                    'NIH_Funded_PIs_2017_Human_GeneRIF',\n",
    "                                                    'Pfam_Domains_2019',\n",
    "                                                    'Pfam_InterPro_Domains',\n",
    "                                                    'Table_Mining_of_CRISPR_Studies']) }}    \n",
    "    \n",
    "    \n",
    "legacy_libraries = {{ MultiChoiceField(name='legacy_libraries', \n",
    "                                       description='Select the Enrichr libraries you would like in your figure.', \n",
    "                                       label='Legacy', \n",
    "                                       default=[], \n",
    "                                       section = 'ENRICHR',\n",
    "                                       choices=[                \n",
    "                                            'BioCarta_2013',\n",
    "                                            'BioCarta_2015',\n",
    "                                            'ChEA_2013',\n",
    "                                            'ChEA_2015',\n",
    "                                            'Chromosome_Location',\n",
    "                                            'Disease_Signatures_from_GEO_down_2014',\n",
    "                                            'Disease_Signatures_from_GEO_up_2014',\n",
    "                                            'Drug_Perturbations_from_GEO_2014',\n",
    "                                            'ENCODE_Histone_Modifications_2013',\n",
    "                                            'ENCODE_TF_ChIP-seq_2014',\n",
    "                                            'GO_Biological_Process_2013',\n",
    "                                            'GO_Biological_Process_2015',\n",
    "                                            'GO_Biological_Process_2017',\n",
    "                                            'GO_Biological_Process_2017b',\n",
    "                                            'GO_Cellular_Component_2013',\n",
    "                                            'GO_Cellular_Component_2015',\n",
    "                                            'GO_Cellular_Component_2017',\n",
    "                                            'GO_Cellular_Component_2017b',\n",
    "                                            'GO_Molecular_Function_2013',\n",
    "                                            'GO_Molecular_Function_2015',\n",
    "                                            'GO_Molecular_Function_2017',\n",
    "                                            'GO_Molecular_Function_2017b',\n",
    "                                            'HumanCyc_2015',\n",
    "                                            'KEA_2013',\n",
    "                                            'KEGG_2013',\n",
    "                                            'KEGG_2015',\n",
    "                                            'KEGG_2016',\n",
    "                                            'MGI_Mammalian_Phenotype_2013',\n",
    "                                            'MGI_Mammalian_Phenotype_2017',\n",
    "                                            'MGI_Mammalian_Phenotype_Level_3',\n",
    "                                            'MGI_Mammalian_Phenotype_Level_4',\n",
    "                                            'NCI-Nature_2015',\n",
    "                                            'Panther_2015',\n",
    "                                            'Reactome_2013',\n",
    "                                            'Reactome_2015',\n",
    "                                            'TargetScan_microRNA',\n",
    "                                            'Tissue_Protein_Expression_from_ProteomicsDB',\n",
    "                                            'WikiPathways_2013',\n",
    "                                            'WikiPathways_2015',\n",
    "                                            'WikiPathways_2016']) }} \n",
    "\n",
    "crowd_libraries = {{ MultiChoiceField(name='crowd_libraries', \n",
    "                                      description='Select the Enrichr libraries you would like in your figure.', \n",
    "                                      label='Crowd', \n",
    "                                      default=[],\n",
    "                                      section = 'ENRICHR',\n",
    "                                      choices=[                \n",
    "                                            'Aging_Perturbations_from_GEO_down',\n",
    "                                            'Aging_Perturbations_from_GEO_up',\n",
    "                                            'Disease_Perturbations_from_GEO_down',\n",
    "                                            'Disease_Perturbations_from_GEO_up',\n",
    "                                            'Drug_Perturbations_from_GEO_down',\n",
    "                                            'Drug_Perturbations_from_GEO_up',\n",
    "                                            'Gene_Perturbations_from_GEO_down',\n",
    "                                            'Gene_Perturbations_from_GEO_up',\n",
    "                                            'Ligand_Perturbations_from_GEO_down',\n",
    "                                            'Ligand_Perturbations_from_GEO_up',\n",
    "                                            'MCF7_Perturbations_from_GEO_down',\n",
    "                                            'MCF7_Perturbations_from_GEO_up',\n",
    "                                            'Microbe_Perturbations_from_GEO_down',\n",
    "                                            'Microbe_Perturbations_from_GEO_up',\n",
    "                                            'RNA-Seq_Disease_Gene_and_Drug_Signatures_from_GEO',\n",
    "                                            'SysMyo_Muscle_Gene_Sets']) }}\n",
    "\n",
    "enrichr_libraries = np.sort(transcription_libraries +\n",
    "                            pathways_libraries +\n",
    "                            ontologies_libraries +\n",
    "                            diseases_drugs_libraries +\n",
    "                            cell_types_libraries +\n",
    "                            miscellaneous_libraries +\n",
    "                            legacy_libraries + crowd_libraries)\n",
    "\n",
    "enrichr_libraries"
   ]
  },
  {
   "cell_type": "code",
   "execution_count": null,
   "metadata": {},
   "outputs": [],
   "source": []
  },
  {
   "cell_type": "code",
   "execution_count": null,
   "metadata": {},
   "outputs": [],
   "source": [
    "# get data\n",
    "df_data, df_clinical = get_data_by_cancer(cancer)\n",
    "\n",
    "# initial stastistics\n",
    "df_library_size = get_library_size_df(df_data)\n",
    "display(df_library_size.head())   "
   ]
  },
  {
   "cell_type": "code",
   "execution_count": null,
   "metadata": {},
   "outputs": [],
   "source": [
    "# normalize and convert data to zscoes\n",
    "df_data_norm = norm_and_zscore(df_data)\n",
    "\n",
    "# plot 2 gene distributions\n",
    "sns.distplot(df_data_norm.iloc[0, :]); plt.show()\n",
    "sns.distplot(df_data_norm.iloc[200, :]); plt.show()\n",
    "\n",
    "# plot a single RNA seq profile distribution\n",
    "sns.distplot(df_data_norm.iloc[:, 0]); plt.show()"
   ]
  },
  {
   "cell_type": "code",
   "execution_count": null,
   "metadata": {},
   "outputs": [],
   "source": [
    "# compute PCA\n",
    "df_data_norm_pca = get_pca_df(df_data_norm)\n",
    "\n",
    "# project data onto its first 2 principal components\n",
    "feature = \"ethnicity\"\n",
    "fig = px.scatter(\n",
    "  merge(\n",
    "    df_data_norm_pca,\n",
    "    df_library_size,\n",
    "    df_clinical\n",
    "  ),\n",
    "  x=df_data_norm_pca.columns[0],\n",
    "  y=df_data_norm_pca.columns[1],\n",
    "  size='n_reads',\n",
    "  size_max=8,\n",
    "  color=feature,\n",
    "  hover_name=feature,\n",
    "  hover_data=[\"ethnicity\"],\n",
    ")\n",
    "fig.show()"
   ]
  },
  {
   "cell_type": "code",
   "execution_count": null,
   "metadata": {},
   "outputs": [],
   "source": [
    "# compute UMAP for firstt 10 principal components\n",
    "df_data_norm_umap = get_umap_df(df_data_norm_pca)\n",
    "\n",
    "# project data onto its first 2 UMAP components\n",
    "feature = \"ethnicity\"\n",
    "fig = px.scatter(\n",
    "  merge(\n",
    "    df_data_norm_umap,\n",
    "    df_library_size,\n",
    "    df_clinical\n",
    "  ),\n",
    "  x=df_data_norm_umap.columns[0],\n",
    "  y=df_data_norm_umap.columns[1],\n",
    "  size='n_reads',\n",
    "  size_max=8,\n",
    "  color=feature,\n",
    "  hover_name=feature,\n",
    "  hover_data=[\"ethnicity\"],\n",
    ")\n",
    "fig.show()"
   ]
  },
  {
   "cell_type": "code",
   "execution_count": null,
   "metadata": {},
   "outputs": [],
   "source": [
    "# compute silhouette scores\n",
    "silhouette_scores, best = compute_silhouette_scores(df_data_norm_umap)\n",
    "\n",
    "# plot the scores as a function of # of clusters\n",
    "plt.plot(silhouette_scores['N Clusters'], silhouette_scores['Silhouette Score'])\n",
    "plt.scatter([best['N Clusters']], [best['Silhouette Score']], label='Best: {} clusters'.format(int(best[\"N Clusters\"])))\n",
    "plt.legend()\n",
    "plt.title('Cluster size selection')\n",
    "plt.ylabel('Silhouette Score')\n",
    "plt.xlabel('Number of Clusters')\n",
    "plt.show()"
   ]
  },
  {
   "cell_type": "code",
   "execution_count": null,
   "metadata": {},
   "outputs": [],
   "source": [
    "# compute clusters with Kmeans, using the ideal number of clusters\n",
    "df_data_norm_km = get_data_norm_km_df(df_data_norm_umap, best)\n",
    "print(f'Computed {len(df_data_norm_km[\"Cluster\"].unique())} clusters')"
   ]
  },
  {
   "cell_type": "code",
   "execution_count": null,
   "metadata": {},
   "outputs": [],
   "source": [
    "# compute differential expression\n",
    "df_diff_expr = get_diff_expr_df(df_data_norm, df_data_norm_km)"
   ]
  },
  {
   "cell_type": "code",
   "execution_count": null,
   "metadata": {},
   "outputs": [],
   "source": [
    "# LR performance\n",
    "df_aucs = compute_lr_aucs(df_data_norm_km, df_clinical)"
   ]
  },
  {
   "cell_type": "code",
   "execution_count": 95,
   "metadata": {
    "scrolled": false
   },
   "outputs": [
    {
     "ename": "NameError",
     "evalue": "name 'df_data_norm_km' is not defined",
     "output_type": "error",
     "traceback": [
      "\u001b[0;31m---------------------------------------------------------------------------\u001b[0m",
      "\u001b[0;31mNameError\u001b[0m                                 Traceback (most recent call last)",
      "\u001b[0;32m<ipython-input-95-d6ee99dbc91e>\u001b[0m in \u001b[0;36m<module>\u001b[0;34m\u001b[0m\n\u001b[1;32m      1\u001b[0m \u001b[0;31m# save data\u001b[0m\u001b[0;34m\u001b[0m\u001b[0;34m\u001b[0m\u001b[0;34m\u001b[0m\u001b[0m\n\u001b[1;32m      2\u001b[0m save_data(cancer,\n\u001b[0;32m----> 3\u001b[0;31m           \u001b[0mdf_data_norm_km\u001b[0m\u001b[0;34m,\u001b[0m\u001b[0;34m\u001b[0m\u001b[0;34m\u001b[0m\u001b[0m\n\u001b[0m\u001b[1;32m      4\u001b[0m           \u001b[0mdf_data_norm_pca\u001b[0m\u001b[0;34m,\u001b[0m\u001b[0;34m\u001b[0m\u001b[0;34m\u001b[0m\u001b[0m\n\u001b[1;32m      5\u001b[0m           \u001b[0mdf_data_norm_umap\u001b[0m\u001b[0;34m,\u001b[0m\u001b[0;34m\u001b[0m\u001b[0;34m\u001b[0m\u001b[0m\n",
      "\u001b[0;31mNameError\u001b[0m: name 'df_data_norm_km' is not defined"
     ]
    }
   ],
   "source": [
    "# save data\n",
    "save_data(cancer,\n",
    "          df_data_norm_km,\n",
    "          df_data_norm_pca,\n",
    "          df_data_norm_umap,\n",
    "          df_diff_expr,\n",
    "          df_aucs)"
   ]
  },
  {
   "cell_type": "code",
   "execution_count": 94,
   "metadata": {
    "scrolled": true
   },
   "outputs": [
    {
     "name": "stdout",
     "output_type": "stream",
     "text": [
      "[]\n"
     ]
    }
   ],
   "source": [
    "enrichr_libraries = np.sort(transcription_libraries +\n",
    "                            pathways_libraries +\n",
    "                            ontologies_libraries +\n",
    "                            diseases_drugs_libraries +\n",
    "                            cell_types_libraries +\n",
    "                            miscellaneous_libraries +\n",
    "                            legacy_libraries +\n",
    "                            crowd_libraries)\n",
    "print(enrichr_libraries)"
   ]
  },
  {
   "cell_type": "code",
   "execution_count": null,
   "metadata": {
    "collapsed": true,
    "scrolled": true
   },
   "outputs": [],
   "source": []
  },
  {
   "cell_type": "code",
   "execution_count": null,
   "metadata": {
    "collapsed": true,
    "scrolled": true
   },
   "outputs": [],
   "source": []
  },
  {
   "cell_type": "code",
   "execution_count": null,
   "metadata": {
    "collapsed": true,
    "scrolled": true
   },
   "outputs": [],
   "source": []
  },
  {
   "cell_type": "code",
   "execution_count": null,
   "metadata": {
    "collapsed": true,
    "scrolled": true
   },
   "outputs": [],
   "source": []
  },
  {
   "cell_type": "code",
   "execution_count": null,
   "metadata": {
    "collapsed": true,
    "scrolled": true
   },
   "outputs": [],
   "source": []
  },
  {
   "cell_type": "code",
   "execution_count": null,
   "metadata": {
    "collapsed": true,
    "scrolled": true
   },
   "outputs": [],
   "source": []
  },
  {
   "cell_type": "code",
   "execution_count": null,
   "metadata": {
    "collapsed": true,
    "scrolled": true
   },
   "outputs": [],
   "source": []
  },
  {
   "cell_type": "code",
   "execution_count": null,
   "metadata": {
    "collapsed": true,
    "scrolled": true
   },
   "outputs": [],
   "source": []
  },
  {
   "cell_type": "code",
   "execution_count": null,
   "metadata": {
    "collapsed": true,
    "scrolled": true
   },
   "outputs": [],
   "source": []
  },
  {
   "cell_type": "code",
   "execution_count": null,
   "metadata": {
    "collapsed": true,
    "scrolled": true
   },
   "outputs": [],
   "source": []
  },
  {
   "cell_type": "code",
   "execution_count": null,
   "metadata": {
    "collapsed": true,
    "scrolled": true
   },
   "outputs": [],
   "source": []
  },
  {
   "cell_type": "code",
   "execution_count": null,
   "metadata": {
    "collapsed": true,
    "scrolled": true
   },
   "outputs": [],
   "source": []
  }
 ],
 "metadata": {
  "kernelspec": {
   "display_name": "Python 3",
   "language": "python",
   "name": "python3"
  },
  "language_info": {
   "codemirror_mode": {
    "name": "ipython",
    "version": 3
   },
   "file_extension": ".py",
   "mimetype": "text/x-python",
   "name": "python",
   "nbconvert_exporter": "python",
   "pygments_lexer": "ipython3",
   "version": "3.8.1"
  }
 },
 "nbformat": 4,
 "nbformat_minor": 4
}
