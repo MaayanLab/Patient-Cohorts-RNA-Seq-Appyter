{
 "cells": [
  {
   "cell_type": "code",
   "execution_count": null,
   "metadata": {},
   "outputs": [],
   "source": []
  },
  {
   "cell_type": "code",
   "execution_count": 63,
   "metadata": {},
   "outputs": [],
   "source": [
    "import os\n",
    "import numpy as np\n",
    "import pandas as pd\n",
    "from matplotlib import pyplot as plt\n",
    "import seaborn as sns\n",
    "from umap import UMAP\n",
    "from scipy.stats import zscore\n",
    "from sklearn.decomposition import PCA\n",
    "from sklearn.linear_model import LogisticRegression\n",
    "from sklearn.metrics import roc_auc_score\n",
    "from sklearn.cluster import KMeans\n",
    "from sklearn.metrics import silhouette_score\n",
    "from maayanlab_bioinformatics.dge import characteristic_direction\n",
    "from maayanlab_bioinformatics.normalization import log2_normalize, filter_by_var, zscore_normalize\n",
    "from maayanlab_bioinformatics.utils import merge\n",
    "import plotly.express as px\n",
    "import math"
   ]
  },
  {
   "cell_type": "code",
   "execution_count": 64,
   "metadata": {},
   "outputs": [
    {
     "name": "stdout",
     "output_type": "stream",
     "text": [
      "['primary_diagnosis' 'primary_gleason_grade' 'figo_staging_edition_year'\n",
      " 'updated_datetime' 'occupation_duration_years' 'ann_arbor_clinical_stage'\n",
      " 'best_overall_response' 'largest_extrapelvic_peritoneal_focus'\n",
      " 'esophageal_columnar_dysplasia_degree' 'perineural_invasion_present'\n",
      " 'tissue_or_organ_of_origin' 'cog_liver_stage'\n",
      " 'burkitt_lymphoma_clinical_variant' 'ajcc_clinical_m' 'igcccg_stage'\n",
      " 'percent_tumor_invasion' 'ishak_fibrosis_score' 'diagnosis_id'\n",
      " 'irs_stage' 'esophageal_columnar_metaplasia_present'\n",
      " 'transglottic_extension' 'cog_neuroblastoma_risk_group'\n",
      " 'last_known_disease_status' 'ajcc_clinical_n'\n",
      " 'peritoneal_fluid_cytological_status' 'cog_renal_stage'\n",
      " 'cog_rhabdomyosarcoma_risk_group' 'created_datetime' 'laterality'\n",
      " 'days_to_last_known_disease_status' 'tumor_focality'\n",
      " 'days_to_best_overall_response' 'tumor_largest_dimension_diameter'\n",
      " 'gross_tumor_weight' 'greatest_tumor_dimension' 'lymph_nodes_tested'\n",
      " 'supratentorial_localization' 'gleason_grade_group'\n",
      " 'weiss_assessment_score' 'days_to_death' 'metastasis_at_diagnosis'\n",
      " 'classification_of_tumor' 'vascular_invasion_present'\n",
      " 'lymphatic_invasion_present' 'days_to_diagnosis' 'age_at_index'\n",
      " 'anaplasia_present' 'age_at_diagnosis' 'weeks_gestation_at_birth'\n",
      " 'ajcc_clinical_t' 'ann_arbor_extranodal_involvement'\n",
      " 'mitosis_karyorrhexis_index' 'icd_10_code' 'ovarian_specimen_status'\n",
      " 'metastasis_at_diagnosis_site' 'morphology' 'year_of_death' 'irs_group'\n",
      " 'race' 'annotations' 'ajcc_pathologic_n' 'micropapillary_features'\n",
      " 'gleason_grade_tertiary' 'circumferential_resection_margin'\n",
      " 'ajcc_pathologic_m' 'vascular_invasion_type' 'inrg_stage'\n",
      " 'prior_treatment' 'prior_malignancy' 'premature_at_birth' 'submitter_id'\n",
      " 'non_nodal_tumor_deposits' 'masaoka_stage'\n",
      " 'medulloblastoma_molecular_classification' 'inss_stage'\n",
      " 'gleason_patterns_percent' 'days_to_recurrence' 'figo_stage'\n",
      " 'margins_involved_site' 'breslow_thickness'\n",
      " 'first_symptom_prior_to_diagnosis' 'country_of_residence_at_enrollment'\n",
      " 'days_to_last_follow_up' 'age_is_obfuscated' 'tumor_grade'\n",
      " 'mitotic_count' 'year_of_birth' 'peripancreatic_lymph_nodes_tested'\n",
      " 'international_prognostic_index' 'site_of_resection_or_biopsy'\n",
      " 'peripancreatic_lymph_nodes_positive' 'state' 'cause_of_death'\n",
      " 'ovarian_surface_involvement' 'ethnicity' 'method_of_diagnosis'\n",
      " 'synchronous_malignancy' 'inpc_grade' 'tumor_depth' 'margin_distance'\n",
      " 'tumor_regression_grade' 'child_pugh_classification' 'iss_stage'\n",
      " 'papillary_renal_cell_type' 'enneking_msts_tumor_site'\n",
      " 'pregnant_at_diagnosis' 'demographic_id' 'enneking_msts_grade'\n",
      " 'vital_status' 'residual_disease' 'cause_of_death_source'\n",
      " 'enneking_msts_stage' 'ann_arbor_pathologic_stage'\n",
      " 'enneking_msts_metastasis' 'tumor_stage' 'non_nodal_regional_disease'\n",
      " 'ajcc_staging_system_edition' 'wilms_tumor_histologic_subtype'\n",
      " 'tumor_confined_to_organ_of_origin' 'inpc_histologic_group'\n",
      " 'goblet_cells_columnar_mucosa_present' 'anaplasia_present_type'\n",
      " 'lymph_nodes_positive' 'gender' 'secondary_gleason_grade'\n",
      " 'lymph_node_involved_site' 'year_of_diagnosis' 'ann_arbor_b_symptoms'\n",
      " 'gastric_esophageal_junction_involvement' 'days_to_birth' 'treatments'\n",
      " 'ajcc_clinical_stage' 'ajcc_pathologic_stage' 'progression_or_recurrence'\n",
      " 'ajcc_pathologic_t']\n"
     ]
    }
   ],
   "source": [
    "# Initial imports\n",
    "df_data_all = pd.read_csv(\"data.csv\")\n",
    "df_data_all = df_data_all.set_index(\"symbol\")\n",
    "\n",
    "df_clinical_all = pd.read_csv(\"clinical_data.csv\")\n",
    "df_clinical_all = df_clinical_all.set_index(\"case_id\")\n",
    "\n",
    "cancer_types = list(set(df_clinical_all.primary_diagnosis))\n",
    "\n",
    "columns = df_clinical_all.columns.values\n",
    "print(columns)\n"
   ]
  },
  {
   "cell_type": "code",
   "execution_count": 65,
   "metadata": {},
   "outputs": [],
   "source": [
    "def get_data_by_cancer(cancer_type):\n",
    "    '''\n",
    "    Given a cancer type, return the RNA-seq and clinical DataFrames with only those entries \n",
    "    corresponding to that cancer type.\n",
    "    '''\n",
    "    df_clinical = df_clinical_all[df_clinical_all.primary_diagnosis == cancer_type]\n",
    "    ids = df_clinical.index.values\n",
    "    df_data = df_data_all[ids]\n",
    "    return df_data, df_clinical"
   ]
  },
  {
   "cell_type": "code",
   "execution_count": 66,
   "metadata": {},
   "outputs": [],
   "source": [
    "def get_library_size_df(df_data):\n",
    "    return pd.DataFrame(\n",
    "    {\n",
    "        'n_reads': df_data[df_data > 0].count(),\n",
    "        'log_n_reads': np.log2(df_data[df_data > 0].count() + 1),\n",
    "        'n_expressed_genes': df_data.sum(),\n",
    "    }).sort_values('n_reads', ascending=False)"
   ]
  },
  {
   "cell_type": "code",
   "execution_count": 67,
   "metadata": {},
   "outputs": [],
   "source": [
    "def norm_and_zscore(df_data):\n",
    "    # take 2500 top most variable rows\n",
    "    df_data_norm = filter_by_var(df_data)\n",
    "\n",
    "    # compute log normalization of matrix\n",
    "    df_data_norm = np.log2(df_data_norm + 1)\n",
    "\n",
    "    # convert to zscores\n",
    "    df_data_norm = pd.DataFrame(zscore(df_data_norm, axis=0, ddof=0), \n",
    "                                index=df_data_norm.index, \n",
    "                                columns=df_data_norm.columns)\n",
    "    \n",
    "    return df_data_norm"
   ]
  },
  {
   "cell_type": "code",
   "execution_count": 68,
   "metadata": {},
   "outputs": [],
   "source": [
    "def get_pca_df(df_data_norm):\n",
    "    '''\n",
    "    Perform PCA to reduce dimensionality of the dataset before clustering\n",
    "    while stitll maintaining most of the variability\n",
    "    '''\n",
    "    data_norm_pca = PCA(\n",
    "      random_state=42,\n",
    "    )\n",
    "    data_norm_pca.fit(df_data_norm.values.T)\n",
    "    df_data_norm_pca = pd.DataFrame(\n",
    "        data_norm_pca.transform(df_data_norm.values.T),\n",
    "        index=df_data_norm.T.index\n",
    "    )\n",
    "    df_data_norm_pca.columns = [\n",
    "        f'PCA-{c}' # ({r:.3f})'\n",
    "        for c, r in zip(df_data_norm_pca.columns, data_norm_pca.explained_variance_ratio_)\n",
    "    ]\n",
    "    return df_data_norm_pca"
   ]
  },
  {
   "cell_type": "code",
   "execution_count": 77,
   "metadata": {},
   "outputs": [],
   "source": [
    "def get_umap_df(df_data_norm_pca):\n",
    "    '''\n",
    "    UMAP: Uniform Manifold Approximation and Projection (UMAP) dimensional reduction technique\n",
    "    arguments here are defaults in Seurat, considered the standard\n",
    "    '''\n",
    "    n_neighbors = 30\n",
    "    if (len(df_data_norm_pca.columns) < 30): # in case the dataset is small\n",
    "        n_neighbors = math.floor(len(df_data_norm_pca.columns) / 10.) + 2 # must be > 1\n",
    "    data_norm_umap = UMAP(\n",
    "      random_state=42,\n",
    "      n_components=2,\n",
    "      n_neighbors=n_neighbors,\n",
    "      metric='cosine',\n",
    "      min_dist=0.3,\n",
    "    )\n",
    "\n",
    "    # use top 10 components of PCA\n",
    "    data_norm_umap.fit(df_data_norm_pca.iloc[:, :10].values)\n",
    "\n",
    "    df_data_norm_umap = pd.DataFrame(\n",
    "      data_norm_umap.transform(df_data_norm_pca.iloc[:, :10].values),\n",
    "      columns=['UMAP-1', 'UMAP-2'],\n",
    "      index=df_data_norm_pca.index,\n",
    "    )\n",
    "    return df_data_norm_umap\n",
    "    "
   ]
  },
  {
   "cell_type": "code",
   "execution_count": 81,
   "metadata": {},
   "outputs": [],
   "source": [
    "def compute_silhouette_scores(df_data_norm_umap):\n",
    "    '''\n",
    "    Compute silhouette scores, which are a measure of how similar an entry is to its \n",
    "    cluster; from this, we can decide the ideal number of clusters\n",
    "    '''\n",
    "    silhouette_scores = {}\n",
    "    \n",
    "    max_clusters = 25\n",
    "    if (df_data_norm_umap.shape[0] < 25):\n",
    "        max_clusters = df_data_norm_umap.shape[0]\n",
    "        max_clusters = max(3,max_clusters)\n",
    "        \n",
    "    for n in range(2, max_clusters):\n",
    "        y_pred = KMeans(n_clusters=n, random_state=42).fit_predict(df_data_norm_umap.values)\n",
    "        silhouette_scores[n] = silhouette_score(df_data_norm_umap.values, y_pred, metric='cosine')\n",
    "    silhouette_scores = pd.DataFrame([\n",
    "        {'N Clusters': k, 'Silhouette Score': v}\n",
    "        for k, v in silhouette_scores.items()\n",
    "    ])\n",
    "    best = silhouette_scores.sort_values('Silhouette Score').iloc[-1]\n",
    "    return silhouette_scores, best"
   ]
  },
  {
   "cell_type": "code",
   "execution_count": 71,
   "metadata": {},
   "outputs": [],
   "source": [
    "def get_data_norm_km_df(df_data_norm_umap, best_silhouette_score):\n",
    "    '''\n",
    "    Compute the Kmeans dataframe\n",
    "    '''\n",
    "    km = KMeans(n_clusters=int(best_silhouette_score['N Clusters']), random_state=42)\n",
    "    df_data_norm_km = pd.DataFrame({\n",
    "    'Cluster': [\n",
    "        str(c)\n",
    "        for c in km.fit_predict(df_data_norm_umap.values)\n",
    "    ]}, index=df_data_norm_umap.index)\n",
    "\n",
    "    return df_data_norm_km"
   ]
  },
  {
   "cell_type": "code",
   "execution_count": 72,
   "metadata": {},
   "outputs": [],
   "source": [
    "def get_diff_expr_df(df_data_norm, df_data_norm_km):\n",
    "    '''\n",
    "    Perform differential expression for each cluter\n",
    "    '''\n",
    "    diff_expr = {}\n",
    "    for cluster, samples in df_data_norm_km.groupby('Cluster'):\n",
    "        diff_expr[cluster] = characteristic_direction(\n",
    "            # expression outside of this cluster\n",
    "            df_data_norm.loc[:, df_data_norm.columns.difference(samples.index)],\n",
    "            # expression in this cluster\n",
    "            df_data_norm.loc[:, samples.index],\n",
    "          )['CD-coefficient']\n",
    "\n",
    "    df_diff_expr = pd.DataFrame(diff_expr)\n",
    "\n",
    "    df_diff_expr.index.name = 'Feature Name'\n",
    "    return df_diff_expr['0'].sort_values(ascending=True)"
   ]
  },
  {
   "cell_type": "code",
   "execution_count": 131,
   "metadata": {},
   "outputs": [],
   "source": [
    "def compute_lr_aucs(df_data_norm_km, df_clinical):\n",
    "    '''\n",
    "    Fit a logistic regression on each feature to see which most accurately predict\n",
    "    cluster\n",
    "    '''\n",
    "    aucs = {}\n",
    "    #df_clinical = df_clinical.drop(columns=[\"primary_diagnosis\"])\n",
    "    for cluster, samples in df_data_norm_km.groupby('Cluster'): \n",
    "        aucs[cluster] = {}\n",
    "\n",
    "        for feature in df_clinical.columns: # TODO: drop NAs\n",
    "            lr = LogisticRegression()\n",
    "            X = df_clinical.copy()\n",
    "            X = X[feature]\n",
    "            X = pd.merge(X, df_data_norm_km, left_index = True, right_index = True)\n",
    "            \n",
    "            # drop NAs, and move on if dataset is empty\n",
    "            X.replace(\"not reported\", None)\n",
    "            X = X.dropna()\n",
    "            if (X.shape[0] == 0): continue\n",
    "\n",
    "            cluster_data = X[\"Cluster\"]\n",
    "            X = X.drop(columns= [\"Cluster\"])\n",
    "            \n",
    "            # one-hot encode non numerical data\n",
    "            if (not isinstance(X[feature][0], (int, float, complex))):\n",
    "                X = pd.get_dummies(X[feature], prefix=feature)\n",
    "\n",
    "            y_true = (cluster_data == cluster)\n",
    "\n",
    "            if (len(set(y_true)) < 2): continue # if we only have one class in the dataset\n",
    "            lr.fit(X, y_true)\n",
    "            y_score = lr.predict_proba(X)[:, 1]\n",
    "            aucs[cluster][feature] = roc_auc_score(y_true, y_score)\n",
    "    return pd.DataFrame(aucs)"
   ]
  },
  {
   "cell_type": "code",
   "execution_count": 144,
   "metadata": {},
   "outputs": [],
   "source": [
    "def save_data(cancer_type,\n",
    "              df_data_norm_km,\n",
    "              df_data_norm_pca,\n",
    "              df_data_norm_umap,\n",
    "              df_diff_expr,\n",
    "              df_aucs):\n",
    "    \n",
    "    # create the root dir\n",
    "    root_dir = f'./processed_data/{cancer_type}'\n",
    "    os.makedirs(root_dir, exist_ok=True)\n",
    "\n",
    "    # /clustering/graphclust/clusters.csv\n",
    "    #   Barcode,Cluster\n",
    "    os.makedirs(f'{root_dir}/clustering/graphclust', exist_ok=True)\n",
    "    df_data_norm_km.to_csv(f'{root_dir}/clustering/graphclust/clusters.csv')\n",
    "    \n",
    "    # /pca/10_components/projection.csv\n",
    "    #   Barcode,PC-1,PC-2,PC-3,PC-4,PC-5,PC-6,PC-7,PC-8,PC-9,PC-10\n",
    "    os.makedirs(f'{root_dir}/pca/10_components', exist_ok=True)\n",
    "    df_data_norm_pca.to_csv(f'{root_dir}/pca/10_components/projection.csv')\n",
    "    \n",
    "    # /umap/2_components/projection.csv\n",
    "    #   Barcode,UMAP-1,UMAP-2\n",
    "    os.makedirs(f'{root_dir}/umap/2_components', exist_ok=True)\n",
    "    df_data_norm_umap.to_csv(f'{root_dir}/umap/2_components/projection.csv')\n",
    "    \n",
    "     # /diffexp/graphclust/differential_expression.csv\n",
    "    #   Feature Name,Cluster 2 Log2 fold change,Cluster 0 Log2 fold change,Cluster 1 Log2 fold change,Cluster 3 Log2 fold change,Cluster 2 Adjusted p value,Cluster 0 Adjusted p value,Cluster 1 Adjusted p value,Cluster 3 Adjusted p value,Cluster 2 Mean Counts,Cluster 0 Mean Counts,Cluster 1 Mean Counts,Cluster 3 Mean Counts,Feature Name\n",
    "    os.makedirs(f'{root_dir}/diffexp/graphclust', exist_ok=True)\n",
    "    df_diff_expr.to_csv(f'{root_dir}/diffexp/graphclust/differential_expression.csv')\n",
    "    \n",
    "    # /cluster_aucs.csv\n",
    "    #   ,2,0,1,3\n",
    "    df_aucs.to_csv(f'{root_dir}/cluster_aucs.csv')"
   ]
  },
  {
   "cell_type": "code",
   "execution_count": 145,
   "metadata": {},
   "outputs": [
    {
     "data": {
      "text/html": [
       "<div>\n",
       "<style scoped>\n",
       "    .dataframe tbody tr th:only-of-type {\n",
       "        vertical-align: middle;\n",
       "    }\n",
       "\n",
       "    .dataframe tbody tr th {\n",
       "        vertical-align: top;\n",
       "    }\n",
       "\n",
       "    .dataframe thead th {\n",
       "        text-align: right;\n",
       "    }\n",
       "</style>\n",
       "<table border=\"1\" class=\"dataframe\">\n",
       "  <thead>\n",
       "    <tr style=\"text-align: right;\">\n",
       "      <th></th>\n",
       "      <th>n_reads</th>\n",
       "      <th>log_n_reads</th>\n",
       "      <th>n_expressed_genes</th>\n",
       "    </tr>\n",
       "  </thead>\n",
       "  <tbody>\n",
       "    <tr>\n",
       "      <th>3b076d77-6276-4233-867b-6a10d9e17343</th>\n",
       "      <td>18663</td>\n",
       "      <td>14.187971</td>\n",
       "      <td>54333296</td>\n",
       "    </tr>\n",
       "    <tr>\n",
       "      <th>3b076d77-6276-4233-867b-6a10d9e17343</th>\n",
       "      <td>18663</td>\n",
       "      <td>14.187971</td>\n",
       "      <td>54333296</td>\n",
       "    </tr>\n",
       "    <tr>\n",
       "      <th>7ab5a708-803f-4d8c-9b25-645f06851a26</th>\n",
       "      <td>18586</td>\n",
       "      <td>14.182006</td>\n",
       "      <td>42783967</td>\n",
       "    </tr>\n",
       "    <tr>\n",
       "      <th>a6635058-4498-463c-9bbc-1009dda3308c</th>\n",
       "      <td>18577</td>\n",
       "      <td>14.181308</td>\n",
       "      <td>43117857</td>\n",
       "    </tr>\n",
       "    <tr>\n",
       "      <th>f89ac782-e0b2-4e62-844d-2e00d10a1c65</th>\n",
       "      <td>18492</td>\n",
       "      <td>14.174692</td>\n",
       "      <td>60527602</td>\n",
       "    </tr>\n",
       "  </tbody>\n",
       "</table>\n",
       "</div>"
      ],
      "text/plain": [
       "                                      n_reads  log_n_reads  n_expressed_genes\n",
       "3b076d77-6276-4233-867b-6a10d9e17343    18663    14.187971           54333296\n",
       "3b076d77-6276-4233-867b-6a10d9e17343    18663    14.187971           54333296\n",
       "7ab5a708-803f-4d8c-9b25-645f06851a26    18586    14.182006           42783967\n",
       "a6635058-4498-463c-9bbc-1009dda3308c    18577    14.181308           43117857\n",
       "f89ac782-e0b2-4e62-844d-2e00d10a1c65    18492    14.174692           60527602"
      ]
     },
     "metadata": {},
     "output_type": "display_data"
    },
    {
     "data": {
      "image/png": "[encoded data removed]",
      "text/plain": [
       "<Figure size 432x288 with 1 Axes>"
      ]
     },
     "metadata": {
      "needs_background": "light"
     },
     "output_type": "display_data"
    },
    {
     "data": {
      "image/png": "[encoded data removed]",
      "text/plain": [
       "<Figure size 432x288 with 1 Axes>"
      ]
     },
     "metadata": {
      "needs_background": "light"
     },
     "output_type": "display_data"
    },
    {
     "data": {
      "image/png": "[encoded data removed]",
      "text/plain": [
       "<Figure size 432x288 with 1 Axes>"
      ]
     },
     "metadata": {
      "needs_background": "light"
     },
     "output_type": "display_data"
    },
    {
     "data": {
      "image/png": "[encoded data removed]",
      "text/plain": [
       "<Figure size 432x288 with 1 Axes>"
      ]
     },
     "metadata": {
      "needs_background": "light"
     },
     "output_type": "display_data"
    },
    {
     "data": {
      "application/vnd.plotly.v1+json": {
       "config": {
        "plotlyServerURL": "https://plot.ly"
       },
       "data": [
        {
         "customdata": [
          [
           "not reported"
          ],
          [
           "not hispanic or latino"
          ],
          [
           "not hispanic or latino"
          ],
          [
           "not reported"
          ],
          [
           "not hispanic or latino"
          ],
          [
           "not hispanic or latino"
          ],
          [
           "not hispanic or latino"
          ],
          [
           "not hispanic or latino"
          ],
          [
           "not hispanic or latino"
          ],
          [
           "not hispanic or latino"
          ],
          [
           "not hispanic or latino"
          ],
          [
           "not hispanic or latino"
          ],
          [
           "not hispanic or latino"
          ],
          [
           "not hispanic or latino"
          ],
          [
           "not reported"
          ],
          [
           "not hispanic or latino"
          ],
          [
           "not hispanic or latino"
          ],
          [
           "not reported"
          ],
          [
           "not hispanic or latino"
          ],
          [
           "not hispanic or latino"
          ],
          [
           "not hispanic or latino"
          ],
          [
           "not reported"
          ],
          [
           "not hispanic or latino"
          ],
          [
           "not reported"
          ],
          [
           "not hispanic or latino"
          ],
          [
           "not hispanic or latino"
          ],
          [
           "not reported"
          ],
          [
           "not hispanic or latino"
          ],
          [
           "not hispanic or latino"
          ],
          [
           "not hispanic or latino"
          ],
          [
           "not hispanic or latino"
          ],
          [
           "not hispanic or latino"
          ],
          [
           "not hispanic or latino"
          ],
          [
           "not hispanic or latino"
          ],
          [
           "not hispanic or latino"
          ],
          [
           "not hispanic or latino"
          ],
          [
           "not reported"
          ],
          [
           "not hispanic or latino"
          ],
          [
           "not hispanic or latino"
          ],
          [
           "not hispanic or latino"
          ],
          [
           "not hispanic or latino"
          ],
          [
           "not reported"
          ],
          [
           "not reported"
          ],
          [
           "not reported"
          ],
          [
           "not hispanic or latino"
          ],
          [
           "not hispanic or latino"
          ],
          [
           "not hispanic or latino"
          ],
          [
           "not hispanic or latino"
          ],
          [
           "not reported"
          ],
          [
           "not hispanic or latino"
          ],
          [
           "not reported"
          ],
          [
           "not hispanic or latino"
          ],
          [
           "not hispanic or latino"
          ],
          [
           "not reported"
          ],
          [
           "not reported"
          ],
          [
           "not reported"
          ],
          [
           "not hispanic or latino"
          ],
          [
           "not reported"
          ],
          [
           "hispanic or latino"
          ],
          [
           "not hispanic or latino"
          ],
          [
           "not reported"
          ],
          [
           "not reported"
          ],
          [
           "not hispanic or latino"
          ],
          [
           "not hispanic or latino"
          ],
          [
           "hispanic or latino"
          ],
          [
           "not hispanic or latino"
          ],
          [
           "not hispanic or latino"
          ],
          [
           "not reported"
          ],
          [
           "not hispanic or latino"
          ],
          [
           "not hispanic or latino"
          ],
          [
           "not reported"
          ],
          [
           "not hispanic or latino"
          ],
          [
           "not hispanic or latino"
          ],
          [
           "not reported"
          ],
          [
           "not hispanic or latino"
          ],
          [
           "not hispanic or latino"
          ],
          [
           "not hispanic or latino"
          ],
          [
           "not hispanic or latino"
          ],
          [
           "not hispanic or latino"
          ],
          [
           "not hispanic or latino"
          ],
          [
           "not hispanic or latino"
          ],
          [
           "not hispanic or latino"
          ],
          [
           "not hispanic or latino"
          ],
          [
           "not hispanic or latino"
          ],
          [
           "not hispanic or latino"
          ],
          [
           "not hispanic or latino"
          ],
          [
           "not hispanic or latino"
          ],
          [
           "not reported"
          ],
          [
           "not hispanic or latino"
          ],
          [
           "not reported"
          ],
          [
           "not hispanic or latino"
          ],
          [
           "not reported"
          ],
          [
           "not reported"
          ],
          [
           "not hispanic or latino"
          ],
          [
           "not hispanic or latino"
          ],
          [
           "not reported"
          ],
          [
           "not hispanic or latino"
          ],
          [
           "not hispanic or latino"
          ],
          [
           "not hispanic or latino"
          ],
          [
           "not hispanic or latino"
          ],
          [
           "not hispanic or latino"
          ],
          [
           "not hispanic or latino"
          ],
          [
           "not hispanic or latino"
          ],
          [
           "not reported"
          ],
          [
           "not reported"
          ],
          [
           "not hispanic or latino"
          ],
          [
           "not reported"
          ],
          [
           "not hispanic or latino"
          ],
          [
           "not hispanic or latino"
          ],
          [
           "not hispanic or latino"
          ],
          [
           "not hispanic or latino"
          ],
          [
           "not hispanic or latino"
          ],
          [
           "not hispanic or latino"
          ],
          [
           "not hispanic or latino"
          ],
          [
           "not hispanic or latino"
          ],
          [
           "not hispanic or latino"
          ],
          [
           "not hispanic or latino"
          ],
          [
           "not reported"
          ],
          [
           "not hispanic or latino"
          ],
          [
           "not hispanic or latino"
          ],
          [
           "not hispanic or latino"
          ],
          [
           "not hispanic or latino"
          ],
          [
           "not hispanic or latino"
          ],
          [
           "not hispanic or latino"
          ],
          [
           "not hispanic or latino"
          ],
          [
           "not hispanic or latino"
          ],
          [
           "not hispanic or latino"
          ],
          [
           "not hispanic or latino"
          ],
          [
           "not hispanic or latino"
          ],
          [
           "not hispanic or latino"
          ],
          [
           "not hispanic or latino"
          ],
          [
           "not hispanic or latino"
          ],
          [
           "not hispanic or latino"
          ],
          [
           "not reported"
          ],
          [
           "not hispanic or latino"
          ],
          [
           "not hispanic or latino"
          ],
          [
           "hispanic or latino"
          ],
          [
           "not hispanic or latino"
          ],
          [
           "not reported"
          ],
          [
           "not hispanic or latino"
          ],
          [
           "not hispanic or latino"
          ],
          [
           "not hispanic or latino"
          ],
          [
           "not hispanic or latino"
          ],
          [
           "not hispanic or latino"
          ],
          [
           "not hispanic or latino"
          ],
          [
           "not hispanic or latino"
          ],
          [
           "not reported"
          ],
          [
           "not hispanic or latino"
          ],
          [
           "not hispanic or latino"
          ],
          [
           "not hispanic or latino"
          ],
          [
           "not hispanic or latino"
          ],
          [
           "not hispanic or latino"
          ],
          [
           "not hispanic or latino"
          ],
          [
           "not hispanic or latino"
          ],
          [
           "not hispanic or latino"
          ],
          [
           "hispanic or latino"
          ],
          [
           "not hispanic or latino"
          ],
          [
           "not hispanic or latino"
          ],
          [
           "not hispanic or latino"
          ],
          [
           "not hispanic or latino"
          ],
          [
           "not hispanic or latino"
          ],
          [
           "not hispanic or latino"
          ],
          [
           "not hispanic or latino"
          ],
          [
           "not reported"
          ],
          [
           "not hispanic or latino"
          ],
          [
           "not hispanic or latino"
          ],
          [
           "not hispanic or latino"
          ],
          [
           "not hispanic or latino"
          ],
          [
           "not hispanic or latino"
          ],
          [
           "not hispanic or latino"
          ],
          [
           "not hispanic or latino"
          ],
          [
           "not hispanic or latino"
          ],
          [
           "not hispanic or latino"
          ],
          [
           "not hispanic or latino"
          ],
          [
           "not hispanic or latino"
          ],
          [
           "not hispanic or latino"
          ],
          [
           "not hispanic or latino"
          ],
          [
           "not hispanic or latino"
          ],
          [
           "not hispanic or latino"
          ],
          [
           "not hispanic or latino"
          ],
          [
           "not hispanic or latino"
          ],
          [
           "not hispanic or latino"
          ],
          [
           "not hispanic or latino"
          ],
          [
           "not hispanic or latino"
          ],
          [
           "not reported"
          ],
          [
           "not hispanic or latino"
          ],
          [
           "not hispanic or latino"
          ],
          [
           "not hispanic or latino"
          ],
          [
           "not hispanic or latino"
          ],
          [
           "not reported"
          ],
          [
           "not hispanic or latino"
          ],
          [
           "not reported"
          ],
          [
           "not hispanic or latino"
          ],
          [
           "not reported"
          ],
          [
           "not hispanic or latino"
          ],
          [
           "not hispanic or latino"
          ],
          [
           "not hispanic or latino"
          ],
          [
           "not hispanic or latino"
          ],
          [
           "not hispanic or latino"
          ],
          [
           "not hispanic or latino"
          ],
          [
           "not hispanic or latino"
          ],
          [
           "not reported"
          ],
          [
           "not reported"
          ],
          [
           "not hispanic or latino"
          ],
          [
           "not hispanic or latino"
          ],
          [
           "not hispanic or latino"
          ],
          [
           "not hispanic or latino"
          ],
          [
           "not hispanic or latino"
          ],
          [
           "not hispanic or latino"
          ],
          [
           "not hispanic or latino"
          ],
          [
           "not hispanic or latino"
          ],
          [
           "not hispanic or latino"
          ],
          [
           "not hispanic or latino"
          ],
          [
           "not hispanic or latino"
          ],
          [
           "not hispanic or latino"
          ],
          [
           "not hispanic or latino"
          ],
          [
           "not hispanic or latino"
          ],
          [
           "not hispanic or latino"
          ],
          [
           "not hispanic or latino"
          ],
          [
           "not reported"
          ],
          [
           "not hispanic or latino"
          ],
          [
           "not hispanic or latino"
          ],
          [
           "not hispanic or latino"
          ],
          [
           "not hispanic or latino"
          ],
          [
           "not hispanic or latino"
          ],
          [
           "not hispanic or latino"
          ],
          [
           "not reported"
          ],
          [
           "not hispanic or latino"
          ],
          [
           "not reported"
          ],
          [
           "not reported"
          ],
          [
           "not reported"
          ],
          [
           "not hispanic or latino"
          ],
          [
           "not hispanic or latino"
          ],
          [
           "not hispanic or latino"
          ],
          [
           "not hispanic or latino"
          ],
          [
           "not hispanic or latino"
          ],
          [
           "not hispanic or latino"
          ],
          [
           "not hispanic or latino"
          ],
          [
           "not hispanic or latino"
          ],
          [
           "not hispanic or latino"
          ],
          [
           "not hispanic or latino"
          ],
          [
           "not hispanic or latino"
          ],
          [
           "not hispanic or latino"
          ],
          [
           "not hispanic or latino"
          ],
          [
           "not hispanic or latino"
          ],
          [
           "not hispanic or latino"
          ],
          [
           "not hispanic or latino"
          ],
          [
           "not hispanic or latino"
          ],
          [
           "not hispanic or latino"
          ],
          [
           "not hispanic or latino"
          ],
          [
           "not hispanic or latino"
          ],
          [
           "not hispanic or latino"
          ],
          [
           "not hispanic or latino"
          ],
          [
           "not hispanic or latino"
          ],
          [
           "not hispanic or latino"
          ],
          [
           "not hispanic or latino"
          ],
          [
           "not hispanic or latino"
          ],
          [
           "not hispanic or latino"
          ],
          [
           "not hispanic or latino"
          ],
          [
           "not hispanic or latino"
          ],
          [
           "not hispanic or latino"
          ],
          [
           "not hispanic or latino"
          ],
          [
           "not hispanic or latino"
          ],
          [
           "not hispanic or latino"
          ],
          [
           "not hispanic or latino"
          ],
          [
           "not hispanic or latino"
          ],
          [
           "not hispanic or latino"
          ],
          [
           "not hispanic or latino"
          ],
          [
           "not hispanic or latino"
          ],
          [
           "not hispanic or latino"
          ],
          [
           "not hispanic or latino"
          ],
          [
           "not reported"
          ],
          [
           "not reported"
          ],
          [
           "not hispanic or latino"
          ],
          [
           "not hispanic or latino"
          ],
          [
           "not reported"
          ],
          [
           "not hispanic or latino"
          ],
          [
           "not reported"
          ],
          [
           "not reported"
          ],
          [
           "not reported"
          ],
          [
           "not hispanic or latino"
          ],
          [
           "not hispanic or latino"
          ],
          [
           "not reported"
          ],
          [
           "not reported"
          ],
          [
           "not reported"
          ],
          [
           "not reported"
          ],
          [
           "not hispanic or latino"
          ],
          [
           "not hispanic or latino"
          ],
          [
           "not hispanic or latino"
          ],
          [
           "not reported"
          ],
          [
           "not reported"
          ],
          [
           "not hispanic or latino"
          ],
          [
           "not hispanic or latino"
          ],
          [
           "not hispanic or latino"
          ],
          [
           "not hispanic or latino"
          ],
          [
           "not hispanic or latino"
          ],
          [
           "not hispanic or latino"
          ],
          [
           "not hispanic or latino"
          ],
          [
           "not hispanic or latino"
          ],
          [
           "not hispanic or latino"
          ],
          [
           "not hispanic or latino"
          ],
          [
           "not reported"
          ],
          [
           "not hispanic or latino"
          ],
          [
           "not hispanic or latino"
          ],
          [
           "not hispanic or latino"
          ],
          [
           "not hispanic or latino"
          ],
          [
           "not reported"
          ],
          [
           "not hispanic or latino"
          ],
          [
           "not hispanic or latino"
          ],
          [
           "not hispanic or latino"
          ],
          [
           "not hispanic or latino"
          ],
          [
           "not hispanic or latino"
          ],
          [
           "not hispanic or latino"
          ],
          [
           "not hispanic or latino"
          ],
          [
           "not hispanic or latino"
          ],
          [
           "not hispanic or latino"
          ],
          [
           "not hispanic or latino"
          ],
          [
           "not hispanic or latino"
          ],
          [
           "not hispanic or latino"
          ],
          [
           "not hispanic or latino"
          ],
          [
           "not hispanic or latino"
          ],
          [
           "not reported"
          ],
          [
           "hispanic or latino"
          ],
          [
           "not hispanic or latino"
          ],
          [
           "not hispanic or latino"
          ],
          [
           "not reported"
          ],
          [
           "not reported"
          ],
          [
           "not reported"
          ],
          [
           "not reported"
          ],
          [
           "not reported"
          ],
          [
           "not reported"
          ],
          [
           "not reported"
          ],
          [
           "not reported"
          ],
          [
           "not hispanic or latino"
          ],
          [
           "not reported"
          ],
          [
           "not hispanic or latino"
          ],
          [
           "not hispanic or latino"
          ],
          [
           "not hispanic or latino"
          ],
          [
           "not hispanic or latino"
          ],
          [
           "not hispanic or latino"
          ],
          [
           "not hispanic or latino"
          ],
          [
           "not hispanic or latino"
          ],
          [
           "not hispanic or latino"
          ],
          [
           "not hispanic or latino"
          ],
          [
           "not hispanic or latino"
          ],
          [
           "not hispanic or latino"
          ],
          [
           "not hispanic or latino"
          ],
          [
           "not hispanic or latino"
          ],
          [
           "not reported"
          ],
          [
           "not hispanic or latino"
          ],
          [
           "not hispanic or latino"
          ],
          [
           "not hispanic or latino"
          ],
          [
           "not hispanic or latino"
          ],
          [
           "not reported"
          ],
          [
           "not reported"
          ],
          [
           "not reported"
          ],
          [
           "not hispanic or latino"
          ],
          [
           "not hispanic or latino"
          ],
          [
           "not reported"
          ],
          [
           "not reported"
          ],
          [
           "not reported"
          ],
          [
           "not reported"
          ],
          [
           "not reported"
          ],
          [
           "not reported"
          ],
          [
           "not reported"
          ],
          [
           "not reported"
          ],
          [
           "not reported"
          ],
          [
           "not hispanic or latino"
          ],
          [
           "not hispanic or latino"
          ],
          [
           "not reported"
          ],
          [
           "not hispanic or latino"
          ],
          [
           "not hispanic or latino"
          ],
          [
           "not reported"
          ],
          [
           "not hispanic or latino"
          ],
          [
           "not reported"
          ],
          [
           "hispanic or latino"
          ],
          [
           "not hispanic or latino"
          ],
          [
           "not hispanic or latino"
          ],
          [
           "not hispanic or latino"
          ],
          [
           "not reported"
          ],
          [
           "not reported"
          ],
          [
           "not reported"
          ],
          [
           "not hispanic or latino"
          ],
          [
           "not hispanic or latino"
          ],
          [
           "not hispanic or latino"
          ],
          [
           "not hispanic or latino"
          ],
          [
           "not hispanic or latino"
          ],
          [
           "not hispanic or latino"
          ],
          [
           "not hispanic or latino"
          ],
          [
           "not hispanic or latino"
          ],
          [
           "not hispanic or latino"
          ],
          [
           "not hispanic or latino"
          ],
          [
           "not reported"
          ],
          [
           "not hispanic or latino"
          ],
          [
           "not hispanic or latino"
          ],
          [
           "not hispanic or latino"
          ],
          [
           "not hispanic or latino"
          ],
          [
           "not hispanic or latino"
          ],
          [
           "not hispanic or latino"
          ],
          [
           "not hispanic or latino"
          ],
          [
           "not hispanic or latino"
          ],
          [
           "not hispanic or latino"
          ],
          [
           "not hispanic or latino"
          ],
          [
           "not hispanic or latino"
          ],
          [
           "not hispanic or latino"
          ],
          [
           "not reported"
          ],
          [
           "not reported"
          ],
          [
           "not reported"
          ],
          [
           "not hispanic or latino"
          ],
          [
           "not hispanic or latino"
          ],
          [
           "not hispanic or latino"
          ],
          [
           "not hispanic or latino"
          ],
          [
           "not hispanic or latino"
          ],
          [
           "not hispanic or latino"
          ],
          [
           "not hispanic or latino"
          ],
          [
           "not hispanic or latino"
          ],
          [
           "not hispanic or latino"
          ],
          [
           "not hispanic or latino"
          ],
          [
           "not hispanic or latino"
          ],
          [
           "not hispanic or latino"
          ],
          [
           "not reported"
          ],
          [
           "not hispanic or latino"
          ],
          [
           "not hispanic or latino"
          ],
          [
           "not hispanic or latino"
          ],
          [
           "not hispanic or latino"
          ],
          [
           "not hispanic or latino"
          ],
          [
           "not hispanic or latino"
          ],
          [
           "not hispanic or latino"
          ],
          [
           "not hispanic or latino"
          ],
          [
           "not hispanic or latino"
          ],
          [
           "not hispanic or latino"
          ],
          [
           "not hispanic or latino"
          ],
          [
           "not hispanic or latino"
          ],
          [
           "not hispanic or latino"
          ],
          [
           "not hispanic or latino"
          ],
          [
           "not hispanic or latino"
          ],
          [
           "not hispanic or latino"
          ],
          [
           "not hispanic or latino"
          ],
          [
           "not hispanic or latino"
          ],
          [
           "not hispanic or latino"
          ],
          [
           "not hispanic or latino"
          ],
          [
           "not hispanic or latino"
          ],
          [
           "not hispanic or latino"
          ],
          [
           "not reported"
          ],
          [
           "not hispanic or latino"
          ],
          [
           "not hispanic or latino"
          ],
          [
           "not reported"
          ],
          [
           "not reported"
          ],
          [
           "not hispanic or latino"
          ],
          [
           "not reported"
          ],
          [
           "not hispanic or latino"
          ],
          [
           "not hispanic or latino"
          ],
          [
           "not reported"
          ],
          [
           "not hispanic or latino"
          ],
          [
           "not hispanic or latino"
          ],
          [
           "not reported"
          ],
          [
           "not reported"
          ],
          [
           "not reported"
          ],
          [
           "not reported"
          ],
          [
           "not reported"
          ],
          [
           "not reported"
          ],
          [
           "not reported"
          ],
          [
           "not reported"
          ],
          [
           "not reported"
          ],
          [
           "not reported"
          ],
          [
           "not reported"
          ],
          [
           "not hispanic or latino"
          ],
          [
           "not hispanic or latino"
          ],
          [
           "not hispanic or latino"
          ],
          [
           "not hispanic or latino"
          ],
          [
           "not reported"
          ],
          [
           "not hispanic or latino"
          ],
          [
           "not hispanic or latino"
          ],
          [
           "not hispanic or latino"
          ],
          [
           "not hispanic or latino"
          ],
          [
           "not hispanic or latino"
          ],
          [
           "not hispanic or latino"
          ],
          [
           "not hispanic or latino"
          ],
          [
           "not hispanic or latino"
          ],
          [
           "not hispanic or latino"
          ],
          [
           "not hispanic or latino"
          ],
          [
           "not hispanic or latino"
          ],
          [
           "not hispanic or latino"
          ],
          [
           "not reported"
          ],
          [
           "not hispanic or latino"
          ],
          [
           "not reported"
          ],
          [
           "not hispanic or latino"
          ],
          [
           "not hispanic or latino"
          ],
          [
           "not hispanic or latino"
          ],
          [
           "not hispanic or latino"
          ],
          [
           "not hispanic or latino"
          ],
          [
           "not hispanic or latino"
          ],
          [
           "not reported"
          ],
          [
           "not hispanic or latino"
          ],
          [
           "not reported"
          ],
          [
           "not hispanic or latino"
          ],
          [
           "not hispanic or latino"
          ],
          [
           "not reported"
          ],
          [
           "not reported"
          ],
          [
           "not reported"
          ],
          [
           "not hispanic or latino"
          ],
          [
           "not reported"
          ],
          [
           "not reported"
          ],
          [
           "not hispanic or latino"
          ],
          [
           "not hispanic or latino"
          ],
          [
           "not hispanic or latino"
          ],
          [
           "not hispanic or latino"
          ],
          [
           "not hispanic or latino"
          ],
          [
           "not hispanic or latino"
          ],
          [
           "not hispanic or latino"
          ],
          [
           "not hispanic or latino"
          ],
          [
           "not hispanic or latino"
          ],
          [
           "not hispanic or latino"
          ],
          [
           "not hispanic or latino"
          ],
          [
           "not reported"
          ],
          [
           "not reported"
          ],
          [
           "not reported"
          ],
          [
           "not hispanic or latino"
          ],
          [
           "not reported"
          ],
          [
           "not reported"
          ],
          [
           "not hispanic or latino"
          ],
          [
           "not hispanic or latino"
          ],
          [
           "not reported"
          ],
          [
           "not hispanic or latino"
          ],
          [
           "not hispanic or latino"
          ],
          [
           "not hispanic or latino"
          ],
          [
           "not hispanic or latino"
          ],
          [
           "not hispanic or latino"
          ],
          [
           "not hispanic or latino"
          ],
          [
           "not hispanic or latino"
          ],
          [
           "not reported"
          ],
          [
           "not hispanic or latino"
          ],
          [
           "not hispanic or latino"
          ],
          [
           "not hispanic or latino"
          ],
          [
           "not hispanic or latino"
          ],
          [
           "not reported"
          ],
          [
           "not hispanic or latino"
          ],
          [
           "not hispanic or latino"
          ],
          [
           "not hispanic or latino"
          ],
          [
           "not hispanic or latino"
          ],
          [
           "not hispanic or latino"
          ],
          [
           "not hispanic or latino"
          ],
          [
           "not hispanic or latino"
          ],
          [
           "not hispanic or latino"
          ],
          [
           "not hispanic or latino"
          ],
          [
           "not hispanic or latino"
          ],
          [
           "not hispanic or latino"
          ],
          [
           "not reported"
          ],
          [
           "not reported"
          ],
          [
           "not hispanic or latino"
          ],
          [
           "not reported"
          ],
          [
           "not hispanic or latino"
          ],
          [
           "not hispanic or latino"
          ],
          [
           "not hispanic or latino"
          ],
          [
           "not hispanic or latino"
          ],
          [
           "not hispanic or latino"
          ],
          [
           "not hispanic or latino"
          ],
          [
           "not reported"
          ],
          [
           "not hispanic or latino"
          ],
          [
           "not hispanic or latino"
          ],
          [
           "not reported"
          ],
          [
           "not hispanic or latino"
          ],
          [
           "not reported"
          ],
          [
           "not hispanic or latino"
          ],
          [
           "not hispanic or latino"
          ],
          [
           "not hispanic or latino"
          ],
          [
           "not hispanic or latino"
          ],
          [
           "not hispanic or latino"
          ],
          [
           "not hispanic or latino"
          ],
          [
           "not hispanic or latino"
          ],
          [
           "not hispanic or latino"
          ],
          [
           "not hispanic or latino"
          ],
          [
           "not hispanic or latino"
          ],
          [
           "not reported"
          ],
          [
           "not hispanic or latino"
          ],
          [
           "not hispanic or latino"
          ],
          [
           "not hispanic or latino"
          ],
          [
           "not reported"
          ],
          [
           "not hispanic or latino"
          ],
          [
           "not hispanic or latino"
          ],
          [
           "not hispanic or latino"
          ],
          [
           "not hispanic or latino"
          ],
          [
           "not hispanic or latino"
          ],
          [
           "not hispanic or latino"
          ],
          [
           "not hispanic or latino"
          ],
          [
           "not hispanic or latino"
          ],
          [
           "not hispanic or latino"
          ],
          [
           "not hispanic or latino"
          ],
          [
           "not hispanic or latino"
          ],
          [
           "not hispanic or latino"
          ],
          [
           "not hispanic or latino"
          ],
          [
           "not hispanic or latino"
          ],
          [
           "not hispanic or latino"
          ],
          [
           "not hispanic or latino"
          ],
          [
           "not hispanic or latino"
          ],
          [
           "not hispanic or latino"
          ],
          [
           "not hispanic or latino"
          ],
          [
           "not hispanic or latino"
          ],
          [
           "not hispanic or latino"
          ],
          [
           "not hispanic or latino"
          ],
          [
           "not hispanic or latino"
          ],
          [
           "not hispanic or latino"
          ],
          [
           "not hispanic or latino"
          ],
          [
           "not hispanic or latino"
          ],
          [
           "not hispanic or latino"
          ],
          [
           "not hispanic or latino"
          ],
          [
           "not hispanic or latino"
          ],
          [
           "not hispanic or latino"
          ],
          [
           "not hispanic or latino"
          ],
          [
           "not hispanic or latino"
          ],
          [
           "not hispanic or latino"
          ],
          [
           "not hispanic or latino"
          ],
          [
           "not hispanic or latino"
          ],
          [
           "not hispanic or latino"
          ],
          [
           "not hispanic or latino"
          ],
          [
           "not reported"
          ],
          [
           "not hispanic or latino"
          ],
          [
           "not hispanic or latino"
          ],
          [
           "not hispanic or latino"
          ],
          [
           "not hispanic or latino"
          ],
          [
           "not hispanic or latino"
          ],
          [
           "not hispanic or latino"
          ],
          [
           "not hispanic or latino"
          ],
          [
           "not hispanic or latino"
          ],
          [
           "not hispanic or latino"
          ],
          [
           "not hispanic or latino"
          ],
          [
           "not hispanic or latino"
          ],
          [
           "not hispanic or latino"
          ],
          [
           "not hispanic or latino"
          ],
          [
           "not hispanic or latino"
          ],
          [
           "not hispanic or latino"
          ],
          [
           "not hispanic or latino"
          ],
          [
           "not hispanic or latino"
          ],
          [
           "not hispanic or latino"
          ],
          [
           "not hispanic or latino"
          ],
          [
           "not hispanic or latino"
          ],
          [
           "not hispanic or latino"
          ],
          [
           "not hispanic or latino"
          ],
          [
           "not hispanic or latino"
          ],
          [
           "not hispanic or latino"
          ],
          [
           "not hispanic or latino"
          ],
          [
           "not hispanic or latino"
          ],
          [
           "not hispanic or latino"
          ],
          [
           "not hispanic or latino"
          ],
          [
           "not hispanic or latino"
          ],
          [
           "not hispanic or latino"
          ],
          [
           "not hispanic or latino"
          ],
          [
           "not hispanic or latino"
          ],
          [
           "not reported"
          ],
          [
           "not hispanic or latino"
          ],
          [
           "not hispanic or latino"
          ],
          [
           "not hispanic or latino"
          ],
          [
           "not hispanic or latino"
          ],
          [
           "not hispanic or latino"
          ],
          [
           "not hispanic or latino"
          ],
          [
           "not hispanic or latino"
          ],
          [
           "not hispanic or latino"
          ],
          [
           "not hispanic or latino"
          ],
          [
           "not hispanic or latino"
          ],
          [
           "not hispanic or latino"
          ],
          [
           "not hispanic or latino"
          ],
          [
           "not hispanic or latino"
          ],
          [
           "not hispanic or latino"
          ],
          [
           "not hispanic or latino"
          ],
          [
           "not reported"
          ],
          [
           "not hispanic or latino"
          ],
          [
           "hispanic or latino"
          ],
          [
           "not hispanic or latino"
          ],
          [
           "not hispanic or latino"
          ],
          [
           "not hispanic or latino"
          ],
          [
           "not hispanic or latino"
          ],
          [
           "not hispanic or latino"
          ],
          [
           "not hispanic or latino"
          ],
          [
           "not hispanic or latino"
          ],
          [
           "not hispanic or latino"
          ],
          [
           "not reported"
          ],
          [
           "not reported"
          ],
          [
           "not hispanic or latino"
          ],
          [
           "not hispanic or latino"
          ],
          [
           "not hispanic or latino"
          ],
          [
           "not reported"
          ],
          [
           "not hispanic or latino"
          ],
          [
           "not hispanic or latino"
          ],
          [
           "not hispanic or latino"
          ],
          [
           "not hispanic or latino"
          ],
          [
           "not hispanic or latino"
          ],
          [
           "not hispanic or latino"
          ],
          [
           "not hispanic or latino"
          ],
          [
           "not hispanic or latino"
          ],
          [
           "not hispanic or latino"
          ],
          [
           "not hispanic or latino"
          ],
          [
           "not hispanic or latino"
          ],
          [
           "not hispanic or latino"
          ],
          [
           "not hispanic or latino"
          ],
          [
           "not hispanic or latino"
          ],
          [
           "not reported"
          ],
          [
           "not hispanic or latino"
          ],
          [
           "not hispanic or latino"
          ],
          [
           "not hispanic or latino"
          ],
          [
           "not hispanic or latino"
          ],
          [
           "not hispanic or latino"
          ],
          [
           "hispanic or latino"
          ],
          [
           "not hispanic or latino"
          ],
          [
           "not hispanic or latino"
          ],
          [
           "not hispanic or latino"
          ],
          [
           "not hispanic or latino"
          ],
          [
           "not reported"
          ],
          [
           "not hispanic or latino"
          ],
          [
           "not hispanic or latino"
          ],
          [
           "not hispanic or latino"
          ],
          [
           "not hispanic or latino"
          ],
          [
           "not hispanic or latino"
          ],
          [
           "not hispanic or latino"
          ],
          [
           "not hispanic or latino"
          ],
          [
           "not hispanic or latino"
          ],
          [
           "not hispanic or latino"
          ],
          [
           "not hispanic or latino"
          ],
          [
           "not hispanic or latino"
          ],
          [
           "not hispanic or latino"
          ],
          [
           "not hispanic or latino"
          ],
          [
           "not hispanic or latino"
          ],
          [
           "not hispanic or latino"
          ],
          [
           "not hispanic or latino"
          ],
          [
           "not reported"
          ],
          [
           "not reported"
          ],
          [
           "not reported"
          ],
          [
           "not reported"
          ],
          [
           "not hispanic or latino"
          ],
          [
           "not hispanic or latino"
          ],
          [
           "not hispanic or latino"
          ],
          [
           "not hispanic or latino"
          ],
          [
           "not hispanic or latino"
          ],
          [
           "not hispanic or latino"
          ],
          [
           "not hispanic or latino"
          ],
          [
           "not hispanic or latino"
          ],
          [
           "not hispanic or latino"
          ],
          [
           "not hispanic or latino"
          ],
          [
           "not hispanic or latino"
          ],
          [
           "not hispanic or latino"
          ],
          [
           "not hispanic or latino"
          ],
          [
           "not hispanic or latino"
          ],
          [
           "not hispanic or latino"
          ],
          [
           "not hispanic or latino"
          ],
          [
           "not hispanic or latino"
          ],
          [
           "not hispanic or latino"
          ],
          [
           "not hispanic or latino"
          ],
          [
           "not hispanic or latino"
          ],
          [
           "not hispanic or latino"
          ],
          [
           "not hispanic or latino"
          ],
          [
           "not hispanic or latino"
          ],
          [
           "not hispanic or latino"
          ],
          [
           "not hispanic or latino"
          ],
          [
           "not hispanic or latino"
          ],
          [
           "not reported"
          ],
          [
           "not hispanic or latino"
          ],
          [
           "not hispanic or latino"
          ],
          [
           "not hispanic or latino"
          ],
          [
           "not hispanic or latino"
          ],
          [
           "not hispanic or latino"
          ],
          [
           "not hispanic or latino"
          ],
          [
           "not hispanic or latino"
          ],
          [
           "not hispanic or latino"
          ],
          [
           "not reported"
          ],
          [
           "not hispanic or latino"
          ],
          [
           "not reported"
          ],
          [
           "not hispanic or latino"
          ],
          [
           "not reported"
          ],
          [
           "not hispanic or latino"
          ],
          [
           "not reported"
          ],
          [
           "not hispanic or latino"
          ],
          [
           "not hispanic or latino"
          ],
          [
           "not hispanic or latino"
          ],
          [
           "not hispanic or latino"
          ],
          [
           "not hispanic or latino"
          ],
          [
           "not hispanic or latino"
          ],
          [
           "not hispanic or latino"
          ],
          [
           "not hispanic or latino"
          ],
          [
           "hispanic or latino"
          ],
          [
           "not reported"
          ],
          [
           "not reported"
          ],
          [
           "not hispanic or latino"
          ],
          [
           "not hispanic or latino"
          ],
          [
           "not hispanic or latino"
          ],
          [
           "not hispanic or latino"
          ],
          [
           "not hispanic or latino"
          ],
          [
           "not hispanic or latino"
          ],
          [
           "not hispanic or latino"
          ],
          [
           "not hispanic or latino"
          ],
          [
           "not hispanic or latino"
          ],
          [
           "not reported"
          ],
          [
           "not reported"
          ],
          [
           "not hispanic or latino"
          ],
          [
           "not hispanic or latino"
          ],
          [
           "not reported"
          ],
          [
           "not hispanic or latino"
          ],
          [
           "not hispanic or latino"
          ],
          [
           "not hispanic or latino"
          ],
          [
           "not hispanic or latino"
          ],
          [
           "not hispanic or latino"
          ],
          [
           "not hispanic or latino"
          ],
          [
           "not hispanic or latino"
          ],
          [
           "not hispanic or latino"
          ],
          [
           "not hispanic or latino"
          ],
          [
           "not hispanic or latino"
          ],
          [
           "not hispanic or latino"
          ],
          [
           "not reported"
          ],
          [
           "not reported"
          ],
          [
           "not hispanic or latino"
          ],
          [
           "not hispanic or latino"
          ],
          [
           "not hispanic or latino"
          ],
          [
           "not reported"
          ],
          [
           "not hispanic or latino"
          ],
          [
           "not hispanic or latino"
          ],
          [
           "not hispanic or latino"
          ],
          [
           "not hispanic or latino"
          ],
          [
           "not hispanic or latino"
          ],
          [
           "not hispanic or latino"
          ],
          [
           "not hispanic or latino"
          ],
          [
           "not hispanic or latino"
          ],
          [
           "not reported"
          ],
          [
           "not hispanic or latino"
          ],
          [
           "not hispanic or latino"
          ],
          [
           "not hispanic or latino"
          ],
          [
           "not reported"
          ],
          [
           "not reported"
          ],
          [
           "not reported"
          ],
          [
           "not hispanic or latino"
          ],
          [
           "not hispanic or latino"
          ],
          [
           "not reported"
          ],
          [
           "not hispanic or latino"
          ],
          [
           "not hispanic or latino"
          ],
          [
           "not hispanic or latino"
          ],
          [
           "not hispanic or latino"
          ],
          [
           "not hispanic or latino"
          ],
          [
           "not hispanic or latino"
          ],
          [
           "not hispanic or latino"
          ],
          [
           "not hispanic or latino"
          ],
          [
           "not hispanic or latino"
          ],
          [
           "not reported"
          ],
          [
           "not hispanic or latino"
          ],
          [
           "not reported"
          ],
          [
           "not hispanic or latino"
          ],
          [
           "not hispanic or latino"
          ],
          [
           "not reported"
          ],
          [
           "not reported"
          ],
          [
           "not hispanic or latino"
          ],
          [
           "not hispanic or latino"
          ],
          [
           "not reported"
          ],
          [
           "not hispanic or latino"
          ],
          [
           "not hispanic or latino"
          ],
          [
           "not reported"
          ],
          [
           "not hispanic or latino"
          ],
          [
           "not hispanic or latino"
          ],
          [
           "not hispanic or latino"
          ],
          [
           "not hispanic or latino"
          ],
          [
           "not hispanic or latino"
          ],
          [
           "not hispanic or latino"
          ],
          [
           "not hispanic or latino"
          ],
          [
           "not hispanic or latino"
          ],
          [
           "not hispanic or latino"
          ],
          [
           "not hispanic or latino"
          ],
          [
           "not hispanic or latino"
          ],
          [
           "not hispanic or latino"
          ],
          [
           "not hispanic or latino"
          ],
          [
           "not hispanic or latino"
          ],
          [
           "not hispanic or latino"
          ],
          [
           "not hispanic or latino"
          ],
          [
           "not hispanic or latino"
          ],
          [
           "not hispanic or latino"
          ],
          [
           "not hispanic or latino"
          ],
          [
           "not hispanic or latino"
          ],
          [
           "not hispanic or latino"
          ],
          [
           "not hispanic or latino"
          ],
          [
           "not hispanic or latino"
          ],
          [
           "not hispanic or latino"
          ],
          [
           "not hispanic or latino"
          ],
          [
           "not hispanic or latino"
          ],
          [
           "not hispanic or latino"
          ],
          [
           "not hispanic or latino"
          ],
          [
           "not hispanic or latino"
          ],
          [
           "not hispanic or latino"
          ],
          [
           "not hispanic or latino"
          ],
          [
           "not hispanic or latino"
          ],
          [
           "not hispanic or latino"
          ],
          [
           "not hispanic or latino"
          ],
          [
           "not hispanic or latino"
          ],
          [
           "not hispanic or latino"
          ],
          [
           "not hispanic or latino"
          ],
          [
           "not hispanic or latino"
          ],
          [
           "not hispanic or latino"
          ],
          [
           "not hispanic or latino"
          ],
          [
           "not hispanic or latino"
          ],
          [
           "not hispanic or latino"
          ],
          [
           "not hispanic or latino"
          ],
          [
           "not hispanic or latino"
          ],
          [
           "not hispanic or latino"
          ],
          [
           "not hispanic or latino"
          ],
          [
           "not hispanic or latino"
          ],
          [
           "not hispanic or latino"
          ],
          [
           "not hispanic or latino"
          ],
          [
           "not hispanic or latino"
          ],
          [
           "not hispanic or latino"
          ],
          [
           "not hispanic or latino"
          ],
          [
           "not hispanic or latino"
          ],
          [
           "not hispanic or latino"
          ],
          [
           "not hispanic or latino"
          ],
          [
           "not hispanic or latino"
          ],
          [
           "not hispanic or latino"
          ],
          [
           "not hispanic or latino"
          ],
          [
           "not hispanic or latino"
          ],
          [
           "not hispanic or latino"
          ],
          [
           "not hispanic or latino"
          ],
          [
           "not hispanic or latino"
          ],
          [
           "not hispanic or latino"
          ],
          [
           "not hispanic or latino"
          ],
          [
           "not hispanic or latino"
          ],
          [
           "not hispanic or latino"
          ],
          [
           "not hispanic or latino"
          ],
          [
           "not hispanic or latino"
          ],
          [
           "not hispanic or latino"
          ],
          [
           "not hispanic or latino"
          ],
          [
           "hispanic or latino"
          ],
          [
           "not hispanic or latino"
          ],
          [
           "not hispanic or latino"
          ],
          [
           "not hispanic or latino"
          ],
          [
           "not hispanic or latino"
          ],
          [
           "not hispanic or latino"
          ],
          [
           "not hispanic or latino"
          ],
          [
           "not hispanic or latino"
          ],
          [
           "not hispanic or latino"
          ],
          [
           "not hispanic or latino"
          ],
          [
           "not reported"
          ],
          [
           "not hispanic or latino"
          ],
          [
           "not reported"
          ],
          [
           "not hispanic or latino"
          ],
          [
           "not reported"
          ],
          [
           "not hispanic or latino"
          ],
          [
           "not hispanic or latino"
          ],
          [
           "not hispanic or latino"
          ],
          [
           "hispanic or latino"
          ],
          [
           "not hispanic or latino"
          ],
          [
           "not hispanic or latino"
          ],
          [
           "not hispanic or latino"
          ],
          [
           "not hispanic or latino"
          ],
          [
           "not hispanic or latino"
          ],
          [
           "not hispanic or latino"
          ],
          [
           "not hispanic or latino"
          ],
          [
           "not hispanic or latino"
          ],
          [
           "not hispanic or latino"
          ],
          [
           "not reported"
          ],
          [
           "not reported"
          ],
          [
           "not hispanic or latino"
          ],
          [
           "not hispanic or latino"
          ],
          [
           "not hispanic or latino"
          ],
          [
           "not reported"
          ],
          [
           "not reported"
          ],
          [
           "not hispanic or latino"
          ],
          [
           "not reported"
          ],
          [
           "not hispanic or latino"
          ],
          [
           "not reported"
          ],
          [
           "not hispanic or latino"
          ],
          [
           "not reported"
          ],
          [
           "not hispanic or latino"
          ],
          [
           "not hispanic or latino"
          ],
          [
           "not hispanic or latino"
          ],
          [
           "not hispanic or latino"
          ],
          [
           "not hispanic or latino"
          ],
          [
           "not hispanic or latino"
          ],
          [
           "not hispanic or latino"
          ],
          [
           "not hispanic or latino"
          ],
          [
           "not hispanic or latino"
          ],
          [
           "not hispanic or latino"
          ],
          [
           "not hispanic or latino"
          ],
          [
           "not hispanic or latino"
          ],
          [
           "not hispanic or latino"
          ],
          [
           "not hispanic or latino"
          ],
          [
           "not hispanic or latino"
          ],
          [
           "not hispanic or latino"
          ],
          [
           "not hispanic or latino"
          ],
          [
           "not hispanic or latino"
          ],
          [
           "not reported"
          ],
          [
           "not reported"
          ],
          [
           "not hispanic or latino"
          ],
          [
           "not reported"
          ],
          [
           "not hispanic or latino"
          ],
          [
           "not reported"
          ],
          [
           "not hispanic or latino"
          ],
          [
           "not hispanic or latino"
          ],
          [
           "not reported"
          ],
          [
           "not reported"
          ],
          [
           "not hispanic or latino"
          ],
          [
           "not reported"
          ],
          [
           "not reported"
          ],
          [
           "not hispanic or latino"
          ],
          [
           "not hispanic or latino"
          ],
          [
           "not hispanic or latino"
          ],
          [
           "hispanic or latino"
          ],
          [
           "not hispanic or latino"
          ],
          [
           "not hispanic or latino"
          ],
          [
           "not hispanic or latino"
          ],
          [
           "not reported"
          ],
          [
           "not hispanic or latino"
          ],
          [
           "not hispanic or latino"
          ],
          [
           "not hispanic or latino"
          ],
          [
           "not hispanic or latino"
          ],
          [
           "not hispanic or latino"
          ],
          [
           "not hispanic or latino"
          ],
          [
           "not hispanic or latino"
          ],
          [
           "not hispanic or latino"
          ],
          [
           "not reported"
          ],
          [
           "not hispanic or latino"
          ],
          [
           "not reported"
          ],
          [
           "not reported"
          ],
          [
           "not reported"
          ],
          [
           "not hispanic or latino"
          ],
          [
           "not hispanic or latino"
          ],
          [
           "not hispanic or latino"
          ],
          [
           "not hispanic or latino"
          ],
          [
           "not hispanic or latino"
          ],
          [
           "not hispanic or latino"
          ],
          [
           "not hispanic or latino"
          ],
          [
           "not hispanic or latino"
          ],
          [
           "not hispanic or latino"
          ],
          [
           "not reported"
          ],
          [
           "not hispanic or latino"
          ],
          [
           "not hispanic or latino"
          ],
          [
           "hispanic or latino"
          ],
          [
           "not hispanic or latino"
          ],
          [
           "not hispanic or latino"
          ],
          [
           "not hispanic or latino"
          ],
          [
           "not hispanic or latino"
          ],
          [
           "not hispanic or latino"
          ],
          [
           "not hispanic or latino"
          ],
          [
           "not hispanic or latino"
          ],
          [
           "not hispanic or latino"
          ],
          [
           "not hispanic or latino"
          ],
          [
           "not hispanic or latino"
          ],
          [
           "not hispanic or latino"
          ],
          [
           "not hispanic or latino"
          ],
          [
           "not hispanic or latino"
          ],
          [
           "not hispanic or latino"
          ],
          [
           "not hispanic or latino"
          ],
          [
           "not hispanic or latino"
          ],
          [
           "not hispanic or latino"
          ],
          [
           "not hispanic or latino"
          ],
          [
           "not hispanic or latino"
          ],
          [
           "not hispanic or latino"
          ],
          [
           "not reported"
          ],
          [
           "not reported"
          ],
          [
           "not hispanic or latino"
          ],
          [
           "not hispanic or latino"
          ],
          [
           "not hispanic or latino"
          ],
          [
           "not hispanic or latino"
          ],
          [
           "not hispanic or latino"
          ],
          [
           "not hispanic or latino"
          ],
          [
           "not reported"
          ],
          [
           "not hispanic or latino"
          ],
          [
           "not hispanic or latino"
          ],
          [
           "not hispanic or latino"
          ],
          [
           "not hispanic or latino"
          ],
          [
           "not hispanic or latino"
          ],
          [
           "not hispanic or latino"
          ],
          [
           "not hispanic or latino"
          ],
          [
           "not hispanic or latino"
          ],
          [
           "not hispanic or latino"
          ],
          [
           "not hispanic or latino"
          ],
          [
           "not hispanic or latino"
          ],
          [
           "not hispanic or latino"
          ],
          [
           "not hispanic or latino"
          ],
          [
           "not hispanic or latino"
          ],
          [
           "not hispanic or latino"
          ],
          [
           "not hispanic or latino"
          ],
          [
           "not hispanic or latino"
          ],
          [
           "not hispanic or latino"
          ],
          [
           "not reported"
          ],
          [
           "not reported"
          ],
          [
           "not hispanic or latino"
          ],
          [
           "not hispanic or latino"
          ],
          [
           "not hispanic or latino"
          ],
          [
           "not reported"
          ],
          [
           "not reported"
          ],
          [
           "not reported"
          ],
          [
           "not hispanic or latino"
          ],
          [
           "not hispanic or latino"
          ],
          [
           "not hispanic or latino"
          ],
          [
           "not hispanic or latino"
          ],
          [
           "not hispanic or latino"
          ],
          [
           "not hispanic or latino"
          ],
          [
           "not hispanic or latino"
          ],
          [
           "not hispanic or latino"
          ],
          [
           "not hispanic or latino"
          ],
          [
           "not hispanic or latino"
          ],
          [
           "not hispanic or latino"
          ],
          [
           "not hispanic or latino"
          ],
          [
           "not hispanic or latino"
          ],
          [
           "not hispanic or latino"
          ],
          [
           "not hispanic or latino"
          ],
          [
           "not hispanic or latino"
          ],
          [
           "not hispanic or latino"
          ],
          [
           "not hispanic or latino"
          ],
          [
           "not hispanic or latino"
          ],
          [
           "not hispanic or latino"
          ],
          [
           "not hispanic or latino"
          ],
          [
           "not hispanic or latino"
          ],
          [
           "not hispanic or latino"
          ],
          [
           "not hispanic or latino"
          ],
          [
           "not hispanic or latino"
          ],
          [
           "not hispanic or latino"
          ],
          [
           "not hispanic or latino"
          ],
          [
           "not hispanic or latino"
          ],
          [
           "not hispanic or latino"
          ],
          [
           "not hispanic or latino"
          ],
          [
           "not hispanic or latino"
          ],
          [
           "not hispanic or latino"
          ],
          [
           "not hispanic or latino"
          ],
          [
           "not hispanic or latino"
          ],
          [
           "not hispanic or latino"
          ],
          [
           "not hispanic or latino"
          ],
          [
           "not hispanic or latino"
          ],
          [
           "not hispanic or latino"
          ],
          [
           "not hispanic or latino"
          ],
          [
           "not reported"
          ],
          [
           "not hispanic or latino"
          ],
          [
           "not hispanic or latino"
          ],
          [
           "not hispanic or latino"
          ],
          [
           "not hispanic or latino"
          ],
          [
           "not reported"
          ],
          [
           "not hispanic or latino"
          ],
          [
           "not hispanic or latino"
          ],
          [
           "not hispanic or latino"
          ],
          [
           "not hispanic or latino"
          ]
         ],
         "hovertemplate": "<b>%{hovertext}</b><br><br>gender=male<br>PCA-0=%{x}<br>PCA-1=%{y}<br>n_reads=%{marker.size}<br>ethnicity=%{customdata[0]}<extra></extra>",
         "hovertext": [
          "male",
          "male",
          "male",
          "male",
          "male",
          "male",
          "male",
          "male",
          "male",
          "male",
          "male",
          "male",
          "male",
          "male",
          "male",
          "male",
          "male",
          "male",
          "male",
          "male",
          "male",
          "male",
          "male",
          "male",
          "male",
          "male",
          "male",
          "male",
          "male",
          "male",
          "male",
          "male",
          "male",
          "male",
          "male",
          "male",
          "male",
          "male",
          "male",
          "male",
          "male",
          "male",
          "male",
          "male",
          "male",
          "male",
          "male",
          "male",
          "male",
          "male",
          "male",
          "male",
          "male",
          "male",
          "male",
          "male",
          "male",
          "male",
          "male",
          "male",
          "male",
          "male",
          "male",
          "male",
          "male",
          "male",
          "male",
          "male",
          "male",
          "male",
          "male",
          "male",
          "male",
          "male",
          "male",
          "male",
          "male",
          "male",
          "male",
          "male",
          "male",
          "male",
          "male",
          "male",
          "male",
          "male",
          "male",
          "male",
          "male",
          "male",
          "male",
          "male",
          "male",
          "male",
          "male",
          "male",
          "male",
          "male",
          "male",
          "male",
          "male",
          "male",
          "male",
          "male",
          "male",
          "male",
          "male",
          "male",
          "male",
          "male",
          "male",
          "male",
          "male",
          "male",
          "male",
          "male",
          "male",
          "male",
          "male",
          "male",
          "male",
          "male",
          "male",
          "male",
          "male",
          "male",
          "male",
          "male",
          "male",
          "male",
          "male",
          "male",
          "male",
          "male",
          "male",
          "male",
          "male",
          "male",
          "male",
          "male",
          "male",
          "male",
          "male",
          "male",
          "male",
          "male",
          "male",
          "male",
          "male",
          "male",
          "male",
          "male",
          "male",
          "male",
          "male",
          "male",
          "male",
          "male",
          "male",
          "male",
          "male",
          "male",
          "male",
          "male",
          "male",
          "male",
          "male",
          "male",
          "male",
          "male",
          "male",
          "male",
          "male",
          "male",
          "male",
          "male",
          "male",
          "male",
          "male",
          "male",
          "male",
          "male",
          "male",
          "male",
          "male",
          "male",
          "male",
          "male",
          "male",
          "male",
          "male",
          "male",
          "male",
          "male",
          "male",
          "male",
          "male",
          "male",
          "male",
          "male",
          "male",
          "male",
          "male",
          "male",
          "male",
          "male",
          "male",
          "male",
          "male",
          "male",
          "male",
          "male",
          "male",
          "male",
          "male",
          "male",
          "male",
          "male",
          "male",
          "male",
          "male",
          "male",
          "male",
          "male",
          "male",
          "male",
          "male",
          "male",
          "male",
          "male",
          "male",
          "male",
          "male",
          "male",
          "male",
          "male",
          "male",
          "male",
          "male",
          "male",
          "male",
          "male",
          "male",
          "male",
          "male",
          "male",
          "male",
          "male",
          "male",
          "male",
          "male",
          "male",
          "male",
          "male",
          "male",
          "male",
          "male",
          "male",
          "male",
          "male",
          "male",
          "male",
          "male",
          "male",
          "male",
          "male",
          "male",
          "male",
          "male",
          "male",
          "male",
          "male",
          "male",
          "male",
          "male",
          "male",
          "male",
          "male",
          "male",
          "male",
          "male",
          "male",
          "male",
          "male",
          "male",
          "male",
          "male",
          "male",
          "male",
          "male",
          "male",
          "male",
          "male",
          "male",
          "male",
          "male",
          "male",
          "male",
          "male",
          "male",
          "male",
          "male",
          "male",
          "male",
          "male",
          "male",
          "male",
          "male",
          "male",
          "male",
          "male",
          "male",
          "male",
          "male",
          "male",
          "male",
          "male",
          "male",
          "male",
          "male",
          "male",
          "male",
          "male",
          "male",
          "male",
          "male",
          "male",
          "male",
          "male",
          "male",
          "male",
          "male",
          "male",
          "male",
          "male",
          "male",
          "male",
          "male",
          "male",
          "male",
          "male",
          "male",
          "male",
          "male",
          "male",
          "male",
          "male",
          "male",
          "male",
          "male",
          "male",
          "male",
          "male",
          "male",
          "male",
          "male",
          "male",
          "male",
          "male",
          "male",
          "male",
          "male",
          "male",
          "male",
          "male",
          "male",
          "male",
          "male",
          "male",
          "male",
          "male",
          "male",
          "male",
          "male",
          "male",
          "male",
          "male",
          "male",
          "male",
          "male",
          "male",
          "male",
          "male",
          "male",
          "male",
          "male",
          "male",
          "male",
          "male",
          "male",
          "male",
          "male",
          "male",
          "male",
          "male",
          "male",
          "male",
          "male",
          "male",
          "male",
          "male",
          "male",
          "male",
          "male",
          "male",
          "male",
          "male",
          "male",
          "male",
          "male",
          "male",
          "male",
          "male",
          "male",
          "male",
          "male",
          "male",
          "male",
          "male",
          "male",
          "male",
          "male",
          "male",
          "male",
          "male",
          "male",
          "male",
          "male",
          "male",
          "male",
          "male",
          "male",
          "male",
          "male",
          "male",
          "male",
          "male",
          "male",
          "male",
          "male",
          "male",
          "male",
          "male",
          "male",
          "male",
          "male",
          "male",
          "male",
          "male",
          "male",
          "male",
          "male",
          "male",
          "male",
          "male",
          "male",
          "male",
          "male",
          "male",
          "male",
          "male",
          "male",
          "male",
          "male",
          "male",
          "male",
          "male",
          "male",
          "male",
          "male",
          "male",
          "male",
          "male",
          "male",
          "male",
          "male",
          "male",
          "male",
          "male",
          "male",
          "male",
          "male",
          "male",
          "male",
          "male",
          "male",
          "male",
          "male",
          "male",
          "male",
          "male",
          "male",
          "male",
          "male",
          "male",
          "male",
          "male",
          "male",
          "male",
          "male",
          "male",
          "male",
          "male",
          "male",
          "male",
          "male",
          "male",
          "male",
          "male",
          "male",
          "male",
          "male",
          "male",
          "male",
          "male",
          "male",
          "male",
          "male",
          "male",
          "male",
          "male",
          "male",
          "male",
          "male",
          "male",
          "male",
          "male",
          "male",
          "male",
          "male",
          "male",
          "male",
          "male",
          "male",
          "male",
          "male",
          "male",
          "male",
          "male",
          "male",
          "male",
          "male",
          "male",
          "male",
          "male",
          "male",
          "male",
          "male",
          "male",
          "male",
          "male",
          "male",
          "male",
          "male",
          "male",
          "male",
          "male",
          "male",
          "male",
          "male",
          "male",
          "male",
          "male",
          "male",
          "male",
          "male",
          "male",
          "male",
          "male",
          "male",
          "male",
          "male",
          "male",
          "male",
          "male",
          "male",
          "male",
          "male",
          "male",
          "male",
          "male",
          "male",
          "male",
          "male",
          "male",
          "male",
          "male",
          "male",
          "male",
          "male",
          "male",
          "male",
          "male",
          "male",
          "male",
          "male",
          "male",
          "male",
          "male",
          "male",
          "male",
          "male",
          "male",
          "male",
          "male",
          "male",
          "male",
          "male",
          "male",
          "male",
          "male",
          "male",
          "male",
          "male",
          "male",
          "male",
          "male",
          "male",
          "male",
          "male",
          "male",
          "male",
          "male",
          "male",
          "male",
          "male",
          "male",
          "male",
          "male",
          "male",
          "male",
          "male",
          "male",
          "male",
          "male",
          "male",
          "male",
          "male",
          "male",
          "male",
          "male",
          "male",
          "male",
          "male",
          "male",
          "male",
          "male",
          "male",
          "male",
          "male",
          "male",
          "male",
          "male",
          "male",
          "male",
          "male",
          "male",
          "male",
          "male",
          "male",
          "male",
          "male",
          "male",
          "male",
          "male",
          "male",
          "male",
          "male",
          "male",
          "male",
          "male",
          "male",
          "male",
          "male",
          "male",
          "male",
          "male",
          "male",
          "male",
          "male",
          "male",
          "male",
          "male",
          "male",
          "male",
          "male",
          "male",
          "male",
          "male",
          "male",
          "male",
          "male",
          "male",
          "male",
          "male",
          "male",
          "male",
          "male",
          "male",
          "male",
          "male",
          "male",
          "male",
          "male",
          "male",
          "male",
          "male",
          "male",
          "male",
          "male",
          "male",
          "male",
          "male",
          "male",
          "male",
          "male",
          "male",
          "male",
          "male",
          "male",
          "male",
          "male",
          "male",
          "male",
          "male",
          "male",
          "male",
          "male",
          "male",
          "male",
          "male",
          "male",
          "male",
          "male",
          "male",
          "male",
          "male",
          "male",
          "male",
          "male",
          "male",
          "male",
          "male",
          "male",
          "male",
          "male",
          "male",
          "male",
          "male",
          "male",
          "male",
          "male",
          "male",
          "male",
          "male",
          "male",
          "male",
          "male",
          "male",
          "male",
          "male",
          "male",
          "male",
          "male",
          "male",
          "male",
          "male",
          "male",
          "male",
          "male",
          "male",
          "male",
          "male",
          "male",
          "male",
          "male",
          "male",
          "male",
          "male",
          "male",
          "male",
          "male",
          "male",
          "male",
          "male",
          "male",
          "male",
          "male",
          "male",
          "male",
          "male",
          "male",
          "male",
          "male",
          "male",
          "male",
          "male",
          "male",
          "male",
          "male",
          "male",
          "male",
          "male",
          "male",
          "male",
          "male",
          "male",
          "male",
          "male",
          "male",
          "male",
          "male",
          "male",
          "male",
          "male",
          "male",
          "male",
          "male",
          "male",
          "male",
          "male",
          "male",
          "male",
          "male",
          "male",
          "male",
          "male",
          "male",
          "male",
          "male",
          "male",
          "male",
          "male",
          "male",
          "male",
          "male",
          "male",
          "male",
          "male",
          "male",
          "male",
          "male",
          "male",
          "male",
          "male",
          "male",
          "male",
          "male",
          "male",
          "male",
          "male",
          "male",
          "male",
          "male",
          "male",
          "male",
          "male",
          "male",
          "male",
          "male",
          "male",
          "male",
          "male",
          "male",
          "male",
          "male",
          "male",
          "male",
          "male",
          "male",
          "male",
          "male",
          "male",
          "male",
          "male",
          "male",
          "male",
          "male",
          "male",
          "male",
          "male",
          "male",
          "male",
          "male",
          "male",
          "male",
          "male",
          "male",
          "male",
          "male",
          "male",
          "male",
          "male",
          "male",
          "male",
          "male",
          "male",
          "male",
          "male",
          "male",
          "male",
          "male",
          "male",
          "male",
          "male",
          "male",
          "male",
          "male",
          "male",
          "male",
          "male",
          "male",
          "male",
          "male",
          "male",
          "male",
          "male",
          "male",
          "male",
          "male",
          "male",
          "male",
          "male",
          "male",
          "male",
          "male",
          "male",
          "male",
          "male",
          "male",
          "male",
          "male",
          "male",
          "male",
          "male",
          "male",
          "male",
          "male",
          "male",
          "male",
          "male",
          "male",
          "male",
          "male",
          "male",
          "male",
          "male",
          "male",
          "male",
          "male",
          "male",
          "male",
          "male",
          "male",
          "male",
          "male",
          "male",
          "male",
          "male",
          "male",
          "male",
          "male",
          "male",
          "male",
          "male",
          "male",
          "male",
          "male",
          "male",
          "male",
          "male",
          "male",
          "male",
          "male",
          "male",
          "male",
          "male",
          "male",
          "male",
          "male",
          "male",
          "male",
          "male",
          "male",
          "male",
          "male",
          "male",
          "male",
          "male",
          "male",
          "male",
          "male",
          "male",
          "male",
          "male",
          "male",
          "male",
          "male",
          "male",
          "male",
          "male",
          "male",
          "male",
          "male",
          "male",
          "male",
          "male",
          "male",
          "male",
          "male",
          "male",
          "male",
          "male",
          "male",
          "male",
          "male",
          "male",
          "male",
          "male",
          "male",
          "male",
          "male",
          "male",
          "male",
          "male",
          "male",
          "male",
          "male",
          "male",
          "male",
          "male",
          "male",
          "male",
          "male",
          "male",
          "male",
          "male",
          "male",
          "male",
          "male",
          "male",
          "male",
          "male",
          "male",
          "male",
          "male",
          "male",
          "male",
          "male",
          "male",
          "male",
          "male",
          "male",
          "male",
          "male",
          "male",
          "male",
          "male",
          "male",
          "male",
          "male",
          "male",
          "male",
          "male",
          "male",
          "male",
          "male",
          "male",
          "male",
          "male",
          "male",
          "male",
          "male",
          "male",
          "male",
          "male",
          "male",
          "male",
          "male",
          "male",
          "male",
          "male",
          "male",
          "male",
          "male",
          "male",
          "male",
          "male",
          "male",
          "male",
          "male",
          "male",
          "male",
          "male",
          "male",
          "male",
          "male",
          "male",
          "male",
          "male",
          "male",
          "male",
          "male",
          "male",
          "male",
          "male",
          "male",
          "male",
          "male",
          "male",
          "male",
          "male",
          "male",
          "male",
          "male",
          "male",
          "male",
          "male",
          "male",
          "male",
          "male",
          "male",
          "male",
          "male",
          "male",
          "male",
          "male",
          "male",
          "male",
          "male",
          "male"
         ],
         "legendgroup": "male",
         "marker": {
          "color": "#636efa",
          "size": [
           17263,
           16954,
           16977,
           16930,
           16788,
           17247,
           17247,
           17247,
           17247,
           17247,
           17247,
           17247,
           17247,
           17056,
           16278,
           16879,
           16973,
           17794,
           16714,
           17069,
           16913,
           17445,
           17276,
           17076,
           16916,
           17025,
           17709,
           16969,
           16969,
           16969,
           16969,
           16969,
           16969,
           16969,
           16969,
           16954,
           16245,
           16643,
           16635,
           16659,
           16610,
           16283,
           17048,
           17376,
           17084,
           17035,
           16833,
           16847,
           17218,
           17018,
           17320,
           16632,
           16778,
           16989,
           17368,
           16642,
           16814,
           16944,
           16712,
           17245,
           17245,
           16504,
           17334,
           17089,
           16768,
           16877,
           16943,
           17157,
           16511,
           17618,
           17621,
           17054,
           16509,
           17166,
           16980,
           17457,
           17454,
           17454,
           17454,
           17454,
           17454,
           17454,
           17454,
           17454,
           17128,
           16519,
           17554,
           16970,
           17373,
           17344,
           16709,
           17226,
           16969,
           17353,
           17460,
           16917,
           17209,
           17101,
           16956,
           16844,
           17629,
           16833,
           17067,
           17325,
           16346,
           17210,
           16289,
           17044,
           17272,
           17272,
           17272,
           17272,
           17272,
           17272,
           17272,
           17272,
           16847,
           17165,
           17075,
           17323,
           17323,
           17323,
           17323,
           17323,
           17323,
           17323,
           17323,
           17052,
           17390,
           17500,
           17233,
           16800,
           16768,
           17180,
           17071,
           17235,
           17123,
           17308,
           17275,
           17300,
           16692,
           17106,
           17129,
           17147,
           17089,
           16852,
           16049,
           17277,
           17277,
           17277,
           17277,
           17277,
           17277,
           17277,
           17277,
           16835,
           17231,
           17108,
           16440,
           17379,
           17587,
           17100,
           17151,
           17071,
           17064,
           17073,
           17073,
           17073,
           17073,
           17073,
           17073,
           17073,
           17073,
           16791,
           17349,
           17349,
           17349,
           17349,
           17349,
           17349,
           17349,
           17349,
           17007,
           17382,
           16383,
           17144,
           16471,
           16924,
           16491,
           16924,
           17311,
           17299,
           17077,
           17242,
           16555,
           17429,
           17380,
           16827,
           17263,
           17355,
           16701,
           16911,
           17001,
           17181,
           17216,
           17339,
           16880,
           17455,
           17450,
           18663,
           18663,
           18663,
           18663,
           18663,
           18663,
           18663,
           18663,
           17107,
           16708,
           17042,
           17106,
           16978,
           17327,
           16713,
           17793,
           17073,
           17352,
           17207,
           16652,
           16366,
           17643,
           17021,
           16834,
           17090,
           17197,
           17197,
           17197,
           17197,
           17197,
           17197,
           17197,
           17197,
           17120,
           17120,
           17120,
           17120,
           17120,
           17120,
           17120,
           17120,
           17120,
           17120,
           17120,
           17120,
           17120,
           17120,
           17120,
           17120,
           17120,
           17120,
           17120,
           17120,
           17120,
           17120,
           17120,
           17120,
           17120,
           17120,
           17120,
           17069,
           17313,
           16860,
           17248,
           17267,
           17002,
           16216,
           16645,
           16711,
           16922,
           16809,
           16665,
           17693,
           17036,
           17283,
           17644,
           17248,
           17228,
           17137,
           16621,
           17228,
           17974,
           17489,
           16919,
           17376,
           17376,
           17376,
           17376,
           17376,
           17376,
           17376,
           17376,
           16838,
           17407,
           17274,
           16471,
           17371,
           17108,
           16652,
           17051,
           17250,
           17405,
           18195,
           17137,
           17137,
           17137,
           17137,
           17137,
           17137,
           17137,
           17137,
           17325,
           15925,
           17135,
           17121,
           17200,
           17661,
           17661,
           17661,
           17661,
           17661,
           17661,
           17661,
           17661,
           16582,
           17134,
           17218,
           16618,
           16486,
           16633,
           16948,
           16958,
           15831,
           16927,
           16733,
           16609,
           16746,
           17274,
           17034,
           16792,
           17981,
           17487,
           16884,
           17090,
           16660,
           17431,
           16256,
           17021,
           16477,
           17391,
           17391,
           17391,
           17391,
           17391,
           17391,
           17391,
           17391,
           16812,
           17239,
           17216,
           17123,
           17027,
           17078,
           17555,
           17261,
           17339,
           17705,
           16830,
           17300,
           16922,
           17499,
           16767,
           16531,
           17150,
           17429,
           17108,
           17108,
           17108,
           17108,
           17108,
           17108,
           17108,
           17108,
           17730,
           17875,
           17875,
           17875,
           17875,
           17875,
           17875,
           17875,
           17875,
           17369,
           16917,
           17042,
           17034,
           17515,
           17520,
           17508,
           17810,
           17810,
           17810,
           17810,
           17810,
           17810,
           17810,
           17810,
           16424,
           16668,
           16912,
           16990,
           17515,
           16938,
           17117,
           17117,
           17117,
           17117,
           17117,
           17117,
           17117,
           17117,
           17150,
           17128,
           16808,
           17506,
           17506,
           17506,
           17506,
           17506,
           17506,
           17506,
           17506,
           16836,
           17263,
           17281,
           16624,
           16785,
           16369,
           17951,
           16728,
           17402,
           17649,
           17263,
           17161,
           17102,
           17127,
           17338,
           17015,
           17108,
           17108,
           17108,
           17108,
           17108,
           17108,
           17108,
           17108,
           16704,
           17244,
           16890,
           17131,
           16946,
           16848,
           17213,
           17026,
           17067,
           17067,
           17067,
           17067,
           17067,
           17067,
           17067,
           17067,
           17480,
           16994,
           16875,
           16843,
           16709,
           16989,
           17035,
           16680,
           18586,
           17044,
           17568,
           16096,
           16862,
           17308,
           17225,
           17007,
           17068,
           17747,
           16916,
           16997,
           17015,
           15911,
           16831,
           17026,
           17189,
           17406,
           17406,
           17406,
           17406,
           17406,
           17406,
           17406,
           17406,
           16951,
           17541,
           16194,
           16756,
           17944,
           16131,
           17266,
           16812,
           16537,
           17451,
           16843,
           17152,
           17054,
           17146,
           16973,
           17034,
           16268,
           17174,
           16597,
           17172,
           16859,
           17044,
           17032,
           17032,
           17032,
           17032,
           17032,
           17032,
           17032,
           17032,
           16665,
           16997,
           17082,
           17178,
           16845,
           17073,
           16643,
           17261,
           17159,
           17560,
           17984,
           17574,
           17390,
           16281,
           17261,
           16511,
           16922,
           16952,
           17850,
           16793,
           16722,
           17322,
           17417,
           17128,
           16070,
           17214,
           17179,
           17075,
           17310,
           16035,
           17085,
           17216,
           17113,
           17093,
           16856,
           17113,
           17113,
           17113,
           17113,
           17113,
           17113,
           17113,
           17113,
           17147,
           17037,
           17037,
           17037,
           17037,
           17037,
           17037,
           17037,
           17037,
           16947,
           16947,
           16947,
           16947,
           16947,
           16947,
           16947,
           16947,
           17344,
           17037,
           16518,
           17449,
           17449,
           17449,
           17449,
           17449,
           17449,
           17449,
           17449,
           16933,
           16655,
           16655,
           16655,
           16655,
           16655,
           16655,
           16655,
           16655,
           16655,
           16655,
           16655,
           16655,
           16655,
           16655,
           16655,
           16655,
           16655,
           16655,
           16655,
           16655,
           16655,
           16655,
           16655,
           16655,
           16655,
           16655,
           16655,
           17268,
           17150,
           16873,
           16904,
           17422,
           17399,
           16984,
           17192,
           17035,
           17230,
           17758,
           16317,
           16317,
           16317,
           16317,
           16317,
           16317,
           16317,
           16317,
           17381,
           16933,
           17590,
           16517,
           16953,
           17168,
           17168,
           17168,
           17168,
           17168,
           17168,
           17168,
           17168,
           17063,
           16784,
           16945,
           17691,
           17177,
           17119,
           16832,
           17846,
           16950,
           16477,
           17301,
           17287,
           16980,
           16980,
           16980,
           16980,
           16980,
           16980,
           16980,
           16980,
           17191,
           17063,
           16783,
           17645,
           17464,
           17539,
           16518,
           17350,
           17029,
           18577,
           17208,
           16987,
           17299,
           17148,
           17148,
           17148,
           17148,
           17148,
           17148,
           17148,
           17148,
           17148,
           17070,
           16844,
           17076,
           17122,
           16998,
           17442,
           17247,
           17421,
           18242,
           17238,
           17025,
           17120,
           17006,
           17016,
           17131,
           16667,
           16667,
           16667,
           16667,
           16667,
           16667,
           16667,
           16667,
           16909,
           16909,
           16909,
           16909,
           16909,
           16909,
           16909,
           16909,
           17440,
           17231,
           17095,
           17376,
           17049,
           17503,
           17463,
           17463,
           17463,
           17463,
           17463,
           17463,
           17463,
           17463,
           15902,
           16478,
           16156,
           18258,
           17205,
           17151,
           16966,
           17156,
           17156,
           17156,
           17156,
           17156,
           17156,
           17156,
           17156,
           17250,
           16529,
           17357,
           16612,
           18335,
           18335,
           18335,
           18335,
           18335,
           18335,
           18335,
           18335,
           17006,
           17372,
           17220,
           16510,
           17185,
           17271,
           17964,
           16870,
           16870,
           16870,
           16870,
           16870,
           16870,
           16870,
           16870,
           16930,
           17980,
           17523,
           16816,
           16839,
           16843,
           17169,
           16565,
           16809,
           16829,
           16489,
           16185,
           16533,
           17191,
           16887,
           17267,
           17109,
           17217,
           16586,
           16453,
           16637,
           16933,
           16883,
           17219,
           17272,
           17079,
           17196,
           17196,
           17196,
           17196,
           17196,
           17196,
           17196,
           17196,
           16634,
           17859,
           17719,
           16918,
           16695,
           16400,
           16294,
           16435,
           16886,
           17403,
           17233,
           16238,
           17091,
           16505,
           17057,
           17318,
           16895,
           16964,
           16964,
           16964,
           16964,
           16964,
           16964,
           16964,
           16964,
           16964,
           16964,
           16964,
           16964,
           16964,
           16964,
           16964,
           16964,
           16964,
           16964,
           16964,
           16964,
           16964,
           16964,
           16964,
           16964,
           16964,
           16964,
           16964,
           16964,
           16964,
           16964,
           16964,
           16964,
           16964,
           16964,
           16964,
           16964,
           16964,
           16964,
           16964,
           16964,
           16964,
           16964,
           16964,
           16964,
           16964,
           16964,
           16964,
           16964,
           16964,
           16964,
           16964,
           16964,
           16964,
           16964,
           16964,
           16964,
           16964,
           16964,
           16964,
           16964,
           16964,
           16964,
           16964,
           16964,
           17354,
           16953,
           17721,
           17217,
           17217,
           17217,
           17217,
           17217,
           17217,
           17217,
           17217,
           17108,
           17332,
           17306,
           17236,
           17144,
           17561,
           17056,
           16888,
           16403,
           17410,
           16907,
           17123,
           17123,
           17123,
           17123,
           17123,
           17123,
           17123,
           17123,
           16938,
           17560,
           16851,
           17230,
           16947,
           16735,
           16979,
           17169,
           17020,
           17132,
           16225,
           17053,
           16934,
           17130,
           17168,
           17003,
           16847,
           16978,
           17268,
           16919,
           16919,
           16919,
           16919,
           16919,
           16919,
           16919,
           16919,
           17142,
           16769,
           17283,
           17124,
           16805,
           17540,
           16821,
           16782,
           16418,
           16881,
           17149,
           16959,
           16736,
           16955,
           16971,
           17579,
           16852,
           16588,
           17407,
           16677,
           17215,
           16965,
           17002,
           17195,
           17049,
           17542,
           16750,
           16644,
           17463,
           17389,
           16680,
           16832,
           17285,
           17064,
           17046,
           16327,
           16978,
           16258,
           17232,
           17232,
           17232,
           17232,
           17232,
           17232,
           17232,
           17232,
           17103,
           17009,
           17215,
           17129,
           17209,
           17152,
           16645,
           16645,
           16645,
           16645,
           16645,
           16645,
           16645,
           16645,
           17147,
           17487,
           16994,
           16994,
           16994,
           16994,
           16994,
           16994,
           16994,
           16994,
           16561,
           17084,
           17635,
           16727,
           16974,
           16861,
           17059,
           16842,
           17277,
           16785,
           17082,
           17191,
           16812,
           16812,
           16812,
           16812,
           16812,
           16812,
           16812,
           16812,
           16939,
           16939,
           16939,
           16939,
           16939,
           16939,
           16939,
           16939,
           17159,
           16631,
           17105,
           17132,
           17171,
           16970,
           16616,
           17034,
           16647,
           16990,
           16990,
           16990,
           16990,
           16990,
           16990,
           16990,
           16990,
           17327,
           16859,
           17387,
           16867,
           16381,
           17138,
           17282,
           16467,
           16580,
           17446,
           16406,
           17052,
           16958,
           17173,
           16536,
           17183,
           17206,
           17286,
           17298,
           16387,
           17152,
           17152,
           17152,
           17152,
           17152,
           17152,
           17152,
           17152,
           16449,
           17144,
           17056,
           17212,
           16819,
           16925,
           16909,
           17411,
           17850,
           17451,
           17188,
           16936
          ],
          "sizemode": "area",
          "sizeref": 291.609375,
          "symbol": "circle"
         },
         "mode": "markers",
         "name": "male",
         "showlegend": true,
         "type": "scattergl",
         "x": [
          16.466023465624872,
          -15.100377289729424,
          18.506280360063013,
          19.67610629920186,
          18.701071685437647,
          19.60556729824082,
          19.60556729824082,
          19.60556729824082,
          19.60556729824082,
          19.60556729824082,
          19.60556729824082,
          19.60556729824082,
          19.60556729824082,
          18.74043736885509,
          -14.904276154839815,
          -13.23282258864784,
          -8.90383170820844,
          -15.257465594657917,
          16.44911753919557,
          -12.69643994659652,
          18.363780491536748,
          -11.392549161859122,
          -12.031671349843249,
          18.315230895404962,
          -10.677123143835786,
          19.865071238471568,
          -15.635036459117316,
          21.006357058366376,
          21.006357058366376,
          21.006357058366376,
          21.006357058366376,
          21.006357058366376,
          21.006357058366376,
          21.006357058366376,
          21.006357058366376,
          -14.139938079928978,
          -14.455792235904626,
          18.2282626293053,
          14.402532985646186,
          19.99691360138799,
          17.00348065930299,
          -16.4349742817958,
          -8.09906027456878,
          -17.805637618389433,
          19.9949982214013,
          15.797824887008876,
          20.43943655146979,
          -14.095646984132967,
          -8.891530026300627,
          -9.526782665951517,
          21.267948052971573,
          -12.817439213732188,
          -13.460848798531462,
          11.57788682144313,
          -11.940599701901986,
          -13.75369846743291,
          20.39076634155229,
          19.50184503431332,
          19.81279397150563,
          -16.0053017262448,
          -14.687156650608648,
          -14.73026890230498,
          7.116486033978401,
          15.648509583713992,
          -14.458327491748209,
          21.21140792625424,
          -12.606663234773439,
          21.06692205529363,
          19.1417672791559,
          -11.743548232226878,
          -17.860518645642326,
          -13.422617216990094,
          -13.622935522756269,
          17.76339768729144,
          18.53188332078934,
          17.953958381670933,
          15.991421688026012,
          15.991421688026012,
          15.991421688026012,
          15.991421688026012,
          15.991421688026012,
          15.991421688026012,
          15.991421688026012,
          15.991421688026012,
          19.87655338576343,
          -12.80259186614378,
          -15.007481244871439,
          17.51979444491794,
          14.255005803162737,
          -15.545561367689736,
          -13.75875312104236,
          17.752400957701855,
          18.86751965253874,
          -13.754518909582712,
          17.839336186121532,
          -11.158238000071062,
          17.957404163107693,
          -15.44147723392362,
          -8.830380115042276,
          15.618293560275976,
          -18.820430580322043,
          -13.136861867551175,
          20.71789205816272,
          15.663665424136727,
          -15.669007239350915,
          -9.813462567997124,
          18.98052774779236,
          16.55513353461563,
          17.13927733983244,
          17.13927733983244,
          17.13927733983244,
          17.13927733983244,
          17.13927733983244,
          17.13927733983244,
          17.13927733983244,
          17.13927733983244,
          -13.822253259075264,
          19.619810957839558,
          20.2302638811097,
          18.27080387312106,
          18.27080387312106,
          18.27080387312106,
          18.27080387312106,
          18.27080387312106,
          18.27080387312106,
          18.27080387312106,
          18.27080387312106,
          17.76498222682547,
          18.067051395002007,
          19.25692312823972,
          18.244209641287075,
          -11.085966550687703,
          -12.574141148190954,
          19.044245258943054,
          20.05401383555366,
          20.17790866038735,
          16.870839133805188,
          17.462914208198267,
          16.79012367007168,
          18.271038408460885,
          -11.124182167690844,
          -18.475695520309817,
          15.774417381887142,
          18.10455740352384,
          18.87335044016339,
          -9.416340370950117,
          -16.743705176673323,
          17.51064276124199,
          17.51064276124199,
          17.51064276124199,
          17.51064276124199,
          17.51064276124199,
          17.51064276124199,
          17.51064276124199,
          17.51064276124199,
          17.837612345329916,
          -9.792570278754031,
          18.15128709119915,
          -10.136075807579441,
          -14.244660040285138,
          17.251306604453443,
          -15.692117506936693,
          18.13028052135656,
          -10.038206865934972,
          17.541192759686712,
          14.332536249799343,
          14.332536249799343,
          14.332536249799343,
          14.332536249799343,
          14.332536249799343,
          14.332536249799343,
          14.332536249799343,
          14.332536249799343,
          19.515824548662206,
          17.49049158657353,
          17.49049158657353,
          17.49049158657353,
          17.49049158657353,
          17.49049158657353,
          17.49049158657353,
          17.49049158657353,
          17.49049158657353,
          16.460690448687743,
          -12.733131080657262,
          16.69378638802035,
          18.731000421958694,
          11.808093908733133,
          10.51066191649916,
          9.51619197067453,
          17.55039507671329,
          13.774240120246978,
          -16.677371665426005,
          14.052725945609915,
          -14.127582168676968,
          19.914102028349944,
          -12.248564168586991,
          15.282461537331047,
          20.217483280242774,
          14.700931187311216,
          -11.802410370686236,
          20.98114676488796,
          19.622930532764595,
          17.91197755475269,
          19.864840427969973,
          13.547740410343735,
          -16.365414350828843,
          19.229683790763872,
          17.268208065457806,
          -11.33909257912555,
          -17.071908398018202,
          -17.071908398018202,
          -17.071908398018202,
          -17.071908398018202,
          -17.071908398018202,
          -17.071908398018202,
          -17.071908398018202,
          -17.071908398018202,
          14.930860543197982,
          16.282003279460714,
          14.782539349761878,
          16.508160192831088,
          -13.89188283926528,
          -16.46064987510373,
          -13.751393669324548,
          18.118035198678196,
          -11.802622900661445,
          18.80011826625521,
          18.447019126117276,
          17.072243573127366,
          15.871702332276026,
          -17.245546618354794,
          19.26278522160579,
          16.083872584539314,
          17.573998560689652,
          14.44142237722942,
          14.44142237722942,
          14.44142237722942,
          14.44142237722942,
          14.44142237722942,
          14.44142237722942,
          14.44142237722942,
          14.44142237722942,
          -12.267714328791904,
          -12.267714328791904,
          -12.267714328791904,
          -12.267714328791904,
          -12.267714328791904,
          -12.267714328791904,
          -12.267714328791904,
          -12.267714328791904,
          -12.267714328791904,
          -12.267714328791904,
          -12.267714328791904,
          -12.267714328791904,
          -12.267714328791904,
          -12.267714328791904,
          -12.267714328791904,
          -12.267714328791904,
          -12.267714328791904,
          -12.267714328791904,
          -12.267714328791904,
          -12.267714328791904,
          -12.267714328791904,
          -12.267714328791904,
          -12.267714328791904,
          -12.267714328791904,
          -12.267714328791904,
          -12.267714328791904,
          -12.267714328791904,
          19.869466862206103,
          13.941952934206908,
          16.95553237726307,
          19.706383306501394,
          19.18953791216981,
          -14.455237382914298,
          -15.193911976237748,
          18.564392223241878,
          -12.03687208671375,
          -11.705974594553357,
          -11.78044193564697,
          -12.15277759037654,
          -16.481275017117092,
          18.02765736078028,
          -14.030101063286388,
          18.22185790709636,
          17.367830203512856,
          17.255932635151915,
          18.330736082040534,
          -13.485750040104376,
          -14.103972112933866,
          -13.36771015195813,
          -8.816808307198631,
          19.034907244126337,
          16.917750955197654,
          16.917750955197654,
          16.917750955197654,
          16.917750955197654,
          16.917750955197654,
          16.917750955197654,
          16.917750955197654,
          16.917750955197654,
          19.209190460869465,
          -11.637670779496233,
          -14.126469003510671,
          18.21563987002321,
          19.62698791013853,
          20.259620276324448,
          -15.980137047229563,
          18.48411822237395,
          15.337333355864141,
          18.28298426569352,
          -15.225382555571466,
          -12.685058031425475,
          -12.685058031425475,
          -12.685058031425475,
          -12.685058031425475,
          -12.685058031425475,
          -12.685058031425475,
          -12.685058031425475,
          -12.685058031425475,
          -16.726005276889452,
          -16.232571706252966,
          17.252842536670894,
          -9.2620652587339,
          19.307376567964983,
          -13.793890821324034,
          -13.793890821324034,
          -13.793890821324034,
          -13.793890821324034,
          -13.793890821324034,
          -13.793890821324034,
          -13.793890821324034,
          -13.793890821324034,
          19.796345357019042,
          17.15113965539035,
          -8.048973119175352,
          10.95118036039547,
          -14.287974759795494,
          -11.585032342043663,
          19.510825468024926,
          17.064024264271975,
          -13.324769545060265,
          18.658288040764855,
          -13.419657927727997,
          -15.51588833326738,
          -13.041176874765148,
          15.30399077066308,
          18.08384130369473,
          -13.038231180658762,
          -16.476790172709364,
          -10.33552354856752,
          19.970027432561164,
          16.57106340014844,
          -8.108021343808895,
          -18.17787818018425,
          -14.4620031278676,
          19.65259281179583,
          -8.136097335787364,
          -9.710164616065498,
          -9.710164616065498,
          -9.710164616065498,
          -9.710164616065498,
          -9.710164616065498,
          -9.710164616065498,
          -9.710164616065498,
          -9.710164616065498,
          17.77967546126238,
          21.25086783331271,
          17.76659978092298,
          19.374477401203894,
          15.290498980022072,
          -14.196393545833395,
          -17.612899975246172,
          16.461800564856887,
          18.755392811186436,
          -12.593506433082245,
          15.336449890773801,
          19.705280280539846,
          -10.415660072215388,
          -16.42212836452643,
          17.65501809054733,
          -17.182238064928285,
          19.502792567860283,
          -16.292086757861814,
          14.965600163589519,
          14.965600163589519,
          14.965600163589519,
          14.965600163589519,
          14.965600163589519,
          14.965600163589519,
          14.965600163589519,
          14.965600163589519,
          -13.407829052710222,
          17.965165997250807,
          17.965165997250807,
          17.965165997250807,
          17.965165997250807,
          17.965165997250807,
          17.965165997250807,
          17.965165997250807,
          17.965165997250807,
          17.478581212430914,
          20.06218382969881,
          16.95446894581676,
          -13.932455798575258,
          -15.070320281599873,
          -10.59575903926489,
          -12.911755608247347,
          16.890347181463998,
          16.890347181463998,
          16.890347181463998,
          16.890347181463998,
          16.890347181463998,
          16.890347181463998,
          16.890347181463998,
          16.890347181463998,
          -15.761027746886601,
          20.350196410799324,
          20.013176000475873,
          -13.272380819799757,
          -16.973343286048966,
          -8.171189717178862,
          19.731007270658246,
          19.731007270658246,
          19.731007270658246,
          19.731007270658246,
          19.731007270658246,
          19.731007270658246,
          19.731007270658246,
          19.731007270658246,
          19.076972093618753,
          17.897496913145723,
          22.012824827364184,
          -17.228580944437947,
          -17.228580944437947,
          -17.228580944437947,
          -17.228580944437947,
          -17.228580944437947,
          -17.228580944437947,
          -17.228580944437947,
          -17.228580944437947,
          -11.700257616310687,
          -11.089640717777687,
          19.989973568649468,
          -12.673800916857072,
          18.645196317281286,
          -13.068523086368081,
          -10.186876095377949,
          19.699526230235133,
          -14.133126702377835,
          -8.255546862059854,
          18.397935578985134,
          19.104753482322913,
          18.783648902782673,
          11.848017374031766,
          -16.12081978467568,
          15.548251986229719,
          17.353938093086178,
          17.353938093086178,
          17.353938093086178,
          17.353938093086178,
          17.353938093086178,
          17.353938093086178,
          17.353938093086178,
          17.353938093086178,
          12.711898537736182,
          18.551375888130217,
          17.75922895795834,
          -11.217320554102747,
          20.35720227822066,
          18.255604050577354,
          -12.873804559856234,
          -12.466922809324014,
          -11.272984062367465,
          -11.272984062367465,
          -11.272984062367465,
          -11.272984062367465,
          -11.272984062367465,
          -11.272984062367465,
          -11.272984062367465,
          -11.272984062367465,
          -15.832597090494817,
          -13.386424930861242,
          -16.03505861498919,
          -13.479108925046008,
          -12.207217067406066,
          17.464515350452103,
          17.12194946822592,
          -12.039985298670903,
          -15.03986492470818,
          -8.728023645442088,
          -10.612412453426682,
          -15.397070576592125,
          -10.260168462021776,
          14.659172780289184,
          18.526254172965185,
          -19.525626008054154,
          -15.810307127194616,
          -12.294700342785921,
          18.247771375275267,
          21.54523869134639,
          17.571480128473222,
          -16.16604522708034,
          -14.573141817240948,
          -8.669043728071674,
          10.253226901428198,
          18.677635923465118,
          18.677635923465118,
          18.677635923465118,
          18.677635923465118,
          18.677635923465118,
          18.677635923465118,
          18.677635923465118,
          18.677635923465118,
          -14.237138265672698,
          -14.522863960853865,
          -16.678875183376828,
          -14.143428659382767,
          -15.392481211912846,
          -16.677450225216916,
          17.06201334173781,
          16.9438064353978,
          -14.749947570533932,
          -11.490582080431349,
          -10.296212713618488,
          -10.543186584452105,
          -15.416935773649147,
          17.693377950933044,
          17.124336637766714,
          19.141626427848237,
          -14.944498645133729,
          17.461439195049497,
          -10.29947677757715,
          20.791609532585465,
          18.10373047727333,
          15.84444949988525,
          16.882244978074333,
          16.882244978074333,
          16.882244978074333,
          16.882244978074333,
          16.882244978074333,
          16.882244978074333,
          16.882244978074333,
          16.882244978074333,
          19.8413591963773,
          20.71264670882204,
          18.369494493298312,
          16.062150453531046,
          18.348918078699864,
          16.236862899973673,
          -15.475753870588939,
          -13.445886874637683,
          19.700260223371494,
          -13.06918596914952,
          -13.589337085824349,
          14.411066191945212,
          18.980960227890087,
          -15.61679684469509,
          11.672564627575529,
          -14.946203966978526,
          18.80705402163041,
          18.106857308703233,
          -12.029543271592004,
          18.754491199228003,
          18.658858206404748,
          16.40316557695365,
          17.03034024020256,
          16.918251069176108,
          18.88617315988234,
          17.080918861011277,
          16.459244518974824,
          16.329516494372886,
          -9.89625372146355,
          -15.894989721669912,
          18.174134999681986,
          20.395749053690533,
          14.57898952154476,
          -9.649977064639414,
          17.9345883496868,
          -12.007309713386984,
          -12.007309713386984,
          -12.007309713386984,
          -12.007309713386984,
          -12.007309713386984,
          -12.007309713386984,
          -12.007309713386984,
          -12.007309713386984,
          17.61638232486782,
          19.323375583208538,
          19.323375583208538,
          19.323375583208538,
          19.323375583208538,
          19.323375583208538,
          19.323375583208538,
          19.323375583208538,
          19.323375583208538,
          -10.671214646509528,
          -10.671214646509528,
          -10.671214646509528,
          -10.671214646509528,
          -10.671214646509528,
          -10.671214646509528,
          -10.671214646509528,
          -10.671214646509528,
          16.277556518229893,
          -12.631934835473318,
          -16.467113256922833,
          16.264247605261072,
          16.264247605261072,
          16.264247605261072,
          16.264247605261072,
          16.264247605261072,
          16.264247605261072,
          16.264247605261072,
          16.264247605261072,
          20.378177730604484,
          -12.066568079396575,
          -12.066568079396575,
          -12.066568079396575,
          -12.066568079396575,
          -12.066568079396575,
          -12.066568079396575,
          -12.066568079396575,
          -12.066568079396575,
          -12.066568079396575,
          -12.066568079396575,
          -12.066568079396575,
          -12.066568079396575,
          -12.066568079396575,
          -12.066568079396575,
          -12.066568079396575,
          -12.066568079396575,
          -12.066568079396575,
          -12.066568079396575,
          -12.066568079396575,
          -12.066568079396575,
          -12.066568079396575,
          -12.066568079396575,
          -12.066568079396575,
          -12.066568079396575,
          -12.066568079396575,
          -12.066568079396575,
          -12.066568079396575,
          -16.450360567688385,
          20.21636281298356,
          -7.227597342627917,
          -13.0201308644571,
          -13.877862136750183,
          15.754630298527799,
          20.026797995602404,
          15.841879382896936,
          -13.770971615078501,
          13.540552335190624,
          -14.355736181370967,
          20.32168374211223,
          20.32168374211223,
          20.32168374211223,
          20.32168374211223,
          20.32168374211223,
          20.32168374211223,
          20.32168374211223,
          20.32168374211223,
          -9.365119357551448,
          16.860224211963015,
          -11.597841168924818,
          19.844203381732378,
          -10.669450846541123,
          20.710874542709742,
          20.710874542709742,
          20.710874542709742,
          20.710874542709742,
          20.710874542709742,
          20.710874542709742,
          20.710874542709742,
          20.710874542709742,
          -16.400028942379688,
          12.640823541269636,
          19.747238711332756,
          18.276589207911353,
          19.385746413001314,
          -12.848429346401133,
          17.65763689232835,
          -15.160591444031061,
          17.353069528429494,
          -12.297220800220238,
          19.42681597318538,
          -10.871102570151827,
          19.169743029507313,
          19.169743029507313,
          19.169743029507313,
          19.169743029507313,
          19.169743029507313,
          19.169743029507313,
          19.169743029507313,
          19.169743029507313,
          20.08195566686262,
          21.062566881260604,
          -11.529351226940863,
          -12.411460093330248,
          17.630225265199744,
          -8.437927503020033,
          -14.45806046821132,
          -14.807030811127442,
          15.433500902915876,
          -12.313044417216672,
          19.228940347859346,
          19.91121899949694,
          18.900662186010653,
          15.740798903386262,
          15.740798903386262,
          15.740798903386262,
          15.740798903386262,
          15.740798903386258,
          15.740798903386258,
          15.740798903386258,
          15.740798903386258,
          17.31433597341033,
          15.88116550327404,
          17.49243307252328,
          17.04313486891305,
          -9.83251656053919,
          20.227239630822492,
          18.578405358464057,
          18.657127494608776,
          18.32231917520857,
          -9.698682432566399,
          17.79377274842801,
          17.316630084632735,
          -11.992715534423818,
          -13.701009096028153,
          -12.935710139663561,
          17.6527015107994,
          17.74612034903676,
          17.74612034903676,
          17.74612034903676,
          17.74612034903676,
          17.74612034903676,
          17.74612034903676,
          17.74612034903676,
          17.74612034903676,
          19.472204022913857,
          19.472204022913857,
          19.472204022913857,
          19.472204022913857,
          19.472204022913857,
          19.472204022913857,
          19.472204022913857,
          19.472204022913857,
          -17.090885425121044,
          14.915697122003495,
          17.494485040941928,
          -11.600217089864012,
          19.40378300781223,
          -15.455419723485623,
          13.202562159638404,
          13.202562159638404,
          13.202562159638404,
          13.202562159638404,
          13.202562159638404,
          13.202562159638404,
          13.202562159638404,
          13.202562159638404,
          -15.804995659114528,
          18.224293799064313,
          -15.249064092536486,
          -11.190403258163236,
          17.982901955034794,
          -12.284090396144085,
          -13.97224281118348,
          17.747725339093417,
          17.747725339093417,
          17.747725339093417,
          17.747725339093417,
          17.747725339093417,
          17.747725339093417,
          17.747725339093417,
          17.747725339093417,
          7.289388670787314,
          -15.250279404746804,
          14.668756827456189,
          17.175994813388424,
          -11.742171886447073,
          -11.742171886447073,
          -11.742171886447073,
          -11.742171886447073,
          -11.742171886447073,
          -11.742171886447073,
          -11.742171886447073,
          -11.742171886447073,
          -12.71111739272335,
          20.02652716260862,
          17.150710978238944,
          -10.423127692161069,
          -12.788536297831698,
          18.385866626998858,
          -14.267002293211574,
          -13.757765312250037,
          -13.757765312250037,
          -13.757765312250037,
          -13.757765312250037,
          -13.757765312250037,
          -13.757765312250037,
          -13.757765312250037,
          -13.757765312250037,
          14.587634609802013,
          -14.93315578864906,
          -15.534958699057013,
          19.601668023358922,
          -13.699753956594813,
          -10.89950087050627,
          17.264952757865935,
          -15.740547575077086,
          -12.397038495032971,
          20.199134615356435,
          15.369922318219025,
          -14.379542158662863,
          -14.568164400951941,
          -14.203165363800446,
          20.198918979152015,
          20.227073941152625,
          16.625270453937006,
          14.716244207051222,
          19.438962821179533,
          -11.14623655465179,
          -16.447556490383178,
          18.943476642176055,
          17.25785540020248,
          11.519582893061415,
          -15.977658335145057,
          18.793366287633937,
          20.03500538444358,
          20.03500538444358,
          20.03500538444358,
          20.03500538444358,
          20.03500538444358,
          20.03500538444358,
          20.03500538444358,
          20.03500538444358,
          -4.940682237231165,
          -12.838678466310261,
          -16.761466107827623,
          -15.082457008186966,
          14.020538469534076,
          -16.411965342822544,
          -13.89907041298621,
          -7.1446071617429485,
          -13.638458103466686,
          17.076377290096023,
          16.54932667804754,
          -15.420072358331254,
          -16.81036785106445,
          -16.704467476354544,
          -10.872487191239296,
          -17.35481456027409,
          19.29891442652996,
          -14.432023923533805,
          -14.432023923533805,
          -14.432023923533805,
          -14.432023923533805,
          -14.432023923533805,
          -14.432023923533805,
          -14.432023923533805,
          -14.432023923533805,
          -14.432023923533805,
          -14.432023923533805,
          -14.432023923533805,
          -14.432023923533805,
          -14.432023923533805,
          -14.432023923533805,
          -14.432023923533805,
          -14.432023923533805,
          -14.432023923533805,
          -14.432023923533805,
          -14.432023923533805,
          -14.432023923533805,
          -14.432023923533805,
          -14.432023923533805,
          -14.432023923533805,
          -14.432023923533805,
          -14.432023923533805,
          -14.432023923533805,
          -14.432023923533805,
          -14.432023923533805,
          -14.432023923533805,
          -14.432023923533805,
          -14.432023923533805,
          -14.432023923533805,
          -14.432023923533805,
          -14.432023923533805,
          -14.432023923533805,
          -14.432023923533805,
          -14.432023923533805,
          -14.432023923533805,
          -14.432023923533805,
          -14.432023923533805,
          -14.432023923533805,
          -14.432023923533805,
          -14.432023923533805,
          -14.432023923533805,
          -14.432023923533805,
          -14.432023923533805,
          -14.432023923533805,
          -14.432023923533805,
          -14.432023923533805,
          -14.432023923533805,
          -14.432023923533805,
          -14.432023923533805,
          -14.432023923533805,
          -14.432023923533805,
          -14.432023923533805,
          -14.432023923533805,
          -14.432023923533805,
          -14.432023923533805,
          -14.432023923533805,
          -14.432023923533805,
          -14.432023923533805,
          -14.432023923533805,
          -14.432023923533805,
          -14.432023923533805,
          -12.022958090572342,
          17.897441405930614,
          -15.265676136507544,
          18.06823785869287,
          18.06823785869287,
          18.06823785869287,
          18.06823785869287,
          18.06823785869287,
          18.06823785869287,
          18.06823785869287,
          18.06823785869287,
          19.905383153723708,
          -17.5000261291071,
          11.54035246646295,
          18.556259120266255,
          16.20456186902718,
          -11.71330545149678,
          15.848187296973235,
          16.807320261648965,
          -15.881240823551678,
          19.934327467694352,
          19.06565178473339,
          20.50084858132487,
          20.50084858132487,
          20.50084858132487,
          20.50084858132487,
          20.50084858132487,
          20.50084858132487,
          20.50084858132487,
          20.50084858132487,
          -14.578682807431282,
          -16.169561267668573,
          18.03729121211673,
          18.359900416268292,
          21.457366529723934,
          17.0134698272552,
          20.561761318056455,
          15.961233995363262,
          18.16746694190832,
          -11.714974864881736,
          -13.678301313189975,
          19.203219989180756,
          -10.848330624360305,
          20.08029104735427,
          15.176784469436846,
          15.02072420124931,
          21.21639810418732,
          5.530682782355837,
          16.97121342186161,
          -8.00357783328273,
          -8.00357783328273,
          -8.00357783328273,
          -8.00357783328273,
          -8.00357783328273,
          -8.00357783328273,
          -8.00357783328273,
          -8.00357783328273,
          18.003758352425972,
          15.979232195525283,
          20.38824414232948,
          17.198713427683664,
          -15.556163906017096,
          -15.947032646987122,
          -11.872648435724159,
          19.01799059779093,
          -15.89952851088764,
          16.860787833600863,
          13.813396526622832,
          19.41287764302792,
          16.965254010814824,
          -16.24813189348268,
          -13.463579136006793,
          -15.213069015890536,
          15.619072843441232,
          18.349383155611594,
          12.508496395977227,
          19.510294079971526,
          -13.944170608401926,
          19.730640740535353,
          18.583298162173183,
          16.229181020511188,
          16.20192970263863,
          17.691168494836596,
          15.854192690772027,
          -14.853831226416535,
          19.90093831713846,
          -12.719792891593832,
          -14.15349397909095,
          -13.748207315361443,
          19.022891886398817,
          -15.609657610545112,
          18.350919700111465,
          -17.63137376035045,
          17.632738771967315,
          -12.241941479627926,
          18.475007543215522,
          18.475007543215522,
          18.475007543215522,
          18.475007543215522,
          18.475007543215522,
          18.475007543215522,
          18.475007543215522,
          18.475007543215522,
          -10.923477072654116,
          18.55292837680034,
          18.606565961123604,
          -14.078217264842008,
          20.799639620521944,
          18.417466349245583,
          -13.212501503974508,
          -13.212501503974508,
          -13.212501503974508,
          -13.212501503974508,
          -13.212501503974508,
          -13.212501503974508,
          -13.212501503974508,
          -13.212501503974508,
          18.652414447179257,
          -15.618115608425747,
          7.466749650814122,
          7.466749650814122,
          7.466749650814122,
          7.466749650814122,
          7.466749650814122,
          7.466749650814122,
          7.466749650814122,
          7.466749650814122,
          18.44545005874903,
          18.27042110463835,
          -14.561806873072129,
          14.007718434346263,
          15.609315712117365,
          18.73599917681191,
          16.419548964954018,
          19.991704244043127,
          19.266004163123043,
          -13.9058208419676,
          -13.308490215212347,
          19.08970228240582,
          18.866784279625865,
          18.866784279625865,
          18.866784279625865,
          18.866784279625865,
          18.866784279625865,
          18.866784279625865,
          18.866784279625865,
          18.866784279625865,
          18.576502539365354,
          18.576502539365354,
          18.576502539365354,
          18.576502539365354,
          18.576502539365354,
          18.576502539365354,
          18.576502539365354,
          18.576502539365354,
          -13.386971854704544,
          -13.554630068101403,
          -13.382669044475858,
          14.92180929530357,
          16.825886690855945,
          20.25413040745952,
          19.222125623070283,
          16.86302228987321,
          19.367825548400873,
          22.049333395070846,
          22.049333395070846,
          22.049333395070846,
          22.049333395070846,
          22.049333395070846,
          22.049333395070846,
          22.049333395070846,
          22.049333395070846,
          19.099505012126933,
          17.38152221215456,
          16.477767273320694,
          19.25473345773554,
          18.760398927857175,
          18.98285720101373,
          12.849118195167973,
          -10.924543739273703,
          -14.784692553781959,
          18.92016544861433,
          16.498290413702748,
          18.919560243621607,
          -14.96483175028541,
          16.42785029870757,
          18.479042611924253,
          18.74357778523292,
          13.513086534261994,
          16.51787734157431,
          16.814917509621484,
          -12.149157491205099,
          10.507567904329447,
          10.507567904329447,
          10.507567904329447,
          10.507567904329447,
          10.507567904329447,
          10.507567904329447,
          10.507567904329447,
          10.507567904329447,
          -11.763886091382886,
          17.35237899244263,
          16.491828788541042,
          16.23664011857193,
          18.81940490538177,
          16.19474248067046,
          -9.116265618204512,
          -17.607997299211785,
          18.740268971680727,
          -12.18293421498022,
          -10.321344780999056,
          18.517057699663706
         ],
         "xaxis": "x",
         "y": [
          -0.3447116567557367,
          -5.787514093333634,
          0.5987885043594212,
          -1.0610570421802028,
          1.1472068902582548,
          1.415781785137131,
          1.415781785137131,
          1.415781785137131,
          1.415781785137131,
          1.415781785137131,
          1.415781785137131,
          1.415781785137131,
          1.415781785137131,
          1.3608633077265537,
          17.679126308042296,
          -15.67468130688185,
          -9.52510878865464,
          14.58106934438866,
          0.42018420300664394,
          -17.676760700839726,
          1.406713696721343,
          7.085304923053636,
          -15.921883427474347,
          1.7800922921680953,
          -11.816923334013673,
          1.0499730192908003,
          13.728426345839026,
          2.8775557073336318,
          2.8775557073336318,
          2.8775557073336318,
          2.8775557073336318,
          2.8775557073336318,
          2.8775557073336318,
          2.8775557073336318,
          2.8775557073336318,
          17.19392537220701,
          11.428758361973454,
          0.9672297902291633,
          2.009722118881787,
          0.4447604674809469,
          4.8877375706644886,
          20.56785646338614,
          3.663515739092192,
          10.933334707641606,
          1.6478450175289538,
          -0.8175006810201001,
          -0.7840582409008499,
          18.39186544819101,
          4.5603658666103195,
          -9.549231913015722,
          1.2427809354093142,
          -16.032727080936866,
          16.40684226392408,
          -1.413865073609635,
          6.553153442985207,
          1.0277623171404469,
          0.5177962455498035,
          1.6045780892543238,
          1.4493149821446991,
          -13.178465172795276,
          14.917557351344309,
          20.004864676549033,
          -3.4157112958659557,
          -1.2865133897720322,
          17.0011909173275,
          0.5871662417133748,
          7.1863556787953975,
          0.5482451874132808,
          0.08795604246294499,
          9.07004123674342,
          11.746890907604886,
          -13.113820974936724,
          -10.589715623782752,
          -0.37814779129992726,
          -0.32272711520974934,
          -0.8121144168091992,
          0.6308188815295124,
          0.6308188815295124,
          0.6308188815295124,
          0.6308188815295124,
          0.6308188815295124,
          0.6308188815295124,
          0.6308188815295124,
          0.6308188815295124,
          0.3456631948040504,
          13.668106875637777,
          -10.865556372077174,
          0.24984437966176667,
          2.059039324322647,
          -14.689431475779678,
          16.008531336049767,
          1.2247898934242347,
          1.448506736747847,
          -15.763415060694719,
          0.45620553852016044,
          -12.2442889256441,
          -0.47834606646432853,
          17.778694827783,
          -12.577786697754343,
          -1.7545049894355045,
          7.816311048530328,
          -15.550279134907004,
          0.5228497321107411,
          -1.0024191180759836,
          17.542158918611374,
          2.161828551822269,
          1.7093617224036768,
          -0.7646130100610854,
          -0.4311924570051596,
          -0.4311924570051596,
          -0.4311924570051596,
          -0.4311924570051596,
          -0.4311924570051596,
          -0.4311924570051596,
          -0.4311924570051596,
          -0.4311924570051596,
          16.108306250082745,
          -0.3276497277982123,
          1.555748150153718,
          0.3590065845295072,
          0.3590065845295072,
          0.3590065845295072,
          0.3590065845295072,
          0.3590065845295072,
          0.3590065845295072,
          0.3590065845295072,
          0.3590065845295072,
          -0.5100159307666537,
          -0.8164261296731369,
          0.4313477021719727,
          -0.952108588937129,
          -18.42193277039422,
          9.08248112244206,
          0.0028018488502909895,
          0.9240941749664258,
          0.8451651775464619,
          0.4249583223708969,
          -0.12705301529437563,
          -0.35111692945812145,
          0.14821947947732597,
          15.78961179873673,
          5.547552978684787,
          1.3027895246848136,
          1.149741263588814,
          2.4551441364495585,
          -5.797620600091444,
          20.78722000112823,
          -1.6616950544367202,
          -1.6616950544367202,
          -1.6616950544367202,
          -1.6616950544367202,
          -1.6616950544367202,
          -1.6616950544367202,
          -1.6616950544367202,
          -1.6616950544367202,
          2.215285273551924,
          -14.482939495238817,
          1.0049601378773045,
          -8.874496316206516,
          6.592120507463452,
          -0.5630742004772149,
          6.864943626875542,
          1.5626732806500623,
          18.459773502300735,
          0.31565643686259237,
          -0.404273089612084,
          -0.404273089612084,
          -0.404273089612084,
          -0.404273089612084,
          -0.404273089612084,
          -0.404273089612084,
          -0.404273089612084,
          -0.404273089612084,
          0.44721393091001466,
          -1.3364993619024557,
          -1.3364993619024557,
          -1.3364993619024557,
          -1.3364993619024557,
          -1.3364993619024557,
          -1.3364993619024557,
          -1.3364993619024557,
          -1.3364993619024557,
          0.822538122445284,
          -15.12901962799298,
          1.950976020295808,
          0.9980223750557415,
          2.2889953368921003,
          -1.9472847490918561,
          4.132996088782944,
          1.2948723830682283,
          -3.018821692428493,
          4.167658865776197,
          -1.5898670616999588,
          -16.441125696222684,
          2.6831415537314722,
          -13.55152272529961,
          -0.36203259500316937,
          2.821885845653535,
          -2.2301936534600135,
          -11.792827027263593,
          1.2600378479628305,
          -0.8585982322857784,
          3.0035463584467452,
          0.646052925268797,
          -1.6614199705713348,
          15.391820176928801,
          3.052058182142933,
          -1.4156859262853767,
          -17.123294980365817,
          17.18352359402274,
          17.18352359402274,
          17.18352359402274,
          17.18352359402274,
          17.18352359402274,
          17.18352359402274,
          17.18352359402274,
          17.18352359402274,
          -2.547117995857589,
          -0.663754674077321,
          0.11011136525918139,
          0.4746143825715048,
          12.820630560782122,
          6.277044694015648,
          13.656676134383702,
          1.4497822640949178,
          -18.433020624983165,
          -0.1435470719765115,
          0.9407970292965531,
          1.8726134832367243,
          1.3755471496370861,
          15.725247012007944,
          0.4651142847031928,
          1.3741454961340311,
          -0.6332285023678657,
          -3.294819217429676,
          -3.294819217429676,
          -3.294819217429676,
          -3.294819217429676,
          -3.294819217429676,
          -3.294819217429676,
          -3.294819217429676,
          -3.294819217429676,
          -15.297038927924609,
          -15.297038927924609,
          -15.297038927924609,
          -15.297038927924609,
          -15.297038927924609,
          -15.297038927924609,
          -15.297038927924609,
          -15.297038927924609,
          -15.297038927924609,
          -15.297038927924609,
          -15.297038927924609,
          -15.297038927924609,
          -15.297038927924609,
          -15.297038927924609,
          -15.297038927924609,
          -15.297038927924609,
          -15.297038927924609,
          -15.297038927924609,
          -15.297038927924609,
          -15.297038927924609,
          -15.297038927924609,
          -15.297038927924609,
          -15.297038927924609,
          -15.297038927924609,
          -15.297038927924609,
          -15.297038927924609,
          -15.297038927924609,
          1.4270058878689331,
          0.16168937033378547,
          1.1047453459860306,
          1.2934913039700637,
          0.7804351159037658,
          -12.922846789710828,
          18.289433239167813,
          2.703037895274696,
          -14.41557873040183,
          6.07755472522973,
          -13.764781743395451,
          -0.4203840912643534,
          11.962559067004161,
          1.6544470175914634,
          -7.023881614400567,
          -0.5315178847503154,
          -0.6655992520125791,
          0.3744737510419701,
          0.5677114151740745,
          13.01762004836001,
          -14.444667012113388,
          6.414825973582679,
          -13.271949588281332,
          0.09228017598432978,
          -1.0817908568553691,
          -1.0817908568553691,
          -1.0817908568553691,
          -1.0817908568553691,
          -1.0817908568553691,
          -1.0817908568553691,
          -1.0817908568553691,
          -1.0817908568553691,
          2.027039597589452,
          0.6204564952316123,
          -15.38406209946121,
          3.357700612161029,
          1.7260617213363325,
          1.5614664167042007,
          12.50897461792957,
          0.09767339231054877,
          -1.6502623063102948,
          -1.1949203403815583,
          10.578448574979978,
          -13.174774062796736,
          -13.174774062796736,
          -13.174774062796736,
          -13.174774062796736,
          -13.174774062796736,
          -13.174774062796736,
          -13.174774062796736,
          -13.174774062796736,
          5.344802213250001,
          16.275072586915506,
          0.68007100170602,
          -6.08871554768864,
          0.5867866954459036,
          3.437528780342902,
          3.437528780342902,
          3.437528780342902,
          3.437528780342902,
          3.437528780342902,
          3.437528780342902,
          3.437528780342902,
          3.437528780342902,
          2.963799703219842,
          1.0255847679579675,
          -4.89008644817582,
          -0.277247304032498,
          15.098384371948981,
          13.495028526603976,
          1.1397713416196031,
          0.5578801527925266,
          17.14257781343119,
          2.0423240455967444,
          1.491983688106822,
          16.81886490819053,
          -9.041213829132873,
          -1.0759918238731339,
          1.2935747302367193,
          -13.451671513495485,
          9.106311876030247,
          7.589938990327504,
          2.647034341879818,
          0.08733125196697261,
          -10.301892199547435,
          16.49085141463485,
          20.511193581213377,
          0.27336467545446524,
          -7.774837899586134,
          -16.08611857943818,
          -16.08611857943818,
          -16.08611857943818,
          -16.08611857943818,
          -16.08611857943818,
          -16.08611857943818,
          -16.08611857943818,
          -16.08611857943818,
          -0.20291002423286447,
          1.0512821800112728,
          1.3944858554277855,
          -0.2253122115870106,
          -0.8977425066761568,
          17.807474298979937,
          11.276983796291026,
          0.09401474238035287,
          -0.6490129159837953,
          6.586612297126317,
          0.0724134427452362,
          1.4443439089073846,
          -15.74112867265696,
          6.850924910635682,
          -0.011275387543779103,
          5.290290268326269,
          1.5455307196545156,
          13.986547378345902,
          0.42317423020836353,
          0.42317423020836353,
          0.42317423020836353,
          0.42317423020836353,
          0.42317423020836353,
          0.42317423020836353,
          0.42317423020836353,
          0.42317423020836353,
          5.848481053073778,
          0.35957633828105645,
          0.35957633828105645,
          0.35957633828105645,
          0.35957633828105645,
          0.35957633828105645,
          0.35957633828105645,
          0.35957633828105645,
          0.35957633828105645,
          -1.1523408363000598,
          1.640228185593705,
          -0.7320019406497623,
          -14.135211796310395,
          12.598840785906583,
          -16.25988266398604,
          5.7921524380098095,
          1.673174148999088,
          1.673174148999088,
          1.673174148999088,
          1.673174148999088,
          1.673174148999088,
          1.673174148999088,
          1.673174148999088,
          1.673174148999088,
          17.296293370992906,
          0.5027317639729436,
          0.39496538628499755,
          -5.4569354676669475,
          15.448038979586322,
          4.128323855124309,
          1.369959263536868,
          1.369959263536868,
          1.369959263536868,
          1.369959263536868,
          1.369959263536868,
          1.369959263536868,
          1.369959263536868,
          1.369959263536868,
          0.4591501457990551,
          -1.0718261304740693,
          1.7894136098350968,
          14.84469470308074,
          14.84469470308074,
          14.84469470308074,
          14.84469470308074,
          14.84469470308074,
          14.84469470308074,
          14.84469470308074,
          14.84469470308074,
          -11.64606492276859,
          -12.105434865792871,
          1.6568811492318893,
          -12.73231264944266,
          2.0983240497967026,
          20.204624696854875,
          9.194386062692052,
          3.0527828203226917,
          -14.800899433033402,
          0.7707498107442229,
          1.3167137576650332,
          2.382513860046038,
          0.25916972549739353,
          0.5246358557034274,
          9.44203755468633,
          -0.004953051281023413,
          -1.414105424563242,
          -1.414105424563242,
          -1.414105424563242,
          -1.414105424563242,
          -1.414105424563242,
          -1.414105424563242,
          -1.414105424563242,
          -1.414105424563242,
          -2.244663982739519,
          0.48303231957798454,
          1.3151286189706732,
          -12.118606480838356,
          1.5495762870428598,
          3.2321268957220264,
          -11.683543629633597,
          13.454098815501531,
          18.632054790847327,
          18.632054790847327,
          18.632054790847327,
          18.632054790847327,
          18.632054790847327,
          18.632054790847327,
          18.632054790847327,
          18.632054790847327,
          10.262943499623304,
          -15.594123887484013,
          -15.646537292388643,
          14.029423574592322,
          -12.55363203794,
          0.07470002564050886,
          -0.14876822073720627,
          -11.463274412684855,
          9.728141992128304,
          15.975336453593528,
          2.9311003597709484,
          20.14172163595893,
          -12.830573482144153,
          -1.1808808849093915,
          -1.037349860977244,
          9.978874823205642,
          16.03537398189088,
          5.141523856641712,
          1.571818317510367,
          1.9372579610982663,
          3.698260228832545,
          19.212593010062317,
          -12.388443822935027,
          -15.023000756405047,
          -3.1847637229461054,
          0.5074177294311989,
          0.5074177294311989,
          0.5074177294311989,
          0.5074177294311989,
          0.5074177294311989,
          0.5074177294311989,
          0.5074177294311989,
          0.5074177294311989,
          -14.158362184346826,
          13.233058307498156,
          17.60821185371205,
          18.905689846004844,
          11.439489631377402,
          16.793414277653497,
          2.3431609657443215,
          1.8204387529304682,
          19.709959982676228,
          10.310926237734254,
          -18.910169399487486,
          -16.703464397980678,
          15.915572515587048,
          2.145276632128111,
          1.0667114323376687,
          -0.31618880550125944,
          18.444763505672128,
          0.7510969651083549,
          -19.116459524473722,
          0.8594505792697829,
          2.135237586225465,
          0.5622329530858096,
          -1.1106243478184705,
          -1.1106243478184705,
          -1.1106243478184705,
          -1.1106243478184705,
          -1.1106243478184705,
          -1.1106243478184705,
          -1.1106243478184705,
          -1.1106243478184705,
          2.3740534344167625,
          2.29890281272874,
          -0.7168612847349825,
          2.7224150241326472,
          0.5989471110651796,
          -1.2174353574697585,
          -10.033452673406963,
          -14.175873086014615,
          0.4233754472409421,
          7.704824476656724,
          9.776119655677196,
          -0.9381914762762789,
          1.0456353980424238,
          17.843476428554897,
          1.0186886778103816,
          12.632302637248191,
          2.083343313002163,
          1.7477177143807123,
          4.4129278709027036,
          1.154037222158933,
          3.379646599912981,
          0.6397426067319294,
          1.855078335184419,
          1.003707228590074,
          3.2930157717981667,
          1.5711396388642969,
          1.0815441795210643,
          -0.992003528161971,
          2.925729528244817,
          18.927770140562018,
          -0.7996156591219945,
          1.0921943208817328,
          -3.032306175836469,
          18.370906702408078,
          2.436767129643089,
          3.5789250336567404,
          3.5789250336567404,
          3.5789250336567404,
          3.5789250336567404,
          3.5789250336567404,
          3.5789250336567404,
          3.5789250336567404,
          3.5789250336567404,
          0.26948796518793444,
          0.9012088194562455,
          0.9012088194562455,
          0.9012088194562455,
          0.9012088194562455,
          0.9012088194562455,
          0.9012088194562455,
          0.9012088194562455,
          0.9012088194562455,
          -20.040127573957044,
          -20.040127573957044,
          -20.040127573957044,
          -20.040127573957044,
          -20.040127573957044,
          -20.040127573957044,
          -20.040127573957044,
          -20.040127573957044,
          -1.101676054726406,
          -15.051118777516843,
          15.431350835837739,
          -0.14501207111548198,
          -0.14501207111548198,
          -0.14501207111548198,
          -0.14501207111548198,
          -0.14501207111548198,
          -0.14501207111548198,
          -0.14501207111548198,
          -0.14501207111548198,
          1.773198304512014,
          18.697953326921688,
          18.697953326921688,
          18.697953326921688,
          18.697953326921688,
          18.697953326921688,
          18.697953326921688,
          18.697953326921688,
          18.697953326921688,
          18.697953326921688,
          18.697953326921688,
          18.697953326921688,
          18.697953326921688,
          18.697953326921688,
          18.697953326921688,
          18.697953326921688,
          18.697953326921688,
          18.697953326921688,
          18.697953326921688,
          18.697953326921688,
          18.697953326921688,
          18.697953326921688,
          18.697953326921688,
          18.697953326921688,
          18.697953326921688,
          18.697953326921688,
          18.697953326921688,
          18.697953326921688,
          15.37994182666875,
          0.9768582065378771,
          -4.078157441887712,
          -14.333621245898337,
          15.930450216646374,
          -1.826764241547903,
          1.0002303966409387,
          0.39881312514570805,
          15.987139096424908,
          -0.5546847488117392,
          7.733999533948986,
          2.4481224994824538,
          2.4481224994824538,
          2.4481224994824538,
          2.4481224994824538,
          2.4481224994824538,
          2.4481224994824538,
          2.4481224994824538,
          2.4481224994824538,
          -16.784008596278078,
          -0.3796554099087273,
          3.932796683747798,
          3.0651055025625,
          -10.046288933380653,
          -0.33867434343622294,
          -0.33867434343622294,
          -0.33867434343622294,
          -0.33867434343622294,
          -0.33867434343622294,
          -0.33867434343622294,
          -0.33867434343622294,
          -0.33867434343622294,
          11.756399289345342,
          0.041686927617846606,
          -0.3631213319160185,
          1.4895984997037064,
          1.2374224330154033,
          -5.017411238635598,
          0.19651568249941914,
          6.810008692011371,
          1.0676662981780234,
          15.736645447473034,
          1.0074860504106462,
          -18.001876423171616,
          -1.5291869289998603,
          -1.5291869289998603,
          -1.5291869289998603,
          -1.5291869289998603,
          -1.5291869289998603,
          -1.5291869289998603,
          -1.5291869289998603,
          -1.5291869289998603,
          0.9237470379351628,
          1.5309388152969614,
          -11.980232385057475,
          -15.64989336352865,
          -0.4380601365063364,
          -5.634477669708409,
          17.17453658122583,
          -18.274853804022705,
          -0.3275014516309449,
          9.80849589361546,
          0.9301974335426787,
          1.8674143667404806,
          0.4200974032131187,
          1.5603723583852576,
          1.5603723583852576,
          1.5603723583852576,
          1.5603723583852576,
          1.560372358385257,
          1.560372358385257,
          1.560372358385257,
          1.560372358385257,
          1.3605919196684781,
          0.8448076531230048,
          0.7405651551238651,
          -1.185119828138536,
          -14.348654380097972,
          1.332183613196936,
          -0.6703818619480573,
          -1.467319677419045,
          0.2318843447599545,
          10.811551658039313,
          0.6998413640276696,
          2.1251547168458993,
          -10.679114393445685,
          -5.6398477001627825,
          3.606686447368295,
          0.17855313134776798,
          0.3416796663448982,
          0.3416796663448982,
          0.3416796663448982,
          0.3416796663448982,
          0.3416796663448982,
          0.3416796663448982,
          0.3416796663448982,
          0.3416796663448982,
          1.4307856463566493,
          1.4307856463566493,
          1.4307856463566493,
          1.4307856463566493,
          1.4307856463566486,
          1.4307856463566486,
          1.4307856463566486,
          1.4307856463566486,
          15.523243068950364,
          1.7748115437520493,
          -1.6684399317382104,
          -14.152744302986568,
          0.5138396681866036,
          2.3443413726928486,
          -1.8263580117456697,
          -1.8263580117456697,
          -1.8263580117456697,
          -1.8263580117456697,
          -1.8263580117456697,
          -1.8263580117456697,
          -1.8263580117456697,
          -1.8263580117456697,
          18.469633537698222,
          3.063238131275661,
          19.395460115455474,
          11.037236857527324,
          1.5379178650988468,
          -15.217983186621238,
          -8.146932211321946,
          -3.1230697925190603,
          -3.1230697925190603,
          -3.1230697925190603,
          -3.1230697925190603,
          -3.1230697925190603,
          -3.1230697925190603,
          -3.1230697925190603,
          -3.1230697925190603,
          4.872425044208954,
          21.150619138102964,
          -0.902659155342552,
          0.7764687338886634,
          8.742952166047957,
          8.742952166047957,
          8.742952166047957,
          8.742952166047957,
          8.742952166047957,
          8.742952166047957,
          8.742952166047957,
          8.742952166047957,
          11.487999997063417,
          1.4186947429385377,
          -0.6739974598983588,
          -10.739886946978146,
          10.129665187124102,
          -0.1984066622752394,
          5.939568251703058,
          -9.565882259245848,
          -9.565882259245848,
          -9.565882259245848,
          -9.565882259245848,
          -9.565882259245848,
          -9.565882259245848,
          -9.565882259245848,
          -9.565882259245848,
          -1.11757472886511,
          17.24776680643694,
          11.657149692524621,
          1.2102994806962366,
          12.81307379408714,
          -7.925658575049984,
          0.029349769571768047,
          18.139203540798526,
          -12.57614123752823,
          1.5830652920824393,
          2.6336173606022233,
          19.235908186086746,
          -10.240037527058004,
          -13.460828586577794,
          0.8137333969837295,
          0.8280372607008936,
          0.9100847926979729,
          -2.658170094747683,
          1.8953440410807032,
          -16.78723254742409,
          18.51030604167895,
          1.3944484667721553,
          1.7003178500772913,
          0.9397257221309314,
          5.066086393494046,
          -0.4531051656012375,
          1.5009166797398463,
          1.5009166797398463,
          1.5009166797398463,
          1.5009166797398463,
          1.5009166797398463,
          1.5009166797398463,
          1.5009166797398463,
          1.5009166797398463,
          4.6692759596778215,
          2.6327640167201785,
          8.647387311613882,
          -15.195278601669353,
          -0.8472053540064114,
          20.089025064576646,
          17.19401371792737,
          -4.986706235204947,
          17.00547926882259,
          0.1526082293758551,
          0.7754950441841355,
          15.082592802619464,
          16.46268837720115,
          15.69928022445892,
          -14.350880943489573,
          16.5403240872272,
          1.3161533874415638,
          -9.22215465348279,
          -9.22215465348279,
          -9.22215465348279,
          -9.22215465348279,
          -9.22215465348279,
          -9.22215465348279,
          -9.22215465348279,
          -9.22215465348279,
          -9.22215465348279,
          -9.22215465348279,
          -9.22215465348279,
          -9.22215465348279,
          -9.22215465348279,
          -9.22215465348279,
          -9.22215465348279,
          -9.22215465348279,
          -9.22215465348279,
          -9.22215465348279,
          -9.22215465348279,
          -9.22215465348279,
          -9.22215465348279,
          -9.22215465348279,
          -9.22215465348279,
          -9.22215465348279,
          -9.22215465348279,
          -9.22215465348279,
          -9.22215465348279,
          -9.22215465348279,
          -9.22215465348279,
          -9.22215465348279,
          -9.22215465348279,
          -9.22215465348279,
          -9.22215465348279,
          -9.22215465348279,
          -9.22215465348279,
          -9.22215465348279,
          -9.22215465348279,
          -9.22215465348279,
          -9.22215465348279,
          -9.22215465348279,
          -9.22215465348279,
          -9.22215465348279,
          -9.22215465348279,
          -9.22215465348279,
          -9.22215465348279,
          -9.22215465348279,
          -9.22215465348279,
          -9.22215465348279,
          -9.22215465348279,
          -9.22215465348279,
          -9.22215465348279,
          -9.22215465348279,
          -9.22215465348279,
          -9.22215465348279,
          -9.22215465348279,
          -9.22215465348279,
          -9.22215465348279,
          -9.22215465348279,
          -9.22215465348279,
          -9.22215465348279,
          -9.22215465348279,
          -9.22215465348279,
          -9.22215465348279,
          -9.22215465348279,
          -16.706350828350516,
          2.2303335157472333,
          13.515758556086016,
          0.6629933406056282,
          0.6629933406056282,
          0.6629933406056282,
          0.6629933406056282,
          0.6629933406056282,
          0.6629933406056282,
          0.6629933406056282,
          0.6629933406056282,
          1.7384824693358516,
          15.446819696218983,
          1.0471458760553967,
          1.841183400666202,
          -1.907704582352365,
          2.9152065731796726,
          3.1827540302746202,
          3.627900841659931,
          7.836040312993166,
          2.2881161931040155,
          1.7561107886091607,
          2.2115997614728076,
          2.2115997614728076,
          2.2115997614728076,
          2.2115997614728076,
          2.2115997614728076,
          2.2115997614728076,
          2.2115997614728076,
          2.2115997614728076,
          -7.463579929859949,
          8.307724682257557,
          2.699455012592285,
          0.8873228252029548,
          2.6449300250866647,
          2.161593023947095,
          0.9913063152718842,
          -1.0439839087520422,
          0.9203673751502148,
          -16.79060061900946,
          17.377583413514127,
          1.0860943504413791,
          -19.172256883419276,
          1.2513903889501394,
          1.1206225431971895,
          1.0026140975040114,
          1.5567442267641418,
          -1.5104115997139238,
          -0.14729489270873813,
          -11.19183692802769,
          -11.19183692802769,
          -11.19183692802769,
          -11.19183692802769,
          -11.19183692802769,
          -11.19183692802769,
          -11.19183692802769,
          -11.19183692802769,
          0.06539661895632201,
          1.378731521092705,
          1.0190958596396626,
          1.1569913524823747,
          17.79263004234811,
          11.741298734560024,
          -16.230056715086,
          2.0959890485599235,
          16.642633540650127,
          2.2334619917541167,
          1.2734283048974977,
          1.4856389582017415,
          1.2337323703975152,
          -11.238094667348886,
          7.150350402300326,
          10.572734377442409,
          0.19985125507073354,
          2.781305847742088,
          0.6682022344704981,
          2.4184080689178837,
          -14.98601371457039,
          0.19064335421556752,
          -0.3855133208546456,
          2.7677659331145996,
          0.24946988153381222,
          0.8305002370165749,
          -0.40121510593523574,
          -12.168294431370278,
          1.691777222606945,
          0.6476078899560862,
          15.721808477717412,
          19.629832410611264,
          1.4313715949780415,
          -9.59139682044221,
          1.0480707699376848,
          18.127175684929725,
          2.900172624560129,
          14.481562821309563,
          0.9510837427214294,
          0.9510837427214294,
          0.9510837427214294,
          0.9510837427214294,
          0.9510837427214294,
          0.9510837427214294,
          0.9510837427214294,
          0.9510837427214294,
          -9.863086018213066,
          0.25127933106903044,
          -0.41065370155011316,
          14.327636642735017,
          1.1408458619882162,
          0.11983623860554972,
          -14.891058345111068,
          -14.891058345111068,
          -14.891058345111068,
          -14.891058345111068,
          -14.891058345111068,
          -14.891058345111068,
          -14.891058345111068,
          -14.891058345111068,
          0.9447209624495863,
          11.781842151411666,
          -1.153115121713839,
          -1.153115121713839,
          -1.153115121713839,
          -1.153115121713839,
          -1.153115121713839,
          -1.153115121713839,
          -1.153115121713839,
          -1.153115121713839,
          1.78148207807043,
          0.16537537607276984,
          11.792209992433998,
          0.5350918742010549,
          1.6767696897432152,
          1.526065325442673,
          0.4605142299388916,
          1.1818922626704988,
          1.183001616615706,
          -14.14632973632185,
          13.538950769325218,
          0.6764581708212775,
          1.8485673174325967,
          1.8485673174325967,
          1.8485673174325967,
          1.8485673174325967,
          1.8485673174325967,
          1.8485673174325967,
          1.8485673174325967,
          1.8485673174325967,
          0.7893233078590505,
          0.7893233078590505,
          0.7893233078590505,
          0.7893233078590505,
          0.7893233078590505,
          0.7893233078590505,
          0.7893233078590505,
          0.7893233078590505,
          8.70615204067678,
          15.773828093409112,
          -14.893585775254063,
          -1.5244124933535297,
          0.9142598706268437,
          2.2015719172681765,
          2.1728245864237024,
          1.5843027425682439,
          2.7869810485645345,
          1.1293048357034285,
          1.1293048357034285,
          1.1293048357034285,
          1.1293048357034285,
          1.1293048357034285,
          1.1293048357034285,
          1.1293048357034285,
          1.1293048357034285,
          -0.035119692194696614,
          2.956822084050866,
          1.1764757769639154,
          1.7638726783444107,
          1.819285141675119,
          0.48273260172858057,
          -0.8840037277288294,
          17.632630764834328,
          15.818452335578804,
          0.12296689550768944,
          3.314309727537821,
          -0.30290402548161494,
          -6.6300138701824185,
          -0.11747343029151093,
          2.847154341598169,
          1.5092194553894005,
          -0.5526253744517531,
          0.3048899265791081,
          -1.3772206639059164,
          -14.78568125355478,
          1.9374234469321168,
          1.9374234469321168,
          1.9374234469321168,
          1.9374234469321168,
          1.9374234469321168,
          1.9374234469321168,
          1.9374234469321168,
          1.9374234469321168,
          17.880155960769702,
          0.5122845375874736,
          1.5870049813230345,
          -0.027067098203961276,
          0.752544324995646,
          0.8711429154551811,
          -10.545300861617314,
          11.394401123661034,
          2.699339400353609,
          4.06256698188479,
          -4.981377013846283,
          1.756297530468085
         ],
         "yaxis": "y"
        },
        {
         "customdata": [
          [
           "not hispanic or latino"
          ],
          [
           "not reported"
          ],
          [
           "not hispanic or latino"
          ],
          [
           "not hispanic or latino"
          ],
          [
           "not hispanic or latino"
          ],
          [
           "not hispanic or latino"
          ],
          [
           "not hispanic or latino"
          ],
          [
           "not hispanic or latino"
          ],
          [
           "not hispanic or latino"
          ],
          [
           "not hispanic or latino"
          ],
          [
           "not hispanic or latino"
          ],
          [
           "not hispanic or latino"
          ],
          [
           "not hispanic or latino"
          ],
          [
           "not hispanic or latino"
          ],
          [
           "not reported"
          ],
          [
           "not hispanic or latino"
          ],
          [
           "not hispanic or latino"
          ],
          [
           "not hispanic or latino"
          ],
          [
           "not hispanic or latino"
          ],
          [
           "not hispanic or latino"
          ],
          [
           "not hispanic or latino"
          ],
          [
           "not hispanic or latino"
          ],
          [
           "not hispanic or latino"
          ],
          [
           "not hispanic or latino"
          ],
          [
           "not hispanic or latino"
          ],
          [
           "not hispanic or latino"
          ],
          [
           "not hispanic or latino"
          ],
          [
           "not hispanic or latino"
          ],
          [
           "not hispanic or latino"
          ],
          [
           "not hispanic or latino"
          ],
          [
           "not hispanic or latino"
          ],
          [
           "not hispanic or latino"
          ],
          [
           "not hispanic or latino"
          ],
          [
           "not hispanic or latino"
          ],
          [
           "not hispanic or latino"
          ],
          [
           "not reported"
          ],
          [
           "not hispanic or latino"
          ],
          [
           "not reported"
          ],
          [
           "not hispanic or latino"
          ],
          [
           "not hispanic or latino"
          ],
          [
           "not hispanic or latino"
          ],
          [
           "not hispanic or latino"
          ],
          [
           "not hispanic or latino"
          ],
          [
           "not hispanic or latino"
          ],
          [
           "not hispanic or latino"
          ],
          [
           "not hispanic or latino"
          ],
          [
           "not hispanic or latino"
          ],
          [
           "not hispanic or latino"
          ],
          [
           "not hispanic or latino"
          ],
          [
           "not hispanic or latino"
          ],
          [
           "not hispanic or latino"
          ],
          [
           "not hispanic or latino"
          ],
          [
           "not hispanic or latino"
          ],
          [
           "not hispanic or latino"
          ],
          [
           "not hispanic or latino"
          ],
          [
           "not hispanic or latino"
          ],
          [
           "not hispanic or latino"
          ],
          [
           "not hispanic or latino"
          ],
          [
           "not hispanic or latino"
          ],
          [
           "not hispanic or latino"
          ],
          [
           "not hispanic or latino"
          ],
          [
           "not hispanic or latino"
          ],
          [
           "not hispanic or latino"
          ],
          [
           "not hispanic or latino"
          ],
          [
           "not reported"
          ],
          [
           "not hispanic or latino"
          ],
          [
           "not hispanic or latino"
          ],
          [
           "not hispanic or latino"
          ],
          [
           "not hispanic or latino"
          ],
          [
           "not hispanic or latino"
          ],
          [
           "not reported"
          ],
          [
           "not hispanic or latino"
          ],
          [
           "not reported"
          ],
          [
           "not hispanic or latino"
          ],
          [
           "not reported"
          ],
          [
           "not hispanic or latino"
          ],
          [
           "not hispanic or latino"
          ],
          [
           "not hispanic or latino"
          ],
          [
           "not hispanic or latino"
          ],
          [
           "not hispanic or latino"
          ],
          [
           "not hispanic or latino"
          ],
          [
           "not hispanic or latino"
          ],
          [
           "not hispanic or latino"
          ],
          [
           "not reported"
          ],
          [
           "not reported"
          ],
          [
           "not hispanic or latino"
          ],
          [
           "not hispanic or latino"
          ],
          [
           "not hispanic or latino"
          ],
          [
           "not hispanic or latino"
          ],
          [
           "not hispanic or latino"
          ],
          [
           "not reported"
          ],
          [
           "not reported"
          ],
          [
           "not reported"
          ],
          [
           "not reported"
          ],
          [
           "not reported"
          ],
          [
           "not reported"
          ],
          [
           "not reported"
          ],
          [
           "not reported"
          ],
          [
           "not reported"
          ],
          [
           "not reported"
          ],
          [
           "not reported"
          ],
          [
           "not reported"
          ],
          [
           "not reported"
          ],
          [
           "not reported"
          ],
          [
           "not reported"
          ],
          [
           "not reported"
          ],
          [
           "not hispanic or latino"
          ],
          [
           "not hispanic or latino"
          ],
          [
           "not hispanic or latino"
          ],
          [
           "not hispanic or latino"
          ],
          [
           "not reported"
          ],
          [
           "not hispanic or latino"
          ],
          [
           "not hispanic or latino"
          ],
          [
           "not hispanic or latino"
          ],
          [
           "not hispanic or latino"
          ],
          [
           "not hispanic or latino"
          ],
          [
           "not hispanic or latino"
          ],
          [
           "not hispanic or latino"
          ],
          [
           "not hispanic or latino"
          ],
          [
           "not hispanic or latino"
          ],
          [
           "hispanic or latino"
          ],
          [
           "hispanic or latino"
          ],
          [
           "hispanic or latino"
          ],
          [
           "hispanic or latino"
          ],
          [
           "hispanic or latino"
          ],
          [
           "hispanic or latino"
          ],
          [
           "hispanic or latino"
          ],
          [
           "hispanic or latino"
          ],
          [
           "not hispanic or latino"
          ],
          [
           "not hispanic or latino"
          ],
          [
           "not hispanic or latino"
          ],
          [
           "not hispanic or latino"
          ],
          [
           "not hispanic or latino"
          ],
          [
           "not hispanic or latino"
          ],
          [
           "not hispanic or latino"
          ],
          [
           "not hispanic or latino"
          ],
          [
           "not reported"
          ],
          [
           "not hispanic or latino"
          ],
          [
           "not hispanic or latino"
          ],
          [
           "not hispanic or latino"
          ],
          [
           "not hispanic or latino"
          ],
          [
           "not hispanic or latino"
          ],
          [
           "not hispanic or latino"
          ],
          [
           "not hispanic or latino"
          ],
          [
           "not hispanic or latino"
          ],
          [
           "not hispanic or latino"
          ],
          [
           "not hispanic or latino"
          ],
          [
           "not hispanic or latino"
          ],
          [
           "not hispanic or latino"
          ],
          [
           "not hispanic or latino"
          ],
          [
           "not hispanic or latino"
          ],
          [
           "not hispanic or latino"
          ],
          [
           "not hispanic or latino"
          ],
          [
           "not hispanic or latino"
          ],
          [
           "not hispanic or latino"
          ],
          [
           "not hispanic or latino"
          ],
          [
           "not hispanic or latino"
          ],
          [
           "not hispanic or latino"
          ],
          [
           "not hispanic or latino"
          ],
          [
           "not hispanic or latino"
          ],
          [
           "not hispanic or latino"
          ],
          [
           "not hispanic or latino"
          ],
          [
           "not hispanic or latino"
          ],
          [
           "not hispanic or latino"
          ],
          [
           "not hispanic or latino"
          ],
          [
           "not hispanic or latino"
          ],
          [
           "not hispanic or latino"
          ],
          [
           "not hispanic or latino"
          ],
          [
           "not reported"
          ],
          [
           "not hispanic or latino"
          ],
          [
           "not hispanic or latino"
          ],
          [
           "not hispanic or latino"
          ],
          [
           "hispanic or latino"
          ],
          [
           "not hispanic or latino"
          ],
          [
           "not hispanic or latino"
          ],
          [
           "not hispanic or latino"
          ],
          [
           "not reported"
          ],
          [
           "not reported"
          ],
          [
           "not reported"
          ],
          [
           "not reported"
          ],
          [
           "not reported"
          ],
          [
           "not reported"
          ],
          [
           "not reported"
          ],
          [
           "not reported"
          ],
          [
           "not reported"
          ],
          [
           "not reported"
          ],
          [
           "not hispanic or latino"
          ],
          [
           "not hispanic or latino"
          ],
          [
           "not hispanic or latino"
          ],
          [
           "not hispanic or latino"
          ],
          [
           "not hispanic or latino"
          ],
          [
           "not hispanic or latino"
          ],
          [
           "not hispanic or latino"
          ],
          [
           "not hispanic or latino"
          ],
          [
           "not hispanic or latino"
          ],
          [
           "not hispanic or latino"
          ],
          [
           "not reported"
          ],
          [
           "not reported"
          ],
          [
           "not hispanic or latino"
          ],
          [
           "not reported"
          ],
          [
           "not hispanic or latino"
          ],
          [
           "not hispanic or latino"
          ],
          [
           "not reported"
          ],
          [
           "not hispanic or latino"
          ],
          [
           "not hispanic or latino"
          ],
          [
           "not hispanic or latino"
          ],
          [
           "not hispanic or latino"
          ],
          [
           "not hispanic or latino"
          ],
          [
           "not hispanic or latino"
          ],
          [
           "not hispanic or latino"
          ],
          [
           "not hispanic or latino"
          ],
          [
           "not hispanic or latino"
          ],
          [
           "not hispanic or latino"
          ],
          [
           "not reported"
          ],
          [
           "not hispanic or latino"
          ],
          [
           "not reported"
          ],
          [
           "not hispanic or latino"
          ],
          [
           "not hispanic or latino"
          ],
          [
           "not hispanic or latino"
          ],
          [
           "not hispanic or latino"
          ],
          [
           "not hispanic or latino"
          ],
          [
           "not hispanic or latino"
          ],
          [
           "not hispanic or latino"
          ],
          [
           "not hispanic or latino"
          ],
          [
           "not hispanic or latino"
          ],
          [
           "not hispanic or latino"
          ],
          [
           "not hispanic or latino"
          ],
          [
           "not hispanic or latino"
          ],
          [
           "not hispanic or latino"
          ],
          [
           "not hispanic or latino"
          ],
          [
           "not hispanic or latino"
          ],
          [
           "not hispanic or latino"
          ],
          [
           "not hispanic or latino"
          ],
          [
           "not hispanic or latino"
          ],
          [
           "not hispanic or latino"
          ],
          [
           "not hispanic or latino"
          ],
          [
           "not hispanic or latino"
          ],
          [
           "not hispanic or latino"
          ],
          [
           "not hispanic or latino"
          ],
          [
           "not hispanic or latino"
          ],
          [
           "not hispanic or latino"
          ],
          [
           "not hispanic or latino"
          ],
          [
           "not hispanic or latino"
          ],
          [
           "not hispanic or latino"
          ],
          [
           "not hispanic or latino"
          ],
          [
           "not hispanic or latino"
          ],
          [
           "not hispanic or latino"
          ],
          [
           "not hispanic or latino"
          ],
          [
           "not hispanic or latino"
          ],
          [
           "not hispanic or latino"
          ],
          [
           "not hispanic or latino"
          ],
          [
           "not hispanic or latino"
          ],
          [
           "not hispanic or latino"
          ],
          [
           "not hispanic or latino"
          ],
          [
           "not hispanic or latino"
          ],
          [
           "not hispanic or latino"
          ],
          [
           "not hispanic or latino"
          ],
          [
           "not hispanic or latino"
          ],
          [
           "not hispanic or latino"
          ],
          [
           "not hispanic or latino"
          ],
          [
           "not hispanic or latino"
          ],
          [
           "not hispanic or latino"
          ],
          [
           "not hispanic or latino"
          ],
          [
           "not reported"
          ],
          [
           "not hispanic or latino"
          ],
          [
           "not hispanic or latino"
          ],
          [
           "not hispanic or latino"
          ],
          [
           "not hispanic or latino"
          ],
          [
           "not hispanic or latino"
          ],
          [
           "not reported"
          ],
          [
           "not hispanic or latino"
          ],
          [
           "not hispanic or latino"
          ],
          [
           "not reported"
          ],
          [
           "not hispanic or latino"
          ],
          [
           "not reported"
          ],
          [
           "not hispanic or latino"
          ],
          [
           "not hispanic or latino"
          ],
          [
           "not hispanic or latino"
          ],
          [
           "not hispanic or latino"
          ],
          [
           "not hispanic or latino"
          ],
          [
           "not hispanic or latino"
          ],
          [
           "not hispanic or latino"
          ],
          [
           "not hispanic or latino"
          ],
          [
           "not hispanic or latino"
          ],
          [
           "not reported"
          ],
          [
           "not hispanic or latino"
          ],
          [
           "not hispanic or latino"
          ],
          [
           "not hispanic or latino"
          ],
          [
           "not hispanic or latino"
          ],
          [
           "not hispanic or latino"
          ],
          [
           "not reported"
          ],
          [
           "not hispanic or latino"
          ],
          [
           "not hispanic or latino"
          ],
          [
           "not hispanic or latino"
          ],
          [
           "not hispanic or latino"
          ],
          [
           "not hispanic or latino"
          ],
          [
           "not hispanic or latino"
          ],
          [
           "not hispanic or latino"
          ],
          [
           "not hispanic or latino"
          ],
          [
           "not hispanic or latino"
          ],
          [
           "not hispanic or latino"
          ],
          [
           "not hispanic or latino"
          ],
          [
           "not reported"
          ],
          [
           "not hispanic or latino"
          ],
          [
           "not hispanic or latino"
          ],
          [
           "not hispanic or latino"
          ],
          [
           "not hispanic or latino"
          ],
          [
           "not reported"
          ],
          [
           "not reported"
          ],
          [
           "not hispanic or latino"
          ],
          [
           "hispanic or latino"
          ],
          [
           "not hispanic or latino"
          ],
          [
           "not hispanic or latino"
          ],
          [
           "not hispanic or latino"
          ],
          [
           "not hispanic or latino"
          ],
          [
           "not reported"
          ],
          [
           "not hispanic or latino"
          ],
          [
           "not hispanic or latino"
          ],
          [
           "not hispanic or latino"
          ],
          [
           "not hispanic or latino"
          ],
          [
           "not hispanic or latino"
          ],
          [
           "not hispanic or latino"
          ],
          [
           "not hispanic or latino"
          ],
          [
           "not hispanic or latino"
          ],
          [
           "not hispanic or latino"
          ],
          [
           "not hispanic or latino"
          ],
          [
           "not reported"
          ],
          [
           "not reported"
          ],
          [
           "not reported"
          ],
          [
           "not hispanic or latino"
          ],
          [
           "not hispanic or latino"
          ],
          [
           "not hispanic or latino"
          ],
          [
           "not hispanic or latino"
          ],
          [
           "not hispanic or latino"
          ],
          [
           "not hispanic or latino"
          ],
          [
           "not reported"
          ],
          [
           "not hispanic or latino"
          ],
          [
           "not hispanic or latino"
          ],
          [
           "not reported"
          ],
          [
           "not hispanic or latino"
          ],
          [
           "not hispanic or latino"
          ],
          [
           "not hispanic or latino"
          ],
          [
           "not hispanic or latino"
          ],
          [
           "not hispanic or latino"
          ],
          [
           "not reported"
          ],
          [
           "not hispanic or latino"
          ],
          [
           "not hispanic or latino"
          ],
          [
           "not hispanic or latino"
          ],
          [
           "not hispanic or latino"
          ],
          [
           "not reported"
          ],
          [
           "not reported"
          ],
          [
           "not reported"
          ],
          [
           "not reported"
          ],
          [
           "not reported"
          ],
          [
           "not reported"
          ],
          [
           "not reported"
          ],
          [
           "not reported"
          ],
          [
           "not reported"
          ],
          [
           "not hispanic or latino"
          ],
          [
           "not reported"
          ],
          [
           "not reported"
          ],
          [
           "not reported"
          ],
          [
           "not reported"
          ],
          [
           "not reported"
          ],
          [
           "not hispanic or latino"
          ],
          [
           "not hispanic or latino"
          ],
          [
           "not reported"
          ],
          [
           "not reported"
          ],
          [
           "not reported"
          ],
          [
           "not reported"
          ],
          [
           "not reported"
          ],
          [
           "not reported"
          ],
          [
           "not reported"
          ],
          [
           "not reported"
          ],
          [
           "not reported"
          ],
          [
           "not reported"
          ],
          [
           "not hispanic or latino"
          ],
          [
           "not hispanic or latino"
          ],
          [
           "not hispanic or latino"
          ],
          [
           "not hispanic or latino"
          ],
          [
           "not hispanic or latino"
          ],
          [
           "not hispanic or latino"
          ],
          [
           "not hispanic or latino"
          ],
          [
           "not reported"
          ],
          [
           "not hispanic or latino"
          ],
          [
           "not hispanic or latino"
          ],
          [
           "not hispanic or latino"
          ],
          [
           "not hispanic or latino"
          ],
          [
           "not hispanic or latino"
          ],
          [
           "not hispanic or latino"
          ],
          [
           "not hispanic or latino"
          ],
          [
           "not hispanic or latino"
          ],
          [
           "not hispanic or latino"
          ],
          [
           "not reported"
          ],
          [
           "not hispanic or latino"
          ],
          [
           "not hispanic or latino"
          ],
          [
           "not reported"
          ],
          [
           "not hispanic or latino"
          ],
          [
           "not hispanic or latino"
          ],
          [
           "not hispanic or latino"
          ],
          [
           "not hispanic or latino"
          ],
          [
           "not hispanic or latino"
          ],
          [
           "not hispanic or latino"
          ],
          [
           "not hispanic or latino"
          ],
          [
           "not hispanic or latino"
          ],
          [
           "not hispanic or latino"
          ],
          [
           "not hispanic or latino"
          ],
          [
           "not hispanic or latino"
          ],
          [
           "not reported"
          ],
          [
           "not hispanic or latino"
          ],
          [
           "not hispanic or latino"
          ],
          [
           "not hispanic or latino"
          ],
          [
           "not hispanic or latino"
          ],
          [
           "not hispanic or latino"
          ],
          [
           "not reported"
          ],
          [
           "not reported"
          ],
          [
           "not reported"
          ],
          [
           "not reported"
          ],
          [
           "not reported"
          ],
          [
           "not reported"
          ],
          [
           "not reported"
          ],
          [
           "not reported"
          ],
          [
           "not hispanic or latino"
          ],
          [
           "not hispanic or latino"
          ],
          [
           "not hispanic or latino"
          ],
          [
           "not hispanic or latino"
          ],
          [
           "not hispanic or latino"
          ],
          [
           "not hispanic or latino"
          ],
          [
           "not hispanic or latino"
          ],
          [
           "not hispanic or latino"
          ],
          [
           "not hispanic or latino"
          ],
          [
           "not hispanic or latino"
          ],
          [
           "not hispanic or latino"
          ],
          [
           "not hispanic or latino"
          ],
          [
           "not hispanic or latino"
          ],
          [
           "not hispanic or latino"
          ],
          [
           "not hispanic or latino"
          ],
          [
           "not hispanic or latino"
          ],
          [
           "not hispanic or latino"
          ],
          [
           "not hispanic or latino"
          ],
          [
           "not hispanic or latino"
          ],
          [
           "not hispanic or latino"
          ],
          [
           "not hispanic or latino"
          ],
          [
           "not hispanic or latino"
          ],
          [
           "not hispanic or latino"
          ],
          [
           "not hispanic or latino"
          ],
          [
           "not hispanic or latino"
          ],
          [
           "not hispanic or latino"
          ],
          [
           "not hispanic or latino"
          ],
          [
           "not hispanic or latino"
          ],
          [
           "not hispanic or latino"
          ],
          [
           "not reported"
          ],
          [
           "not hispanic or latino"
          ],
          [
           "not reported"
          ],
          [
           "not hispanic or latino"
          ],
          [
           "not hispanic or latino"
          ],
          [
           "not hispanic or latino"
          ]
         ],
         "hovertemplate": "<b>%{hovertext}</b><br><br>gender=female<br>PCA-0=%{x}<br>PCA-1=%{y}<br>n_reads=%{marker.size}<br>ethnicity=%{customdata[0]}<extra></extra>",
         "hovertext": [
          "female",
          "female",
          "female",
          "female",
          "female",
          "female",
          "female",
          "female",
          "female",
          "female",
          "female",
          "female",
          "female",
          "female",
          "female",
          "female",
          "female",
          "female",
          "female",
          "female",
          "female",
          "female",
          "female",
          "female",
          "female",
          "female",
          "female",
          "female",
          "female",
          "female",
          "female",
          "female",
          "female",
          "female",
          "female",
          "female",
          "female",
          "female",
          "female",
          "female",
          "female",
          "female",
          "female",
          "female",
          "female",
          "female",
          "female",
          "female",
          "female",
          "female",
          "female",
          "female",
          "female",
          "female",
          "female",
          "female",
          "female",
          "female",
          "female",
          "female",
          "female",
          "female",
          "female",
          "female",
          "female",
          "female",
          "female",
          "female",
          "female",
          "female",
          "female",
          "female",
          "female",
          "female",
          "female",
          "female",
          "female",
          "female",
          "female",
          "female",
          "female",
          "female",
          "female",
          "female",
          "female",
          "female",
          "female",
          "female",
          "female",
          "female",
          "female",
          "female",
          "female",
          "female",
          "female",
          "female",
          "female",
          "female",
          "female",
          "female",
          "female",
          "female",
          "female",
          "female",
          "female",
          "female",
          "female",
          "female",
          "female",
          "female",
          "female",
          "female",
          "female",
          "female",
          "female",
          "female",
          "female",
          "female",
          "female",
          "female",
          "female",
          "female",
          "female",
          "female",
          "female",
          "female",
          "female",
          "female",
          "female",
          "female",
          "female",
          "female",
          "female",
          "female",
          "female",
          "female",
          "female",
          "female",
          "female",
          "female",
          "female",
          "female",
          "female",
          "female",
          "female",
          "female",
          "female",
          "female",
          "female",
          "female",
          "female",
          "female",
          "female",
          "female",
          "female",
          "female",
          "female",
          "female",
          "female",
          "female",
          "female",
          "female",
          "female",
          "female",
          "female",
          "female",
          "female",
          "female",
          "female",
          "female",
          "female",
          "female",
          "female",
          "female",
          "female",
          "female",
          "female",
          "female",
          "female",
          "female",
          "female",
          "female",
          "female",
          "female",
          "female",
          "female",
          "female",
          "female",
          "female",
          "female",
          "female",
          "female",
          "female",
          "female",
          "female",
          "female",
          "female",
          "female",
          "female",
          "female",
          "female",
          "female",
          "female",
          "female",
          "female",
          "female",
          "female",
          "female",
          "female",
          "female",
          "female",
          "female",
          "female",
          "female",
          "female",
          "female",
          "female",
          "female",
          "female",
          "female",
          "female",
          "female",
          "female",
          "female",
          "female",
          "female",
          "female",
          "female",
          "female",
          "female",
          "female",
          "female",
          "female",
          "female",
          "female",
          "female",
          "female",
          "female",
          "female",
          "female",
          "female",
          "female",
          "female",
          "female",
          "female",
          "female",
          "female",
          "female",
          "female",
          "female",
          "female",
          "female",
          "female",
          "female",
          "female",
          "female",
          "female",
          "female",
          "female",
          "female",
          "female",
          "female",
          "female",
          "female",
          "female",
          "female",
          "female",
          "female",
          "female",
          "female",
          "female",
          "female",
          "female",
          "female",
          "female",
          "female",
          "female",
          "female",
          "female",
          "female",
          "female",
          "female",
          "female",
          "female",
          "female",
          "female",
          "female",
          "female",
          "female",
          "female",
          "female",
          "female",
          "female",
          "female",
          "female",
          "female",
          "female",
          "female",
          "female",
          "female",
          "female",
          "female",
          "female",
          "female",
          "female",
          "female",
          "female",
          "female",
          "female",
          "female",
          "female",
          "female",
          "female",
          "female",
          "female",
          "female",
          "female",
          "female",
          "female",
          "female",
          "female",
          "female",
          "female",
          "female",
          "female",
          "female",
          "female",
          "female",
          "female",
          "female",
          "female",
          "female",
          "female",
          "female",
          "female",
          "female",
          "female",
          "female",
          "female",
          "female",
          "female",
          "female",
          "female",
          "female",
          "female",
          "female",
          "female",
          "female",
          "female",
          "female",
          "female",
          "female",
          "female",
          "female",
          "female",
          "female",
          "female",
          "female",
          "female",
          "female",
          "female",
          "female",
          "female",
          "female",
          "female",
          "female",
          "female",
          "female",
          "female",
          "female",
          "female",
          "female",
          "female",
          "female",
          "female",
          "female",
          "female",
          "female",
          "female",
          "female",
          "female",
          "female",
          "female",
          "female",
          "female",
          "female",
          "female",
          "female",
          "female",
          "female",
          "female",
          "female",
          "female",
          "female",
          "female",
          "female",
          "female",
          "female",
          "female",
          "female",
          "female",
          "female",
          "female",
          "female",
          "female",
          "female",
          "female",
          "female",
          "female",
          "female",
          "female",
          "female",
          "female",
          "female",
          "female",
          "female",
          "female",
          "female",
          "female",
          "female",
          "female",
          "female",
          "female",
          "female",
          "female",
          "female",
          "female",
          "female",
          "female",
          "female",
          "female",
          "female",
          "female",
          "female",
          "female",
          "female",
          "female",
          "female",
          "female",
          "female",
          "female",
          "female",
          "female",
          "female",
          "female",
          "female",
          "female",
          "female",
          "female",
          "female",
          "female",
          "female",
          "female",
          "female",
          "female",
          "female",
          "female"
         ],
         "legendgroup": "female",
         "marker": {
          "color": "#EF553B",
          "size": [
           17008,
           16335,
           17407,
           17310,
           17310,
           17310,
           17310,
           17310,
           17310,
           17310,
           17310,
           17483,
           17238,
           16586,
           16314,
           16819,
           16509,
           17307,
           17343,
           17343,
           17343,
           17343,
           17343,
           17343,
           17343,
           17343,
           14558,
           16959,
           16959,
           16959,
           16959,
           16959,
           16959,
           16959,
           16959,
           18278,
           16862,
           16557,
           17121,
           17399,
           16992,
           16867,
           16899,
           15432,
           17263,
           17448,
           17448,
           17448,
           17448,
           17448,
           17448,
           17448,
           17448,
           18116,
           18116,
           18116,
           18116,
           18116,
           18116,
           18116,
           18116,
           16877,
           17164,
           17053,
           17096,
           17053,
           16771,
           16905,
           16677,
           17195,
           17189,
           17051,
           16031,
           16305,
           16782,
           17292,
           17292,
           17292,
           17292,
           17292,
           17292,
           17292,
           17292,
           17161,
           17348,
           17061,
           17287,
           16717,
           16913,
           16945,
           16749,
           16749,
           16749,
           16749,
           16749,
           16749,
           16749,
           16749,
           16832,
           16832,
           16832,
           16832,
           16832,
           16832,
           16832,
           16832,
           17607,
           17489,
           17021,
           16807,
           16217,
           16731,
           17377,
           17377,
           17377,
           17377,
           17377,
           17377,
           17377,
           17377,
           17127,
           17127,
           17127,
           17127,
           17127,
           17127,
           17127,
           17127,
           15727,
           16625,
           17066,
           16863,
           17079,
           16840,
           17386,
           17429,
           17107,
           16786,
           16786,
           16786,
           16786,
           16786,
           16786,
           16786,
           16786,
           16786,
           16786,
           16786,
           16786,
           16786,
           16786,
           16786,
           16786,
           16786,
           16786,
           16786,
           16786,
           16786,
           16786,
           16786,
           16786,
           16786,
           16786,
           16786,
           16939,
           16918,
           16182,
           16969,
           16701,
           16981,
           17001,
           17066,
           17267,
           17573,
           16620,
           17317,
           16879,
           16698,
           16698,
           16698,
           16698,
           16698,
           16698,
           16698,
           16698,
           17104,
           16706,
           17321,
           16931,
           16931,
           16931,
           16931,
           16931,
           16931,
           16931,
           16931,
           16949,
           16254,
           16679,
           16787,
           17236,
           16863,
           16889,
           17351,
           16978,
           17213,
           17213,
           17213,
           17213,
           17213,
           17213,
           17213,
           17213,
           15307,
           16942,
           16624,
           17110,
           17110,
           17110,
           17110,
           17110,
           17110,
           17110,
           17110,
           17735,
           17080,
           17139,
           17139,
           17139,
           17139,
           17139,
           17139,
           17139,
           17139,
           17139,
           17139,
           17139,
           17139,
           17139,
           17139,
           17139,
           17139,
           17139,
           17139,
           17139,
           17139,
           17139,
           17139,
           17139,
           17139,
           17139,
           17139,
           17139,
           17108,
           17134,
           17134,
           17134,
           17134,
           17134,
           17134,
           17134,
           17134,
           17255,
           15982,
           17327,
           16722,
           16357,
           17141,
           16810,
           15947,
           17370,
           17058,
           16551,
           17187,
           17478,
           17337,
           16880,
           17080,
           17444,
           16805,
           17212,
           17220,
           17263,
           15823,
           16993,
           17344,
           17116,
           17117,
           17092,
           16449,
           16107,
           16541,
           16541,
           16541,
           16541,
           16541,
           16541,
           16541,
           16541,
           17368,
           17145,
           17087,
           17694,
           17226,
           16777,
           17402,
           16916,
           16477,
           16309,
           16885,
           17553,
           16783,
           17292,
           17332,
           17081,
           16242,
           16744,
           16675,
           16675,
           16675,
           16675,
           16675,
           16675,
           16675,
           16675,
           16365,
           16770,
           17172,
           17172,
           17487,
           17146,
           17174,
           16843,
           16705,
           17390,
           16314,
           16735,
           17433,
           16225,
           16762,
           16330,
           16866,
           16831,
           16826,
           16504,
           16601,
           17711,
           17339,
           17062,
           16560,
           16560,
           16560,
           16560,
           16560,
           16560,
           16560,
           16560,
           15694,
           17226,
           16457,
           16296,
           16655,
           17092,
           17089,
           17196,
           17542,
           15948,
           17262,
           17262,
           17262,
           17262,
           17262,
           17262,
           17262,
           17262,
           16111,
           16986,
           16883,
           16854,
           17368,
           17136,
           17219,
           17194,
           17962,
           16907,
           16907,
           16907,
           16907,
           16907,
           16907,
           16907,
           16907,
           16429,
           16911,
           16850,
           17030,
           16074,
           17176,
           16878,
           17655,
           17076,
           17076,
           17076,
           17076,
           17076,
           17076,
           17076,
           17076,
           16537,
           16992,
           16883,
           17260,
           17221,
           16987,
           17305,
           17305,
           17305,
           17305,
           17305,
           17305,
           17305,
           17305,
           17127,
           16828,
           17213,
           16870,
           17237,
           16518,
           17559,
           16758,
           17181,
           17058,
           17058,
           17058,
           17058,
           17058,
           17058,
           17058,
           17058,
           17212,
           17212,
           17212,
           17212,
           17212,
           17212,
           17212,
           17212,
           16478,
           17232,
           16632,
           18492,
           16990,
           16692,
           17884,
           17199,
           16998,
           17385
          ],
          "sizemode": "area",
          "sizeref": 291.609375,
          "symbol": "circle"
         },
         "mode": "markers",
         "name": "female",
         "showlegend": true,
         "type": "scattergl",
         "x": [
          -14.55544779676722,
          -15.562374052599804,
          -11.352134885011719,
          -13.472123067703118,
          -13.472123067703118,
          -13.472123067703118,
          -13.472123067703118,
          -13.472123067703118,
          -13.472123067703118,
          -13.472123067703118,
          -13.472123067703118,
          -11.18308694155935,
          -15.466824836648064,
          -12.114148417776246,
          -13.965238682271252,
          -9.519173625265712,
          -10.960089011746659,
          -11.566972202777205,
          -13.215851891583904,
          -13.215851891583904,
          -13.215851891583904,
          -13.215851891583904,
          -13.215851891583904,
          -13.215851891583904,
          -13.215851891583904,
          -13.215851891583904,
          -15.113219163881613,
          -12.434034227470432,
          -12.434034227470432,
          -12.434034227470432,
          -12.434034227470432,
          -12.434034227470432,
          -12.434034227470432,
          -12.434034227470432,
          -12.434034227470432,
          -18.15887321152824,
          -10.196769551987517,
          -9.993168382245972,
          -14.051007378191915,
          -13.644834215501868,
          -15.124233765167823,
          -13.963860757408101,
          -9.984368855932717,
          -14.745299601283767,
          -17.423346526425473,
          -13.260776612823161,
          -13.260776612823161,
          -13.260776612823161,
          -13.260776612823161,
          -13.260776612823161,
          -13.260776612823161,
          -13.260776612823161,
          -13.260776612823161,
          -5.552572494215655,
          -5.552572494215655,
          -5.552572494215655,
          -5.552572494215655,
          -5.552572494215655,
          -5.552572494215655,
          -5.552572494215655,
          -5.552572494215655,
          -12.894207652342073,
          -14.589774583744305,
          -13.966744944563766,
          -11.451647634444782,
          -13.382275825813087,
          -12.616226854223179,
          -13.582392392937356,
          -13.563712576715856,
          -11.899475118143588,
          -9.68671784724349,
          -14.20420883259037,
          -14.599054132472162,
          -12.618127083723472,
          -10.294496597350188,
          -10.124052120050049,
          -10.124052120050049,
          -10.124052120050049,
          -10.124052120050049,
          -10.124052120050049,
          -10.124052120050049,
          -10.124052120050049,
          -10.124052120050049,
          -12.880935078150937,
          -15.497232187485965,
          -11.847691905616427,
          -13.017724553651538,
          -10.29075718970031,
          -15.015332110074636,
          -13.549773664751552,
          -10.452263984609708,
          -10.452263984609708,
          -10.452263984609708,
          -10.452263984609708,
          -10.452263984609708,
          -10.452263984609708,
          -10.452263984609708,
          -10.452263984609708,
          -14.258114877677887,
          -14.258114877677887,
          -14.258114877677887,
          -14.258114877677887,
          -14.258114877677887,
          -14.258114877677887,
          -14.258114877677887,
          -14.258114877677887,
          -11.955292876453885,
          -12.685344760143407,
          -12.952690479631606,
          -11.950074595599784,
          -14.703545676702253,
          -10.479338074067659,
          -9.104168172969958,
          -9.104168172969958,
          -9.104168172969958,
          -9.104168172969958,
          -9.104168172969962,
          -9.104168172969962,
          -9.104168172969962,
          -9.104168172969962,
          -12.791049076549042,
          -12.791049076549042,
          -12.791049076549042,
          -12.791049076549042,
          -12.791049076549042,
          -12.791049076549042,
          -12.791049076549042,
          -12.791049076549042,
          -15.311883208692878,
          -13.024810654819017,
          -14.94509357648866,
          -14.090020902066028,
          -11.755891251031297,
          -16.37545281080823,
          -11.817315149862983,
          -13.824430335268428,
          -15.979228950846371,
          -11.408718788819105,
          -11.408718788819105,
          -11.408718788819105,
          -11.408718788819105,
          -11.408718788819105,
          -11.408718788819105,
          -11.408718788819105,
          -11.408718788819105,
          -11.408718788819105,
          -11.408718788819105,
          -11.408718788819105,
          -11.408718788819105,
          -11.408718788819105,
          -11.408718788819105,
          -11.408718788819105,
          -11.408718788819105,
          -11.408718788819105,
          -11.408718788819105,
          -11.408718788819105,
          -11.408718788819105,
          -11.408718788819105,
          -11.408718788819105,
          -11.408718788819105,
          -11.408718788819105,
          -11.408718788819105,
          -11.408718788819105,
          -11.408718788819105,
          -11.926073686271815,
          -12.727171649122342,
          -18.52042280538827,
          -14.185244324337487,
          -13.308166003330903,
          -13.867308233017605,
          -12.042305654057845,
          -6.4345722376762575,
          -9.087833712000789,
          -6.7053796536275785,
          -11.327946276895068,
          -13.990103180838293,
          -11.386498267371119,
          -11.793812706295164,
          -11.793812706295164,
          -11.793812706295164,
          -11.793812706295164,
          -11.793812706295164,
          -11.793812706295164,
          -11.793812706295164,
          -11.793812706295164,
          -14.11101626261026,
          -12.157305504765684,
          -11.66722716304682,
          -11.660065441884957,
          -11.660065441884957,
          -11.660065441884957,
          -11.660065441884957,
          -11.660065441884957,
          -11.660065441884957,
          -11.660065441884957,
          -11.660065441884957,
          -10.489614009364134,
          -14.14997065110193,
          -13.22204871054624,
          -17.001485954811518,
          -10.421743556064637,
          -13.922134815021835,
          -12.98746104891558,
          -14.360297667565698,
          -12.371018776681876,
          -13.082954724961887,
          -13.082954724961887,
          -13.082954724961887,
          -13.082954724961887,
          -13.082954724961887,
          -13.082954724961887,
          -13.082954724961887,
          -13.082954724961887,
          -15.56569630950065,
          -15.020857518189619,
          -11.022075936683647,
          -12.802613267994843,
          -12.802613267994843,
          -12.802613267994843,
          -12.802613267994843,
          -12.802613267994843,
          -12.802613267994843,
          -12.802613267994843,
          -12.802613267994843,
          -13.567729751241203,
          -10.860720135651825,
          -14.08830936870344,
          -14.08830936870344,
          -14.08830936870344,
          -14.08830936870344,
          -14.08830936870344,
          -14.08830936870344,
          -14.08830936870344,
          -14.08830936870344,
          -14.08830936870344,
          -14.08830936870344,
          -14.08830936870344,
          -14.08830936870344,
          -14.08830936870344,
          -14.08830936870344,
          -14.08830936870344,
          -14.08830936870344,
          -14.08830936870344,
          -14.08830936870344,
          -14.08830936870344,
          -14.08830936870344,
          -14.08830936870344,
          -14.08830936870344,
          -14.08830936870344,
          -14.08830936870344,
          -14.08830936870344,
          -14.08830936870344,
          -14.08830936870344,
          -13.24459043200523,
          -10.392235577591332,
          -10.392235577591332,
          -10.392235577591332,
          -10.392235577591332,
          -10.392235577591332,
          -10.392235577591332,
          -10.392235577591332,
          -10.392235577591332,
          -9.17489241727193,
          -13.755414601158256,
          -12.491804778384752,
          -14.215011731829454,
          -15.530507943151214,
          -14.753444383019572,
          -10.517972401485277,
          -13.230712037842773,
          -14.98920979899066,
          -11.953383306836553,
          -14.279309157878979,
          -15.062567747979411,
          -16.48028092565472,
          -7.7483499205650945,
          -7.085153953630478,
          -7.716962426102762,
          -12.06012833272644,
          -12.111031945520287,
          -11.896569776403068,
          -11.615862904435103,
          -8.67656103041381,
          -13.623799076974036,
          -10.70650459081837,
          -12.915804368835502,
          -11.108745528191173,
          -11.073468743363321,
          -17.998426205349723,
          -12.311311106238414,
          -14.69969387408431,
          -11.526671767093429,
          -11.526671767093429,
          -11.526671767093429,
          -11.526671767093429,
          -11.526671767093429,
          -11.526671767093429,
          -11.526671767093429,
          -11.526671767093429,
          -15.410101169915432,
          -14.086932407045751,
          -14.386381897788494,
          -16.752960990678805,
          -12.808622719190806,
          -8.977245077137955,
          -15.614534004985643,
          -10.606601660888666,
          -12.798656722898563,
          -14.315072048796265,
          -5.491374904690682,
          -12.200451603201442,
          -14.082137233128954,
          -12.42667419515979,
          -13.862645449806408,
          -11.462483394269176,
          -16.35842240079166,
          -17.210540249574755,
          -10.827935870303884,
          -10.827935870303884,
          -10.827935870303884,
          -10.827935870303884,
          -10.827935870303884,
          -10.827935870303884,
          -10.827935870303884,
          -10.827935870303884,
          -11.28928186193096,
          -11.16664578834523,
          -19.052435819832542,
          -16.47572282204244,
          -11.346976113190832,
          -15.758146014452446,
          -14.802643951945782,
          -10.960494088618733,
          -12.261993290810688,
          -13.016978047060334,
          -15.26457453919509,
          -13.61769639051361,
          -11.785911629493684,
          -15.004969240452402,
          -9.911938180761075,
          -15.799107296518251,
          -14.350610691555877,
          -0.5198502579219391,
          -14.096270719175394,
          -18.960791393135537,
          -15.122456868480317,
          -15.227621776934937,
          -10.289081280183053,
          -17.47859232457336,
          -11.58132043920534,
          -11.58132043920534,
          -11.58132043920534,
          -11.58132043920534,
          -11.58132043920534,
          -11.58132043920534,
          -11.58132043920534,
          -11.58132043920534,
          -15.349494057618099,
          -11.692492550834777,
          -15.05819023537881,
          -15.934042319108727,
          -16.73224901700837,
          -13.821607819141324,
          -13.48740835563598,
          -12.694875310904699,
          -15.970154799505469,
          -13.128916821699656,
          -16.297659753162172,
          -16.297659753162172,
          -16.297659753162172,
          -16.297659753162172,
          -16.297659753162172,
          -16.297659753162172,
          -16.297659753162172,
          -16.297659753162172,
          -12.746186862326262,
          -12.199257560650807,
          -9.748727942155124,
          -13.621047314677377,
          -12.427997958079914,
          -12.617020381158277,
          -10.645180557599858,
          -11.177524699420058,
          -14.939302954303972,
          -9.492009460245603,
          -9.492009460245603,
          -9.492009460245603,
          -9.492009460245603,
          -9.492009460245603,
          -9.492009460245603,
          -9.492009460245603,
          -9.492009460245603,
          -12.021854932017014,
          -7.3110308131812864,
          -16.89849816269546,
          -14.46009635285667,
          -16.209290846199437,
          -15.505587907811009,
          -16.444570936371917,
          -16.919083545756244,
          -8.77419975237228,
          -8.77419975237228,
          -8.77419975237228,
          -8.77419975237228,
          -8.774199752372276,
          -8.774199752372276,
          -8.774199752372276,
          -8.774199752372276,
          -14.244384469066542,
          -10.546396588923026,
          -11.414883296433926,
          -11.26332854797787,
          -13.60242081720404,
          -11.158955739650272,
          -10.943917315899434,
          -10.943917315899434,
          -10.943917315899434,
          -10.943917315899434,
          -10.943917315899434,
          -10.943917315899434,
          -10.943917315899434,
          -10.943917315899434,
          -9.869978733556579,
          -16.779432347394938,
          -13.249031777963758,
          -14.448549740414386,
          -11.637989275930426,
          -16.771885711439843,
          -15.511951901770638,
          -11.43105438419318,
          -10.21976211983459,
          -10.478408354211146,
          -10.478408354211146,
          -10.478408354211146,
          -10.478408354211146,
          -10.478408354211146,
          -10.478408354211146,
          -10.478408354211146,
          -10.478408354211146,
          -11.516246011910319,
          -11.516246011910319,
          -11.516246011910319,
          -11.516246011910319,
          -11.516246011910319,
          -11.516246011910319,
          -11.516246011910319,
          -11.516246011910319,
          -13.545255365899944,
          -10.345251030993593,
          -8.587745890269105,
          -12.255402602528381,
          -15.660506639536573,
          -12.729656410500056,
          -15.488210438952116,
          -11.672813659699635,
          -10.153236710048459,
          -10.63313489420628
         ],
         "xaxis": "x",
         "y": [
          18.29531814309393,
          12.936060563974522,
          -14.858839644214754,
          -17.13136277094674,
          -17.13136277094674,
          -17.13136277094674,
          -17.13136277094674,
          -17.13136277094674,
          -17.13136277094674,
          -17.13136277094674,
          -17.13136277094674,
          -12.33856915373399,
          -5.337947628285174,
          -14.079986887459777,
          20.42441401834273,
          -19.571726815772855,
          -10.79862603404002,
          -11.114245437624787,
          -12.866510123898024,
          -12.866510123898024,
          -12.866510123898024,
          -12.866510123898024,
          -12.866510123898024,
          -12.866510123898024,
          -12.866510123898024,
          -12.866510123898024,
          19.003688068393625,
          -17.190307520264106,
          -17.190307520264106,
          -17.190307520264106,
          -17.190307520264106,
          -17.190307520264106,
          -17.190307520264106,
          -17.190307520264106,
          -17.190307520264106,
          13.682828298570119,
          -6.9536590998966075,
          -12.171505166452476,
          -9.235030197503127,
          10.385985696414295,
          -16.04656274653544,
          -13.914176029805576,
          -4.441044917240448,
          17.741375404972025,
          6.03620366205828,
          -20.956514426592953,
          -20.956514426592953,
          -20.956514426592953,
          -20.956514426592953,
          -20.956514426592953,
          -20.956514426592953,
          -20.956514426592953,
          -20.956514426592953,
          3.7092716190445847,
          3.7092716190445847,
          3.7092716190445847,
          3.7092716190445847,
          3.7092716190445847,
          3.7092716190445847,
          3.7092716190445847,
          3.7092716190445847,
          -2.4000710648648695,
          -10.149683707525302,
          14.589149591753811,
          18.111299760502867,
          12.086698597387414,
          14.93545402720762,
          15.452915772517002,
          -16.43338853818873,
          16.78417989333282,
          -2.344326393156888,
          -16.65635434326922,
          18.07096782818739,
          10.708451746707398,
          -8.982970318598316,
          -16.974805340791434,
          -16.974805340791434,
          -16.974805340791434,
          -16.974805340791434,
          -16.974805340791434,
          -16.974805340791434,
          -16.974805340791434,
          -16.974805340791434,
          -15.518814195371801,
          -6.324529067902526,
          -14.048704246110683,
          -18.20362678720979,
          -12.736907258173975,
          13.368592703163044,
          16.375350866752132,
          -20.113893964350215,
          -20.113893964350215,
          -20.113893964350215,
          -20.113893964350215,
          -20.113893964350215,
          -20.113893964350215,
          -20.113893964350215,
          -20.113893964350215,
          -13.622873922935906,
          -13.622873922935906,
          -13.622873922935906,
          -13.622873922935906,
          -13.622873922935906,
          -13.622873922935906,
          -13.622873922935906,
          -13.622873922935906,
          -10.393853327451389,
          -18.103634303981384,
          -17.894208658868045,
          -13.446743055586017,
          17.750556685214605,
          -16.83010392571532,
          -20.142900951577253,
          -20.142900951577253,
          -20.142900951577253,
          -20.142900951577253,
          -20.142900951577253,
          -20.142900951577253,
          -20.142900951577253,
          -20.142900951577253,
          -14.095232695598476,
          -14.095232695598476,
          -14.095232695598476,
          -14.095232695598476,
          -14.095232695598476,
          -14.095232695598476,
          -14.095232695598476,
          -14.095232695598476,
          17.80350741441446,
          -15.428892591594543,
          -14.903224527551956,
          18.4676120022501,
          -16.892081103444152,
          14.349889274659432,
          4.036257946158986,
          7.296386758837878,
          -15.349989615051362,
          19.17766117494637,
          19.17766117494637,
          19.17766117494637,
          19.17766117494637,
          19.17766117494637,
          19.17766117494637,
          19.17766117494637,
          19.17766117494637,
          19.17766117494637,
          19.17766117494637,
          19.17766117494637,
          19.17766117494637,
          19.17766117494637,
          19.17766117494637,
          19.17766117494637,
          19.17766117494637,
          19.17766117494637,
          19.17766117494637,
          19.17766117494637,
          19.17766117494637,
          19.17766117494637,
          19.17766117494637,
          19.17766117494637,
          19.17766117494637,
          19.17766117494637,
          19.17766117494637,
          19.17766117494637,
          -15.011548553974242,
          15.327654641467017,
          19.00536103448886,
          -13.845447186613084,
          -14.491770085025218,
          -7.428944515162456,
          0.6194004900132621,
          -5.467073469447764,
          -5.155919567235428,
          4.612498003960905,
          -16.00573497025935,
          -14.766885340313925,
          -17.227731543838996,
          -19.41808253092078,
          -19.41808253092078,
          -19.41808253092078,
          -19.41808253092078,
          -19.41808253092078,
          -19.41808253092078,
          -19.41808253092078,
          -19.41808253092078,
          -12.989080032538775,
          17.304260198892297,
          -13.83014804566074,
          -18.844071830080203,
          -18.844071830080203,
          -18.844071830080203,
          -18.844071830080203,
          -18.844071830080203,
          -18.844071830080203,
          -18.844071830080203,
          -18.844071830080203,
          4.889205325961008,
          16.602735317616066,
          17.02137767958524,
          -14.236212268850615,
          -18.334169836059512,
          14.783881177323538,
          -15.886112473696063,
          -17.321991779173786,
          -15.640709138848877,
          -13.493306163328764,
          -13.493306163328764,
          -13.493306163328764,
          -13.493306163328764,
          -13.493306163328764,
          -13.493306163328764,
          -13.493306163328764,
          -13.493306163328764,
          19.631620171700483,
          15.697218021662927,
          -8.172068971019735,
          -12.207553769145619,
          -12.207553769145619,
          -12.207553769145619,
          -12.207553769145619,
          -12.207553769145619,
          -12.207553769145619,
          -12.207553769145619,
          -12.207553769145619,
          15.498438711874806,
          -15.22545884427529,
          -14.673903529258018,
          -14.673903529258018,
          -14.673903529258018,
          -14.673903529258018,
          -14.673903529258018,
          -14.673903529258018,
          -14.673903529258018,
          -14.673903529258018,
          -14.673903529258018,
          -14.673903529258018,
          -14.673903529258018,
          -14.673903529258018,
          -14.673903529258018,
          -14.673903529258018,
          -14.673903529258018,
          -14.673903529258018,
          -14.673903529258018,
          -14.673903529258018,
          -14.673903529258018,
          -14.673903529258018,
          -14.673903529258018,
          -14.673903529258018,
          -14.673903529258018,
          -14.673903529258018,
          -14.673903529258018,
          -14.673903529258018,
          -14.673903529258018,
          -17.352057412474455,
          -11.337146057127502,
          -11.337146057127502,
          -11.337146057127502,
          -11.337146057127502,
          -11.337146057127502,
          -11.337146057127502,
          -11.337146057127502,
          -11.337146057127502,
          11.94246567485344,
          19.352027979428204,
          -10.308592404044466,
          18.415354310047263,
          17.874410027689162,
          14.920408403481678,
          -17.317704281528087,
          10.291496038095516,
          -15.456974125358059,
          -16.27851106471738,
          13.991262289883169,
          -12.234080754798779,
          5.493312608211268,
          -1.1525098418477264,
          -7.827318059406999,
          12.818037166322794,
          -13.366532534395958,
          -18.591884265520463,
          -13.221272225124608,
          -11.873354830593128,
          -14.072708930510494,
          11.252316393009977,
          -19.78339043172293,
          -19.369276674549624,
          -18.21330369002137,
          -13.988997191451233,
          17.59479240652504,
          -7.701308689745123,
          16.991496099437146,
          -18.112027798443503,
          -18.112027798443503,
          -18.112027798443503,
          -18.112027798443503,
          -18.112027798443503,
          -18.112027798443503,
          -18.112027798443503,
          -18.112027798443503,
          -13.24344866437673,
          -13.313522657256195,
          -17.741019687984142,
          12.66656685998465,
          -18.632063451298702,
          -19.45775509529869,
          -5.50817243495149,
          -9.906693449063766,
          -12.286626214752523,
          19.772305479994458,
          -4.166642463253078,
          -9.741887598951504,
          16.20875960958579,
          -17.75595747912301,
          -15.369377900910234,
          12.26295063298664,
          18.190658734289467,
          16.999667486760238,
          -18.73949269448033,
          -18.73949269448033,
          -18.73949269448033,
          -18.73949269448033,
          -18.73949269448033,
          -18.73949269448033,
          -18.73949269448033,
          -18.73949269448033,
          9.208525812216607,
          -18.215968799507838,
          13.898685882863411,
          -10.935104425726967,
          -10.064292529577237,
          18.61857183865209,
          11.949604366424348,
          -8.063164881153382,
          -16.167727558713626,
          -14.323807202187096,
          16.897960497695873,
          -17.36705943747534,
          -17.014315350121763,
          17.030615331400043,
          -13.03201649625595,
          13.261411529510225,
          -6.443877979822364,
          -4.610100485415552,
          13.789013433372043,
          15.588144238734051,
          17.657150075608744,
          11.60383769427013,
          -15.558576352876873,
          16.61044659469755,
          -16.402017478859758,
          -16.402017478859758,
          -16.402017478859758,
          -16.402017478859758,
          -16.402017478859758,
          -16.402017478859758,
          -16.402017478859758,
          -16.402017478859758,
          15.918960151308438,
          -18.22013114851657,
          18.508549779471046,
          17.127824232173218,
          18.6605679416,
          18.15148881035995,
          14.721808033157583,
          -7.325062079648629,
          9.617597579684933,
          10.158312017577028,
          14.785673038312321,
          14.785673038312321,
          14.785673038312321,
          14.785673038312321,
          14.785673038312321,
          14.785673038312321,
          14.785673038312321,
          14.785673038312321,
          -7.624683788402302,
          12.802436649249874,
          -13.752713822210367,
          -15.39465499765341,
          -8.73157745149245,
          -0.14882788194093832,
          -19.004023423254186,
          -10.983080220051301,
          6.017628045513921,
          -18.87965250893377,
          -18.87965250893377,
          -18.87965250893377,
          -18.87965250893377,
          -18.87965250893377,
          -18.87965250893377,
          -18.87965250893377,
          -18.87965250893377,
          -14.927995788728277,
          16.91091099889429,
          10.373364834034074,
          -17.376695029652325,
          16.307297242586834,
          -14.134925541237514,
          20.88466080047518,
          8.806786199790778,
          -18.41790950880222,
          -18.41790950880222,
          -18.41790950880222,
          -18.41790950880222,
          -18.417909508802218,
          -18.417909508802218,
          -18.417909508802218,
          -18.417909508802218,
          16.80327541396756,
          -13.85227880021652,
          -16.450583018933028,
          -13.839739008104877,
          -10.085677076871484,
          19.356322556719352,
          -20.068812645012617,
          -20.068812645012617,
          -20.068812645012617,
          -20.068812645012617,
          -20.068812645012617,
          -20.068812645012617,
          -20.068812645012617,
          -20.068812645012617,
          -17.292651144470174,
          10.118916462941547,
          -14.642423262829709,
          14.935602052310347,
          11.438805252613896,
          20.518283637974516,
          7.406035189088401,
          -17.087159670187,
          -19.032211689579594,
          -18.80700727629154,
          -18.80700727629154,
          -18.80700727629154,
          -18.80700727629154,
          -18.80700727629154,
          -18.80700727629154,
          -18.80700727629154,
          -18.80700727629154,
          -17.222267021629477,
          -17.222267021629477,
          -17.222267021629477,
          -17.222267021629477,
          -17.222267021629477,
          -17.222267021629477,
          -17.222267021629477,
          -17.222267021629477,
          17.254674701965563,
          -18.175570283385955,
          -8.255548676490832,
          9.04639834317728,
          -11.970434332093044,
          -14.011514675134372,
          13.315799135070668,
          -14.10726019746443,
          -15.868289944449609,
          -17.521186554543505
         ],
         "yaxis": "y"
        }
       ],
       "layout": {
        "legend": {
         "itemsizing": "constant",
         "title": {
          "text": "gender"
         },
         "tracegroupgap": 0
        },
        "margin": {
         "t": 60
        },
        "template": {
         "data": {
          "bar": [
           {
            "error_x": {
             "color": "#2a3f5f"
            },
            "error_y": {
             "color": "#2a3f5f"
            },
            "marker": {
             "line": {
              "color": "#E5ECF6",
              "width": 0.5
             }
            },
            "type": "bar"
           }
          ],
          "barpolar": [
           {
            "marker": {
             "line": {
              "color": "#E5ECF6",
              "width": 0.5
             }
            },
            "type": "barpolar"
           }
          ],
          "carpet": [
           {
            "aaxis": {
             "endlinecolor": "#2a3f5f",
             "gridcolor": "white",
             "linecolor": "white",
             "minorgridcolor": "white",
             "startlinecolor": "#2a3f5f"
            },
            "baxis": {
             "endlinecolor": "#2a3f5f",
             "gridcolor": "white",
             "linecolor": "white",
             "minorgridcolor": "white",
             "startlinecolor": "#2a3f5f"
            },
            "type": "carpet"
           }
          ],
          "choropleth": [
           {
            "colorbar": {
             "outlinewidth": 0,
             "ticks": ""
            },
            "type": "choropleth"
           }
          ],
          "contour": [
           {
            "colorbar": {
             "outlinewidth": 0,
             "ticks": ""
            },
            "colorscale": [
             [
              0,
              "#0d0887"
             ],
             [
              0.1111111111111111,
              "#46039f"
             ],
             [
              0.2222222222222222,
              "#7201a8"
             ],
             [
              0.3333333333333333,
              "#9c179e"
             ],
             [
              0.4444444444444444,
              "#bd3786"
             ],
             [
              0.5555555555555556,
              "#d8576b"
             ],
             [
              0.6666666666666666,
              "#ed7953"
             ],
             [
              0.7777777777777778,
              "#fb9f3a"
             ],
             [
              0.8888888888888888,
              "#fdca26"
             ],
             [
              1,
              "#f0f921"
             ]
            ],
            "type": "contour"
           }
          ],
          "contourcarpet": [
           {
            "colorbar": {
             "outlinewidth": 0,
             "ticks": ""
            },
            "type": "contourcarpet"
           }
          ],
          "heatmap": [
           {
            "colorbar": {
             "outlinewidth": 0,
             "ticks": ""
            },
            "colorscale": [
             [
              0,
              "#0d0887"
             ],
             [
              0.1111111111111111,
              "#46039f"
             ],
             [
              0.2222222222222222,
              "#7201a8"
             ],
             [
              0.3333333333333333,
              "#9c179e"
             ],
             [
              0.4444444444444444,
              "#bd3786"
             ],
             [
              0.5555555555555556,
              "#d8576b"
             ],
             [
              0.6666666666666666,
              "#ed7953"
             ],
             [
              0.7777777777777778,
              "#fb9f3a"
             ],
             [
              0.8888888888888888,
              "#fdca26"
             ],
             [
              1,
              "#f0f921"
             ]
            ],
            "type": "heatmap"
           }
          ],
          "heatmapgl": [
           {
            "colorbar": {
             "outlinewidth": 0,
             "ticks": ""
            },
            "colorscale": [
             [
              0,
              "#0d0887"
             ],
             [
              0.1111111111111111,
              "#46039f"
             ],
             [
              0.2222222222222222,
              "#7201a8"
             ],
             [
              0.3333333333333333,
              "#9c179e"
             ],
             [
              0.4444444444444444,
              "#bd3786"
             ],
             [
              0.5555555555555556,
              "#d8576b"
             ],
             [
              0.6666666666666666,
              "#ed7953"
             ],
             [
              0.7777777777777778,
              "#fb9f3a"
             ],
             [
              0.8888888888888888,
              "#fdca26"
             ],
             [
              1,
              "#f0f921"
             ]
            ],
            "type": "heatmapgl"
           }
          ],
          "histogram": [
           {
            "marker": {
             "colorbar": {
              "outlinewidth": 0,
              "ticks": ""
             }
            },
            "type": "histogram"
           }
          ],
          "histogram2d": [
           {
            "colorbar": {
             "outlinewidth": 0,
             "ticks": ""
            },
            "colorscale": [
             [
              0,
              "#0d0887"
             ],
             [
              0.1111111111111111,
              "#46039f"
             ],
             [
              0.2222222222222222,
              "#7201a8"
             ],
             [
              0.3333333333333333,
              "#9c179e"
             ],
             [
              0.4444444444444444,
              "#bd3786"
             ],
             [
              0.5555555555555556,
              "#d8576b"
             ],
             [
              0.6666666666666666,
              "#ed7953"
             ],
             [
              0.7777777777777778,
              "#fb9f3a"
             ],
             [
              0.8888888888888888,
              "#fdca26"
             ],
             [
              1,
              "#f0f921"
             ]
            ],
            "type": "histogram2d"
           }
          ],
          "histogram2dcontour": [
           {
            "colorbar": {
             "outlinewidth": 0,
             "ticks": ""
            },
            "colorscale": [
             [
              0,
              "#0d0887"
             ],
             [
              0.1111111111111111,
              "#46039f"
             ],
             [
              0.2222222222222222,
              "#7201a8"
             ],
             [
              0.3333333333333333,
              "#9c179e"
             ],
             [
              0.4444444444444444,
              "#bd3786"
             ],
             [
              0.5555555555555556,
              "#d8576b"
             ],
             [
              0.6666666666666666,
              "#ed7953"
             ],
             [
              0.7777777777777778,
              "#fb9f3a"
             ],
             [
              0.8888888888888888,
              "#fdca26"
             ],
             [
              1,
              "#f0f921"
             ]
            ],
            "type": "histogram2dcontour"
           }
          ],
          "mesh3d": [
           {
            "colorbar": {
             "outlinewidth": 0,
             "ticks": ""
            },
            "type": "mesh3d"
           }
          ],
          "parcoords": [
           {
            "line": {
             "colorbar": {
              "outlinewidth": 0,
              "ticks": ""
             }
            },
            "type": "parcoords"
           }
          ],
          "pie": [
           {
            "automargin": true,
            "type": "pie"
           }
          ],
          "scatter": [
           {
            "marker": {
             "colorbar": {
              "outlinewidth": 0,
              "ticks": ""
             }
            },
            "type": "scatter"
           }
          ],
          "scatter3d": [
           {
            "line": {
             "colorbar": {
              "outlinewidth": 0,
              "ticks": ""
             }
            },
            "marker": {
             "colorbar": {
              "outlinewidth": 0,
              "ticks": ""
             }
            },
            "type": "scatter3d"
           }
          ],
          "scattercarpet": [
           {
            "marker": {
             "colorbar": {
              "outlinewidth": 0,
              "ticks": ""
             }
            },
            "type": "scattercarpet"
           }
          ],
          "scattergeo": [
           {
            "marker": {
             "colorbar": {
              "outlinewidth": 0,
              "ticks": ""
             }
            },
            "type": "scattergeo"
           }
          ],
          "scattergl": [
           {
            "marker": {
             "colorbar": {
              "outlinewidth": 0,
              "ticks": ""
             }
            },
            "type": "scattergl"
           }
          ],
          "scattermapbox": [
           {
            "marker": {
             "colorbar": {
              "outlinewidth": 0,
              "ticks": ""
             }
            },
            "type": "scattermapbox"
           }
          ],
          "scatterpolar": [
           {
            "marker": {
             "colorbar": {
              "outlinewidth": 0,
              "ticks": ""
             }
            },
            "type": "scatterpolar"
           }
          ],
          "scatterpolargl": [
           {
            "marker": {
             "colorbar": {
              "outlinewidth": 0,
              "ticks": ""
             }
            },
            "type": "scatterpolargl"
           }
          ],
          "scatterternary": [
           {
            "marker": {
             "colorbar": {
              "outlinewidth": 0,
              "ticks": ""
             }
            },
            "type": "scatterternary"
           }
          ],
          "surface": [
           {
            "colorbar": {
             "outlinewidth": 0,
             "ticks": ""
            },
            "colorscale": [
             [
              0,
              "#0d0887"
             ],
             [
              0.1111111111111111,
              "#46039f"
             ],
             [
              0.2222222222222222,
              "#7201a8"
             ],
             [
              0.3333333333333333,
              "#9c179e"
             ],
             [
              0.4444444444444444,
              "#bd3786"
             ],
             [
              0.5555555555555556,
              "#d8576b"
             ],
             [
              0.6666666666666666,
              "#ed7953"
             ],
             [
              0.7777777777777778,
              "#fb9f3a"
             ],
             [
              0.8888888888888888,
              "#fdca26"
             ],
             [
              1,
              "#f0f921"
             ]
            ],
            "type": "surface"
           }
          ],
          "table": [
           {
            "cells": {
             "fill": {
              "color": "#EBF0F8"
             },
             "line": {
              "color": "white"
             }
            },
            "header": {
             "fill": {
              "color": "#C8D4E3"
             },
             "line": {
              "color": "white"
             }
            },
            "type": "table"
           }
          ]
         },
         "layout": {
          "annotationdefaults": {
           "arrowcolor": "#2a3f5f",
           "arrowhead": 0,
           "arrowwidth": 1
          },
          "coloraxis": {
           "colorbar": {
            "outlinewidth": 0,
            "ticks": ""
           }
          },
          "colorscale": {
           "diverging": [
            [
             0,
             "#8e0152"
            ],
            [
             0.1,
             "#c51b7d"
            ],
            [
             0.2,
             "#de77ae"
            ],
            [
             0.3,
             "#f1b6da"
            ],
            [
             0.4,
             "#fde0ef"
            ],
            [
             0.5,
             "#f7f7f7"
            ],
            [
             0.6,
             "#e6f5d0"
            ],
            [
             0.7,
             "#b8e186"
            ],
            [
             0.8,
             "#7fbc41"
            ],
            [
             0.9,
             "#4d9221"
            ],
            [
             1,
             "#276419"
            ]
           ],
           "sequential": [
            [
             0,
             "#0d0887"
            ],
            [
             0.1111111111111111,
             "#46039f"
            ],
            [
             0.2222222222222222,
             "#7201a8"
            ],
            [
             0.3333333333333333,
             "#9c179e"
            ],
            [
             0.4444444444444444,
             "#bd3786"
            ],
            [
             0.5555555555555556,
             "#d8576b"
            ],
            [
             0.6666666666666666,
             "#ed7953"
            ],
            [
             0.7777777777777778,
             "#fb9f3a"
            ],
            [
             0.8888888888888888,
             "#fdca26"
            ],
            [
             1,
             "#f0f921"
            ]
           ],
           "sequentialminus": [
            [
             0,
             "#0d0887"
            ],
            [
             0.1111111111111111,
             "#46039f"
            ],
            [
             0.2222222222222222,
             "#7201a8"
            ],
            [
             0.3333333333333333,
             "#9c179e"
            ],
            [
             0.4444444444444444,
             "#bd3786"
            ],
            [
             0.5555555555555556,
             "#d8576b"
            ],
            [
             0.6666666666666666,
             "#ed7953"
            ],
            [
             0.7777777777777778,
             "#fb9f3a"
            ],
            [
             0.8888888888888888,
             "#fdca26"
            ],
            [
             1,
             "#f0f921"
            ]
           ]
          },
          "colorway": [
           "#636efa",
           "#EF553B",
           "#00cc96",
           "#ab63fa",
           "#FFA15A",
           "#19d3f3",
           "#FF6692",
           "#B6E880",
           "#FF97FF",
           "#FECB52"
          ],
          "font": {
           "color": "#2a3f5f"
          },
          "geo": {
           "bgcolor": "white",
           "lakecolor": "white",
           "landcolor": "#E5ECF6",
           "showlakes": true,
           "showland": true,
           "subunitcolor": "white"
          },
          "hoverlabel": {
           "align": "left"
          },
          "hovermode": "closest",
          "mapbox": {
           "style": "light"
          },
          "paper_bgcolor": "white",
          "plot_bgcolor": "#E5ECF6",
          "polar": {
           "angularaxis": {
            "gridcolor": "white",
            "linecolor": "white",
            "ticks": ""
           },
           "bgcolor": "#E5ECF6",
           "radialaxis": {
            "gridcolor": "white",
            "linecolor": "white",
            "ticks": ""
           }
          },
          "scene": {
           "xaxis": {
            "backgroundcolor": "#E5ECF6",
            "gridcolor": "white",
            "gridwidth": 2,
            "linecolor": "white",
            "showbackground": true,
            "ticks": "",
            "zerolinecolor": "white"
           },
           "yaxis": {
            "backgroundcolor": "#E5ECF6",
            "gridcolor": "white",
            "gridwidth": 2,
            "linecolor": "white",
            "showbackground": true,
            "ticks": "",
            "zerolinecolor": "white"
           },
           "zaxis": {
            "backgroundcolor": "#E5ECF6",
            "gridcolor": "white",
            "gridwidth": 2,
            "linecolor": "white",
            "showbackground": true,
            "ticks": "",
            "zerolinecolor": "white"
           }
          },
          "shapedefaults": {
           "line": {
            "color": "#2a3f5f"
           }
          },
          "ternary": {
           "aaxis": {
            "gridcolor": "white",
            "linecolor": "white",
            "ticks": ""
           },
           "baxis": {
            "gridcolor": "white",
            "linecolor": "white",
            "ticks": ""
           },
           "bgcolor": "#E5ECF6",
           "caxis": {
            "gridcolor": "white",
            "linecolor": "white",
            "ticks": ""
           }
          },
          "title": {
           "x": 0.05
          },
          "xaxis": {
           "automargin": true,
           "gridcolor": "white",
           "linecolor": "white",
           "ticks": "",
           "title": {
            "standoff": 15
           },
           "zerolinecolor": "white",
           "zerolinewidth": 2
          },
          "yaxis": {
           "automargin": true,
           "gridcolor": "white",
           "linecolor": "white",
           "ticks": "",
           "title": {
            "standoff": 15
           },
           "zerolinecolor": "white",
           "zerolinewidth": 2
          }
         }
        },
        "xaxis": {
         "anchor": "y",
         "domain": [
          0,
          1
         ],
         "title": {
          "text": "PCA-0"
         }
        },
        "yaxis": {
         "anchor": "x",
         "domain": [
          0,
          1
         ],
         "title": {
          "text": "PCA-1"
         }
        }
       }
      },
      "text/html": [
       "<div>\n",
       "        \n",
       "        \n",
       "            <div id=\"fec69a38-b3d6-4e40-9a0d-c5f3df974ec2\" class=\"plotly-graph-div\" style=\"height:525px; width:100%;\"></div>\n",
       "            <script type=\"text/javascript\">\n",
       "                require([\"plotly\"], function(Plotly) {\n",
       "                    window.PLOTLYENV=window.PLOTLYENV || {};\n",
       "                    \n",
       "                if (document.getElementById(\"fec69a38-b3d6-4e40-9a0d-c5f3df974ec2\")) {\n",
       "                    Plotly.newPlot(\n",
       "                        'fec69a38-b3d6-4e40-9a0d-c5f3df974ec2',\n",
       "                        [{\"customdata\": [[\"not reported\"], [\"not hispanic or latino\"], [\"not hispanic or latino\"], [\"not reported\"], [\"not hispanic or latino\"], [\"not hispanic or latino\"], [\"not hispanic or latino\"], [\"not hispanic or latino\"], [\"not hispanic or latino\"], [\"not hispanic or latino\"], [\"not hispanic or latino\"], [\"not hispanic or latino\"], [\"not hispanic or latino\"], [\"not hispanic or latino\"], [\"not reported\"], [\"not hispanic or latino\"], [\"not hispanic or latino\"], [\"not reported\"], [\"not hispanic or latino\"], [\"not hispanic or latino\"], [\"not hispanic or latino\"], [\"not reported\"], [\"not hispanic or latino\"], [\"not reported\"], [\"not hispanic or latino\"], [\"not hispanic or latino\"], [\"not reported\"], [\"not hispanic or latino\"], [\"not hispanic or latino\"], [\"not hispanic or latino\"], [\"not hispanic or latino\"], [\"not hispanic or latino\"], [\"not hispanic or latino\"], [\"not hispanic or latino\"], [\"not hispanic or latino\"], [\"not hispanic or latino\"], [\"not reported\"], [\"not hispanic or latino\"], [\"not hispanic or latino\"], [\"not hispanic or latino\"], [\"not hispanic or latino\"], [\"not reported\"], [\"not reported\"], [\"not reported\"], [\"not hispanic or latino\"], [\"not hispanic or latino\"], [\"not hispanic or latino\"], [\"not hispanic or latino\"], [\"not reported\"], [\"not hispanic or latino\"], [\"not reported\"], [\"not hispanic or latino\"], [\"not hispanic or latino\"], [\"not reported\"], [\"not reported\"], [\"not reported\"], [\"not hispanic or latino\"], [\"not reported\"], [\"hispanic or latino\"], [\"not hispanic or latino\"], [\"not reported\"], [\"not reported\"], [\"not hispanic or latino\"], [\"not hispanic or latino\"], [\"hispanic or latino\"], [\"not hispanic or latino\"], [\"not hispanic or latino\"], [\"not reported\"], [\"not hispanic or latino\"], [\"not hispanic or latino\"], [\"not reported\"], [\"not hispanic or latino\"], [\"not hispanic or latino\"], [\"not reported\"], [\"not hispanic or latino\"], [\"not hispanic or latino\"], [\"not hispanic or latino\"], [\"not hispanic or latino\"], [\"not hispanic or latino\"], [\"not hispanic or latino\"], [\"not hispanic or latino\"], [\"not hispanic or latino\"], [\"not hispanic or latino\"], [\"not hispanic or latino\"], [\"not hispanic or latino\"], [\"not hispanic or latino\"], [\"not hispanic or latino\"], [\"not reported\"], [\"not hispanic or latino\"], [\"not reported\"], [\"not hispanic or latino\"], [\"not reported\"], [\"not reported\"], [\"not hispanic or latino\"], [\"not hispanic or latino\"], [\"not reported\"], [\"not hispanic or latino\"], [\"not hispanic or latino\"], [\"not hispanic or latino\"], [\"not hispanic or latino\"], [\"not hispanic or latino\"], [\"not hispanic or latino\"], [\"not hispanic or latino\"], [\"not reported\"], [\"not reported\"], [\"not hispanic or latino\"], [\"not reported\"], [\"not hispanic or latino\"], [\"not hispanic or latino\"], [\"not hispanic or latino\"], [\"not hispanic or latino\"], [\"not hispanic or latino\"], [\"not hispanic or latino\"], [\"not hispanic or latino\"], [\"not hispanic or latino\"], [\"not hispanic or latino\"], [\"not hispanic or latino\"], [\"not reported\"], [\"not hispanic or latino\"], [\"not hispanic or latino\"], [\"not hispanic or latino\"], [\"not hispanic or latino\"], [\"not hispanic or latino\"], [\"not hispanic or latino\"], [\"not hispanic or latino\"], [\"not hispanic or latino\"], [\"not hispanic or latino\"], [\"not hispanic or latino\"], [\"not hispanic or latino\"], [\"not hispanic or latino\"], [\"not hispanic or latino\"], [\"not hispanic or latino\"], [\"not hispanic or latino\"], [\"not reported\"], [\"not hispanic or latino\"], [\"not hispanic or latino\"], [\"hispanic or latino\"], [\"not hispanic or latino\"], [\"not reported\"], [\"not hispanic or latino\"], [\"not hispanic or latino\"], [\"not hispanic or latino\"], [\"not hispanic or latino\"], [\"not hispanic or latino\"], [\"not hispanic or latino\"], [\"not hispanic or latino\"], [\"not reported\"], [\"not hispanic or latino\"], [\"not hispanic or latino\"], [\"not hispanic or latino\"], [\"not hispanic or latino\"], [\"not hispanic or latino\"], [\"not hispanic or latino\"], [\"not hispanic or latino\"], [\"not hispanic or latino\"], [\"hispanic or latino\"], [\"not hispanic or latino\"], [\"not hispanic or latino\"], [\"not hispanic or latino\"], [\"not hispanic or latino\"], [\"not hispanic or latino\"], [\"not hispanic or latino\"], [\"not hispanic or latino\"], [\"not reported\"], [\"not hispanic or latino\"], [\"not hispanic or latino\"], [\"not hispanic or latino\"], [\"not hispanic or latino\"], [\"not hispanic or latino\"], [\"not hispanic or latino\"], [\"not hispanic or latino\"], [\"not hispanic or latino\"], [\"not hispanic or latino\"], [\"not hispanic or latino\"], [\"not hispanic or latino\"], [\"not hispanic or latino\"], [\"not hispanic or latino\"], [\"not hispanic or latino\"], [\"not hispanic or latino\"], [\"not hispanic or latino\"], [\"not hispanic or latino\"], [\"not hispanic or latino\"], [\"not hispanic or latino\"], [\"not hispanic or latino\"], [\"not reported\"], [\"not hispanic or latino\"], [\"not hispanic or latino\"], [\"not hispanic or latino\"], [\"not hispanic or latino\"], [\"not reported\"], [\"not hispanic or latino\"], [\"not reported\"], [\"not hispanic or latino\"], [\"not reported\"], [\"not hispanic or latino\"], [\"not hispanic or latino\"], [\"not hispanic or latino\"], [\"not hispanic or latino\"], [\"not hispanic or latino\"], [\"not hispanic or latino\"], [\"not hispanic or latino\"], [\"not reported\"], [\"not reported\"], [\"not hispanic or latino\"], [\"not hispanic or latino\"], [\"not hispanic or latino\"], [\"not hispanic or latino\"], [\"not hispanic or latino\"], [\"not hispanic or latino\"], [\"not hispanic or latino\"], [\"not hispanic or latino\"], [\"not hispanic or latino\"], [\"not hispanic or latino\"], [\"not hispanic or latino\"], [\"not hispanic or latino\"], [\"not hispanic or latino\"], [\"not hispanic or latino\"], [\"not hispanic or latino\"], [\"not hispanic or latino\"], [\"not reported\"], [\"not hispanic or latino\"], [\"not hispanic or latino\"], [\"not hispanic or latino\"], [\"not hispanic or latino\"], [\"not hispanic or latino\"], [\"not hispanic or latino\"], [\"not reported\"], [\"not hispanic or latino\"], [\"not reported\"], [\"not reported\"], [\"not reported\"], [\"not hispanic or latino\"], [\"not hispanic or latino\"], [\"not hispanic or latino\"], [\"not hispanic or latino\"], [\"not hispanic or latino\"], [\"not hispanic or latino\"], [\"not hispanic or latino\"], [\"not hispanic or latino\"], [\"not hispanic or latino\"], [\"not hispanic or latino\"], [\"not hispanic or latino\"], [\"not hispanic or latino\"], [\"not hispanic or latino\"], [\"not hispanic or latino\"], [\"not hispanic or latino\"], [\"not hispanic or latino\"], [\"not hispanic or latino\"], [\"not hispanic or latino\"], [\"not hispanic or latino\"], [\"not hispanic or latino\"], [\"not hispanic or latino\"], [\"not hispanic or latino\"], [\"not hispanic or latino\"], [\"not hispanic or latino\"], [\"not hispanic or latino\"], [\"not hispanic or latino\"], [\"not hispanic or latino\"], [\"not hispanic or latino\"], [\"not hispanic or latino\"], [\"not hispanic or latino\"], [\"not hispanic or latino\"], [\"not hispanic or latino\"], [\"not hispanic or latino\"], [\"not hispanic or latino\"], [\"not hispanic or latino\"], [\"not hispanic or latino\"], [\"not hispanic or latino\"], [\"not hispanic or latino\"], [\"not hispanic or latino\"], [\"not hispanic or latino\"], [\"not reported\"], [\"not reported\"], [\"not hispanic or latino\"], [\"not hispanic or latino\"], [\"not reported\"], [\"not hispanic or latino\"], [\"not reported\"], [\"not reported\"], [\"not reported\"], [\"not hispanic or latino\"], [\"not hispanic or latino\"], [\"not reported\"], [\"not reported\"], [\"not reported\"], [\"not reported\"], [\"not hispanic or latino\"], [\"not hispanic or latino\"], [\"not hispanic or latino\"], [\"not reported\"], [\"not reported\"], [\"not hispanic or latino\"], [\"not hispanic or latino\"], [\"not hispanic or latino\"], [\"not hispanic or latino\"], [\"not hispanic or latino\"], [\"not hispanic or latino\"], [\"not hispanic or latino\"], [\"not hispanic or latino\"], [\"not hispanic or latino\"], [\"not hispanic or latino\"], [\"not reported\"], [\"not hispanic or latino\"], [\"not hispanic or latino\"], [\"not hispanic or latino\"], [\"not hispanic or latino\"], [\"not reported\"], [\"not hispanic or latino\"], [\"not hispanic or latino\"], [\"not hispanic or latino\"], [\"not hispanic or latino\"], [\"not hispanic or latino\"], [\"not hispanic or latino\"], [\"not hispanic or latino\"], [\"not hispanic or latino\"], [\"not hispanic or latino\"], [\"not hispanic or latino\"], [\"not hispanic or latino\"], [\"not hispanic or latino\"], [\"not hispanic or latino\"], [\"not hispanic or latino\"], [\"not reported\"], [\"hispanic or latino\"], [\"not hispanic or latino\"], [\"not hispanic or latino\"], [\"not reported\"], [\"not reported\"], [\"not reported\"], [\"not reported\"], [\"not reported\"], [\"not reported\"], [\"not reported\"], [\"not reported\"], [\"not hispanic or latino\"], [\"not reported\"], [\"not hispanic or latino\"], [\"not hispanic or latino\"], [\"not hispanic or latino\"], [\"not hispanic or latino\"], [\"not hispanic or latino\"], [\"not hispanic or latino\"], [\"not hispanic or latino\"], [\"not hispanic or latino\"], [\"not hispanic or latino\"], [\"not hispanic or latino\"], [\"not hispanic or latino\"], [\"not hispanic or latino\"], [\"not hispanic or latino\"], [\"not reported\"], [\"not hispanic or latino\"], [\"not hispanic or latino\"], [\"not hispanic or latino\"], [\"not hispanic or latino\"], [\"not reported\"], [\"not reported\"], [\"not reported\"], [\"not hispanic or latino\"], [\"not hispanic or latino\"], [\"not reported\"], [\"not reported\"], [\"not reported\"], [\"not reported\"], [\"not reported\"], [\"not reported\"], [\"not reported\"], [\"not reported\"], [\"not reported\"], [\"not hispanic or latino\"], [\"not hispanic or latino\"], [\"not reported\"], [\"not hispanic or latino\"], [\"not hispanic or latino\"], [\"not reported\"], [\"not hispanic or latino\"], [\"not reported\"], [\"hispanic or latino\"], [\"not hispanic or latino\"], [\"not hispanic or latino\"], [\"not hispanic or latino\"], [\"not reported\"], [\"not reported\"], [\"not reported\"], [\"not hispanic or latino\"], [\"not hispanic or latino\"], [\"not hispanic or latino\"], [\"not hispanic or latino\"], [\"not hispanic or latino\"], [\"not hispanic or latino\"], [\"not hispanic or latino\"], [\"not hispanic or latino\"], [\"not hispanic or latino\"], [\"not hispanic or latino\"], [\"not reported\"], [\"not hispanic or latino\"], [\"not hispanic or latino\"], [\"not hispanic or latino\"], [\"not hispanic or latino\"], [\"not hispanic or latino\"], [\"not hispanic or latino\"], [\"not hispanic or latino\"], [\"not hispanic or latino\"], [\"not hispanic or latino\"], [\"not hispanic or latino\"], [\"not hispanic or latino\"], [\"not hispanic or latino\"], [\"not reported\"], [\"not reported\"], [\"not reported\"], [\"not hispanic or latino\"], [\"not hispanic or latino\"], [\"not hispanic or latino\"], [\"not hispanic or latino\"], [\"not hispanic or latino\"], [\"not hispanic or latino\"], [\"not hispanic or latino\"], [\"not hispanic or latino\"], [\"not hispanic or latino\"], [\"not hispanic or latino\"], [\"not hispanic or latino\"], [\"not hispanic or latino\"], [\"not reported\"], [\"not hispanic or latino\"], [\"not hispanic or latino\"], [\"not hispanic or latino\"], [\"not hispanic or latino\"], [\"not hispanic or latino\"], [\"not hispanic or latino\"], [\"not hispanic or latino\"], [\"not hispanic or latino\"], [\"not hispanic or latino\"], [\"not hispanic or latino\"], [\"not hispanic or latino\"], [\"not hispanic or latino\"], [\"not hispanic or latino\"], [\"not hispanic or latino\"], [\"not hispanic or latino\"], [\"not hispanic or latino\"], [\"not hispanic or latino\"], [\"not hispanic or latino\"], [\"not hispanic or latino\"], [\"not hispanic or latino\"], [\"not hispanic or latino\"], [\"not hispanic or latino\"], [\"not reported\"], [\"not hispanic or latino\"], [\"not hispanic or latino\"], [\"not reported\"], [\"not reported\"], [\"not hispanic or latino\"], [\"not reported\"], [\"not hispanic or latino\"], [\"not hispanic or latino\"], [\"not reported\"], [\"not hispanic or latino\"], [\"not hispanic or latino\"], [\"not reported\"], [\"not reported\"], [\"not reported\"], [\"not reported\"], [\"not reported\"], [\"not reported\"], [\"not reported\"], [\"not reported\"], [\"not reported\"], [\"not reported\"], [\"not reported\"], [\"not hispanic or latino\"], [\"not hispanic or latino\"], [\"not hispanic or latino\"], [\"not hispanic or latino\"], [\"not reported\"], [\"not hispanic or latino\"], [\"not hispanic or latino\"], [\"not hispanic or latino\"], [\"not hispanic or latino\"], [\"not hispanic or latino\"], [\"not hispanic or latino\"], [\"not hispanic or latino\"], [\"not hispanic or latino\"], [\"not hispanic or latino\"], [\"not hispanic or latino\"], [\"not hispanic or latino\"], [\"not hispanic or latino\"], [\"not reported\"], [\"not hispanic or latino\"], [\"not reported\"], [\"not hispanic or latino\"], [\"not hispanic or latino\"], [\"not hispanic or latino\"], [\"not hispanic or latino\"], [\"not hispanic or latino\"], [\"not hispanic or latino\"], [\"not reported\"], [\"not hispanic or latino\"], [\"not reported\"], [\"not hispanic or latino\"], [\"not hispanic or latino\"], [\"not reported\"], [\"not reported\"], [\"not reported\"], [\"not hispanic or latino\"], [\"not reported\"], [\"not reported\"], [\"not hispanic or latino\"], [\"not hispanic or latino\"], [\"not hispanic or latino\"], [\"not hispanic or latino\"], [\"not hispanic or latino\"], [\"not hispanic or latino\"], [\"not hispanic or latino\"], [\"not hispanic or latino\"], [\"not hispanic or latino\"], [\"not hispanic or latino\"], [\"not hispanic or latino\"], [\"not reported\"], [\"not reported\"], [\"not reported\"], [\"not hispanic or latino\"], [\"not reported\"], [\"not reported\"], [\"not hispanic or latino\"], [\"not hispanic or latino\"], [\"not reported\"], [\"not hispanic or latino\"], [\"not hispanic or latino\"], [\"not hispanic or latino\"], [\"not hispanic or latino\"], [\"not hispanic or latino\"], [\"not hispanic or latino\"], [\"not hispanic or latino\"], [\"not reported\"], [\"not hispanic or latino\"], [\"not hispanic or latino\"], [\"not hispanic or latino\"], [\"not hispanic or latino\"], [\"not reported\"], [\"not hispanic or latino\"], [\"not hispanic or latino\"], [\"not hispanic or latino\"], [\"not hispanic or latino\"], [\"not hispanic or latino\"], [\"not hispanic or latino\"], [\"not hispanic or latino\"], [\"not hispanic or latino\"], [\"not hispanic or latino\"], [\"not hispanic or latino\"], [\"not hispanic or latino\"], [\"not reported\"], [\"not reported\"], [\"not hispanic or latino\"], [\"not reported\"], [\"not hispanic or latino\"], [\"not hispanic or latino\"], [\"not hispanic or latino\"], [\"not hispanic or latino\"], [\"not hispanic or latino\"], [\"not hispanic or latino\"], [\"not reported\"], [\"not hispanic or latino\"], [\"not hispanic or latino\"], [\"not reported\"], [\"not hispanic or latino\"], [\"not reported\"], [\"not hispanic or latino\"], [\"not hispanic or latino\"], [\"not hispanic or latino\"], [\"not hispanic or latino\"], [\"not hispanic or latino\"], [\"not hispanic or latino\"], [\"not hispanic or latino\"], [\"not hispanic or latino\"], [\"not hispanic or latino\"], [\"not hispanic or latino\"], [\"not reported\"], [\"not hispanic or latino\"], [\"not hispanic or latino\"], [\"not hispanic or latino\"], [\"not reported\"], [\"not hispanic or latino\"], [\"not hispanic or latino\"], [\"not hispanic or latino\"], [\"not hispanic or latino\"], [\"not hispanic or latino\"], [\"not hispanic or latino\"], [\"not hispanic or latino\"], [\"not hispanic or latino\"], [\"not hispanic or latino\"], [\"not hispanic or latino\"], [\"not hispanic or latino\"], [\"not hispanic or latino\"], [\"not hispanic or latino\"], [\"not hispanic or latino\"], [\"not hispanic or latino\"], [\"not hispanic or latino\"], [\"not hispanic or latino\"], [\"not hispanic or latino\"], [\"not hispanic or latino\"], [\"not hispanic or latino\"], [\"not hispanic or latino\"], [\"not hispanic or latino\"], [\"not hispanic or latino\"], [\"not hispanic or latino\"], [\"not hispanic or latino\"], [\"not hispanic or latino\"], [\"not hispanic or latino\"], [\"not hispanic or latino\"], [\"not hispanic or latino\"], [\"not hispanic or latino\"], [\"not hispanic or latino\"], [\"not hispanic or latino\"], [\"not hispanic or latino\"], [\"not hispanic or latino\"], [\"not hispanic or latino\"], [\"not hispanic or latino\"], [\"not hispanic or latino\"], [\"not reported\"], [\"not hispanic or latino\"], [\"not hispanic or latino\"], [\"not hispanic or latino\"], [\"not hispanic or latino\"], [\"not hispanic or latino\"], [\"not hispanic or latino\"], [\"not hispanic or latino\"], [\"not hispanic or latino\"], [\"not hispanic or latino\"], [\"not hispanic or latino\"], [\"not hispanic or latino\"], [\"not hispanic or latino\"], [\"not hispanic or latino\"], [\"not hispanic or latino\"], [\"not hispanic or latino\"], [\"not hispanic or latino\"], [\"not hispanic or latino\"], [\"not hispanic or latino\"], [\"not hispanic or latino\"], [\"not hispanic or latino\"], [\"not hispanic or latino\"], [\"not hispanic or latino\"], [\"not hispanic or latino\"], [\"not hispanic or latino\"], [\"not hispanic or latino\"], [\"not hispanic or latino\"], [\"not hispanic or latino\"], [\"not hispanic or latino\"], [\"not hispanic or latino\"], [\"not hispanic or latino\"], [\"not hispanic or latino\"], [\"not hispanic or latino\"], [\"not reported\"], [\"not hispanic or latino\"], [\"not hispanic or latino\"], [\"not hispanic or latino\"], [\"not hispanic or latino\"], [\"not hispanic or latino\"], [\"not hispanic or latino\"], [\"not hispanic or latino\"], [\"not hispanic or latino\"], [\"not hispanic or latino\"], [\"not hispanic or latino\"], [\"not hispanic or latino\"], [\"not hispanic or latino\"], [\"not hispanic or latino\"], [\"not hispanic or latino\"], [\"not hispanic or latino\"], [\"not reported\"], [\"not hispanic or latino\"], [\"hispanic or latino\"], [\"not hispanic or latino\"], [\"not hispanic or latino\"], [\"not hispanic or latino\"], [\"not hispanic or latino\"], [\"not hispanic or latino\"], [\"not hispanic or latino\"], [\"not hispanic or latino\"], [\"not hispanic or latino\"], [\"not reported\"], [\"not reported\"], [\"not hispanic or latino\"], [\"not hispanic or latino\"], [\"not hispanic or latino\"], [\"not reported\"], [\"not hispanic or latino\"], [\"not hispanic or latino\"], [\"not hispanic or latino\"], [\"not hispanic or latino\"], [\"not hispanic or latino\"], [\"not hispanic or latino\"], [\"not hispanic or latino\"], [\"not hispanic or latino\"], [\"not hispanic or latino\"], [\"not hispanic or latino\"], [\"not hispanic or latino\"], [\"not hispanic or latino\"], [\"not hispanic or latino\"], [\"not hispanic or latino\"], [\"not reported\"], [\"not hispanic or latino\"], [\"not hispanic or latino\"], [\"not hispanic or latino\"], [\"not hispanic or latino\"], [\"not hispanic or latino\"], [\"hispanic or latino\"], [\"not hispanic or latino\"], [\"not hispanic or latino\"], [\"not hispanic or latino\"], [\"not hispanic or latino\"], [\"not reported\"], [\"not hispanic or latino\"], [\"not hispanic or latino\"], [\"not hispanic or latino\"], [\"not hispanic or latino\"], [\"not hispanic or latino\"], [\"not hispanic or latino\"], [\"not hispanic or latino\"], [\"not hispanic or latino\"], [\"not hispanic or latino\"], [\"not hispanic or latino\"], [\"not hispanic or latino\"], [\"not hispanic or latino\"], [\"not hispanic or latino\"], [\"not hispanic or latino\"], [\"not hispanic or latino\"], [\"not hispanic or latino\"], [\"not reported\"], [\"not reported\"], [\"not reported\"], [\"not reported\"], [\"not hispanic or latino\"], [\"not hispanic or latino\"], [\"not hispanic or latino\"], [\"not hispanic or latino\"], [\"not hispanic or latino\"], [\"not hispanic or latino\"], [\"not hispanic or latino\"], [\"not hispanic or latino\"], [\"not hispanic or latino\"], [\"not hispanic or latino\"], [\"not hispanic or latino\"], [\"not hispanic or latino\"], [\"not hispanic or latino\"], [\"not hispanic or latino\"], [\"not hispanic or latino\"], [\"not hispanic or latino\"], [\"not hispanic or latino\"], [\"not hispanic or latino\"], [\"not hispanic or latino\"], [\"not hispanic or latino\"], [\"not hispanic or latino\"], [\"not hispanic or latino\"], [\"not hispanic or latino\"], [\"not hispanic or latino\"], [\"not hispanic or latino\"], [\"not hispanic or latino\"], [\"not reported\"], [\"not hispanic or latino\"], [\"not hispanic or latino\"], [\"not hispanic or latino\"], [\"not hispanic or latino\"], [\"not hispanic or latino\"], [\"not hispanic or latino\"], [\"not hispanic or latino\"], [\"not hispanic or latino\"], [\"not reported\"], [\"not hispanic or latino\"], [\"not reported\"], [\"not hispanic or latino\"], [\"not reported\"], [\"not hispanic or latino\"], [\"not reported\"], [\"not hispanic or latino\"], [\"not hispanic or latino\"], [\"not hispanic or latino\"], [\"not hispanic or latino\"], [\"not hispanic or latino\"], [\"not hispanic or latino\"], [\"not hispanic or latino\"], [\"not hispanic or latino\"], [\"hispanic or latino\"], [\"not reported\"], [\"not reported\"], [\"not hispanic or latino\"], [\"not hispanic or latino\"], [\"not hispanic or latino\"], [\"not hispanic or latino\"], [\"not hispanic or latino\"], [\"not hispanic or latino\"], [\"not hispanic or latino\"], [\"not hispanic or latino\"], [\"not hispanic or latino\"], [\"not reported\"], [\"not reported\"], [\"not hispanic or latino\"], [\"not hispanic or latino\"], [\"not reported\"], [\"not hispanic or latino\"], [\"not hispanic or latino\"], [\"not hispanic or latino\"], [\"not hispanic or latino\"], [\"not hispanic or latino\"], [\"not hispanic or latino\"], [\"not hispanic or latino\"], [\"not hispanic or latino\"], [\"not hispanic or latino\"], [\"not hispanic or latino\"], [\"not hispanic or latino\"], [\"not reported\"], [\"not reported\"], [\"not hispanic or latino\"], [\"not hispanic or latino\"], [\"not hispanic or latino\"], [\"not reported\"], [\"not hispanic or latino\"], [\"not hispanic or latino\"], [\"not hispanic or latino\"], [\"not hispanic or latino\"], [\"not hispanic or latino\"], [\"not hispanic or latino\"], [\"not hispanic or latino\"], [\"not hispanic or latino\"], [\"not reported\"], [\"not hispanic or latino\"], [\"not hispanic or latino\"], [\"not hispanic or latino\"], [\"not reported\"], [\"not reported\"], [\"not reported\"], [\"not hispanic or latino\"], [\"not hispanic or latino\"], [\"not reported\"], [\"not hispanic or latino\"], [\"not hispanic or latino\"], [\"not hispanic or latino\"], [\"not hispanic or latino\"], [\"not hispanic or latino\"], [\"not hispanic or latino\"], [\"not hispanic or latino\"], [\"not hispanic or latino\"], [\"not hispanic or latino\"], [\"not reported\"], [\"not hispanic or latino\"], [\"not reported\"], [\"not hispanic or latino\"], [\"not hispanic or latino\"], [\"not reported\"], [\"not reported\"], [\"not hispanic or latino\"], [\"not hispanic or latino\"], [\"not reported\"], [\"not hispanic or latino\"], [\"not hispanic or latino\"], [\"not reported\"], [\"not hispanic or latino\"], [\"not hispanic or latino\"], [\"not hispanic or latino\"], [\"not hispanic or latino\"], [\"not hispanic or latino\"], [\"not hispanic or latino\"], [\"not hispanic or latino\"], [\"not hispanic or latino\"], [\"not hispanic or latino\"], [\"not hispanic or latino\"], [\"not hispanic or latino\"], [\"not hispanic or latino\"], [\"not hispanic or latino\"], [\"not hispanic or latino\"], [\"not hispanic or latino\"], [\"not hispanic or latino\"], [\"not hispanic or latino\"], [\"not hispanic or latino\"], [\"not hispanic or latino\"], [\"not hispanic or latino\"], [\"not hispanic or latino\"], [\"not hispanic or latino\"], [\"not hispanic or latino\"], [\"not hispanic or latino\"], [\"not hispanic or latino\"], [\"not hispanic or latino\"], [\"not hispanic or latino\"], [\"not hispanic or latino\"], [\"not hispanic or latino\"], [\"not hispanic or latino\"], [\"not hispanic or latino\"], [\"not hispanic or latino\"], [\"not hispanic or latino\"], [\"not hispanic or latino\"], [\"not hispanic or latino\"], [\"not hispanic or latino\"], [\"not hispanic or latino\"], [\"not hispanic or latino\"], [\"not hispanic or latino\"], [\"not hispanic or latino\"], [\"not hispanic or latino\"], [\"not hispanic or latino\"], [\"not hispanic or latino\"], [\"not hispanic or latino\"], [\"not hispanic or latino\"], [\"not hispanic or latino\"], [\"not hispanic or latino\"], [\"not hispanic or latino\"], [\"not hispanic or latino\"], [\"not hispanic or latino\"], [\"not hispanic or latino\"], [\"not hispanic or latino\"], [\"not hispanic or latino\"], [\"not hispanic or latino\"], [\"not hispanic or latino\"], [\"not hispanic or latino\"], [\"not hispanic or latino\"], [\"not hispanic or latino\"], [\"not hispanic or latino\"], [\"not hispanic or latino\"], [\"not hispanic or latino\"], [\"not hispanic or latino\"], [\"not hispanic or latino\"], [\"not hispanic or latino\"], [\"not hispanic or latino\"], [\"not hispanic or latino\"], [\"not hispanic or latino\"], [\"not hispanic or latino\"], [\"not hispanic or latino\"], [\"not hispanic or latino\"], [\"hispanic or latino\"], [\"not hispanic or latino\"], [\"not hispanic or latino\"], [\"not hispanic or latino\"], [\"not hispanic or latino\"], [\"not hispanic or latino\"], [\"not hispanic or latino\"], [\"not hispanic or latino\"], [\"not hispanic or latino\"], [\"not hispanic or latino\"], [\"not reported\"], [\"not hispanic or latino\"], [\"not reported\"], [\"not hispanic or latino\"], [\"not reported\"], [\"not hispanic or latino\"], [\"not hispanic or latino\"], [\"not hispanic or latino\"], [\"hispanic or latino\"], [\"not hispanic or latino\"], [\"not hispanic or latino\"], [\"not hispanic or latino\"], [\"not hispanic or latino\"], [\"not hispanic or latino\"], [\"not hispanic or latino\"], [\"not hispanic or latino\"], [\"not hispanic or latino\"], [\"not hispanic or latino\"], [\"not reported\"], [\"not reported\"], [\"not hispanic or latino\"], [\"not hispanic or latino\"], [\"not hispanic or latino\"], [\"not reported\"], [\"not reported\"], [\"not hispanic or latino\"], [\"not reported\"], [\"not hispanic or latino\"], [\"not reported\"], [\"not hispanic or latino\"], [\"not reported\"], [\"not hispanic or latino\"], [\"not hispanic or latino\"], [\"not hispanic or latino\"], [\"not hispanic or latino\"], [\"not hispanic or latino\"], [\"not hispanic or latino\"], [\"not hispanic or latino\"], [\"not hispanic or latino\"], [\"not hispanic or latino\"], [\"not hispanic or latino\"], [\"not hispanic or latino\"], [\"not hispanic or latino\"], [\"not hispanic or latino\"], [\"not hispanic or latino\"], [\"not hispanic or latino\"], [\"not hispanic or latino\"], [\"not hispanic or latino\"], [\"not hispanic or latino\"], [\"not reported\"], [\"not reported\"], [\"not hispanic or latino\"], [\"not reported\"], [\"not hispanic or latino\"], [\"not reported\"], [\"not hispanic or latino\"], [\"not hispanic or latino\"], [\"not reported\"], [\"not reported\"], [\"not hispanic or latino\"], [\"not reported\"], [\"not reported\"], [\"not hispanic or latino\"], [\"not hispanic or latino\"], [\"not hispanic or latino\"], [\"hispanic or latino\"], [\"not hispanic or latino\"], [\"not hispanic or latino\"], [\"not hispanic or latino\"], [\"not reported\"], [\"not hispanic or latino\"], [\"not hispanic or latino\"], [\"not hispanic or latino\"], [\"not hispanic or latino\"], [\"not hispanic or latino\"], [\"not hispanic or latino\"], [\"not hispanic or latino\"], [\"not hispanic or latino\"], [\"not reported\"], [\"not hispanic or latino\"], [\"not reported\"], [\"not reported\"], [\"not reported\"], [\"not hispanic or latino\"], [\"not hispanic or latino\"], [\"not hispanic or latino\"], [\"not hispanic or latino\"], [\"not hispanic or latino\"], [\"not hispanic or latino\"], [\"not hispanic or latino\"], [\"not hispanic or latino\"], [\"not hispanic or latino\"], [\"not reported\"], [\"not hispanic or latino\"], [\"not hispanic or latino\"], [\"hispanic or latino\"], [\"not hispanic or latino\"], [\"not hispanic or latino\"], [\"not hispanic or latino\"], [\"not hispanic or latino\"], [\"not hispanic or latino\"], [\"not hispanic or latino\"], [\"not hispanic or latino\"], [\"not hispanic or latino\"], [\"not hispanic or latino\"], [\"not hispanic or latino\"], [\"not hispanic or latino\"], [\"not hispanic or latino\"], [\"not hispanic or latino\"], [\"not hispanic or latino\"], [\"not hispanic or latino\"], [\"not hispanic or latino\"], [\"not hispanic or latino\"], [\"not hispanic or latino\"], [\"not hispanic or latino\"], [\"not hispanic or latino\"], [\"not reported\"], [\"not reported\"], [\"not hispanic or latino\"], [\"not hispanic or latino\"], [\"not hispanic or latino\"], [\"not hispanic or latino\"], [\"not hispanic or latino\"], [\"not hispanic or latino\"], [\"not reported\"], [\"not hispanic or latino\"], [\"not hispanic or latino\"], [\"not hispanic or latino\"], [\"not hispanic or latino\"], [\"not hispanic or latino\"], [\"not hispanic or latino\"], [\"not hispanic or latino\"], [\"not hispanic or latino\"], [\"not hispanic or latino\"], [\"not hispanic or latino\"], [\"not hispanic or latino\"], [\"not hispanic or latino\"], [\"not hispanic or latino\"], [\"not hispanic or latino\"], [\"not hispanic or latino\"], [\"not hispanic or latino\"], [\"not hispanic or latino\"], [\"not hispanic or latino\"], [\"not reported\"], [\"not reported\"], [\"not hispanic or latino\"], [\"not hispanic or latino\"], [\"not hispanic or latino\"], [\"not reported\"], [\"not reported\"], [\"not reported\"], [\"not hispanic or latino\"], [\"not hispanic or latino\"], [\"not hispanic or latino\"], [\"not hispanic or latino\"], [\"not hispanic or latino\"], [\"not hispanic or latino\"], [\"not hispanic or latino\"], [\"not hispanic or latino\"], [\"not hispanic or latino\"], [\"not hispanic or latino\"], [\"not hispanic or latino\"], [\"not hispanic or latino\"], [\"not hispanic or latino\"], [\"not hispanic or latino\"], [\"not hispanic or latino\"], [\"not hispanic or latino\"], [\"not hispanic or latino\"], [\"not hispanic or latino\"], [\"not hispanic or latino\"], [\"not hispanic or latino\"], [\"not hispanic or latino\"], [\"not hispanic or latino\"], [\"not hispanic or latino\"], [\"not hispanic or latino\"], [\"not hispanic or latino\"], [\"not hispanic or latino\"], [\"not hispanic or latino\"], [\"not hispanic or latino\"], [\"not hispanic or latino\"], [\"not hispanic or latino\"], [\"not hispanic or latino\"], [\"not hispanic or latino\"], [\"not hispanic or latino\"], [\"not hispanic or latino\"], [\"not hispanic or latino\"], [\"not hispanic or latino\"], [\"not hispanic or latino\"], [\"not hispanic or latino\"], [\"not hispanic or latino\"], [\"not reported\"], [\"not hispanic or latino\"], [\"not hispanic or latino\"], [\"not hispanic or latino\"], [\"not hispanic or latino\"], [\"not reported\"], [\"not hispanic or latino\"], [\"not hispanic or latino\"], [\"not hispanic or latino\"], [\"not hispanic or latino\"]], \"hovertemplate\": \"<b>%{hovertext}</b><br><br>gender=male<br>PCA-0=%{x}<br>PCA-1=%{y}<br>n_reads=%{marker.size}<br>ethnicity=%{customdata[0]}<extra></extra>\", \"hovertext\": [\"male\", \"male\", \"male\", \"male\", \"male\", \"male\", \"male\", \"male\", \"male\", \"male\", \"male\", \"male\", \"male\", \"male\", \"male\", \"male\", \"male\", \"male\", \"male\", \"male\", \"male\", \"male\", \"male\", \"male\", \"male\", \"male\", \"male\", \"male\", \"male\", \"male\", \"male\", \"male\", \"male\", \"male\", \"male\", \"male\", \"male\", \"male\", \"male\", \"male\", \"male\", \"male\", \"male\", \"male\", \"male\", \"male\", \"male\", \"male\", \"male\", \"male\", \"male\", \"male\", \"male\", \"male\", \"male\", \"male\", \"male\", \"male\", \"male\", \"male\", \"male\", \"male\", \"male\", \"male\", \"male\", \"male\", \"male\", \"male\", \"male\", \"male\", \"male\", \"male\", \"male\", \"male\", \"male\", \"male\", \"male\", \"male\", \"male\", \"male\", \"male\", \"male\", \"male\", \"male\", \"male\", \"male\", \"male\", \"male\", \"male\", \"male\", \"male\", \"male\", \"male\", \"male\", \"male\", \"male\", \"male\", \"male\", \"male\", \"male\", \"male\", \"male\", \"male\", \"male\", \"male\", \"male\", \"male\", \"male\", \"male\", \"male\", \"male\", \"male\", \"male\", \"male\", \"male\", \"male\", \"male\", \"male\", \"male\", \"male\", \"male\", \"male\", \"male\", \"male\", \"male\", \"male\", \"male\", \"male\", \"male\", \"male\", \"male\", \"male\", \"male\", \"male\", \"male\", \"male\", \"male\", \"male\", \"male\", \"male\", \"male\", \"male\", \"male\", \"male\", \"male\", \"male\", \"male\", \"male\", \"male\", \"male\", \"male\", \"male\", \"male\", \"male\", \"male\", \"male\", \"male\", \"male\", \"male\", \"male\", \"male\", \"male\", \"male\", \"male\", \"male\", \"male\", \"male\", \"male\", \"male\", \"male\", \"male\", \"male\", \"male\", \"male\", \"male\", \"male\", \"male\", \"male\", \"male\", \"male\", \"male\", \"male\", \"male\", \"male\", \"male\", \"male\", \"male\", \"male\", \"male\", \"male\", \"male\", \"male\", \"male\", \"male\", \"male\", \"male\", \"male\", \"male\", \"male\", \"male\", \"male\", \"male\", \"male\", \"male\", \"male\", \"male\", \"male\", \"male\", \"male\", \"male\", \"male\", \"male\", \"male\", \"male\", \"male\", \"male\", \"male\", \"male\", \"male\", \"male\", \"male\", \"male\", \"male\", \"male\", \"male\", \"male\", \"male\", \"male\", \"male\", \"male\", \"male\", \"male\", \"male\", \"male\", \"male\", \"male\", \"male\", \"male\", \"male\", \"male\", \"male\", \"male\", \"male\", \"male\", \"male\", \"male\", \"male\", \"male\", \"male\", \"male\", \"male\", \"male\", \"male\", \"male\", \"male\", \"male\", \"male\", \"male\", \"male\", \"male\", \"male\", \"male\", \"male\", \"male\", \"male\", \"male\", \"male\", \"male\", \"male\", \"male\", \"male\", \"male\", \"male\", \"male\", \"male\", \"male\", \"male\", \"male\", \"male\", \"male\", \"male\", \"male\", \"male\", \"male\", \"male\", \"male\", \"male\", \"male\", \"male\", \"male\", \"male\", \"male\", \"male\", \"male\", \"male\", \"male\", \"male\", \"male\", \"male\", \"male\", \"male\", \"male\", \"male\", \"male\", \"male\", \"male\", \"male\", \"male\", \"male\", \"male\", \"male\", \"male\", \"male\", \"male\", \"male\", \"male\", \"male\", \"male\", \"male\", \"male\", \"male\", \"male\", \"male\", \"male\", \"male\", \"male\", \"male\", \"male\", \"male\", \"male\", \"male\", \"male\", \"male\", \"male\", \"male\", \"male\", \"male\", \"male\", \"male\", \"male\", \"male\", \"male\", \"male\", \"male\", \"male\", \"male\", \"male\", \"male\", \"male\", \"male\", \"male\", \"male\", \"male\", \"male\", \"male\", \"male\", \"male\", \"male\", \"male\", \"male\", \"male\", \"male\", \"male\", \"male\", \"male\", \"male\", \"male\", \"male\", \"male\", \"male\", \"male\", \"male\", \"male\", \"male\", \"male\", \"male\", \"male\", \"male\", \"male\", \"male\", \"male\", \"male\", \"male\", \"male\", \"male\", \"male\", \"male\", \"male\", \"male\", \"male\", \"male\", \"male\", \"male\", \"male\", \"male\", \"male\", \"male\", \"male\", \"male\", \"male\", \"male\", \"male\", \"male\", \"male\", \"male\", \"male\", \"male\", \"male\", \"male\", \"male\", \"male\", \"male\", \"male\", \"male\", \"male\", \"male\", \"male\", \"male\", \"male\", \"male\", \"male\", \"male\", \"male\", \"male\", \"male\", \"male\", \"male\", \"male\", \"male\", \"male\", \"male\", \"male\", \"male\", \"male\", \"male\", \"male\", \"male\", \"male\", \"male\", \"male\", \"male\", \"male\", \"male\", \"male\", \"male\", \"male\", \"male\", \"male\", \"male\", \"male\", \"male\", \"male\", \"male\", \"male\", \"male\", \"male\", \"male\", \"male\", \"male\", \"male\", \"male\", \"male\", \"male\", \"male\", \"male\", \"male\", \"male\", \"male\", \"male\", \"male\", \"male\", \"male\", \"male\", \"male\", \"male\", \"male\", \"male\", \"male\", \"male\", \"male\", \"male\", \"male\", \"male\", \"male\", \"male\", \"male\", \"male\", \"male\", \"male\", \"male\", \"male\", \"male\", \"male\", \"male\", \"male\", \"male\", \"male\", \"male\", \"male\", \"male\", \"male\", \"male\", \"male\", \"male\", \"male\", \"male\", \"male\", \"male\", \"male\", \"male\", \"male\", \"male\", \"male\", \"male\", \"male\", \"male\", \"male\", \"male\", \"male\", \"male\", \"male\", \"male\", \"male\", \"male\", \"male\", \"male\", \"male\", \"male\", \"male\", \"male\", \"male\", \"male\", \"male\", \"male\", \"male\", \"male\", \"male\", \"male\", \"male\", \"male\", \"male\", \"male\", \"male\", \"male\", \"male\", \"male\", \"male\", \"male\", \"male\", \"male\", \"male\", \"male\", \"male\", \"male\", \"male\", \"male\", \"male\", \"male\", \"male\", \"male\", \"male\", \"male\", \"male\", \"male\", \"male\", \"male\", \"male\", \"male\", \"male\", \"male\", \"male\", \"male\", \"male\", \"male\", \"male\", \"male\", \"male\", \"male\", \"male\", \"male\", \"male\", \"male\", \"male\", \"male\", \"male\", \"male\", \"male\", \"male\", \"male\", \"male\", \"male\", \"male\", \"male\", \"male\", \"male\", \"male\", \"male\", \"male\", \"male\", \"male\", \"male\", \"male\", \"male\", \"male\", \"male\", \"male\", \"male\", \"male\", \"male\", \"male\", \"male\", \"male\", \"male\", \"male\", \"male\", \"male\", \"male\", \"male\", \"male\", \"male\", \"male\", \"male\", \"male\", \"male\", \"male\", \"male\", \"male\", \"male\", \"male\", \"male\", \"male\", \"male\", \"male\", \"male\", \"male\", \"male\", \"male\", \"male\", \"male\", \"male\", \"male\", \"male\", \"male\", \"male\", \"male\", \"male\", \"male\", \"male\", \"male\", \"male\", \"male\", \"male\", \"male\", \"male\", \"male\", \"male\", \"male\", \"male\", \"male\", \"male\", \"male\", \"male\", \"male\", \"male\", \"male\", \"male\", \"male\", \"male\", \"male\", \"male\", \"male\", \"male\", \"male\", \"male\", \"male\", \"male\", \"male\", \"male\", \"male\", \"male\", \"male\", \"male\", \"male\", \"male\", \"male\", \"male\", \"male\", \"male\", \"male\", \"male\", \"male\", \"male\", \"male\", \"male\", \"male\", \"male\", \"male\", \"male\", \"male\", \"male\", \"male\", \"male\", \"male\", \"male\", \"male\", \"male\", \"male\", \"male\", \"male\", \"male\", \"male\", \"male\", \"male\", \"male\", \"male\", \"male\", \"male\", \"male\", \"male\", \"male\", \"male\", \"male\", \"male\", \"male\", \"male\", \"male\", \"male\", \"male\", \"male\", \"male\", \"male\", \"male\", \"male\", \"male\", \"male\", \"male\", \"male\", \"male\", \"male\", \"male\", \"male\", \"male\", \"male\", \"male\", \"male\", \"male\", \"male\", \"male\", \"male\", \"male\", \"male\", \"male\", \"male\", \"male\", \"male\", \"male\", \"male\", \"male\", \"male\", \"male\", \"male\", \"male\", \"male\", \"male\", \"male\", \"male\", \"male\", \"male\", \"male\", \"male\", \"male\", \"male\", \"male\", \"male\", \"male\", \"male\", \"male\", \"male\", \"male\", \"male\", \"male\", \"male\", \"male\", \"male\", \"male\", \"male\", \"male\", \"male\", \"male\", \"male\", \"male\", \"male\", \"male\", \"male\", \"male\", \"male\", \"male\", \"male\", \"male\", \"male\", \"male\", \"male\", \"male\", \"male\", \"male\", \"male\", \"male\", \"male\", \"male\", \"male\", \"male\", \"male\", \"male\", \"male\", \"male\", \"male\", \"male\", \"male\", \"male\", \"male\", \"male\", \"male\", \"male\", \"male\", \"male\", \"male\", \"male\", \"male\", \"male\", \"male\", \"male\", \"male\", \"male\", \"male\", \"male\", \"male\", \"male\", \"male\", \"male\", \"male\", \"male\", \"male\", \"male\", \"male\", \"male\", \"male\", \"male\", \"male\", \"male\", \"male\", \"male\", \"male\", \"male\", \"male\", \"male\", \"male\", \"male\", \"male\", \"male\", \"male\", \"male\", \"male\", \"male\", \"male\", \"male\", \"male\", \"male\", \"male\", \"male\", \"male\", \"male\", \"male\", \"male\", \"male\", \"male\", \"male\", \"male\", \"male\", \"male\", \"male\", \"male\", \"male\", \"male\", \"male\", \"male\", \"male\", \"male\", \"male\", \"male\", \"male\", \"male\", \"male\", \"male\", \"male\", \"male\", \"male\", \"male\", \"male\", \"male\", \"male\", \"male\", \"male\", \"male\", \"male\", \"male\", \"male\", \"male\", \"male\", \"male\", \"male\", \"male\", \"male\", \"male\", \"male\", \"male\", \"male\", \"male\", \"male\", \"male\", \"male\", \"male\", \"male\", \"male\", \"male\", \"male\", \"male\", \"male\", \"male\", \"male\", \"male\", \"male\", \"male\", \"male\", \"male\", \"male\", \"male\", \"male\", \"male\", \"male\", \"male\", \"male\", \"male\", \"male\", \"male\", \"male\", \"male\", \"male\", \"male\", \"male\", \"male\", \"male\", \"male\", \"male\", \"male\", \"male\", \"male\", \"male\", \"male\", \"male\", \"male\", \"male\", \"male\", \"male\", \"male\", \"male\", \"male\", \"male\", \"male\", \"male\", \"male\", \"male\", \"male\", \"male\", \"male\", \"male\", \"male\", \"male\", \"male\", \"male\", \"male\", \"male\", \"male\", \"male\", \"male\", \"male\", \"male\", \"male\", \"male\", \"male\", \"male\", \"male\", \"male\", \"male\", \"male\", \"male\", \"male\", \"male\", \"male\", \"male\", \"male\", \"male\", \"male\", \"male\", \"male\", \"male\", \"male\", \"male\", \"male\", \"male\", \"male\", \"male\", \"male\", \"male\", \"male\", \"male\", \"male\", \"male\", \"male\", \"male\", \"male\", \"male\", \"male\", \"male\", \"male\", \"male\", \"male\", \"male\", \"male\", \"male\", \"male\", \"male\", \"male\", \"male\", \"male\", \"male\", \"male\", \"male\", \"male\", \"male\", \"male\", \"male\", \"male\", \"male\", \"male\", \"male\", \"male\", \"male\", \"male\", \"male\", \"male\", \"male\", \"male\", \"male\", \"male\", \"male\", \"male\", \"male\", \"male\", \"male\", \"male\", \"male\", \"male\", \"male\", \"male\", \"male\", \"male\", \"male\", \"male\", \"male\", \"male\", \"male\", \"male\", \"male\", \"male\", \"male\", \"male\", \"male\", \"male\", \"male\", \"male\", \"male\", \"male\", \"male\", \"male\", \"male\", \"male\", \"male\", \"male\", \"male\", \"male\", \"male\", \"male\", \"male\", \"male\", \"male\", \"male\", \"male\", \"male\", \"male\", \"male\", \"male\", \"male\", \"male\", \"male\", \"male\", \"male\", \"male\", \"male\", \"male\", \"male\", \"male\", \"male\", \"male\", \"male\", \"male\", \"male\", \"male\", \"male\", \"male\", \"male\", \"male\", \"male\", \"male\", \"male\", \"male\", \"male\", \"male\", \"male\", \"male\", \"male\", \"male\"], \"legendgroup\": \"male\", \"marker\": {\"color\": \"#636efa\", \"size\": [17263, 16954, 16977, 16930, 16788, 17247, 17247, 17247, 17247, 17247, 17247, 17247, 17247, 17056, 16278, 16879, 16973, 17794, 16714, 17069, 16913, 17445, 17276, 17076, 16916, 17025, 17709, 16969, 16969, 16969, 16969, 16969, 16969, 16969, 16969, 16954, 16245, 16643, 16635, 16659, 16610, 16283, 17048, 17376, 17084, 17035, 16833, 16847, 17218, 17018, 17320, 16632, 16778, 16989, 17368, 16642, 16814, 16944, 16712, 17245, 17245, 16504, 17334, 17089, 16768, 16877, 16943, 17157, 16511, 17618, 17621, 17054, 16509, 17166, 16980, 17457, 17454, 17454, 17454, 17454, 17454, 17454, 17454, 17454, 17128, 16519, 17554, 16970, 17373, 17344, 16709, 17226, 16969, 17353, 17460, 16917, 17209, 17101, 16956, 16844, 17629, 16833, 17067, 17325, 16346, 17210, 16289, 17044, 17272, 17272, 17272, 17272, 17272, 17272, 17272, 17272, 16847, 17165, 17075, 17323, 17323, 17323, 17323, 17323, 17323, 17323, 17323, 17052, 17390, 17500, 17233, 16800, 16768, 17180, 17071, 17235, 17123, 17308, 17275, 17300, 16692, 17106, 17129, 17147, 17089, 16852, 16049, 17277, 17277, 17277, 17277, 17277, 17277, 17277, 17277, 16835, 17231, 17108, 16440, 17379, 17587, 17100, 17151, 17071, 17064, 17073, 17073, 17073, 17073, 17073, 17073, 17073, 17073, 16791, 17349, 17349, 17349, 17349, 17349, 17349, 17349, 17349, 17007, 17382, 16383, 17144, 16471, 16924, 16491, 16924, 17311, 17299, 17077, 17242, 16555, 17429, 17380, 16827, 17263, 17355, 16701, 16911, 17001, 17181, 17216, 17339, 16880, 17455, 17450, 18663, 18663, 18663, 18663, 18663, 18663, 18663, 18663, 17107, 16708, 17042, 17106, 16978, 17327, 16713, 17793, 17073, 17352, 17207, 16652, 16366, 17643, 17021, 16834, 17090, 17197, 17197, 17197, 17197, 17197, 17197, 17197, 17197, 17120, 17120, 17120, 17120, 17120, 17120, 17120, 17120, 17120, 17120, 17120, 17120, 17120, 17120, 17120, 17120, 17120, 17120, 17120, 17120, 17120, 17120, 17120, 17120, 17120, 17120, 17120, 17069, 17313, 16860, 17248, 17267, 17002, 16216, 16645, 16711, 16922, 16809, 16665, 17693, 17036, 17283, 17644, 17248, 17228, 17137, 16621, 17228, 17974, 17489, 16919, 17376, 17376, 17376, 17376, 17376, 17376, 17376, 17376, 16838, 17407, 17274, 16471, 17371, 17108, 16652, 17051, 17250, 17405, 18195, 17137, 17137, 17137, 17137, 17137, 17137, 17137, 17137, 17325, 15925, 17135, 17121, 17200, 17661, 17661, 17661, 17661, 17661, 17661, 17661, 17661, 16582, 17134, 17218, 16618, 16486, 16633, 16948, 16958, 15831, 16927, 16733, 16609, 16746, 17274, 17034, 16792, 17981, 17487, 16884, 17090, 16660, 17431, 16256, 17021, 16477, 17391, 17391, 17391, 17391, 17391, 17391, 17391, 17391, 16812, 17239, 17216, 17123, 17027, 17078, 17555, 17261, 17339, 17705, 16830, 17300, 16922, 17499, 16767, 16531, 17150, 17429, 17108, 17108, 17108, 17108, 17108, 17108, 17108, 17108, 17730, 17875, 17875, 17875, 17875, 17875, 17875, 17875, 17875, 17369, 16917, 17042, 17034, 17515, 17520, 17508, 17810, 17810, 17810, 17810, 17810, 17810, 17810, 17810, 16424, 16668, 16912, 16990, 17515, 16938, 17117, 17117, 17117, 17117, 17117, 17117, 17117, 17117, 17150, 17128, 16808, 17506, 17506, 17506, 17506, 17506, 17506, 17506, 17506, 16836, 17263, 17281, 16624, 16785, 16369, 17951, 16728, 17402, 17649, 17263, 17161, 17102, 17127, 17338, 17015, 17108, 17108, 17108, 17108, 17108, 17108, 17108, 17108, 16704, 17244, 16890, 17131, 16946, 16848, 17213, 17026, 17067, 17067, 17067, 17067, 17067, 17067, 17067, 17067, 17480, 16994, 16875, 16843, 16709, 16989, 17035, 16680, 18586, 17044, 17568, 16096, 16862, 17308, 17225, 17007, 17068, 17747, 16916, 16997, 17015, 15911, 16831, 17026, 17189, 17406, 17406, 17406, 17406, 17406, 17406, 17406, 17406, 16951, 17541, 16194, 16756, 17944, 16131, 17266, 16812, 16537, 17451, 16843, 17152, 17054, 17146, 16973, 17034, 16268, 17174, 16597, 17172, 16859, 17044, 17032, 17032, 17032, 17032, 17032, 17032, 17032, 17032, 16665, 16997, 17082, 17178, 16845, 17073, 16643, 17261, 17159, 17560, 17984, 17574, 17390, 16281, 17261, 16511, 16922, 16952, 17850, 16793, 16722, 17322, 17417, 17128, 16070, 17214, 17179, 17075, 17310, 16035, 17085, 17216, 17113, 17093, 16856, 17113, 17113, 17113, 17113, 17113, 17113, 17113, 17113, 17147, 17037, 17037, 17037, 17037, 17037, 17037, 17037, 17037, 16947, 16947, 16947, 16947, 16947, 16947, 16947, 16947, 17344, 17037, 16518, 17449, 17449, 17449, 17449, 17449, 17449, 17449, 17449, 16933, 16655, 16655, 16655, 16655, 16655, 16655, 16655, 16655, 16655, 16655, 16655, 16655, 16655, 16655, 16655, 16655, 16655, 16655, 16655, 16655, 16655, 16655, 16655, 16655, 16655, 16655, 16655, 17268, 17150, 16873, 16904, 17422, 17399, 16984, 17192, 17035, 17230, 17758, 16317, 16317, 16317, 16317, 16317, 16317, 16317, 16317, 17381, 16933, 17590, 16517, 16953, 17168, 17168, 17168, 17168, 17168, 17168, 17168, 17168, 17063, 16784, 16945, 17691, 17177, 17119, 16832, 17846, 16950, 16477, 17301, 17287, 16980, 16980, 16980, 16980, 16980, 16980, 16980, 16980, 17191, 17063, 16783, 17645, 17464, 17539, 16518, 17350, 17029, 18577, 17208, 16987, 17299, 17148, 17148, 17148, 17148, 17148, 17148, 17148, 17148, 17148, 17070, 16844, 17076, 17122, 16998, 17442, 17247, 17421, 18242, 17238, 17025, 17120, 17006, 17016, 17131, 16667, 16667, 16667, 16667, 16667, 16667, 16667, 16667, 16909, 16909, 16909, 16909, 16909, 16909, 16909, 16909, 17440, 17231, 17095, 17376, 17049, 17503, 17463, 17463, 17463, 17463, 17463, 17463, 17463, 17463, 15902, 16478, 16156, 18258, 17205, 17151, 16966, 17156, 17156, 17156, 17156, 17156, 17156, 17156, 17156, 17250, 16529, 17357, 16612, 18335, 18335, 18335, 18335, 18335, 18335, 18335, 18335, 17006, 17372, 17220, 16510, 17185, 17271, 17964, 16870, 16870, 16870, 16870, 16870, 16870, 16870, 16870, 16930, 17980, 17523, 16816, 16839, 16843, 17169, 16565, 16809, 16829, 16489, 16185, 16533, 17191, 16887, 17267, 17109, 17217, 16586, 16453, 16637, 16933, 16883, 17219, 17272, 17079, 17196, 17196, 17196, 17196, 17196, 17196, 17196, 17196, 16634, 17859, 17719, 16918, 16695, 16400, 16294, 16435, 16886, 17403, 17233, 16238, 17091, 16505, 17057, 17318, 16895, 16964, 16964, 16964, 16964, 16964, 16964, 16964, 16964, 16964, 16964, 16964, 16964, 16964, 16964, 16964, 16964, 16964, 16964, 16964, 16964, 16964, 16964, 16964, 16964, 16964, 16964, 16964, 16964, 16964, 16964, 16964, 16964, 16964, 16964, 16964, 16964, 16964, 16964, 16964, 16964, 16964, 16964, 16964, 16964, 16964, 16964, 16964, 16964, 16964, 16964, 16964, 16964, 16964, 16964, 16964, 16964, 16964, 16964, 16964, 16964, 16964, 16964, 16964, 16964, 17354, 16953, 17721, 17217, 17217, 17217, 17217, 17217, 17217, 17217, 17217, 17108, 17332, 17306, 17236, 17144, 17561, 17056, 16888, 16403, 17410, 16907, 17123, 17123, 17123, 17123, 17123, 17123, 17123, 17123, 16938, 17560, 16851, 17230, 16947, 16735, 16979, 17169, 17020, 17132, 16225, 17053, 16934, 17130, 17168, 17003, 16847, 16978, 17268, 16919, 16919, 16919, 16919, 16919, 16919, 16919, 16919, 17142, 16769, 17283, 17124, 16805, 17540, 16821, 16782, 16418, 16881, 17149, 16959, 16736, 16955, 16971, 17579, 16852, 16588, 17407, 16677, 17215, 16965, 17002, 17195, 17049, 17542, 16750, 16644, 17463, 17389, 16680, 16832, 17285, 17064, 17046, 16327, 16978, 16258, 17232, 17232, 17232, 17232, 17232, 17232, 17232, 17232, 17103, 17009, 17215, 17129, 17209, 17152, 16645, 16645, 16645, 16645, 16645, 16645, 16645, 16645, 17147, 17487, 16994, 16994, 16994, 16994, 16994, 16994, 16994, 16994, 16561, 17084, 17635, 16727, 16974, 16861, 17059, 16842, 17277, 16785, 17082, 17191, 16812, 16812, 16812, 16812, 16812, 16812, 16812, 16812, 16939, 16939, 16939, 16939, 16939, 16939, 16939, 16939, 17159, 16631, 17105, 17132, 17171, 16970, 16616, 17034, 16647, 16990, 16990, 16990, 16990, 16990, 16990, 16990, 16990, 17327, 16859, 17387, 16867, 16381, 17138, 17282, 16467, 16580, 17446, 16406, 17052, 16958, 17173, 16536, 17183, 17206, 17286, 17298, 16387, 17152, 17152, 17152, 17152, 17152, 17152, 17152, 17152, 16449, 17144, 17056, 17212, 16819, 16925, 16909, 17411, 17850, 17451, 17188, 16936], \"sizemode\": \"area\", \"sizeref\": 291.609375, \"symbol\": \"circle\"}, \"mode\": \"markers\", \"name\": \"male\", \"showlegend\": true, \"type\": \"scattergl\", \"x\": [16.466023465624872, -15.100377289729424, 18.506280360063013, 19.67610629920186, 18.701071685437647, 19.60556729824082, 19.60556729824082, 19.60556729824082, 19.60556729824082, 19.60556729824082, 19.60556729824082, 19.60556729824082, 19.60556729824082, 18.74043736885509, -14.904276154839815, -13.23282258864784, -8.90383170820844, -15.257465594657917, 16.44911753919557, -12.69643994659652, 18.363780491536748, -11.392549161859122, -12.031671349843249, 18.315230895404962, -10.677123143835786, 19.865071238471568, -15.635036459117316, 21.006357058366376, 21.006357058366376, 21.006357058366376, 21.006357058366376, 21.006357058366376, 21.006357058366376, 21.006357058366376, 21.006357058366376, -14.139938079928978, -14.455792235904626, 18.2282626293053, 14.402532985646186, 19.99691360138799, 17.00348065930299, -16.4349742817958, -8.09906027456878, -17.805637618389433, 19.9949982214013, 15.797824887008876, 20.43943655146979, -14.095646984132967, -8.891530026300627, -9.526782665951517, 21.267948052971573, -12.817439213732188, -13.460848798531462, 11.57788682144313, -11.940599701901986, -13.75369846743291, 20.39076634155229, 19.50184503431332, 19.81279397150563, -16.0053017262448, -14.687156650608648, -14.73026890230498, 7.116486033978401, 15.648509583713992, -14.458327491748209, 21.21140792625424, -12.606663234773439, 21.06692205529363, 19.1417672791559, -11.743548232226878, -17.860518645642326, -13.422617216990094, -13.622935522756269, 17.76339768729144, 18.53188332078934, 17.953958381670933, 15.991421688026012, 15.991421688026012, 15.991421688026012, 15.991421688026012, 15.991421688026012, 15.991421688026012, 15.991421688026012, 15.991421688026012, 19.87655338576343, -12.80259186614378, -15.007481244871439, 17.51979444491794, 14.255005803162737, -15.545561367689736, -13.75875312104236, 17.752400957701855, 18.86751965253874, -13.754518909582712, 17.839336186121532, -11.158238000071062, 17.957404163107693, -15.44147723392362, -8.830380115042276, 15.618293560275976, -18.820430580322043, -13.136861867551175, 20.71789205816272, 15.663665424136727, -15.669007239350915, -9.813462567997124, 18.98052774779236, 16.55513353461563, 17.13927733983244, 17.13927733983244, 17.13927733983244, 17.13927733983244, 17.13927733983244, 17.13927733983244, 17.13927733983244, 17.13927733983244, -13.822253259075264, 19.619810957839558, 20.2302638811097, 18.27080387312106, 18.27080387312106, 18.27080387312106, 18.27080387312106, 18.27080387312106, 18.27080387312106, 18.27080387312106, 18.27080387312106, 17.76498222682547, 18.067051395002007, 19.25692312823972, 18.244209641287075, -11.085966550687703, -12.574141148190954, 19.044245258943054, 20.05401383555366, 20.17790866038735, 16.870839133805188, 17.462914208198267, 16.79012367007168, 18.271038408460885, -11.124182167690844, -18.475695520309817, 15.774417381887142, 18.10455740352384, 18.87335044016339, -9.416340370950117, -16.743705176673323, 17.51064276124199, 17.51064276124199, 17.51064276124199, 17.51064276124199, 17.51064276124199, 17.51064276124199, 17.51064276124199, 17.51064276124199, 17.837612345329916, -9.792570278754031, 18.15128709119915, -10.136075807579441, -14.244660040285138, 17.251306604453443, -15.692117506936693, 18.13028052135656, -10.038206865934972, 17.541192759686712, 14.332536249799343, 14.332536249799343, 14.332536249799343, 14.332536249799343, 14.332536249799343, 14.332536249799343, 14.332536249799343, 14.332536249799343, 19.515824548662206, 17.49049158657353, 17.49049158657353, 17.49049158657353, 17.49049158657353, 17.49049158657353, 17.49049158657353, 17.49049158657353, 17.49049158657353, 16.460690448687743, -12.733131080657262, 16.69378638802035, 18.731000421958694, 11.808093908733133, 10.51066191649916, 9.51619197067453, 17.55039507671329, 13.774240120246978, -16.677371665426005, 14.052725945609915, -14.127582168676968, 19.914102028349944, -12.248564168586991, 15.282461537331047, 20.217483280242774, 14.700931187311216, -11.802410370686236, 20.98114676488796, 19.622930532764595, 17.91197755475269, 19.864840427969973, 13.547740410343735, -16.365414350828843, 19.229683790763872, 17.268208065457806, -11.33909257912555, -17.071908398018202, -17.071908398018202, -17.071908398018202, -17.071908398018202, -17.071908398018202, -17.071908398018202, -17.071908398018202, -17.071908398018202, 14.930860543197982, 16.282003279460714, 14.782539349761878, 16.508160192831088, -13.89188283926528, -16.46064987510373, -13.751393669324548, 18.118035198678196, -11.802622900661445, 18.80011826625521, 18.447019126117276, 17.072243573127366, 15.871702332276026, -17.245546618354794, 19.26278522160579, 16.083872584539314, 17.573998560689652, 14.44142237722942, 14.44142237722942, 14.44142237722942, 14.44142237722942, 14.44142237722942, 14.44142237722942, 14.44142237722942, 14.44142237722942, -12.267714328791904, -12.267714328791904, -12.267714328791904, -12.267714328791904, -12.267714328791904, -12.267714328791904, -12.267714328791904, -12.267714328791904, -12.267714328791904, -12.267714328791904, -12.267714328791904, -12.267714328791904, -12.267714328791904, -12.267714328791904, -12.267714328791904, -12.267714328791904, -12.267714328791904, -12.267714328791904, -12.267714328791904, -12.267714328791904, -12.267714328791904, -12.267714328791904, -12.267714328791904, -12.267714328791904, -12.267714328791904, -12.267714328791904, -12.267714328791904, 19.869466862206103, 13.941952934206908, 16.95553237726307, 19.706383306501394, 19.18953791216981, -14.455237382914298, -15.193911976237748, 18.564392223241878, -12.03687208671375, -11.705974594553357, -11.78044193564697, -12.15277759037654, -16.481275017117092, 18.02765736078028, -14.030101063286388, 18.22185790709636, 17.367830203512856, 17.255932635151915, 18.330736082040534, -13.485750040104376, -14.103972112933866, -13.36771015195813, -8.816808307198631, 19.034907244126337, 16.917750955197654, 16.917750955197654, 16.917750955197654, 16.917750955197654, 16.917750955197654, 16.917750955197654, 16.917750955197654, 16.917750955197654, 19.209190460869465, -11.637670779496233, -14.126469003510671, 18.21563987002321, 19.62698791013853, 20.259620276324448, -15.980137047229563, 18.48411822237395, 15.337333355864141, 18.28298426569352, -15.225382555571466, -12.685058031425475, -12.685058031425475, -12.685058031425475, -12.685058031425475, -12.685058031425475, -12.685058031425475, -12.685058031425475, -12.685058031425475, -16.726005276889452, -16.232571706252966, 17.252842536670894, -9.2620652587339, 19.307376567964983, -13.793890821324034, -13.793890821324034, -13.793890821324034, -13.793890821324034, -13.793890821324034, -13.793890821324034, -13.793890821324034, -13.793890821324034, 19.796345357019042, 17.15113965539035, -8.048973119175352, 10.95118036039547, -14.287974759795494, -11.585032342043663, 19.510825468024926, 17.064024264271975, -13.324769545060265, 18.658288040764855, -13.419657927727997, -15.51588833326738, -13.041176874765148, 15.30399077066308, 18.08384130369473, -13.038231180658762, -16.476790172709364, -10.33552354856752, 19.970027432561164, 16.57106340014844, -8.108021343808895, -18.17787818018425, -14.4620031278676, 19.65259281179583, -8.136097335787364, -9.710164616065498, -9.710164616065498, -9.710164616065498, -9.710164616065498, -9.710164616065498, -9.710164616065498, -9.710164616065498, -9.710164616065498, 17.77967546126238, 21.25086783331271, 17.76659978092298, 19.374477401203894, 15.290498980022072, -14.196393545833395, -17.612899975246172, 16.461800564856887, 18.755392811186436, -12.593506433082245, 15.336449890773801, 19.705280280539846, -10.415660072215388, -16.42212836452643, 17.65501809054733, -17.182238064928285, 19.502792567860283, -16.292086757861814, 14.965600163589519, 14.965600163589519, 14.965600163589519, 14.965600163589519, 14.965600163589519, 14.965600163589519, 14.965600163589519, 14.965600163589519, -13.407829052710222, 17.965165997250807, 17.965165997250807, 17.965165997250807, 17.965165997250807, 17.965165997250807, 17.965165997250807, 17.965165997250807, 17.965165997250807, 17.478581212430914, 20.06218382969881, 16.95446894581676, -13.932455798575258, -15.070320281599873, -10.59575903926489, -12.911755608247347, 16.890347181463998, 16.890347181463998, 16.890347181463998, 16.890347181463998, 16.890347181463998, 16.890347181463998, 16.890347181463998, 16.890347181463998, -15.761027746886601, 20.350196410799324, 20.013176000475873, -13.272380819799757, -16.973343286048966, -8.171189717178862, 19.731007270658246, 19.731007270658246, 19.731007270658246, 19.731007270658246, 19.731007270658246, 19.731007270658246, 19.731007270658246, 19.731007270658246, 19.076972093618753, 17.897496913145723, 22.012824827364184, -17.228580944437947, -17.228580944437947, -17.228580944437947, -17.228580944437947, -17.228580944437947, -17.228580944437947, -17.228580944437947, -17.228580944437947, -11.700257616310687, -11.089640717777687, 19.989973568649468, -12.673800916857072, 18.645196317281286, -13.068523086368081, -10.186876095377949, 19.699526230235133, -14.133126702377835, -8.255546862059854, 18.397935578985134, 19.104753482322913, 18.783648902782673, 11.848017374031766, -16.12081978467568, 15.548251986229719, 17.353938093086178, 17.353938093086178, 17.353938093086178, 17.353938093086178, 17.353938093086178, 17.353938093086178, 17.353938093086178, 17.353938093086178, 12.711898537736182, 18.551375888130217, 17.75922895795834, -11.217320554102747, 20.35720227822066, 18.255604050577354, -12.873804559856234, -12.466922809324014, -11.272984062367465, -11.272984062367465, -11.272984062367465, -11.272984062367465, -11.272984062367465, -11.272984062367465, -11.272984062367465, -11.272984062367465, -15.832597090494817, -13.386424930861242, -16.03505861498919, -13.479108925046008, -12.207217067406066, 17.464515350452103, 17.12194946822592, -12.039985298670903, -15.03986492470818, -8.728023645442088, -10.612412453426682, -15.397070576592125, -10.260168462021776, 14.659172780289184, 18.526254172965185, -19.525626008054154, -15.810307127194616, -12.294700342785921, 18.247771375275267, 21.54523869134639, 17.571480128473222, -16.16604522708034, -14.573141817240948, -8.669043728071674, 10.253226901428198, 18.677635923465118, 18.677635923465118, 18.677635923465118, 18.677635923465118, 18.677635923465118, 18.677635923465118, 18.677635923465118, 18.677635923465118, -14.237138265672698, -14.522863960853865, -16.678875183376828, -14.143428659382767, -15.392481211912846, -16.677450225216916, 17.06201334173781, 16.9438064353978, -14.749947570533932, -11.490582080431349, -10.296212713618488, -10.543186584452105, -15.416935773649147, 17.693377950933044, 17.124336637766714, 19.141626427848237, -14.944498645133729, 17.461439195049497, -10.29947677757715, 20.791609532585465, 18.10373047727333, 15.84444949988525, 16.882244978074333, 16.882244978074333, 16.882244978074333, 16.882244978074333, 16.882244978074333, 16.882244978074333, 16.882244978074333, 16.882244978074333, 19.8413591963773, 20.71264670882204, 18.369494493298312, 16.062150453531046, 18.348918078699864, 16.236862899973673, -15.475753870588939, -13.445886874637683, 19.700260223371494, -13.06918596914952, -13.589337085824349, 14.411066191945212, 18.980960227890087, -15.61679684469509, 11.672564627575529, -14.946203966978526, 18.80705402163041, 18.106857308703233, -12.029543271592004, 18.754491199228003, 18.658858206404748, 16.40316557695365, 17.03034024020256, 16.918251069176108, 18.88617315988234, 17.080918861011277, 16.459244518974824, 16.329516494372886, -9.89625372146355, -15.894989721669912, 18.174134999681986, 20.395749053690533, 14.57898952154476, -9.649977064639414, 17.9345883496868, -12.007309713386984, -12.007309713386984, -12.007309713386984, -12.007309713386984, -12.007309713386984, -12.007309713386984, -12.007309713386984, -12.007309713386984, 17.61638232486782, 19.323375583208538, 19.323375583208538, 19.323375583208538, 19.323375583208538, 19.323375583208538, 19.323375583208538, 19.323375583208538, 19.323375583208538, -10.671214646509528, -10.671214646509528, -10.671214646509528, -10.671214646509528, -10.671214646509528, -10.671214646509528, -10.671214646509528, -10.671214646509528, 16.277556518229893, -12.631934835473318, -16.467113256922833, 16.264247605261072, 16.264247605261072, 16.264247605261072, 16.264247605261072, 16.264247605261072, 16.264247605261072, 16.264247605261072, 16.264247605261072, 20.378177730604484, -12.066568079396575, -12.066568079396575, -12.066568079396575, -12.066568079396575, -12.066568079396575, -12.066568079396575, -12.066568079396575, -12.066568079396575, -12.066568079396575, -12.066568079396575, -12.066568079396575, -12.066568079396575, -12.066568079396575, -12.066568079396575, -12.066568079396575, -12.066568079396575, -12.066568079396575, -12.066568079396575, -12.066568079396575, -12.066568079396575, -12.066568079396575, -12.066568079396575, -12.066568079396575, -12.066568079396575, -12.066568079396575, -12.066568079396575, -12.066568079396575, -16.450360567688385, 20.21636281298356, -7.227597342627917, -13.0201308644571, -13.877862136750183, 15.754630298527799, 20.026797995602404, 15.841879382896936, -13.770971615078501, 13.540552335190624, -14.355736181370967, 20.32168374211223, 20.32168374211223, 20.32168374211223, 20.32168374211223, 20.32168374211223, 20.32168374211223, 20.32168374211223, 20.32168374211223, -9.365119357551448, 16.860224211963015, -11.597841168924818, 19.844203381732378, -10.669450846541123, 20.710874542709742, 20.710874542709742, 20.710874542709742, 20.710874542709742, 20.710874542709742, 20.710874542709742, 20.710874542709742, 20.710874542709742, -16.400028942379688, 12.640823541269636, 19.747238711332756, 18.276589207911353, 19.385746413001314, -12.848429346401133, 17.65763689232835, -15.160591444031061, 17.353069528429494, -12.297220800220238, 19.42681597318538, -10.871102570151827, 19.169743029507313, 19.169743029507313, 19.169743029507313, 19.169743029507313, 19.169743029507313, 19.169743029507313, 19.169743029507313, 19.169743029507313, 20.08195566686262, 21.062566881260604, -11.529351226940863, -12.411460093330248, 17.630225265199744, -8.437927503020033, -14.45806046821132, -14.807030811127442, 15.433500902915876, -12.313044417216672, 19.228940347859346, 19.91121899949694, 18.900662186010653, 15.740798903386262, 15.740798903386262, 15.740798903386262, 15.740798903386262, 15.740798903386258, 15.740798903386258, 15.740798903386258, 15.740798903386258, 17.31433597341033, 15.88116550327404, 17.49243307252328, 17.04313486891305, -9.83251656053919, 20.227239630822492, 18.578405358464057, 18.657127494608776, 18.32231917520857, -9.698682432566399, 17.79377274842801, 17.316630084632735, -11.992715534423818, -13.701009096028153, -12.935710139663561, 17.6527015107994, 17.74612034903676, 17.74612034903676, 17.74612034903676, 17.74612034903676, 17.74612034903676, 17.74612034903676, 17.74612034903676, 17.74612034903676, 19.472204022913857, 19.472204022913857, 19.472204022913857, 19.472204022913857, 19.472204022913857, 19.472204022913857, 19.472204022913857, 19.472204022913857, -17.090885425121044, 14.915697122003495, 17.494485040941928, -11.600217089864012, 19.40378300781223, -15.455419723485623, 13.202562159638404, 13.202562159638404, 13.202562159638404, 13.202562159638404, 13.202562159638404, 13.202562159638404, 13.202562159638404, 13.202562159638404, -15.804995659114528, 18.224293799064313, -15.249064092536486, -11.190403258163236, 17.982901955034794, -12.284090396144085, -13.97224281118348, 17.747725339093417, 17.747725339093417, 17.747725339093417, 17.747725339093417, 17.747725339093417, 17.747725339093417, 17.747725339093417, 17.747725339093417, 7.289388670787314, -15.250279404746804, 14.668756827456189, 17.175994813388424, -11.742171886447073, -11.742171886447073, -11.742171886447073, -11.742171886447073, -11.742171886447073, -11.742171886447073, -11.742171886447073, -11.742171886447073, -12.71111739272335, 20.02652716260862, 17.150710978238944, -10.423127692161069, -12.788536297831698, 18.385866626998858, -14.267002293211574, -13.757765312250037, -13.757765312250037, -13.757765312250037, -13.757765312250037, -13.757765312250037, -13.757765312250037, -13.757765312250037, -13.757765312250037, 14.587634609802013, -14.93315578864906, -15.534958699057013, 19.601668023358922, -13.699753956594813, -10.89950087050627, 17.264952757865935, -15.740547575077086, -12.397038495032971, 20.199134615356435, 15.369922318219025, -14.379542158662863, -14.568164400951941, -14.203165363800446, 20.198918979152015, 20.227073941152625, 16.625270453937006, 14.716244207051222, 19.438962821179533, -11.14623655465179, -16.447556490383178, 18.943476642176055, 17.25785540020248, 11.519582893061415, -15.977658335145057, 18.793366287633937, 20.03500538444358, 20.03500538444358, 20.03500538444358, 20.03500538444358, 20.03500538444358, 20.03500538444358, 20.03500538444358, 20.03500538444358, -4.940682237231165, -12.838678466310261, -16.761466107827623, -15.082457008186966, 14.020538469534076, -16.411965342822544, -13.89907041298621, -7.1446071617429485, -13.638458103466686, 17.076377290096023, 16.54932667804754, -15.420072358331254, -16.81036785106445, -16.704467476354544, -10.872487191239296, -17.35481456027409, 19.29891442652996, -14.432023923533805, -14.432023923533805, -14.432023923533805, -14.432023923533805, -14.432023923533805, -14.432023923533805, -14.432023923533805, -14.432023923533805, -14.432023923533805, -14.432023923533805, -14.432023923533805, -14.432023923533805, -14.432023923533805, -14.432023923533805, -14.432023923533805, -14.432023923533805, -14.432023923533805, -14.432023923533805, -14.432023923533805, -14.432023923533805, -14.432023923533805, -14.432023923533805, -14.432023923533805, -14.432023923533805, -14.432023923533805, -14.432023923533805, -14.432023923533805, -14.432023923533805, -14.432023923533805, -14.432023923533805, -14.432023923533805, -14.432023923533805, -14.432023923533805, -14.432023923533805, -14.432023923533805, -14.432023923533805, -14.432023923533805, -14.432023923533805, -14.432023923533805, -14.432023923533805, -14.432023923533805, -14.432023923533805, -14.432023923533805, -14.432023923533805, -14.432023923533805, -14.432023923533805, -14.432023923533805, -14.432023923533805, -14.432023923533805, -14.432023923533805, -14.432023923533805, -14.432023923533805, -14.432023923533805, -14.432023923533805, -14.432023923533805, -14.432023923533805, -14.432023923533805, -14.432023923533805, -14.432023923533805, -14.432023923533805, -14.432023923533805, -14.432023923533805, -14.432023923533805, -14.432023923533805, -12.022958090572342, 17.897441405930614, -15.265676136507544, 18.06823785869287, 18.06823785869287, 18.06823785869287, 18.06823785869287, 18.06823785869287, 18.06823785869287, 18.06823785869287, 18.06823785869287, 19.905383153723708, -17.5000261291071, 11.54035246646295, 18.556259120266255, 16.20456186902718, -11.71330545149678, 15.848187296973235, 16.807320261648965, -15.881240823551678, 19.934327467694352, 19.06565178473339, 20.50084858132487, 20.50084858132487, 20.50084858132487, 20.50084858132487, 20.50084858132487, 20.50084858132487, 20.50084858132487, 20.50084858132487, -14.578682807431282, -16.169561267668573, 18.03729121211673, 18.359900416268292, 21.457366529723934, 17.0134698272552, 20.561761318056455, 15.961233995363262, 18.16746694190832, -11.714974864881736, -13.678301313189975, 19.203219989180756, -10.848330624360305, 20.08029104735427, 15.176784469436846, 15.02072420124931, 21.21639810418732, 5.530682782355837, 16.97121342186161, -8.00357783328273, -8.00357783328273, -8.00357783328273, -8.00357783328273, -8.00357783328273, -8.00357783328273, -8.00357783328273, -8.00357783328273, 18.003758352425972, 15.979232195525283, 20.38824414232948, 17.198713427683664, -15.556163906017096, -15.947032646987122, -11.872648435724159, 19.01799059779093, -15.89952851088764, 16.860787833600863, 13.813396526622832, 19.41287764302792, 16.965254010814824, -16.24813189348268, -13.463579136006793, -15.213069015890536, 15.619072843441232, 18.349383155611594, 12.508496395977227, 19.510294079971526, -13.944170608401926, 19.730640740535353, 18.583298162173183, 16.229181020511188, 16.20192970263863, 17.691168494836596, 15.854192690772027, -14.853831226416535, 19.90093831713846, -12.719792891593832, -14.15349397909095, -13.748207315361443, 19.022891886398817, -15.609657610545112, 18.350919700111465, -17.63137376035045, 17.632738771967315, -12.241941479627926, 18.475007543215522, 18.475007543215522, 18.475007543215522, 18.475007543215522, 18.475007543215522, 18.475007543215522, 18.475007543215522, 18.475007543215522, -10.923477072654116, 18.55292837680034, 18.606565961123604, -14.078217264842008, 20.799639620521944, 18.417466349245583, -13.212501503974508, -13.212501503974508, -13.212501503974508, -13.212501503974508, -13.212501503974508, -13.212501503974508, -13.212501503974508, -13.212501503974508, 18.652414447179257, -15.618115608425747, 7.466749650814122, 7.466749650814122, 7.466749650814122, 7.466749650814122, 7.466749650814122, 7.466749650814122, 7.466749650814122, 7.466749650814122, 18.44545005874903, 18.27042110463835, -14.561806873072129, 14.007718434346263, 15.609315712117365, 18.73599917681191, 16.419548964954018, 19.991704244043127, 19.266004163123043, -13.9058208419676, -13.308490215212347, 19.08970228240582, 18.866784279625865, 18.866784279625865, 18.866784279625865, 18.866784279625865, 18.866784279625865, 18.866784279625865, 18.866784279625865, 18.866784279625865, 18.576502539365354, 18.576502539365354, 18.576502539365354, 18.576502539365354, 18.576502539365354, 18.576502539365354, 18.576502539365354, 18.576502539365354, -13.386971854704544, -13.554630068101403, -13.382669044475858, 14.92180929530357, 16.825886690855945, 20.25413040745952, 19.222125623070283, 16.86302228987321, 19.367825548400873, 22.049333395070846, 22.049333395070846, 22.049333395070846, 22.049333395070846, 22.049333395070846, 22.049333395070846, 22.049333395070846, 22.049333395070846, 19.099505012126933, 17.38152221215456, 16.477767273320694, 19.25473345773554, 18.760398927857175, 18.98285720101373, 12.849118195167973, -10.924543739273703, -14.784692553781959, 18.92016544861433, 16.498290413702748, 18.919560243621607, -14.96483175028541, 16.42785029870757, 18.479042611924253, 18.74357778523292, 13.513086534261994, 16.51787734157431, 16.814917509621484, -12.149157491205099, 10.507567904329447, 10.507567904329447, 10.507567904329447, 10.507567904329447, 10.507567904329447, 10.507567904329447, 10.507567904329447, 10.507567904329447, -11.763886091382886, 17.35237899244263, 16.491828788541042, 16.23664011857193, 18.81940490538177, 16.19474248067046, -9.116265618204512, -17.607997299211785, 18.740268971680727, -12.18293421498022, -10.321344780999056, 18.517057699663706], \"xaxis\": \"x\", \"y\": [-0.3447116567557367, -5.787514093333634, 0.5987885043594212, -1.0610570421802028, 1.1472068902582548, 1.415781785137131, 1.415781785137131, 1.415781785137131, 1.415781785137131, 1.415781785137131, 1.415781785137131, 1.415781785137131, 1.415781785137131, 1.3608633077265537, 17.679126308042296, -15.67468130688185, -9.52510878865464, 14.58106934438866, 0.42018420300664394, -17.676760700839726, 1.406713696721343, 7.085304923053636, -15.921883427474347, 1.7800922921680953, -11.816923334013673, 1.0499730192908003, 13.728426345839026, 2.8775557073336318, 2.8775557073336318, 2.8775557073336318, 2.8775557073336318, 2.8775557073336318, 2.8775557073336318, 2.8775557073336318, 2.8775557073336318, 17.19392537220701, 11.428758361973454, 0.9672297902291633, 2.009722118881787, 0.4447604674809469, 4.8877375706644886, 20.56785646338614, 3.663515739092192, 10.933334707641606, 1.6478450175289538, -0.8175006810201001, -0.7840582409008499, 18.39186544819101, 4.5603658666103195, -9.549231913015722, 1.2427809354093142, -16.032727080936866, 16.40684226392408, -1.413865073609635, 6.553153442985207, 1.0277623171404469, 0.5177962455498035, 1.6045780892543238, 1.4493149821446991, -13.178465172795276, 14.917557351344309, 20.004864676549033, -3.4157112958659557, -1.2865133897720322, 17.0011909173275, 0.5871662417133748, 7.1863556787953975, 0.5482451874132808, 0.08795604246294499, 9.07004123674342, 11.746890907604886, -13.113820974936724, -10.589715623782752, -0.37814779129992726, -0.32272711520974934, -0.8121144168091992, 0.6308188815295124, 0.6308188815295124, 0.6308188815295124, 0.6308188815295124, 0.6308188815295124, 0.6308188815295124, 0.6308188815295124, 0.6308188815295124, 0.3456631948040504, 13.668106875637777, -10.865556372077174, 0.24984437966176667, 2.059039324322647, -14.689431475779678, 16.008531336049767, 1.2247898934242347, 1.448506736747847, -15.763415060694719, 0.45620553852016044, -12.2442889256441, -0.47834606646432853, 17.778694827783, -12.577786697754343, -1.7545049894355045, 7.816311048530328, -15.550279134907004, 0.5228497321107411, -1.0024191180759836, 17.542158918611374, 2.161828551822269, 1.7093617224036768, -0.7646130100610854, -0.4311924570051596, -0.4311924570051596, -0.4311924570051596, -0.4311924570051596, -0.4311924570051596, -0.4311924570051596, -0.4311924570051596, -0.4311924570051596, 16.108306250082745, -0.3276497277982123, 1.555748150153718, 0.3590065845295072, 0.3590065845295072, 0.3590065845295072, 0.3590065845295072, 0.3590065845295072, 0.3590065845295072, 0.3590065845295072, 0.3590065845295072, -0.5100159307666537, -0.8164261296731369, 0.4313477021719727, -0.952108588937129, -18.42193277039422, 9.08248112244206, 0.0028018488502909895, 0.9240941749664258, 0.8451651775464619, 0.4249583223708969, -0.12705301529437563, -0.35111692945812145, 0.14821947947732597, 15.78961179873673, 5.547552978684787, 1.3027895246848136, 1.149741263588814, 2.4551441364495585, -5.797620600091444, 20.78722000112823, -1.6616950544367202, -1.6616950544367202, -1.6616950544367202, -1.6616950544367202, -1.6616950544367202, -1.6616950544367202, -1.6616950544367202, -1.6616950544367202, 2.215285273551924, -14.482939495238817, 1.0049601378773045, -8.874496316206516, 6.592120507463452, -0.5630742004772149, 6.864943626875542, 1.5626732806500623, 18.459773502300735, 0.31565643686259237, -0.404273089612084, -0.404273089612084, -0.404273089612084, -0.404273089612084, -0.404273089612084, -0.404273089612084, -0.404273089612084, -0.404273089612084, 0.44721393091001466, -1.3364993619024557, -1.3364993619024557, -1.3364993619024557, -1.3364993619024557, -1.3364993619024557, -1.3364993619024557, -1.3364993619024557, -1.3364993619024557, 0.822538122445284, -15.12901962799298, 1.950976020295808, 0.9980223750557415, 2.2889953368921003, -1.9472847490918561, 4.132996088782944, 1.2948723830682283, -3.018821692428493, 4.167658865776197, -1.5898670616999588, -16.441125696222684, 2.6831415537314722, -13.55152272529961, -0.36203259500316937, 2.821885845653535, -2.2301936534600135, -11.792827027263593, 1.2600378479628305, -0.8585982322857784, 3.0035463584467452, 0.646052925268797, -1.6614199705713348, 15.391820176928801, 3.052058182142933, -1.4156859262853767, -17.123294980365817, 17.18352359402274, 17.18352359402274, 17.18352359402274, 17.18352359402274, 17.18352359402274, 17.18352359402274, 17.18352359402274, 17.18352359402274, -2.547117995857589, -0.663754674077321, 0.11011136525918139, 0.4746143825715048, 12.820630560782122, 6.277044694015648, 13.656676134383702, 1.4497822640949178, -18.433020624983165, -0.1435470719765115, 0.9407970292965531, 1.8726134832367243, 1.3755471496370861, 15.725247012007944, 0.4651142847031928, 1.3741454961340311, -0.6332285023678657, -3.294819217429676, -3.294819217429676, -3.294819217429676, -3.294819217429676, -3.294819217429676, -3.294819217429676, -3.294819217429676, -3.294819217429676, -15.297038927924609, -15.297038927924609, -15.297038927924609, -15.297038927924609, -15.297038927924609, -15.297038927924609, -15.297038927924609, -15.297038927924609, -15.297038927924609, -15.297038927924609, -15.297038927924609, -15.297038927924609, -15.297038927924609, -15.297038927924609, -15.297038927924609, -15.297038927924609, -15.297038927924609, -15.297038927924609, -15.297038927924609, -15.297038927924609, -15.297038927924609, -15.297038927924609, -15.297038927924609, -15.297038927924609, -15.297038927924609, -15.297038927924609, -15.297038927924609, 1.4270058878689331, 0.16168937033378547, 1.1047453459860306, 1.2934913039700637, 0.7804351159037658, -12.922846789710828, 18.289433239167813, 2.703037895274696, -14.41557873040183, 6.07755472522973, -13.764781743395451, -0.4203840912643534, 11.962559067004161, 1.6544470175914634, -7.023881614400567, -0.5315178847503154, -0.6655992520125791, 0.3744737510419701, 0.5677114151740745, 13.01762004836001, -14.444667012113388, 6.414825973582679, -13.271949588281332, 0.09228017598432978, -1.0817908568553691, -1.0817908568553691, -1.0817908568553691, -1.0817908568553691, -1.0817908568553691, -1.0817908568553691, -1.0817908568553691, -1.0817908568553691, 2.027039597589452, 0.6204564952316123, -15.38406209946121, 3.357700612161029, 1.7260617213363325, 1.5614664167042007, 12.50897461792957, 0.09767339231054877, -1.6502623063102948, -1.1949203403815583, 10.578448574979978, -13.174774062796736, -13.174774062796736, -13.174774062796736, -13.174774062796736, -13.174774062796736, -13.174774062796736, -13.174774062796736, -13.174774062796736, 5.344802213250001, 16.275072586915506, 0.68007100170602, -6.08871554768864, 0.5867866954459036, 3.437528780342902, 3.437528780342902, 3.437528780342902, 3.437528780342902, 3.437528780342902, 3.437528780342902, 3.437528780342902, 3.437528780342902, 2.963799703219842, 1.0255847679579675, -4.89008644817582, -0.277247304032498, 15.098384371948981, 13.495028526603976, 1.1397713416196031, 0.5578801527925266, 17.14257781343119, 2.0423240455967444, 1.491983688106822, 16.81886490819053, -9.041213829132873, -1.0759918238731339, 1.2935747302367193, -13.451671513495485, 9.106311876030247, 7.589938990327504, 2.647034341879818, 0.08733125196697261, -10.301892199547435, 16.49085141463485, 20.511193581213377, 0.27336467545446524, -7.774837899586134, -16.08611857943818, -16.08611857943818, -16.08611857943818, -16.08611857943818, -16.08611857943818, -16.08611857943818, -16.08611857943818, -16.08611857943818, -0.20291002423286447, 1.0512821800112728, 1.3944858554277855, -0.2253122115870106, -0.8977425066761568, 17.807474298979937, 11.276983796291026, 0.09401474238035287, -0.6490129159837953, 6.586612297126317, 0.0724134427452362, 1.4443439089073846, -15.74112867265696, 6.850924910635682, -0.011275387543779103, 5.290290268326269, 1.5455307196545156, 13.986547378345902, 0.42317423020836353, 0.42317423020836353, 0.42317423020836353, 0.42317423020836353, 0.42317423020836353, 0.42317423020836353, 0.42317423020836353, 0.42317423020836353, 5.848481053073778, 0.35957633828105645, 0.35957633828105645, 0.35957633828105645, 0.35957633828105645, 0.35957633828105645, 0.35957633828105645, 0.35957633828105645, 0.35957633828105645, -1.1523408363000598, 1.640228185593705, -0.7320019406497623, -14.135211796310395, 12.598840785906583, -16.25988266398604, 5.7921524380098095, 1.673174148999088, 1.673174148999088, 1.673174148999088, 1.673174148999088, 1.673174148999088, 1.673174148999088, 1.673174148999088, 1.673174148999088, 17.296293370992906, 0.5027317639729436, 0.39496538628499755, -5.4569354676669475, 15.448038979586322, 4.128323855124309, 1.369959263536868, 1.369959263536868, 1.369959263536868, 1.369959263536868, 1.369959263536868, 1.369959263536868, 1.369959263536868, 1.369959263536868, 0.4591501457990551, -1.0718261304740693, 1.7894136098350968, 14.84469470308074, 14.84469470308074, 14.84469470308074, 14.84469470308074, 14.84469470308074, 14.84469470308074, 14.84469470308074, 14.84469470308074, -11.64606492276859, -12.105434865792871, 1.6568811492318893, -12.73231264944266, 2.0983240497967026, 20.204624696854875, 9.194386062692052, 3.0527828203226917, -14.800899433033402, 0.7707498107442229, 1.3167137576650332, 2.382513860046038, 0.25916972549739353, 0.5246358557034274, 9.44203755468633, -0.004953051281023413, -1.414105424563242, -1.414105424563242, -1.414105424563242, -1.414105424563242, -1.414105424563242, -1.414105424563242, -1.414105424563242, -1.414105424563242, -2.244663982739519, 0.48303231957798454, 1.3151286189706732, -12.118606480838356, 1.5495762870428598, 3.2321268957220264, -11.683543629633597, 13.454098815501531, 18.632054790847327, 18.632054790847327, 18.632054790847327, 18.632054790847327, 18.632054790847327, 18.632054790847327, 18.632054790847327, 18.632054790847327, 10.262943499623304, -15.594123887484013, -15.646537292388643, 14.029423574592322, -12.55363203794, 0.07470002564050886, -0.14876822073720627, -11.463274412684855, 9.728141992128304, 15.975336453593528, 2.9311003597709484, 20.14172163595893, -12.830573482144153, -1.1808808849093915, -1.037349860977244, 9.978874823205642, 16.03537398189088, 5.141523856641712, 1.571818317510367, 1.9372579610982663, 3.698260228832545, 19.212593010062317, -12.388443822935027, -15.023000756405047, -3.1847637229461054, 0.5074177294311989, 0.5074177294311989, 0.5074177294311989, 0.5074177294311989, 0.5074177294311989, 0.5074177294311989, 0.5074177294311989, 0.5074177294311989, -14.158362184346826, 13.233058307498156, 17.60821185371205, 18.905689846004844, 11.439489631377402, 16.793414277653497, 2.3431609657443215, 1.8204387529304682, 19.709959982676228, 10.310926237734254, -18.910169399487486, -16.703464397980678, 15.915572515587048, 2.145276632128111, 1.0667114323376687, -0.31618880550125944, 18.444763505672128, 0.7510969651083549, -19.116459524473722, 0.8594505792697829, 2.135237586225465, 0.5622329530858096, -1.1106243478184705, -1.1106243478184705, -1.1106243478184705, -1.1106243478184705, -1.1106243478184705, -1.1106243478184705, -1.1106243478184705, -1.1106243478184705, 2.3740534344167625, 2.29890281272874, -0.7168612847349825, 2.7224150241326472, 0.5989471110651796, -1.2174353574697585, -10.033452673406963, -14.175873086014615, 0.4233754472409421, 7.704824476656724, 9.776119655677196, -0.9381914762762789, 1.0456353980424238, 17.843476428554897, 1.0186886778103816, 12.632302637248191, 2.083343313002163, 1.7477177143807123, 4.4129278709027036, 1.154037222158933, 3.379646599912981, 0.6397426067319294, 1.855078335184419, 1.003707228590074, 3.2930157717981667, 1.5711396388642969, 1.0815441795210643, -0.992003528161971, 2.925729528244817, 18.927770140562018, -0.7996156591219945, 1.0921943208817328, -3.032306175836469, 18.370906702408078, 2.436767129643089, 3.5789250336567404, 3.5789250336567404, 3.5789250336567404, 3.5789250336567404, 3.5789250336567404, 3.5789250336567404, 3.5789250336567404, 3.5789250336567404, 0.26948796518793444, 0.9012088194562455, 0.9012088194562455, 0.9012088194562455, 0.9012088194562455, 0.9012088194562455, 0.9012088194562455, 0.9012088194562455, 0.9012088194562455, -20.040127573957044, -20.040127573957044, -20.040127573957044, -20.040127573957044, -20.040127573957044, -20.040127573957044, -20.040127573957044, -20.040127573957044, -1.101676054726406, -15.051118777516843, 15.431350835837739, -0.14501207111548198, -0.14501207111548198, -0.14501207111548198, -0.14501207111548198, -0.14501207111548198, -0.14501207111548198, -0.14501207111548198, -0.14501207111548198, 1.773198304512014, 18.697953326921688, 18.697953326921688, 18.697953326921688, 18.697953326921688, 18.697953326921688, 18.697953326921688, 18.697953326921688, 18.697953326921688, 18.697953326921688, 18.697953326921688, 18.697953326921688, 18.697953326921688, 18.697953326921688, 18.697953326921688, 18.697953326921688, 18.697953326921688, 18.697953326921688, 18.697953326921688, 18.697953326921688, 18.697953326921688, 18.697953326921688, 18.697953326921688, 18.697953326921688, 18.697953326921688, 18.697953326921688, 18.697953326921688, 18.697953326921688, 15.37994182666875, 0.9768582065378771, -4.078157441887712, -14.333621245898337, 15.930450216646374, -1.826764241547903, 1.0002303966409387, 0.39881312514570805, 15.987139096424908, -0.5546847488117392, 7.733999533948986, 2.4481224994824538, 2.4481224994824538, 2.4481224994824538, 2.4481224994824538, 2.4481224994824538, 2.4481224994824538, 2.4481224994824538, 2.4481224994824538, -16.784008596278078, -0.3796554099087273, 3.932796683747798, 3.0651055025625, -10.046288933380653, -0.33867434343622294, -0.33867434343622294, -0.33867434343622294, -0.33867434343622294, -0.33867434343622294, -0.33867434343622294, -0.33867434343622294, -0.33867434343622294, 11.756399289345342, 0.041686927617846606, -0.3631213319160185, 1.4895984997037064, 1.2374224330154033, -5.017411238635598, 0.19651568249941914, 6.810008692011371, 1.0676662981780234, 15.736645447473034, 1.0074860504106462, -18.001876423171616, -1.5291869289998603, -1.5291869289998603, -1.5291869289998603, -1.5291869289998603, -1.5291869289998603, -1.5291869289998603, -1.5291869289998603, -1.5291869289998603, 0.9237470379351628, 1.5309388152969614, -11.980232385057475, -15.64989336352865, -0.4380601365063364, -5.634477669708409, 17.17453658122583, -18.274853804022705, -0.3275014516309449, 9.80849589361546, 0.9301974335426787, 1.8674143667404806, 0.4200974032131187, 1.5603723583852576, 1.5603723583852576, 1.5603723583852576, 1.5603723583852576, 1.560372358385257, 1.560372358385257, 1.560372358385257, 1.560372358385257, 1.3605919196684781, 0.8448076531230048, 0.7405651551238651, -1.185119828138536, -14.348654380097972, 1.332183613196936, -0.6703818619480573, -1.467319677419045, 0.2318843447599545, 10.811551658039313, 0.6998413640276696, 2.1251547168458993, -10.679114393445685, -5.6398477001627825, 3.606686447368295, 0.17855313134776798, 0.3416796663448982, 0.3416796663448982, 0.3416796663448982, 0.3416796663448982, 0.3416796663448982, 0.3416796663448982, 0.3416796663448982, 0.3416796663448982, 1.4307856463566493, 1.4307856463566493, 1.4307856463566493, 1.4307856463566493, 1.4307856463566486, 1.4307856463566486, 1.4307856463566486, 1.4307856463566486, 15.523243068950364, 1.7748115437520493, -1.6684399317382104, -14.152744302986568, 0.5138396681866036, 2.3443413726928486, -1.8263580117456697, -1.8263580117456697, -1.8263580117456697, -1.8263580117456697, -1.8263580117456697, -1.8263580117456697, -1.8263580117456697, -1.8263580117456697, 18.469633537698222, 3.063238131275661, 19.395460115455474, 11.037236857527324, 1.5379178650988468, -15.217983186621238, -8.146932211321946, -3.1230697925190603, -3.1230697925190603, -3.1230697925190603, -3.1230697925190603, -3.1230697925190603, -3.1230697925190603, -3.1230697925190603, -3.1230697925190603, 4.872425044208954, 21.150619138102964, -0.902659155342552, 0.7764687338886634, 8.742952166047957, 8.742952166047957, 8.742952166047957, 8.742952166047957, 8.742952166047957, 8.742952166047957, 8.742952166047957, 8.742952166047957, 11.487999997063417, 1.4186947429385377, -0.6739974598983588, -10.739886946978146, 10.129665187124102, -0.1984066622752394, 5.939568251703058, -9.565882259245848, -9.565882259245848, -9.565882259245848, -9.565882259245848, -9.565882259245848, -9.565882259245848, -9.565882259245848, -9.565882259245848, -1.11757472886511, 17.24776680643694, 11.657149692524621, 1.2102994806962366, 12.81307379408714, -7.925658575049984, 0.029349769571768047, 18.139203540798526, -12.57614123752823, 1.5830652920824393, 2.6336173606022233, 19.235908186086746, -10.240037527058004, -13.460828586577794, 0.8137333969837295, 0.8280372607008936, 0.9100847926979729, -2.658170094747683, 1.8953440410807032, -16.78723254742409, 18.51030604167895, 1.3944484667721553, 1.7003178500772913, 0.9397257221309314, 5.066086393494046, -0.4531051656012375, 1.5009166797398463, 1.5009166797398463, 1.5009166797398463, 1.5009166797398463, 1.5009166797398463, 1.5009166797398463, 1.5009166797398463, 1.5009166797398463, 4.6692759596778215, 2.6327640167201785, 8.647387311613882, -15.195278601669353, -0.8472053540064114, 20.089025064576646, 17.19401371792737, -4.986706235204947, 17.00547926882259, 0.1526082293758551, 0.7754950441841355, 15.082592802619464, 16.46268837720115, 15.69928022445892, -14.350880943489573, 16.5403240872272, 1.3161533874415638, -9.22215465348279, -9.22215465348279, -9.22215465348279, -9.22215465348279, -9.22215465348279, -9.22215465348279, -9.22215465348279, -9.22215465348279, -9.22215465348279, -9.22215465348279, -9.22215465348279, -9.22215465348279, -9.22215465348279, -9.22215465348279, -9.22215465348279, -9.22215465348279, -9.22215465348279, -9.22215465348279, -9.22215465348279, -9.22215465348279, -9.22215465348279, -9.22215465348279, -9.22215465348279, -9.22215465348279, -9.22215465348279, -9.22215465348279, -9.22215465348279, -9.22215465348279, -9.22215465348279, -9.22215465348279, -9.22215465348279, -9.22215465348279, -9.22215465348279, -9.22215465348279, -9.22215465348279, -9.22215465348279, -9.22215465348279, -9.22215465348279, -9.22215465348279, -9.22215465348279, -9.22215465348279, -9.22215465348279, -9.22215465348279, -9.22215465348279, -9.22215465348279, -9.22215465348279, -9.22215465348279, -9.22215465348279, -9.22215465348279, -9.22215465348279, -9.22215465348279, -9.22215465348279, -9.22215465348279, -9.22215465348279, -9.22215465348279, -9.22215465348279, -9.22215465348279, -9.22215465348279, -9.22215465348279, -9.22215465348279, -9.22215465348279, -9.22215465348279, -9.22215465348279, -9.22215465348279, -16.706350828350516, 2.2303335157472333, 13.515758556086016, 0.6629933406056282, 0.6629933406056282, 0.6629933406056282, 0.6629933406056282, 0.6629933406056282, 0.6629933406056282, 0.6629933406056282, 0.6629933406056282, 1.7384824693358516, 15.446819696218983, 1.0471458760553967, 1.841183400666202, -1.907704582352365, 2.9152065731796726, 3.1827540302746202, 3.627900841659931, 7.836040312993166, 2.2881161931040155, 1.7561107886091607, 2.2115997614728076, 2.2115997614728076, 2.2115997614728076, 2.2115997614728076, 2.2115997614728076, 2.2115997614728076, 2.2115997614728076, 2.2115997614728076, -7.463579929859949, 8.307724682257557, 2.699455012592285, 0.8873228252029548, 2.6449300250866647, 2.161593023947095, 0.9913063152718842, -1.0439839087520422, 0.9203673751502148, -16.79060061900946, 17.377583413514127, 1.0860943504413791, -19.172256883419276, 1.2513903889501394, 1.1206225431971895, 1.0026140975040114, 1.5567442267641418, -1.5104115997139238, -0.14729489270873813, -11.19183692802769, -11.19183692802769, -11.19183692802769, -11.19183692802769, -11.19183692802769, -11.19183692802769, -11.19183692802769, -11.19183692802769, 0.06539661895632201, 1.378731521092705, 1.0190958596396626, 1.1569913524823747, 17.79263004234811, 11.741298734560024, -16.230056715086, 2.0959890485599235, 16.642633540650127, 2.2334619917541167, 1.2734283048974977, 1.4856389582017415, 1.2337323703975152, -11.238094667348886, 7.150350402300326, 10.572734377442409, 0.19985125507073354, 2.781305847742088, 0.6682022344704981, 2.4184080689178837, -14.98601371457039, 0.19064335421556752, -0.3855133208546456, 2.7677659331145996, 0.24946988153381222, 0.8305002370165749, -0.40121510593523574, -12.168294431370278, 1.691777222606945, 0.6476078899560862, 15.721808477717412, 19.629832410611264, 1.4313715949780415, -9.59139682044221, 1.0480707699376848, 18.127175684929725, 2.900172624560129, 14.481562821309563, 0.9510837427214294, 0.9510837427214294, 0.9510837427214294, 0.9510837427214294, 0.9510837427214294, 0.9510837427214294, 0.9510837427214294, 0.9510837427214294, -9.863086018213066, 0.25127933106903044, -0.41065370155011316, 14.327636642735017, 1.1408458619882162, 0.11983623860554972, -14.891058345111068, -14.891058345111068, -14.891058345111068, -14.891058345111068, -14.891058345111068, -14.891058345111068, -14.891058345111068, -14.891058345111068, 0.9447209624495863, 11.781842151411666, -1.153115121713839, -1.153115121713839, -1.153115121713839, -1.153115121713839, -1.153115121713839, -1.153115121713839, -1.153115121713839, -1.153115121713839, 1.78148207807043, 0.16537537607276984, 11.792209992433998, 0.5350918742010549, 1.6767696897432152, 1.526065325442673, 0.4605142299388916, 1.1818922626704988, 1.183001616615706, -14.14632973632185, 13.538950769325218, 0.6764581708212775, 1.8485673174325967, 1.8485673174325967, 1.8485673174325967, 1.8485673174325967, 1.8485673174325967, 1.8485673174325967, 1.8485673174325967, 1.8485673174325967, 0.7893233078590505, 0.7893233078590505, 0.7893233078590505, 0.7893233078590505, 0.7893233078590505, 0.7893233078590505, 0.7893233078590505, 0.7893233078590505, 8.70615204067678, 15.773828093409112, -14.893585775254063, -1.5244124933535297, 0.9142598706268437, 2.2015719172681765, 2.1728245864237024, 1.5843027425682439, 2.7869810485645345, 1.1293048357034285, 1.1293048357034285, 1.1293048357034285, 1.1293048357034285, 1.1293048357034285, 1.1293048357034285, 1.1293048357034285, 1.1293048357034285, -0.035119692194696614, 2.956822084050866, 1.1764757769639154, 1.7638726783444107, 1.819285141675119, 0.48273260172858057, -0.8840037277288294, 17.632630764834328, 15.818452335578804, 0.12296689550768944, 3.314309727537821, -0.30290402548161494, -6.6300138701824185, -0.11747343029151093, 2.847154341598169, 1.5092194553894005, -0.5526253744517531, 0.3048899265791081, -1.3772206639059164, -14.78568125355478, 1.9374234469321168, 1.9374234469321168, 1.9374234469321168, 1.9374234469321168, 1.9374234469321168, 1.9374234469321168, 1.9374234469321168, 1.9374234469321168, 17.880155960769702, 0.5122845375874736, 1.5870049813230345, -0.027067098203961276, 0.752544324995646, 0.8711429154551811, -10.545300861617314, 11.394401123661034, 2.699339400353609, 4.06256698188479, -4.981377013846283, 1.756297530468085], \"yaxis\": \"y\"}, {\"customdata\": [[\"not hispanic or latino\"], [\"not reported\"], [\"not hispanic or latino\"], [\"not hispanic or latino\"], [\"not hispanic or latino\"], [\"not hispanic or latino\"], [\"not hispanic or latino\"], [\"not hispanic or latino\"], [\"not hispanic or latino\"], [\"not hispanic or latino\"], [\"not hispanic or latino\"], [\"not hispanic or latino\"], [\"not hispanic or latino\"], [\"not hispanic or latino\"], [\"not reported\"], [\"not hispanic or latino\"], [\"not hispanic or latino\"], [\"not hispanic or latino\"], [\"not hispanic or latino\"], [\"not hispanic or latino\"], [\"not hispanic or latino\"], [\"not hispanic or latino\"], [\"not hispanic or latino\"], [\"not hispanic or latino\"], [\"not hispanic or latino\"], [\"not hispanic or latino\"], [\"not hispanic or latino\"], [\"not hispanic or latino\"], [\"not hispanic or latino\"], [\"not hispanic or latino\"], [\"not hispanic or latino\"], [\"not hispanic or latino\"], [\"not hispanic or latino\"], [\"not hispanic or latino\"], [\"not hispanic or latino\"], [\"not reported\"], [\"not hispanic or latino\"], [\"not reported\"], [\"not hispanic or latino\"], [\"not hispanic or latino\"], [\"not hispanic or latino\"], [\"not hispanic or latino\"], [\"not hispanic or latino\"], [\"not hispanic or latino\"], [\"not hispanic or latino\"], [\"not hispanic or latino\"], [\"not hispanic or latino\"], [\"not hispanic or latino\"], [\"not hispanic or latino\"], [\"not hispanic or latino\"], [\"not hispanic or latino\"], [\"not hispanic or latino\"], [\"not hispanic or latino\"], [\"not hispanic or latino\"], [\"not hispanic or latino\"], [\"not hispanic or latino\"], [\"not hispanic or latino\"], [\"not hispanic or latino\"], [\"not hispanic or latino\"], [\"not hispanic or latino\"], [\"not hispanic or latino\"], [\"not hispanic or latino\"], [\"not hispanic or latino\"], [\"not hispanic or latino\"], [\"not reported\"], [\"not hispanic or latino\"], [\"not hispanic or latino\"], [\"not hispanic or latino\"], [\"not hispanic or latino\"], [\"not hispanic or latino\"], [\"not reported\"], [\"not hispanic or latino\"], [\"not reported\"], [\"not hispanic or latino\"], [\"not reported\"], [\"not hispanic or latino\"], [\"not hispanic or latino\"], [\"not hispanic or latino\"], [\"not hispanic or latino\"], [\"not hispanic or latino\"], [\"not hispanic or latino\"], [\"not hispanic or latino\"], [\"not hispanic or latino\"], [\"not reported\"], [\"not reported\"], [\"not hispanic or latino\"], [\"not hispanic or latino\"], [\"not hispanic or latino\"], [\"not hispanic or latino\"], [\"not hispanic or latino\"], [\"not reported\"], [\"not reported\"], [\"not reported\"], [\"not reported\"], [\"not reported\"], [\"not reported\"], [\"not reported\"], [\"not reported\"], [\"not reported\"], [\"not reported\"], [\"not reported\"], [\"not reported\"], [\"not reported\"], [\"not reported\"], [\"not reported\"], [\"not reported\"], [\"not hispanic or latino\"], [\"not hispanic or latino\"], [\"not hispanic or latino\"], [\"not hispanic or latino\"], [\"not reported\"], [\"not hispanic or latino\"], [\"not hispanic or latino\"], [\"not hispanic or latino\"], [\"not hispanic or latino\"], [\"not hispanic or latino\"], [\"not hispanic or latino\"], [\"not hispanic or latino\"], [\"not hispanic or latino\"], [\"not hispanic or latino\"], [\"hispanic or latino\"], [\"hispanic or latino\"], [\"hispanic or latino\"], [\"hispanic or latino\"], [\"hispanic or latino\"], [\"hispanic or latino\"], [\"hispanic or latino\"], [\"hispanic or latino\"], [\"not hispanic or latino\"], [\"not hispanic or latino\"], [\"not hispanic or latino\"], [\"not hispanic or latino\"], [\"not hispanic or latino\"], [\"not hispanic or latino\"], [\"not hispanic or latino\"], [\"not hispanic or latino\"], [\"not reported\"], [\"not hispanic or latino\"], [\"not hispanic or latino\"], [\"not hispanic or latino\"], [\"not hispanic or latino\"], [\"not hispanic or latino\"], [\"not hispanic or latino\"], [\"not hispanic or latino\"], [\"not hispanic or latino\"], [\"not hispanic or latino\"], [\"not hispanic or latino\"], [\"not hispanic or latino\"], [\"not hispanic or latino\"], [\"not hispanic or latino\"], [\"not hispanic or latino\"], [\"not hispanic or latino\"], [\"not hispanic or latino\"], [\"not hispanic or latino\"], [\"not hispanic or latino\"], [\"not hispanic or latino\"], [\"not hispanic or latino\"], [\"not hispanic or latino\"], [\"not hispanic or latino\"], [\"not hispanic or latino\"], [\"not hispanic or latino\"], [\"not hispanic or latino\"], [\"not hispanic or latino\"], [\"not hispanic or latino\"], [\"not hispanic or latino\"], [\"not hispanic or latino\"], [\"not hispanic or latino\"], [\"not hispanic or latino\"], [\"not reported\"], [\"not hispanic or latino\"], [\"not hispanic or latino\"], [\"not hispanic or latino\"], [\"hispanic or latino\"], [\"not hispanic or latino\"], [\"not hispanic or latino\"], [\"not hispanic or latino\"], [\"not reported\"], [\"not reported\"], [\"not reported\"], [\"not reported\"], [\"not reported\"], [\"not reported\"], [\"not reported\"], [\"not reported\"], [\"not reported\"], [\"not reported\"], [\"not hispanic or latino\"], [\"not hispanic or latino\"], [\"not hispanic or latino\"], [\"not hispanic or latino\"], [\"not hispanic or latino\"], [\"not hispanic or latino\"], [\"not hispanic or latino\"], [\"not hispanic or latino\"], [\"not hispanic or latino\"], [\"not hispanic or latino\"], [\"not reported\"], [\"not reported\"], [\"not hispanic or latino\"], [\"not reported\"], [\"not hispanic or latino\"], [\"not hispanic or latino\"], [\"not reported\"], [\"not hispanic or latino\"], [\"not hispanic or latino\"], [\"not hispanic or latino\"], [\"not hispanic or latino\"], [\"not hispanic or latino\"], [\"not hispanic or latino\"], [\"not hispanic or latino\"], [\"not hispanic or latino\"], [\"not hispanic or latino\"], [\"not hispanic or latino\"], [\"not reported\"], [\"not hispanic or latino\"], [\"not reported\"], [\"not hispanic or latino\"], [\"not hispanic or latino\"], [\"not hispanic or latino\"], [\"not hispanic or latino\"], [\"not hispanic or latino\"], [\"not hispanic or latino\"], [\"not hispanic or latino\"], [\"not hispanic or latino\"], [\"not hispanic or latino\"], [\"not hispanic or latino\"], [\"not hispanic or latino\"], [\"not hispanic or latino\"], [\"not hispanic or latino\"], [\"not hispanic or latino\"], [\"not hispanic or latino\"], [\"not hispanic or latino\"], [\"not hispanic or latino\"], [\"not hispanic or latino\"], [\"not hispanic or latino\"], [\"not hispanic or latino\"], [\"not hispanic or latino\"], [\"not hispanic or latino\"], [\"not hispanic or latino\"], [\"not hispanic or latino\"], [\"not hispanic or latino\"], [\"not hispanic or latino\"], [\"not hispanic or latino\"], [\"not hispanic or latino\"], [\"not hispanic or latino\"], [\"not hispanic or latino\"], [\"not hispanic or latino\"], [\"not hispanic or latino\"], [\"not hispanic or latino\"], [\"not hispanic or latino\"], [\"not hispanic or latino\"], [\"not hispanic or latino\"], [\"not hispanic or latino\"], [\"not hispanic or latino\"], [\"not hispanic or latino\"], [\"not hispanic or latino\"], [\"not hispanic or latino\"], [\"not hispanic or latino\"], [\"not hispanic or latino\"], [\"not hispanic or latino\"], [\"not hispanic or latino\"], [\"not hispanic or latino\"], [\"not hispanic or latino\"], [\"not reported\"], [\"not hispanic or latino\"], [\"not hispanic or latino\"], [\"not hispanic or latino\"], [\"not hispanic or latino\"], [\"not hispanic or latino\"], [\"not reported\"], [\"not hispanic or latino\"], [\"not hispanic or latino\"], [\"not reported\"], [\"not hispanic or latino\"], [\"not reported\"], [\"not hispanic or latino\"], [\"not hispanic or latino\"], [\"not hispanic or latino\"], [\"not hispanic or latino\"], [\"not hispanic or latino\"], [\"not hispanic or latino\"], [\"not hispanic or latino\"], [\"not hispanic or latino\"], [\"not hispanic or latino\"], [\"not reported\"], [\"not hispanic or latino\"], [\"not hispanic or latino\"], [\"not hispanic or latino\"], [\"not hispanic or latino\"], [\"not hispanic or latino\"], [\"not reported\"], [\"not hispanic or latino\"], [\"not hispanic or latino\"], [\"not hispanic or latino\"], [\"not hispanic or latino\"], [\"not hispanic or latino\"], [\"not hispanic or latino\"], [\"not hispanic or latino\"], [\"not hispanic or latino\"], [\"not hispanic or latino\"], [\"not hispanic or latino\"], [\"not hispanic or latino\"], [\"not reported\"], [\"not hispanic or latino\"], [\"not hispanic or latino\"], [\"not hispanic or latino\"], [\"not hispanic or latino\"], [\"not reported\"], [\"not reported\"], [\"not hispanic or latino\"], [\"hispanic or latino\"], [\"not hispanic or latino\"], [\"not hispanic or latino\"], [\"not hispanic or latino\"], [\"not hispanic or latino\"], [\"not reported\"], [\"not hispanic or latino\"], [\"not hispanic or latino\"], [\"not hispanic or latino\"], [\"not hispanic or latino\"], [\"not hispanic or latino\"], [\"not hispanic or latino\"], [\"not hispanic or latino\"], [\"not hispanic or latino\"], [\"not hispanic or latino\"], [\"not hispanic or latino\"], [\"not reported\"], [\"not reported\"], [\"not reported\"], [\"not hispanic or latino\"], [\"not hispanic or latino\"], [\"not hispanic or latino\"], [\"not hispanic or latino\"], [\"not hispanic or latino\"], [\"not hispanic or latino\"], [\"not reported\"], [\"not hispanic or latino\"], [\"not hispanic or latino\"], [\"not reported\"], [\"not hispanic or latino\"], [\"not hispanic or latino\"], [\"not hispanic or latino\"], [\"not hispanic or latino\"], [\"not hispanic or latino\"], [\"not reported\"], [\"not hispanic or latino\"], [\"not hispanic or latino\"], [\"not hispanic or latino\"], [\"not hispanic or latino\"], [\"not reported\"], [\"not reported\"], [\"not reported\"], [\"not reported\"], [\"not reported\"], [\"not reported\"], [\"not reported\"], [\"not reported\"], [\"not reported\"], [\"not hispanic or latino\"], [\"not reported\"], [\"not reported\"], [\"not reported\"], [\"not reported\"], [\"not reported\"], [\"not hispanic or latino\"], [\"not hispanic or latino\"], [\"not reported\"], [\"not reported\"], [\"not reported\"], [\"not reported\"], [\"not reported\"], [\"not reported\"], [\"not reported\"], [\"not reported\"], [\"not reported\"], [\"not reported\"], [\"not hispanic or latino\"], [\"not hispanic or latino\"], [\"not hispanic or latino\"], [\"not hispanic or latino\"], [\"not hispanic or latino\"], [\"not hispanic or latino\"], [\"not hispanic or latino\"], [\"not reported\"], [\"not hispanic or latino\"], [\"not hispanic or latino\"], [\"not hispanic or latino\"], [\"not hispanic or latino\"], [\"not hispanic or latino\"], [\"not hispanic or latino\"], [\"not hispanic or latino\"], [\"not hispanic or latino\"], [\"not hispanic or latino\"], [\"not reported\"], [\"not hispanic or latino\"], [\"not hispanic or latino\"], [\"not reported\"], [\"not hispanic or latino\"], [\"not hispanic or latino\"], [\"not hispanic or latino\"], [\"not hispanic or latino\"], [\"not hispanic or latino\"], [\"not hispanic or latino\"], [\"not hispanic or latino\"], [\"not hispanic or latino\"], [\"not hispanic or latino\"], [\"not hispanic or latino\"], [\"not hispanic or latino\"], [\"not reported\"], [\"not hispanic or latino\"], [\"not hispanic or latino\"], [\"not hispanic or latino\"], [\"not hispanic or latino\"], [\"not hispanic or latino\"], [\"not reported\"], [\"not reported\"], [\"not reported\"], [\"not reported\"], [\"not reported\"], [\"not reported\"], [\"not reported\"], [\"not reported\"], [\"not hispanic or latino\"], [\"not hispanic or latino\"], [\"not hispanic or latino\"], [\"not hispanic or latino\"], [\"not hispanic or latino\"], [\"not hispanic or latino\"], [\"not hispanic or latino\"], [\"not hispanic or latino\"], [\"not hispanic or latino\"], [\"not hispanic or latino\"], [\"not hispanic or latino\"], [\"not hispanic or latino\"], [\"not hispanic or latino\"], [\"not hispanic or latino\"], [\"not hispanic or latino\"], [\"not hispanic or latino\"], [\"not hispanic or latino\"], [\"not hispanic or latino\"], [\"not hispanic or latino\"], [\"not hispanic or latino\"], [\"not hispanic or latino\"], [\"not hispanic or latino\"], [\"not hispanic or latino\"], [\"not hispanic or latino\"], [\"not hispanic or latino\"], [\"not hispanic or latino\"], [\"not hispanic or latino\"], [\"not hispanic or latino\"], [\"not hispanic or latino\"], [\"not reported\"], [\"not hispanic or latino\"], [\"not reported\"], [\"not hispanic or latino\"], [\"not hispanic or latino\"], [\"not hispanic or latino\"]], \"hovertemplate\": \"<b>%{hovertext}</b><br><br>gender=female<br>PCA-0=%{x}<br>PCA-1=%{y}<br>n_reads=%{marker.size}<br>ethnicity=%{customdata[0]}<extra></extra>\", \"hovertext\": [\"female\", \"female\", \"female\", \"female\", \"female\", \"female\", \"female\", \"female\", \"female\", \"female\", \"female\", \"female\", \"female\", \"female\", \"female\", \"female\", \"female\", \"female\", \"female\", \"female\", \"female\", \"female\", \"female\", \"female\", \"female\", \"female\", \"female\", \"female\", \"female\", \"female\", \"female\", \"female\", \"female\", \"female\", \"female\", \"female\", \"female\", \"female\", \"female\", \"female\", \"female\", \"female\", \"female\", \"female\", \"female\", \"female\", \"female\", \"female\", \"female\", \"female\", \"female\", \"female\", \"female\", \"female\", \"female\", \"female\", \"female\", \"female\", \"female\", \"female\", \"female\", \"female\", \"female\", \"female\", \"female\", \"female\", \"female\", \"female\", \"female\", \"female\", \"female\", \"female\", \"female\", \"female\", \"female\", \"female\", \"female\", \"female\", \"female\", \"female\", \"female\", \"female\", \"female\", \"female\", \"female\", \"female\", \"female\", \"female\", \"female\", \"female\", \"female\", \"female\", \"female\", \"female\", \"female\", \"female\", \"female\", \"female\", \"female\", \"female\", \"female\", \"female\", \"female\", \"female\", \"female\", \"female\", \"female\", \"female\", \"female\", \"female\", \"female\", \"female\", \"female\", \"female\", \"female\", \"female\", \"female\", \"female\", \"female\", \"female\", \"female\", \"female\", \"female\", \"female\", \"female\", \"female\", \"female\", \"female\", \"female\", \"female\", \"female\", \"female\", \"female\", \"female\", \"female\", \"female\", \"female\", \"female\", \"female\", \"female\", \"female\", \"female\", \"female\", \"female\", \"female\", \"female\", \"female\", \"female\", \"female\", \"female\", \"female\", \"female\", \"female\", \"female\", \"female\", \"female\", \"female\", \"female\", \"female\", \"female\", \"female\", \"female\", \"female\", \"female\", \"female\", \"female\", \"female\", \"female\", \"female\", \"female\", \"female\", \"female\", \"female\", \"female\", \"female\", \"female\", \"female\", \"female\", \"female\", \"female\", \"female\", \"female\", \"female\", \"female\", \"female\", \"female\", \"female\", \"female\", \"female\", \"female\", \"female\", \"female\", \"female\", \"female\", \"female\", \"female\", \"female\", \"female\", \"female\", \"female\", \"female\", \"female\", \"female\", \"female\", \"female\", \"female\", \"female\", \"female\", \"female\", \"female\", \"female\", \"female\", \"female\", \"female\", \"female\", \"female\", \"female\", \"female\", \"female\", \"female\", \"female\", \"female\", \"female\", \"female\", \"female\", \"female\", \"female\", \"female\", \"female\", \"female\", \"female\", \"female\", \"female\", \"female\", \"female\", \"female\", \"female\", \"female\", \"female\", \"female\", \"female\", \"female\", \"female\", \"female\", \"female\", \"female\", \"female\", \"female\", \"female\", \"female\", \"female\", \"female\", \"female\", \"female\", \"female\", \"female\", \"female\", \"female\", \"female\", \"female\", \"female\", \"female\", \"female\", \"female\", \"female\", \"female\", \"female\", \"female\", \"female\", \"female\", \"female\", \"female\", \"female\", \"female\", \"female\", \"female\", \"female\", \"female\", \"female\", \"female\", \"female\", \"female\", \"female\", \"female\", \"female\", \"female\", \"female\", \"female\", \"female\", \"female\", \"female\", \"female\", \"female\", \"female\", \"female\", \"female\", \"female\", \"female\", \"female\", \"female\", \"female\", \"female\", \"female\", \"female\", \"female\", \"female\", \"female\", \"female\", \"female\", \"female\", \"female\", \"female\", \"female\", \"female\", \"female\", \"female\", \"female\", \"female\", \"female\", \"female\", \"female\", \"female\", \"female\", \"female\", \"female\", \"female\", \"female\", \"female\", \"female\", \"female\", \"female\", \"female\", \"female\", \"female\", \"female\", \"female\", \"female\", \"female\", \"female\", \"female\", \"female\", \"female\", \"female\", \"female\", \"female\", \"female\", \"female\", \"female\", \"female\", \"female\", \"female\", \"female\", \"female\", \"female\", \"female\", \"female\", \"female\", \"female\", \"female\", \"female\", \"female\", \"female\", \"female\", \"female\", \"female\", \"female\", \"female\", \"female\", \"female\", \"female\", \"female\", \"female\", \"female\", \"female\", \"female\", \"female\", \"female\", \"female\", \"female\", \"female\", \"female\", \"female\", \"female\", \"female\", \"female\", \"female\", \"female\", \"female\", \"female\", \"female\", \"female\", \"female\", \"female\", \"female\", \"female\", \"female\", \"female\", \"female\", \"female\", \"female\", \"female\", \"female\", \"female\", \"female\", \"female\", \"female\", \"female\", \"female\", \"female\", \"female\", \"female\", \"female\", \"female\", \"female\", \"female\", \"female\", \"female\", \"female\", \"female\", \"female\", \"female\", \"female\", \"female\", \"female\", \"female\", \"female\", \"female\", \"female\", \"female\", \"female\", \"female\", \"female\", \"female\", \"female\", \"female\", \"female\", \"female\", \"female\", \"female\", \"female\", \"female\", \"female\", \"female\", \"female\", \"female\", \"female\", \"female\", \"female\", \"female\", \"female\", \"female\", \"female\", \"female\", \"female\", \"female\", \"female\", \"female\"], \"legendgroup\": \"female\", \"marker\": {\"color\": \"#EF553B\", \"size\": [17008, 16335, 17407, 17310, 17310, 17310, 17310, 17310, 17310, 17310, 17310, 17483, 17238, 16586, 16314, 16819, 16509, 17307, 17343, 17343, 17343, 17343, 17343, 17343, 17343, 17343, 14558, 16959, 16959, 16959, 16959, 16959, 16959, 16959, 16959, 18278, 16862, 16557, 17121, 17399, 16992, 16867, 16899, 15432, 17263, 17448, 17448, 17448, 17448, 17448, 17448, 17448, 17448, 18116, 18116, 18116, 18116, 18116, 18116, 18116, 18116, 16877, 17164, 17053, 17096, 17053, 16771, 16905, 16677, 17195, 17189, 17051, 16031, 16305, 16782, 17292, 17292, 17292, 17292, 17292, 17292, 17292, 17292, 17161, 17348, 17061, 17287, 16717, 16913, 16945, 16749, 16749, 16749, 16749, 16749, 16749, 16749, 16749, 16832, 16832, 16832, 16832, 16832, 16832, 16832, 16832, 17607, 17489, 17021, 16807, 16217, 16731, 17377, 17377, 17377, 17377, 17377, 17377, 17377, 17377, 17127, 17127, 17127, 17127, 17127, 17127, 17127, 17127, 15727, 16625, 17066, 16863, 17079, 16840, 17386, 17429, 17107, 16786, 16786, 16786, 16786, 16786, 16786, 16786, 16786, 16786, 16786, 16786, 16786, 16786, 16786, 16786, 16786, 16786, 16786, 16786, 16786, 16786, 16786, 16786, 16786, 16786, 16786, 16786, 16939, 16918, 16182, 16969, 16701, 16981, 17001, 17066, 17267, 17573, 16620, 17317, 16879, 16698, 16698, 16698, 16698, 16698, 16698, 16698, 16698, 17104, 16706, 17321, 16931, 16931, 16931, 16931, 16931, 16931, 16931, 16931, 16949, 16254, 16679, 16787, 17236, 16863, 16889, 17351, 16978, 17213, 17213, 17213, 17213, 17213, 17213, 17213, 17213, 15307, 16942, 16624, 17110, 17110, 17110, 17110, 17110, 17110, 17110, 17110, 17735, 17080, 17139, 17139, 17139, 17139, 17139, 17139, 17139, 17139, 17139, 17139, 17139, 17139, 17139, 17139, 17139, 17139, 17139, 17139, 17139, 17139, 17139, 17139, 17139, 17139, 17139, 17139, 17139, 17108, 17134, 17134, 17134, 17134, 17134, 17134, 17134, 17134, 17255, 15982, 17327, 16722, 16357, 17141, 16810, 15947, 17370, 17058, 16551, 17187, 17478, 17337, 16880, 17080, 17444, 16805, 17212, 17220, 17263, 15823, 16993, 17344, 17116, 17117, 17092, 16449, 16107, 16541, 16541, 16541, 16541, 16541, 16541, 16541, 16541, 17368, 17145, 17087, 17694, 17226, 16777, 17402, 16916, 16477, 16309, 16885, 17553, 16783, 17292, 17332, 17081, 16242, 16744, 16675, 16675, 16675, 16675, 16675, 16675, 16675, 16675, 16365, 16770, 17172, 17172, 17487, 17146, 17174, 16843, 16705, 17390, 16314, 16735, 17433, 16225, 16762, 16330, 16866, 16831, 16826, 16504, 16601, 17711, 17339, 17062, 16560, 16560, 16560, 16560, 16560, 16560, 16560, 16560, 15694, 17226, 16457, 16296, 16655, 17092, 17089, 17196, 17542, 15948, 17262, 17262, 17262, 17262, 17262, 17262, 17262, 17262, 16111, 16986, 16883, 16854, 17368, 17136, 17219, 17194, 17962, 16907, 16907, 16907, 16907, 16907, 16907, 16907, 16907, 16429, 16911, 16850, 17030, 16074, 17176, 16878, 17655, 17076, 17076, 17076, 17076, 17076, 17076, 17076, 17076, 16537, 16992, 16883, 17260, 17221, 16987, 17305, 17305, 17305, 17305, 17305, 17305, 17305, 17305, 17127, 16828, 17213, 16870, 17237, 16518, 17559, 16758, 17181, 17058, 17058, 17058, 17058, 17058, 17058, 17058, 17058, 17212, 17212, 17212, 17212, 17212, 17212, 17212, 17212, 16478, 17232, 16632, 18492, 16990, 16692, 17884, 17199, 16998, 17385], \"sizemode\": \"area\", \"sizeref\": 291.609375, \"symbol\": \"circle\"}, \"mode\": \"markers\", \"name\": \"female\", \"showlegend\": true, \"type\": \"scattergl\", \"x\": [-14.55544779676722, -15.562374052599804, -11.352134885011719, -13.472123067703118, -13.472123067703118, -13.472123067703118, -13.472123067703118, -13.472123067703118, -13.472123067703118, -13.472123067703118, -13.472123067703118, -11.18308694155935, -15.466824836648064, -12.114148417776246, -13.965238682271252, -9.519173625265712, -10.960089011746659, -11.566972202777205, -13.215851891583904, -13.215851891583904, -13.215851891583904, -13.215851891583904, -13.215851891583904, -13.215851891583904, -13.215851891583904, -13.215851891583904, -15.113219163881613, -12.434034227470432, -12.434034227470432, -12.434034227470432, -12.434034227470432, -12.434034227470432, -12.434034227470432, -12.434034227470432, -12.434034227470432, -18.15887321152824, -10.196769551987517, -9.993168382245972, -14.051007378191915, -13.644834215501868, -15.124233765167823, -13.963860757408101, -9.984368855932717, -14.745299601283767, -17.423346526425473, -13.260776612823161, -13.260776612823161, -13.260776612823161, -13.260776612823161, -13.260776612823161, -13.260776612823161, -13.260776612823161, -13.260776612823161, -5.552572494215655, -5.552572494215655, -5.552572494215655, -5.552572494215655, -5.552572494215655, -5.552572494215655, -5.552572494215655, -5.552572494215655, -12.894207652342073, -14.589774583744305, -13.966744944563766, -11.451647634444782, -13.382275825813087, -12.616226854223179, -13.582392392937356, -13.563712576715856, -11.899475118143588, -9.68671784724349, -14.20420883259037, -14.599054132472162, -12.618127083723472, -10.294496597350188, -10.124052120050049, -10.124052120050049, -10.124052120050049, -10.124052120050049, -10.124052120050049, -10.124052120050049, -10.124052120050049, -10.124052120050049, -12.880935078150937, -15.497232187485965, -11.847691905616427, -13.017724553651538, -10.29075718970031, -15.015332110074636, -13.549773664751552, -10.452263984609708, -10.452263984609708, -10.452263984609708, -10.452263984609708, -10.452263984609708, -10.452263984609708, -10.452263984609708, -10.452263984609708, -14.258114877677887, -14.258114877677887, -14.258114877677887, -14.258114877677887, -14.258114877677887, -14.258114877677887, -14.258114877677887, -14.258114877677887, -11.955292876453885, -12.685344760143407, -12.952690479631606, -11.950074595599784, -14.703545676702253, -10.479338074067659, -9.104168172969958, -9.104168172969958, -9.104168172969958, -9.104168172969958, -9.104168172969962, -9.104168172969962, -9.104168172969962, -9.104168172969962, -12.791049076549042, -12.791049076549042, -12.791049076549042, -12.791049076549042, -12.791049076549042, -12.791049076549042, -12.791049076549042, -12.791049076549042, -15.311883208692878, -13.024810654819017, -14.94509357648866, -14.090020902066028, -11.755891251031297, -16.37545281080823, -11.817315149862983, -13.824430335268428, -15.979228950846371, -11.408718788819105, -11.408718788819105, -11.408718788819105, -11.408718788819105, -11.408718788819105, -11.408718788819105, -11.408718788819105, -11.408718788819105, -11.408718788819105, -11.408718788819105, -11.408718788819105, -11.408718788819105, -11.408718788819105, -11.408718788819105, -11.408718788819105, -11.408718788819105, -11.408718788819105, -11.408718788819105, -11.408718788819105, -11.408718788819105, -11.408718788819105, -11.408718788819105, -11.408718788819105, -11.408718788819105, -11.408718788819105, -11.408718788819105, -11.408718788819105, -11.926073686271815, -12.727171649122342, -18.52042280538827, -14.185244324337487, -13.308166003330903, -13.867308233017605, -12.042305654057845, -6.4345722376762575, -9.087833712000789, -6.7053796536275785, -11.327946276895068, -13.990103180838293, -11.386498267371119, -11.793812706295164, -11.793812706295164, -11.793812706295164, -11.793812706295164, -11.793812706295164, -11.793812706295164, -11.793812706295164, -11.793812706295164, -14.11101626261026, -12.157305504765684, -11.66722716304682, -11.660065441884957, -11.660065441884957, -11.660065441884957, -11.660065441884957, -11.660065441884957, -11.660065441884957, -11.660065441884957, -11.660065441884957, -10.489614009364134, -14.14997065110193, -13.22204871054624, -17.001485954811518, -10.421743556064637, -13.922134815021835, -12.98746104891558, -14.360297667565698, -12.371018776681876, -13.082954724961887, -13.082954724961887, -13.082954724961887, -13.082954724961887, -13.082954724961887, -13.082954724961887, -13.082954724961887, -13.082954724961887, -15.56569630950065, -15.020857518189619, -11.022075936683647, -12.802613267994843, -12.802613267994843, -12.802613267994843, -12.802613267994843, -12.802613267994843, -12.802613267994843, -12.802613267994843, -12.802613267994843, -13.567729751241203, -10.860720135651825, -14.08830936870344, -14.08830936870344, -14.08830936870344, -14.08830936870344, -14.08830936870344, -14.08830936870344, -14.08830936870344, -14.08830936870344, -14.08830936870344, -14.08830936870344, -14.08830936870344, -14.08830936870344, -14.08830936870344, -14.08830936870344, -14.08830936870344, -14.08830936870344, -14.08830936870344, -14.08830936870344, -14.08830936870344, -14.08830936870344, -14.08830936870344, -14.08830936870344, -14.08830936870344, -14.08830936870344, -14.08830936870344, -14.08830936870344, -14.08830936870344, -13.24459043200523, -10.392235577591332, -10.392235577591332, -10.392235577591332, -10.392235577591332, -10.392235577591332, -10.392235577591332, -10.392235577591332, -10.392235577591332, -9.17489241727193, -13.755414601158256, -12.491804778384752, -14.215011731829454, -15.530507943151214, -14.753444383019572, -10.517972401485277, -13.230712037842773, -14.98920979899066, -11.953383306836553, -14.279309157878979, -15.062567747979411, -16.48028092565472, -7.7483499205650945, -7.085153953630478, -7.716962426102762, -12.06012833272644, -12.111031945520287, -11.896569776403068, -11.615862904435103, -8.67656103041381, -13.623799076974036, -10.70650459081837, -12.915804368835502, -11.108745528191173, -11.073468743363321, -17.998426205349723, -12.311311106238414, -14.69969387408431, -11.526671767093429, -11.526671767093429, -11.526671767093429, -11.526671767093429, -11.526671767093429, -11.526671767093429, -11.526671767093429, -11.526671767093429, -15.410101169915432, -14.086932407045751, -14.386381897788494, -16.752960990678805, -12.808622719190806, -8.977245077137955, -15.614534004985643, -10.606601660888666, -12.798656722898563, -14.315072048796265, -5.491374904690682, -12.200451603201442, -14.082137233128954, -12.42667419515979, -13.862645449806408, -11.462483394269176, -16.35842240079166, -17.210540249574755, -10.827935870303884, -10.827935870303884, -10.827935870303884, -10.827935870303884, -10.827935870303884, -10.827935870303884, -10.827935870303884, -10.827935870303884, -11.28928186193096, -11.16664578834523, -19.052435819832542, -16.47572282204244, -11.346976113190832, -15.758146014452446, -14.802643951945782, -10.960494088618733, -12.261993290810688, -13.016978047060334, -15.26457453919509, -13.61769639051361, -11.785911629493684, -15.004969240452402, -9.911938180761075, -15.799107296518251, -14.350610691555877, -0.5198502579219391, -14.096270719175394, -18.960791393135537, -15.122456868480317, -15.227621776934937, -10.289081280183053, -17.47859232457336, -11.58132043920534, -11.58132043920534, -11.58132043920534, -11.58132043920534, -11.58132043920534, -11.58132043920534, -11.58132043920534, -11.58132043920534, -15.349494057618099, -11.692492550834777, -15.05819023537881, -15.934042319108727, -16.73224901700837, -13.821607819141324, -13.48740835563598, -12.694875310904699, -15.970154799505469, -13.128916821699656, -16.297659753162172, -16.297659753162172, -16.297659753162172, -16.297659753162172, -16.297659753162172, -16.297659753162172, -16.297659753162172, -16.297659753162172, -12.746186862326262, -12.199257560650807, -9.748727942155124, -13.621047314677377, -12.427997958079914, -12.617020381158277, -10.645180557599858, -11.177524699420058, -14.939302954303972, -9.492009460245603, -9.492009460245603, -9.492009460245603, -9.492009460245603, -9.492009460245603, -9.492009460245603, -9.492009460245603, -9.492009460245603, -12.021854932017014, -7.3110308131812864, -16.89849816269546, -14.46009635285667, -16.209290846199437, -15.505587907811009, -16.444570936371917, -16.919083545756244, -8.77419975237228, -8.77419975237228, -8.77419975237228, -8.77419975237228, -8.774199752372276, -8.774199752372276, -8.774199752372276, -8.774199752372276, -14.244384469066542, -10.546396588923026, -11.414883296433926, -11.26332854797787, -13.60242081720404, -11.158955739650272, -10.943917315899434, -10.943917315899434, -10.943917315899434, -10.943917315899434, -10.943917315899434, -10.943917315899434, -10.943917315899434, -10.943917315899434, -9.869978733556579, -16.779432347394938, -13.249031777963758, -14.448549740414386, -11.637989275930426, -16.771885711439843, -15.511951901770638, -11.43105438419318, -10.21976211983459, -10.478408354211146, -10.478408354211146, -10.478408354211146, -10.478408354211146, -10.478408354211146, -10.478408354211146, -10.478408354211146, -10.478408354211146, -11.516246011910319, -11.516246011910319, -11.516246011910319, -11.516246011910319, -11.516246011910319, -11.516246011910319, -11.516246011910319, -11.516246011910319, -13.545255365899944, -10.345251030993593, -8.587745890269105, -12.255402602528381, -15.660506639536573, -12.729656410500056, -15.488210438952116, -11.672813659699635, -10.153236710048459, -10.63313489420628], \"xaxis\": \"x\", \"y\": [18.29531814309393, 12.936060563974522, -14.858839644214754, -17.13136277094674, -17.13136277094674, -17.13136277094674, -17.13136277094674, -17.13136277094674, -17.13136277094674, -17.13136277094674, -17.13136277094674, -12.33856915373399, -5.337947628285174, -14.079986887459777, 20.42441401834273, -19.571726815772855, -10.79862603404002, -11.114245437624787, -12.866510123898024, -12.866510123898024, -12.866510123898024, -12.866510123898024, -12.866510123898024, -12.866510123898024, -12.866510123898024, -12.866510123898024, 19.003688068393625, -17.190307520264106, -17.190307520264106, -17.190307520264106, -17.190307520264106, -17.190307520264106, -17.190307520264106, -17.190307520264106, -17.190307520264106, 13.682828298570119, -6.9536590998966075, -12.171505166452476, -9.235030197503127, 10.385985696414295, -16.04656274653544, -13.914176029805576, -4.441044917240448, 17.741375404972025, 6.03620366205828, -20.956514426592953, -20.956514426592953, -20.956514426592953, -20.956514426592953, -20.956514426592953, -20.956514426592953, -20.956514426592953, -20.956514426592953, 3.7092716190445847, 3.7092716190445847, 3.7092716190445847, 3.7092716190445847, 3.7092716190445847, 3.7092716190445847, 3.7092716190445847, 3.7092716190445847, -2.4000710648648695, -10.149683707525302, 14.589149591753811, 18.111299760502867, 12.086698597387414, 14.93545402720762, 15.452915772517002, -16.43338853818873, 16.78417989333282, -2.344326393156888, -16.65635434326922, 18.07096782818739, 10.708451746707398, -8.982970318598316, -16.974805340791434, -16.974805340791434, -16.974805340791434, -16.974805340791434, -16.974805340791434, -16.974805340791434, -16.974805340791434, -16.974805340791434, -15.518814195371801, -6.324529067902526, -14.048704246110683, -18.20362678720979, -12.736907258173975, 13.368592703163044, 16.375350866752132, -20.113893964350215, -20.113893964350215, -20.113893964350215, -20.113893964350215, -20.113893964350215, -20.113893964350215, -20.113893964350215, -20.113893964350215, -13.622873922935906, -13.622873922935906, -13.622873922935906, -13.622873922935906, -13.622873922935906, -13.622873922935906, -13.622873922935906, -13.622873922935906, -10.393853327451389, -18.103634303981384, -17.894208658868045, -13.446743055586017, 17.750556685214605, -16.83010392571532, -20.142900951577253, -20.142900951577253, -20.142900951577253, -20.142900951577253, -20.142900951577253, -20.142900951577253, -20.142900951577253, -20.142900951577253, -14.095232695598476, -14.095232695598476, -14.095232695598476, -14.095232695598476, -14.095232695598476, -14.095232695598476, -14.095232695598476, -14.095232695598476, 17.80350741441446, -15.428892591594543, -14.903224527551956, 18.4676120022501, -16.892081103444152, 14.349889274659432, 4.036257946158986, 7.296386758837878, -15.349989615051362, 19.17766117494637, 19.17766117494637, 19.17766117494637, 19.17766117494637, 19.17766117494637, 19.17766117494637, 19.17766117494637, 19.17766117494637, 19.17766117494637, 19.17766117494637, 19.17766117494637, 19.17766117494637, 19.17766117494637, 19.17766117494637, 19.17766117494637, 19.17766117494637, 19.17766117494637, 19.17766117494637, 19.17766117494637, 19.17766117494637, 19.17766117494637, 19.17766117494637, 19.17766117494637, 19.17766117494637, 19.17766117494637, 19.17766117494637, 19.17766117494637, -15.011548553974242, 15.327654641467017, 19.00536103448886, -13.845447186613084, -14.491770085025218, -7.428944515162456, 0.6194004900132621, -5.467073469447764, -5.155919567235428, 4.612498003960905, -16.00573497025935, -14.766885340313925, -17.227731543838996, -19.41808253092078, -19.41808253092078, -19.41808253092078, -19.41808253092078, -19.41808253092078, -19.41808253092078, -19.41808253092078, -19.41808253092078, -12.989080032538775, 17.304260198892297, -13.83014804566074, -18.844071830080203, -18.844071830080203, -18.844071830080203, -18.844071830080203, -18.844071830080203, -18.844071830080203, -18.844071830080203, -18.844071830080203, 4.889205325961008, 16.602735317616066, 17.02137767958524, -14.236212268850615, -18.334169836059512, 14.783881177323538, -15.886112473696063, -17.321991779173786, -15.640709138848877, -13.493306163328764, -13.493306163328764, -13.493306163328764, -13.493306163328764, -13.493306163328764, -13.493306163328764, -13.493306163328764, -13.493306163328764, 19.631620171700483, 15.697218021662927, -8.172068971019735, -12.207553769145619, -12.207553769145619, -12.207553769145619, -12.207553769145619, -12.207553769145619, -12.207553769145619, -12.207553769145619, -12.207553769145619, 15.498438711874806, -15.22545884427529, -14.673903529258018, -14.673903529258018, -14.673903529258018, -14.673903529258018, -14.673903529258018, -14.673903529258018, -14.673903529258018, -14.673903529258018, -14.673903529258018, -14.673903529258018, -14.673903529258018, -14.673903529258018, -14.673903529258018, -14.673903529258018, -14.673903529258018, -14.673903529258018, -14.673903529258018, -14.673903529258018, -14.673903529258018, -14.673903529258018, -14.673903529258018, -14.673903529258018, -14.673903529258018, -14.673903529258018, -14.673903529258018, -14.673903529258018, -14.673903529258018, -17.352057412474455, -11.337146057127502, -11.337146057127502, -11.337146057127502, -11.337146057127502, -11.337146057127502, -11.337146057127502, -11.337146057127502, -11.337146057127502, 11.94246567485344, 19.352027979428204, -10.308592404044466, 18.415354310047263, 17.874410027689162, 14.920408403481678, -17.317704281528087, 10.291496038095516, -15.456974125358059, -16.27851106471738, 13.991262289883169, -12.234080754798779, 5.493312608211268, -1.1525098418477264, -7.827318059406999, 12.818037166322794, -13.366532534395958, -18.591884265520463, -13.221272225124608, -11.873354830593128, -14.072708930510494, 11.252316393009977, -19.78339043172293, -19.369276674549624, -18.21330369002137, -13.988997191451233, 17.59479240652504, -7.701308689745123, 16.991496099437146, -18.112027798443503, -18.112027798443503, -18.112027798443503, -18.112027798443503, -18.112027798443503, -18.112027798443503, -18.112027798443503, -18.112027798443503, -13.24344866437673, -13.313522657256195, -17.741019687984142, 12.66656685998465, -18.632063451298702, -19.45775509529869, -5.50817243495149, -9.906693449063766, -12.286626214752523, 19.772305479994458, -4.166642463253078, -9.741887598951504, 16.20875960958579, -17.75595747912301, -15.369377900910234, 12.26295063298664, 18.190658734289467, 16.999667486760238, -18.73949269448033, -18.73949269448033, -18.73949269448033, -18.73949269448033, -18.73949269448033, -18.73949269448033, -18.73949269448033, -18.73949269448033, 9.208525812216607, -18.215968799507838, 13.898685882863411, -10.935104425726967, -10.064292529577237, 18.61857183865209, 11.949604366424348, -8.063164881153382, -16.167727558713626, -14.323807202187096, 16.897960497695873, -17.36705943747534, -17.014315350121763, 17.030615331400043, -13.03201649625595, 13.261411529510225, -6.443877979822364, -4.610100485415552, 13.789013433372043, 15.588144238734051, 17.657150075608744, 11.60383769427013, -15.558576352876873, 16.61044659469755, -16.402017478859758, -16.402017478859758, -16.402017478859758, -16.402017478859758, -16.402017478859758, -16.402017478859758, -16.402017478859758, -16.402017478859758, 15.918960151308438, -18.22013114851657, 18.508549779471046, 17.127824232173218, 18.6605679416, 18.15148881035995, 14.721808033157583, -7.325062079648629, 9.617597579684933, 10.158312017577028, 14.785673038312321, 14.785673038312321, 14.785673038312321, 14.785673038312321, 14.785673038312321, 14.785673038312321, 14.785673038312321, 14.785673038312321, -7.624683788402302, 12.802436649249874, -13.752713822210367, -15.39465499765341, -8.73157745149245, -0.14882788194093832, -19.004023423254186, -10.983080220051301, 6.017628045513921, -18.87965250893377, -18.87965250893377, -18.87965250893377, -18.87965250893377, -18.87965250893377, -18.87965250893377, -18.87965250893377, -18.87965250893377, -14.927995788728277, 16.91091099889429, 10.373364834034074, -17.376695029652325, 16.307297242586834, -14.134925541237514, 20.88466080047518, 8.806786199790778, -18.41790950880222, -18.41790950880222, -18.41790950880222, -18.41790950880222, -18.417909508802218, -18.417909508802218, -18.417909508802218, -18.417909508802218, 16.80327541396756, -13.85227880021652, -16.450583018933028, -13.839739008104877, -10.085677076871484, 19.356322556719352, -20.068812645012617, -20.068812645012617, -20.068812645012617, -20.068812645012617, -20.068812645012617, -20.068812645012617, -20.068812645012617, -20.068812645012617, -17.292651144470174, 10.118916462941547, -14.642423262829709, 14.935602052310347, 11.438805252613896, 20.518283637974516, 7.406035189088401, -17.087159670187, -19.032211689579594, -18.80700727629154, -18.80700727629154, -18.80700727629154, -18.80700727629154, -18.80700727629154, -18.80700727629154, -18.80700727629154, -18.80700727629154, -17.222267021629477, -17.222267021629477, -17.222267021629477, -17.222267021629477, -17.222267021629477, -17.222267021629477, -17.222267021629477, -17.222267021629477, 17.254674701965563, -18.175570283385955, -8.255548676490832, 9.04639834317728, -11.970434332093044, -14.011514675134372, 13.315799135070668, -14.10726019746443, -15.868289944449609, -17.521186554543505], \"yaxis\": \"y\"}],\n",
       "                        {\"legend\": {\"itemsizing\": \"constant\", \"title\": {\"text\": \"gender\"}, \"tracegroupgap\": 0}, \"margin\": {\"t\": 60}, \"template\": {\"data\": {\"bar\": [{\"error_x\": {\"color\": \"#2a3f5f\"}, \"error_y\": {\"color\": \"#2a3f5f\"}, \"marker\": {\"line\": {\"color\": \"#E5ECF6\", \"width\": 0.5}}, \"type\": \"bar\"}], \"barpolar\": [{\"marker\": {\"line\": {\"color\": \"#E5ECF6\", \"width\": 0.5}}, \"type\": \"barpolar\"}], \"carpet\": [{\"aaxis\": {\"endlinecolor\": \"#2a3f5f\", \"gridcolor\": \"white\", \"linecolor\": \"white\", \"minorgridcolor\": \"white\", \"startlinecolor\": \"#2a3f5f\"}, \"baxis\": {\"endlinecolor\": \"#2a3f5f\", \"gridcolor\": \"white\", \"linecolor\": \"white\", \"minorgridcolor\": \"white\", \"startlinecolor\": \"#2a3f5f\"}, \"type\": \"carpet\"}], \"choropleth\": [{\"colorbar\": {\"outlinewidth\": 0, \"ticks\": \"\"}, \"type\": \"choropleth\"}], \"contour\": [{\"colorbar\": {\"outlinewidth\": 0, \"ticks\": \"\"}, \"colorscale\": [[0.0, \"#0d0887\"], [0.1111111111111111, \"#46039f\"], [0.2222222222222222, \"#7201a8\"], [0.3333333333333333, \"#9c179e\"], [0.4444444444444444, \"#bd3786\"], [0.5555555555555556, \"#d8576b\"], [0.6666666666666666, \"#ed7953\"], [0.7777777777777778, \"#fb9f3a\"], [0.8888888888888888, \"#fdca26\"], [1.0, \"#f0f921\"]], \"type\": \"contour\"}], \"contourcarpet\": [{\"colorbar\": {\"outlinewidth\": 0, \"ticks\": \"\"}, \"type\": \"contourcarpet\"}], \"heatmap\": [{\"colorbar\": {\"outlinewidth\": 0, \"ticks\": \"\"}, \"colorscale\": [[0.0, \"#0d0887\"], [0.1111111111111111, \"#46039f\"], [0.2222222222222222, \"#7201a8\"], [0.3333333333333333, \"#9c179e\"], [0.4444444444444444, \"#bd3786\"], [0.5555555555555556, \"#d8576b\"], [0.6666666666666666, \"#ed7953\"], [0.7777777777777778, \"#fb9f3a\"], [0.8888888888888888, \"#fdca26\"], [1.0, \"#f0f921\"]], \"type\": \"heatmap\"}], \"heatmapgl\": [{\"colorbar\": {\"outlinewidth\": 0, \"ticks\": \"\"}, \"colorscale\": [[0.0, \"#0d0887\"], [0.1111111111111111, \"#46039f\"], [0.2222222222222222, \"#7201a8\"], [0.3333333333333333, \"#9c179e\"], [0.4444444444444444, \"#bd3786\"], [0.5555555555555556, \"#d8576b\"], [0.6666666666666666, \"#ed7953\"], [0.7777777777777778, \"#fb9f3a\"], [0.8888888888888888, \"#fdca26\"], [1.0, \"#f0f921\"]], \"type\": \"heatmapgl\"}], \"histogram\": [{\"marker\": {\"colorbar\": {\"outlinewidth\": 0, \"ticks\": \"\"}}, \"type\": \"histogram\"}], \"histogram2d\": [{\"colorbar\": {\"outlinewidth\": 0, \"ticks\": \"\"}, \"colorscale\": [[0.0, \"#0d0887\"], [0.1111111111111111, \"#46039f\"], [0.2222222222222222, \"#7201a8\"], [0.3333333333333333, \"#9c179e\"], [0.4444444444444444, \"#bd3786\"], [0.5555555555555556, \"#d8576b\"], [0.6666666666666666, \"#ed7953\"], [0.7777777777777778, \"#fb9f3a\"], [0.8888888888888888, \"#fdca26\"], [1.0, \"#f0f921\"]], \"type\": \"histogram2d\"}], \"histogram2dcontour\": [{\"colorbar\": {\"outlinewidth\": 0, \"ticks\": \"\"}, \"colorscale\": [[0.0, \"#0d0887\"], [0.1111111111111111, \"#46039f\"], [0.2222222222222222, \"#7201a8\"], [0.3333333333333333, \"#9c179e\"], [0.4444444444444444, \"#bd3786\"], [0.5555555555555556, \"#d8576b\"], [0.6666666666666666, \"#ed7953\"], [0.7777777777777778, \"#fb9f3a\"], [0.8888888888888888, \"#fdca26\"], [1.0, \"#f0f921\"]], \"type\": \"histogram2dcontour\"}], \"mesh3d\": [{\"colorbar\": {\"outlinewidth\": 0, \"ticks\": \"\"}, \"type\": \"mesh3d\"}], \"parcoords\": [{\"line\": {\"colorbar\": {\"outlinewidth\": 0, \"ticks\": \"\"}}, \"type\": \"parcoords\"}], \"pie\": [{\"automargin\": true, \"type\": \"pie\"}], \"scatter\": [{\"marker\": {\"colorbar\": {\"outlinewidth\": 0, \"ticks\": \"\"}}, \"type\": \"scatter\"}], \"scatter3d\": [{\"line\": {\"colorbar\": {\"outlinewidth\": 0, \"ticks\": \"\"}}, \"marker\": {\"colorbar\": {\"outlinewidth\": 0, \"ticks\": \"\"}}, \"type\": \"scatter3d\"}], \"scattercarpet\": [{\"marker\": {\"colorbar\": {\"outlinewidth\": 0, \"ticks\": \"\"}}, \"type\": \"scattercarpet\"}], \"scattergeo\": [{\"marker\": {\"colorbar\": {\"outlinewidth\": 0, \"ticks\": \"\"}}, \"type\": \"scattergeo\"}], \"scattergl\": [{\"marker\": {\"colorbar\": {\"outlinewidth\": 0, \"ticks\": \"\"}}, \"type\": \"scattergl\"}], \"scattermapbox\": [{\"marker\": {\"colorbar\": {\"outlinewidth\": 0, \"ticks\": \"\"}}, \"type\": \"scattermapbox\"}], \"scatterpolar\": [{\"marker\": {\"colorbar\": {\"outlinewidth\": 0, \"ticks\": \"\"}}, \"type\": \"scatterpolar\"}], \"scatterpolargl\": [{\"marker\": {\"colorbar\": {\"outlinewidth\": 0, \"ticks\": \"\"}}, \"type\": \"scatterpolargl\"}], \"scatterternary\": [{\"marker\": {\"colorbar\": {\"outlinewidth\": 0, \"ticks\": \"\"}}, \"type\": \"scatterternary\"}], \"surface\": [{\"colorbar\": {\"outlinewidth\": 0, \"ticks\": \"\"}, \"colorscale\": [[0.0, \"#0d0887\"], [0.1111111111111111, \"#46039f\"], [0.2222222222222222, \"#7201a8\"], [0.3333333333333333, \"#9c179e\"], [0.4444444444444444, \"#bd3786\"], [0.5555555555555556, \"#d8576b\"], [0.6666666666666666, \"#ed7953\"], [0.7777777777777778, \"#fb9f3a\"], [0.8888888888888888, \"#fdca26\"], [1.0, \"#f0f921\"]], \"type\": \"surface\"}], \"table\": [{\"cells\": {\"fill\": {\"color\": \"#EBF0F8\"}, \"line\": {\"color\": \"white\"}}, \"header\": {\"fill\": {\"color\": \"#C8D4E3\"}, \"line\": {\"color\": \"white\"}}, \"type\": \"table\"}]}, \"layout\": {\"annotationdefaults\": {\"arrowcolor\": \"#2a3f5f\", \"arrowhead\": 0, \"arrowwidth\": 1}, \"coloraxis\": {\"colorbar\": {\"outlinewidth\": 0, \"ticks\": \"\"}}, \"colorscale\": {\"diverging\": [[0, \"#8e0152\"], [0.1, \"#c51b7d\"], [0.2, \"#de77ae\"], [0.3, \"#f1b6da\"], [0.4, \"#fde0ef\"], [0.5, \"#f7f7f7\"], [0.6, \"#e6f5d0\"], [0.7, \"#b8e186\"], [0.8, \"#7fbc41\"], [0.9, \"#4d9221\"], [1, \"#276419\"]], \"sequential\": [[0.0, \"#0d0887\"], [0.1111111111111111, \"#46039f\"], [0.2222222222222222, \"#7201a8\"], [0.3333333333333333, \"#9c179e\"], [0.4444444444444444, \"#bd3786\"], [0.5555555555555556, \"#d8576b\"], [0.6666666666666666, \"#ed7953\"], [0.7777777777777778, \"#fb9f3a\"], [0.8888888888888888, \"#fdca26\"], [1.0, \"#f0f921\"]], \"sequentialminus\": [[0.0, \"#0d0887\"], [0.1111111111111111, \"#46039f\"], [0.2222222222222222, \"#7201a8\"], [0.3333333333333333, \"#9c179e\"], [0.4444444444444444, \"#bd3786\"], [0.5555555555555556, \"#d8576b\"], [0.6666666666666666, \"#ed7953\"], [0.7777777777777778, \"#fb9f3a\"], [0.8888888888888888, \"#fdca26\"], [1.0, \"#f0f921\"]]}, \"colorway\": [\"#636efa\", \"#EF553B\", \"#00cc96\", \"#ab63fa\", \"#FFA15A\", \"#19d3f3\", \"#FF6692\", \"#B6E880\", \"#FF97FF\", \"#FECB52\"], \"font\": {\"color\": \"#2a3f5f\"}, \"geo\": {\"bgcolor\": \"white\", \"lakecolor\": \"white\", \"landcolor\": \"#E5ECF6\", \"showlakes\": true, \"showland\": true, \"subunitcolor\": \"white\"}, \"hoverlabel\": {\"align\": \"left\"}, \"hovermode\": \"closest\", \"mapbox\": {\"style\": \"light\"}, \"paper_bgcolor\": \"white\", \"plot_bgcolor\": \"#E5ECF6\", \"polar\": {\"angularaxis\": {\"gridcolor\": \"white\", \"linecolor\": \"white\", \"ticks\": \"\"}, \"bgcolor\": \"#E5ECF6\", \"radialaxis\": {\"gridcolor\": \"white\", \"linecolor\": \"white\", \"ticks\": \"\"}}, \"scene\": {\"xaxis\": {\"backgroundcolor\": \"#E5ECF6\", \"gridcolor\": \"white\", \"gridwidth\": 2, \"linecolor\": \"white\", \"showbackground\": true, \"ticks\": \"\", \"zerolinecolor\": \"white\"}, \"yaxis\": {\"backgroundcolor\": \"#E5ECF6\", \"gridcolor\": \"white\", \"gridwidth\": 2, \"linecolor\": \"white\", \"showbackground\": true, \"ticks\": \"\", \"zerolinecolor\": \"white\"}, \"zaxis\": {\"backgroundcolor\": \"#E5ECF6\", \"gridcolor\": \"white\", \"gridwidth\": 2, \"linecolor\": \"white\", \"showbackground\": true, \"ticks\": \"\", \"zerolinecolor\": \"white\"}}, \"shapedefaults\": {\"line\": {\"color\": \"#2a3f5f\"}}, \"ternary\": {\"aaxis\": {\"gridcolor\": \"white\", \"linecolor\": \"white\", \"ticks\": \"\"}, \"baxis\": {\"gridcolor\": \"white\", \"linecolor\": \"white\", \"ticks\": \"\"}, \"bgcolor\": \"#E5ECF6\", \"caxis\": {\"gridcolor\": \"white\", \"linecolor\": \"white\", \"ticks\": \"\"}}, \"title\": {\"x\": 0.05}, \"xaxis\": {\"automargin\": true, \"gridcolor\": \"white\", \"linecolor\": \"white\", \"ticks\": \"\", \"title\": {\"standoff\": 15}, \"zerolinecolor\": \"white\", \"zerolinewidth\": 2}, \"yaxis\": {\"automargin\": true, \"gridcolor\": \"white\", \"linecolor\": \"white\", \"ticks\": \"\", \"title\": {\"standoff\": 15}, \"zerolinecolor\": \"white\", \"zerolinewidth\": 2}}}, \"xaxis\": {\"anchor\": \"y\", \"domain\": [0.0, 1.0], \"title\": {\"text\": \"PCA-0\"}}, \"yaxis\": {\"anchor\": \"x\", \"domain\": [0.0, 1.0], \"title\": {\"text\": \"PCA-1\"}}},\n",
       "                        {\"responsive\": true}\n",
       "                    ).then(function(){\n",
       "                            \n",
       "var gd = document.getElementById('fec69a38-b3d6-4e40-9a0d-c5f3df974ec2');\n",
       "var x = new MutationObserver(function (mutations, observer) {{\n",
       "        var display = window.getComputedStyle(gd).display;\n",
       "        if (!display || display === 'none') {{\n",
       "            console.log([gd, 'removed!']);\n",
       "            Plotly.purge(gd);\n",
       "            observer.disconnect();\n",
       "        }}\n",
       "}});\n",
       "\n",
       "// Listen for the removal of the full notebook cells\n",
       "var notebookContainer = gd.closest('#notebook-container');\n",
       "if (notebookContainer) {{\n",
       "    x.observe(notebookContainer, {childList: true});\n",
       "}}\n",
       "\n",
       "// Listen for the clearing of the current output cell\n",
       "var outputEl = gd.closest('.output');\n",
       "if (outputEl) {{\n",
       "    x.observe(outputEl, {childList: true});\n",
       "}}\n",
       "\n",
       "                        })\n",
       "                };\n",
       "                });\n",
       "            </script>\n",
       "        </div>"
      ]
     },
     "metadata": {},
     "output_type": "display_data"
    },
    {
     "data": {
      "image/png": "[encoded data removed]",
      "text/plain": [
       "<Figure size 432x288 with 1 Axes>"
      ]
     },
     "metadata": {
      "needs_background": "light"
     },
     "output_type": "display_data"
    }
   ],
   "source": [
    "for cancer in cancer_types:\n",
    "    df_data, df_clinical = get_data_by_cancer(cancer)\n",
    "    \n",
    "    # if only one entry, move on to next type (no clustering can be done)\n",
    "    if (len(df_clinical.index.values) < 2): continue\n",
    "    \n",
    "    #%% initial stastistics\n",
    "    df_library_size = get_library_size_df(df_data)\n",
    "    # plots\n",
    "    display(df_library_size.head())\n",
    "    # distribution among all samples of reads for first gene in dataset\n",
    "    sns.distplot(df_data.iloc[0, :]); plt.show() \n",
    "    # distribution among first sample of all reads\n",
    "    sns.distplot(df_data.iloc[:, 0]); plt.show()\n",
    "\n",
    "    #%% normalize\n",
    "    df_data_norm = norm_and_zscore(df_data)\n",
    "    # plot\n",
    "    sns.distplot(df_data_norm.iloc[0, :]); plt.show()\n",
    "    sns.distplot(df_data_norm.iloc[:, 0]); plt.show()\n",
    "    \n",
    "    #%% pca\n",
    "    df_data_norm_pca = get_pca_df(df_data_norm)\n",
    "    # plot\n",
    "    feature = \"gender\"\n",
    "    fig = px.scatter(\n",
    "      merge(\n",
    "        df_data_norm_pca,\n",
    "        df_library_size,\n",
    "        df_clinical\n",
    "      ),\n",
    "      x=df_data_norm_pca.columns[0],\n",
    "      y=df_data_norm_pca.columns[1],\n",
    "      size='n_reads',\n",
    "      size_max=8,\n",
    "      color=feature,\n",
    "      hover_name=feature,\n",
    "      hover_data=[\"ethnicity\"],\n",
    "    )\n",
    "    fig.show()\n",
    "    \n",
    "    #%% umap\n",
    "    df_data_norm_umap = get_umap_df(df_data_norm_pca)\n",
    "    # plot\n",
    "    feature = \"gender\"\n",
    "    px.scatter(\n",
    "      merge(\n",
    "        df_data_norm_umap,\n",
    "        df_library_size,\n",
    "        df_clinical\n",
    "      ),\n",
    "      x=df_data_norm_umap.columns[0],\n",
    "      y=df_data_norm_umap.columns[1],\n",
    "      size='n_reads',\n",
    "      size_max=8,\n",
    "      color=feature,\n",
    "      hover_name=feature,\n",
    "      hover_data=[\"ethnicity\"],\n",
    "    )\n",
    "\n",
    "\n",
    "    #%% silhouette scores\n",
    "    silhouette_scores, best = compute_silhouette_scores(df_data_norm_umap)\n",
    "    # plot\n",
    "    plt.plot(silhouette_scores['N Clusters'], silhouette_scores['Silhouette Score'])\n",
    "    plt.scatter([best['N Clusters']], [best['Silhouette Score']], label='Best: {} clusters'.format(int(best[\"N Clusters\"])))\n",
    "    plt.legend()\n",
    "    plt.title('Cluster size selection')\n",
    "    plt.ylabel('Silhouette Score')\n",
    "    plt.xlabel('Number of Clusters')\n",
    "    plt.show()\n",
    "    \n",
    "    df_data_norm_km = get_data_norm_km_df(df_data_norm_umap, best)\n",
    "    \n",
    "    #%% differential expression\n",
    "    df_diff_expr = get_diff_expr_df(df_data_norm, df_data_norm_km)\n",
    "    \n",
    "    #%% LR performance\n",
    "    df_aucs = compute_lr_aucs(df_data_norm_km, df_clinical)\n",
    "    \n",
    "    #%%\n",
    "    save_data(cancer,\n",
    "              df_data_norm_km,\n",
    "              df_data_norm_pca,\n",
    "              df_data_norm_umap,\n",
    "              df_diff_expr,\n",
    "              df_aucs)\n",
    "  "
   ]
  },
  {
   "cell_type": "code",
   "execution_count": null,
   "metadata": {},
   "outputs": [],
   "source": []
  },
  {
   "cell_type": "code",
   "execution_count": null,
   "metadata": {},
   "outputs": [],
   "source": []
  },
  {
   "cell_type": "code",
   "execution_count": null,
   "metadata": {},
   "outputs": [],
   "source": []
  },
  {
   "cell_type": "code",
   "execution_count": null,
   "metadata": {},
   "outputs": [],
   "source": []
  },
  {
   "cell_type": "code",
   "execution_count": null,
   "metadata": {},
   "outputs": [],
   "source": []
  },
  {
   "cell_type": "code",
   "execution_count": null,
   "metadata": {},
   "outputs": [],
   "source": []
  },
  {
   "cell_type": "code",
   "execution_count": null,
   "metadata": {},
   "outputs": [],
   "source": []
  },
  {
   "cell_type": "code",
   "execution_count": null,
   "metadata": {},
   "outputs": [],
   "source": []
  },
  {
   "cell_type": "code",
   "execution_count": null,
   "metadata": {},
   "outputs": [],
   "source": []
  },
  {
   "cell_type": "code",
   "execution_count": null,
   "metadata": {},
   "outputs": [],
   "source": []
  },
  {
   "cell_type": "code",
   "execution_count": null,
   "metadata": {},
   "outputs": [],
   "source": []
  },
  {
   "cell_type": "code",
   "execution_count": null,
   "metadata": {},
   "outputs": [],
   "source": []
  },
  {
   "cell_type": "code",
   "execution_count": null,
   "metadata": {},
   "outputs": [],
   "source": []
  }
 ],
 "metadata": {
  "kernelspec": {
   "display_name": "venv",
   "language": "python",
   "name": "venv"
  },
  "language_info": {
   "codemirror_mode": {
    "name": "ipython",
    "version": 3
   },
   "file_extension": ".py",
   "mimetype": "text/x-python",
   "name": "python",
   "nbconvert_exporter": "python",
   "pygments_lexer": "ipython3",
   "version": "3.8.3"
  }
 },
 "nbformat": 4,
 "nbformat_minor": 4
}
