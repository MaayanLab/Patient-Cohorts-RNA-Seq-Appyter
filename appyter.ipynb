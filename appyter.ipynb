{
 "cells": [
  {
   "cell_type": "code",
   "execution_count": 3,
   "metadata": {},
   "outputs": [],
   "source": [
    "# %%appyter init\n",
    "from appyter import magic\n",
    "magic.init(lambda _=globals: _())"
   ]
  },
  {
   "cell_type": "code",
   "execution_count": 4,
   "metadata": {},
   "outputs": [
    {
     "data": {
      "text/markdown": [
       "```python\n",
       "# Sample field\n",
       "'''\n",
       "name = 'Nicole Moiseyev'\n",
       "'''\n",
       "name = 'Nicole Moiseyev'\n",
       "print(\"Hello, {}\".format(name))\n",
       "```"
      ],
      "text/plain": [
       "<IPython.core.display.Markdown object>"
      ]
     },
     "metadata": {},
     "output_type": "display_data"
    },
    {
     "name": "stdout",
     "output_type": "stream",
     "text": [
      "Hello, Nicole Moiseyev\n"
     ]
    }
   ],
   "source": [
    "%%appyter code_exec\n",
    "\n",
    "# Sample field\n",
    "'''\n",
    "name = {{ StringField(\n",
    "    name=\"name\",\n",
    "    label=\"Name\",\n",
    "    description=\"Your first and last name\",\n",
    "    default=\"Nicole Moiseyev\"\n",
    ") }}\n",
    "'''\n",
    "name = {{ StringField(\n",
    "    name=\"name\",\n",
    "    label=\"Name\",\n",
    "    description=\"Your first and last name\",\n",
    "    default=\"Nicole Moiseyev\"\n",
    ") }}\n",
    "\n",
    "print(\"Hello, {}\".format(name))\n",
    "\n"
   ]
  },
  {
   "cell_type": "code",
   "execution_count": null,
   "metadata": {},
   "outputs": [],
   "source": []
  },
  {
   "cell_type": "code",
   "execution_count": null,
   "metadata": {},
   "outputs": [],
   "source": []
  }
 ],
 "metadata": {
  "kernelspec": {
   "display_name": "my-first-appyter",
   "language": "python",
   "name": "my-first-appyter"
  },
  "language_info": {
   "codemirror_mode": {
    "name": "ipython",
    "version": 3
   },
   "file_extension": ".py",
   "mimetype": "text/x-python",
   "name": "python",
   "nbconvert_exporter": "python",
   "pygments_lexer": "ipython3",
   "version": "3.6.7"
  }
 },
 "nbformat": 4,
 "nbformat_minor": 4
}
